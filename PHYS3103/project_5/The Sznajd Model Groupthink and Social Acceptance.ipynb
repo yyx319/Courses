{
 "cells": [
  {
   "cell_type": "code",
   "execution_count": 1,
   "metadata": {},
   "outputs": [],
   "source": [
    "import numpy as np; import matplotlib.pyplot as plt\n",
    "import random"
   ]
  },
  {
   "cell_type": "markdown",
   "metadata": {},
   "source": [
    "#### In below definations gr denote for the group of spins. \n",
    "n: number of spins, f: fraction of spins of up +1, T: the number of iteration"
   ]
  },
  {
   "cell_type": "code",
   "execution_count": 49,
   "metadata": {},
   "outputs": [],
   "source": [
    "def gr_init(n, f):\n",
    "    # Initialize the system randomly, n: number of spins, f: fraction of spins of up +1 \n",
    "    gr = np.zeros(n)-1\n",
    "    i=0\n",
    "    n1 = np.int(n*f)\n",
    "    while i<n1:\n",
    "        x = random.randint(0,n-1)\n",
    "        if gr[x]!=1:\n",
    "            gr[x]=1\n",
    "            i = i+1\n",
    "    return gr\n",
    "\n",
    "\n",
    "def update_gr(gr):\n",
    "    # update the system \n",
    "    n = np.size(gr)\n",
    "    i = random.randint(0,n-1)\n",
    "    gr2 = gr\n",
    "    if gr[i]==gr[(i+1)%n]:\n",
    "        gr2[(i-1)%n]=gr[i] \n",
    "        gr2[(i+2)%n]=gr[i]\n",
    "    elif gr[i]!=gr[(i+1)%n]:\n",
    "        gr2[(i-1)%n]=gr[(i+1)%n]\n",
    "        gr2[(i+2)%n]=gr[i]\n",
    "    return gr2\n",
    "\n",
    "def cal_mag(gr):\n",
    "    # calculate the magnetisation\n",
    "    n = np.size(gr)\n",
    "    M = np.sum(gr)/n\n",
    "    return M"
   ]
  },
  {
   "cell_type": "code",
   "execution_count": 84,
   "metadata": {
    "scrolled": true
   },
   "outputs": [],
   "source": [
    "# parameter\n",
    "n = 30\n",
    "f = 0.6\n",
    "T = 1000 # number of iteration\n",
    "\n",
    "# start the system and updated them T times. The time evolution data is saved in g_t and M_t\n",
    "g = gr_init(n, f)\n",
    "g_t = [g]\n",
    "M = cal_mag(g)\n",
    "M_t = [M]\n",
    "for t in range(T-1):\n",
    "    g = update_group(g)\n",
    "    M = cal_mag(g)\n",
    "    g_t = np.append(g_t,[g],axis=0)\n",
    "    M_t = np.append(M_t,[M],axis=0)"
   ]
  },
  {
   "cell_type": "code",
   "execution_count": 88,
   "metadata": {},
   "outputs": [
    {
     "data": {
      "image/png": "[encoded data removed]",
      "text/plain": [
       "<Figure size 432x288 with 2 Axes>"
      ]
     },
     "metadata": {
      "needs_background": "light"
     },
     "output_type": "display_data"
    }
   ],
   "source": [
    "# group of spins versus time. In each time we do 40 update.\n",
    "plt.imshow(g_t[::40,:])\n",
    "plt.colorbar()\n",
    "plt.xlabel('index');plt.ylabel('time')\n",
    "plt.savefig('all_up.pdf')"
   ]
  },
  {
   "cell_type": "code",
   "execution_count": 87,
   "metadata": {},
   "outputs": [
    {
     "name": "stderr",
     "output_type": "stream",
     "text": [
      "C:\\Users\\YYX\\Anaconda3\\lib\\site-packages\\ipykernel_launcher.py:1: DeprecationWarning: object of type <class 'float'> cannot be safely interpreted as an integer.\n",
      "  \"\"\"Entry point for launching an IPython kernel.\n"
     ]
    },
    {
     "data": {
      "image/png": "[encoded data removed]",
      "text/plain": [
       "<Figure size 432x288 with 1 Axes>"
      ]
     },
     "metadata": {
      "needs_background": "light"
     },
     "output_type": "display_data"
    }
   ],
   "source": [
    "# Magnetisation versus time\n",
    "plt.plot(np.linspace(0,T,T/40)/40,M_t[::40])\n",
    "plt.xlabel('time');plt.ylabel('magnetisation')\n",
    "plt.savefig('M-t_all_up.pdf')"
   ]
  }
 ],
 "metadata": {
  "kernelspec": {
   "display_name": "Python 3",
   "language": "python",
   "name": "python3"
  },
  "language_info": {
   "codemirror_mode": {
    "name": "ipython",
    "version": 3
   },
   "file_extension": ".py",
   "mimetype": "text/x-python",
   "name": "python",
   "nbconvert_exporter": "python",
   "pygments_lexer": "ipython3",
   "version": "3.7.3"
  }
 },
 "nbformat": 4,
 "nbformat_minor": 2
}
