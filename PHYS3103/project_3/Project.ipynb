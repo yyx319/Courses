{
 "cells": [
  {
   "cell_type": "code",
   "execution_count": 143,
   "metadata": {},
   "outputs": [],
   "source": [
    "import numpy as np; import matplotlib.pyplot as plt\n",
    "import random"
   ]
  },
  {
   "cell_type": "code",
   "execution_count": 251,
   "metadata": {},
   "outputs": [],
   "source": [
    "def latt_init(n,f_b,f_r):\n",
    "    # Input:  n: size of lattice(n*n); f_b:the fraction of blue sites; f_r:the fraction of red sites\n",
    "    # Output: latt: initialised lattice\n",
    "    #\n",
    "    # initialize the lattice by assigning colors randomly, the fraction of blue sites is f_b,\n",
    "    # the fraction of red sites is f_r and the rest sites is white, \n",
    "    # white is denoted by 0, blue is denoted by 1 and red is denoted by 2.\n",
    "    n_blue = f_b*n**2\n",
    "    n_red = f_r*n**2\n",
    "    #white: 0 blue: 1 red:2\n",
    "    latt = np.zeros([n,n])\n",
    "    i=0\n",
    "    while i<n_blue:\n",
    "        x = random.randint(0,n-1); y = random.randint(0,n-1)\n",
    "        if latt[x,y]!=1:\n",
    "            latt[x,y]=1\n",
    "            i = i+1\n",
    "    i=0\n",
    "    while i<n_red:\n",
    "        x = random.randint(0,n-1); y = random.randint(0,n-1)\n",
    "        if latt[x,y]!=1 and latt[x,y]!=2:\n",
    "            latt[x,y]=2\n",
    "            i = i+1\n",
    "    return latt\n",
    "\n",
    "\n",
    "\n",
    "def cal_f(latt,x,y, include_w = 0, diff = 0):\n",
    "    # Input:  latt: any n*n lattice; x,y:sites coordinate; \n",
    "    #         include_w: whether include white house in total number of neighboring sites\n",
    "    #         diff: whether to calculate the neighboring fraction with the different color           \n",
    "    #\n",
    "    # Output: f:the neighourhood fraction f; w_hou: the number of white house;\n",
    "    #         w_pos:a random site of white house around the site\n",
    "    # calculate the neighourhood fraction f, \n",
    "    # get the number of white house and a random site of white house around the site, \n",
    "    n = latt.shape[0]\n",
    "    c = latt[x,y]\n",
    "    w_hou = 0\n",
    "    total = 8\n",
    "    neigh = 0\n",
    "    w_pos = []\n",
    "    for i in [(x-1)%n,x,(x+1)%n]:\n",
    "        for j in [(y-1)%n,y,(y+1)%n]:\n",
    "            if i!=x or j!=y:           \n",
    "                if diff==0 and latt[i,j] == c:\n",
    "                    neigh += 1\n",
    "                if diff==1 and latt[i,j] != c and latt[i,j]!=0:\n",
    "                    neigh += 1    \n",
    "                if include_w == 0:\n",
    "                    if latt[i,j] == 0:\n",
    "                        total -= 1\n",
    "                        w_hou += 1\n",
    "                        w_pos.append([i,j])\n",
    "                        \n",
    "    if w_hou!=0:                    \n",
    "        x = random.randint(0,w_hou-1)              \n",
    "        w_pos = w_pos[x]\n",
    "    if w_hou==0:                                 \n",
    "        w_pos = [0,0] \n",
    "    if total!=0:    \n",
    "        f = neigh/total\n",
    "    else:\n",
    "        f = -1\n",
    "    return f, w_hou, w_pos\n",
    "\n",
    "\n",
    "\n",
    "def check_latt(latt, s):\n",
    "    # check whether the lattice satistied the condition that all sites has neighborhood fraction is bigger than s. \n",
    "    # 1 satisfied 0 unsatisfied\n",
    "    check = 1\n",
    "    for i in range(n):\n",
    "        for j in range(n):\n",
    "            if latt[i,j]!=0:\n",
    "                f = cal_f(latt,i,j, include_w = 0)[0]\n",
    "                if f<s:\n",
    "                    check = 0\n",
    "                    break\n",
    "    return check\n",
    "\n",
    "\n",
    "\n",
    "def move(latt,x,y,w_posx,w_posy):\n",
    "    # exchange the colored house with the white house\n",
    "    c = latt[w_posx, w_posy]\n",
    "    latt[w_posx, w_posy] = latt[x,y]\n",
    "    latt[x,y]= c\n",
    "    return latt\n",
    "\n",
    "\n",
    "\n",
    "def f_sites_with_diff_c(latt):\n",
    "    # calculate the fraction of colored sites that have at least one neighbour of a different color\n",
    "    total = 0\n",
    "    s = 0\n",
    "    for i in range(n):\n",
    "        for j in range(n):\n",
    "            if latt[i,j]!=0:\n",
    "                total += 1\n",
    "                f = cal_f(latt,i,j)[0]\n",
    "                if f<1 and f!=-1:\n",
    "                    s += 1\n",
    "    frac = s/total\n",
    "    return frac    \n",
    "    \n",
    "    \n",
    "    \n",
    "def aver_f_diff(latt):\n",
    "    # calculat the average fraction of different neighbouring houses(including white house)\n",
    "    f_diff = []\n",
    "    for i in range(n):\n",
    "        for j in range(n):\n",
    "            if latt[i,j]!=0:\n",
    "                f_diff.append(cal_f(latt,i,j, include_w = 1, diff = 1)[0])\n",
    "    frac = np.average(f_diff)\n",
    "    return frac    "
   ]
  },
  {
   "cell_type": "code",
   "execution_count": 242,
   "metadata": {},
   "outputs": [],
   "source": [
    "#number of \n",
    "n = 20\n",
    "# similarity\n",
    "s = 0.75\n",
    "f_b = 0.3\n",
    "f_r  = 0.3"
   ]
  },
  {
   "cell_type": "code",
   "execution_count": 243,
   "metadata": {
    "scrolled": false
   },
   "outputs": [
    {
     "name": "stdout",
     "output_type": "stream",
     "text": [
      "1\n"
     ]
    }
   ],
   "source": [
    "latt = latt_init(n,f_b,f_r)\n",
    "latt_t = [latt]\n",
    "\n",
    "max_t = 10000000\n",
    "check_t = 10000\n",
    "i = 0\n",
    "while i<max_t:\n",
    "    # choose a random site\n",
    "    x = random.randint(0,n-1); y = random.randint(0,n-1)\n",
    "    [f,w_hou,[w_posx,w_posy]] = cal_f(latt,x,y)\n",
    "    if f<s and w_hou!=0:\n",
    "        latt = move(latt,x,y,w_posx,w_posy)\n",
    "        latt_t.append(latt)\n",
    "    i +=1\n",
    "    if i%check_t==0:\n",
    "        check = check_latt(latt,s)\n",
    "        if check ==1:\n",
    "            break\n",
    "print(check)"
   ]
  },
  {
   "cell_type": "code",
   "execution_count": 244,
   "metadata": {},
   "outputs": [
    {
     "data": {
      "image/png": "[encoded data removed]",
      "text/plain": [
       "<Figure size 432x288 with 2 Axes>"
      ]
     },
     "metadata": {
      "needs_background": "light"
     },
     "output_type": "display_data"
    }
   ],
   "source": [
    "plt.imshow(latt)\n",
    "plt.colorbar()\n",
    "plt.savefig('%.2f.pdf'%s)"
   ]
  },
  {
   "cell_type": "code",
   "execution_count": 245,
   "metadata": {},
   "outputs": [
    {
     "name": "stdout",
     "output_type": "stream",
     "text": [
      "0.09166666666666666 0.011458333333333333\n"
     ]
    }
   ],
   "source": [
    "print(f_sites_with_diff_c(latt),aver_f_diff(latt))"
   ]
  },
  {
   "cell_type": "code",
   "execution_count": 250,
   "metadata": {},
   "outputs": [
    {
     "data": {
      "image/png": "[encoded data removed]",
      "text/plain": [
       "<Figure size 432x288 with 1 Axes>"
      ]
     },
     "metadata": {
      "needs_background": "light"
     },
     "output_type": "display_data"
    }
   ],
   "source": [
    "s  = [0.1,   0.2,   0.3,   0.4,   0.5,   0.6,   0.7,   0.75]\n",
    "f1 = [0.904, 0.871, 0.771, 0.754, 0.642, 0.396, 0.158, 0.092] #f_sites_with_diff_c\n",
    "f2 = [0.302, 0.266, 0.208, 0.171, 0.125, 0.059, 0.020, 0.011] #aver_f_diff\n",
    "\n",
    "plt.figure(1)\n",
    "plt.scatter(s, f1,label = 'f$_1$')\n",
    "plt.scatter(s, f2,label = 'f$_2$')\n",
    "plt.xlabel('similarity');plt.ylabel('f');plt.legend()\n",
    "plt.savefig('f_s.pdf')"
   ]
  }
 ],
 "metadata": {
  "kernelspec": {
   "display_name": "Python 3",
   "language": "python",
   "name": "python3"
  },
  "language_info": {
   "codemirror_mode": {
    "name": "ipython",
    "version": 3
   },
   "file_extension": ".py",
   "mimetype": "text/x-python",
   "name": "python",
   "nbconvert_exporter": "python",
   "pygments_lexer": "ipython3",
   "version": "3.7.3"
  }
 },
 "nbformat": 4,
 "nbformat_minor": 2
}
