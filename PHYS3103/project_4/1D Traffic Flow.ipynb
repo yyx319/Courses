{
 "cells": [
  {
   "cell_type": "code",
   "execution_count": 1,
   "metadata": {},
   "outputs": [],
   "source": [
    "import numpy as np; import matplotlib.pyplot as plt\n",
    "import random"
   ]
  },
  {
   "cell_type": "code",
   "execution_count": 2,
   "metadata": {},
   "outputs": [],
   "source": [
    "def road_init(n, n_cars):\n",
    "    road = np.zeros(n)\n",
    "    i=0\n",
    "    while i<n_cars:\n",
    "        x = random.randint(0,n-1)\n",
    "        if road[x]!=1:\n",
    "            road[x]=1\n",
    "            i = i+1\n",
    "    return road\n",
    "\n",
    "\n",
    "def update_road(road):\n",
    "    n = np.size(road)\n",
    "    road_updated = np.zeros(n)\n",
    "    for i in range(n):\n",
    "        if ([road[(i-1)%n], road[i%n], road[(i+1)%n]]==[1,1,1] or [road[(i-1)%n], road[i%n], road[(i+1)%n]]==[1,0,1] or\n",
    "            [road[(i-1)%n], road[i%n], road[(i+1)%n]]==[1,0,0] or [road[(i-1)%n], road[i%n], road[(i+1)%n]]==[0,1,1]):\n",
    "            road_updated[i] = 1\n",
    "        else:\n",
    "            road_updated[i] = 0\n",
    "    return road_updated\n",
    "\n",
    "def cal_aver_sp(road_t, n_cars):\n",
    "    [T, n] = road_t.shape\n",
    "    D = 0\n",
    "    for i in range(T-1):\n",
    "        x = np.sum((road_t[i+1,:]-road_t[i,:])==[1]*n)\n",
    "        D += x\n",
    "    v = D/(T-1)/n_cars\n",
    "    return v"
   ]
  },
  {
   "cell_type": "code",
   "execution_count": 7,
   "metadata": {},
   "outputs": [],
   "source": [
    "n = 20\n",
    "n_cars = 10\n",
    "T = 25\n",
    "\n",
    "\n",
    "road = road_init(n, n_cars)\n",
    "road_t = [road]\n",
    "for t in range(T-1):\n",
    "    road = update_road(road)\n",
    "    road_t.append(road)\n",
    "    \n",
    "#road_t = np.array(road_t)\n",
    "#cal_aver_sp(road_t, n_cars)"
   ]
  },
  {
   "cell_type": "code",
   "execution_count": 8,
   "metadata": {},
   "outputs": [
    {
     "data": {
      "text/plain": [
       "[array([0., 0., 1., 0., 0., 0., 1., 0., 1., 0., 1., 0., 1., 1., 1., 0., 1.,\n",
       "        1., 0., 1.]),\n",
       " array([1., 0., 0., 1., 0., 0., 0., 1., 0., 1., 0., 1., 1., 1., 0., 1., 1.,\n",
       "        0., 1., 0.]),\n",
       " array([0., 1., 0., 0., 1., 0., 0., 0., 1., 0., 1., 1., 1., 0., 1., 1., 0.,\n",
       "        1., 0., 1.]),\n",
       " array([1., 0., 1., 0., 0., 1., 0., 0., 0., 1., 1., 1., 0., 1., 1., 0., 1.,\n",
       "        0., 1., 0.]),\n",
       " array([0., 1., 0., 1., 0., 0., 1., 0., 0., 1., 1., 0., 1., 1., 0., 1., 0.,\n",
       "        1., 0., 1.]),\n",
       " array([1., 0., 1., 0., 1., 0., 0., 1., 0., 1., 0., 1., 1., 0., 1., 0., 1.,\n",
       "        0., 1., 0.]),\n",
       " array([0., 1., 0., 1., 0., 1., 0., 0., 1., 0., 1., 1., 0., 1., 0., 1., 0.,\n",
       "        1., 0., 1.]),\n",
       " array([1., 0., 1., 0., 1., 0., 1., 0., 0., 1., 1., 0., 1., 0., 1., 0., 1.,\n",
       "        0., 1., 0.]),\n",
       " array([0., 1., 0., 1., 0., 1., 0., 1., 0., 1., 0., 1., 0., 1., 0., 1., 0.,\n",
       "        1., 0., 1.]),\n",
       " array([1., 0., 1., 0., 1., 0., 1., 0., 1., 0., 1., 0., 1., 0., 1., 0., 1.,\n",
       "        0., 1., 0.]),\n",
       " array([0., 1., 0., 1., 0., 1., 0., 1., 0., 1., 0., 1., 0., 1., 0., 1., 0.,\n",
       "        1., 0., 1.]),\n",
       " array([1., 0., 1., 0., 1., 0., 1., 0., 1., 0., 1., 0., 1., 0., 1., 0., 1.,\n",
       "        0., 1., 0.]),\n",
       " array([0., 1., 0., 1., 0., 1., 0., 1., 0., 1., 0., 1., 0., 1., 0., 1., 0.,\n",
       "        1., 0., 1.]),\n",
       " array([1., 0., 1., 0., 1., 0., 1., 0., 1., 0., 1., 0., 1., 0., 1., 0., 1.,\n",
       "        0., 1., 0.]),\n",
       " array([0., 1., 0., 1., 0., 1., 0., 1., 0., 1., 0., 1., 0., 1., 0., 1., 0.,\n",
       "        1., 0., 1.]),\n",
       " array([1., 0., 1., 0., 1., 0., 1., 0., 1., 0., 1., 0., 1., 0., 1., 0., 1.,\n",
       "        0., 1., 0.]),\n",
       " array([0., 1., 0., 1., 0., 1., 0., 1., 0., 1., 0., 1., 0., 1., 0., 1., 0.,\n",
       "        1., 0., 1.]),\n",
       " array([1., 0., 1., 0., 1., 0., 1., 0., 1., 0., 1., 0., 1., 0., 1., 0., 1.,\n",
       "        0., 1., 0.]),\n",
       " array([0., 1., 0., 1., 0., 1., 0., 1., 0., 1., 0., 1., 0., 1., 0., 1., 0.,\n",
       "        1., 0., 1.]),\n",
       " array([1., 0., 1., 0., 1., 0., 1., 0., 1., 0., 1., 0., 1., 0., 1., 0., 1.,\n",
       "        0., 1., 0.]),\n",
       " array([0., 1., 0., 1., 0., 1., 0., 1., 0., 1., 0., 1., 0., 1., 0., 1., 0.,\n",
       "        1., 0., 1.]),\n",
       " array([1., 0., 1., 0., 1., 0., 1., 0., 1., 0., 1., 0., 1., 0., 1., 0., 1.,\n",
       "        0., 1., 0.]),\n",
       " array([0., 1., 0., 1., 0., 1., 0., 1., 0., 1., 0., 1., 0., 1., 0., 1., 0.,\n",
       "        1., 0., 1.]),\n",
       " array([1., 0., 1., 0., 1., 0., 1., 0., 1., 0., 1., 0., 1., 0., 1., 0., 1.,\n",
       "        0., 1., 0.]),\n",
       " array([0., 1., 0., 1., 0., 1., 0., 1., 0., 1., 0., 1., 0., 1., 0., 1., 0.,\n",
       "        1., 0., 1.])]"
      ]
     },
     "execution_count": 8,
     "metadata": {},
     "output_type": "execute_result"
    }
   ],
   "source": [
    "road_t"
   ]
  },
  {
   "cell_type": "code",
   "execution_count": 9,
   "metadata": {},
   "outputs": [
    {
     "data": {
      "image/png": "[encoded data removed]",
      "text/plain": [
       "<Figure size 432x288 with 2 Axes>"
      ]
     },
     "metadata": {
      "needs_background": "light"
     },
     "output_type": "display_data"
    }
   ],
   "source": [
    "plt.imshow(road_t)\n",
    "plt.colorbar()\n",
    "plt.savefig('%d_%d.pdf'%(n,n_cars))"
   ]
  },
  {
   "cell_type": "code",
   "execution_count": 142,
   "metadata": {},
   "outputs": [
    {
     "name": "stderr",
     "output_type": "stream",
     "text": [
      "No handles with labels found to put in legend.\n"
     ]
    },
    {
     "data": {
      "image/png": "[encoded data removed]",
      "text/plain": [
       "<Figure size 432x288 with 1 Axes>"
      ]
     },
     "metadata": {
      "needs_background": "light"
     },
     "output_type": "display_data"
    }
   ],
   "source": [
    "dens = np.linspace(0.1,1,10)\n",
    "v = [1.0, 1.0, 0.958, 0.958, 0.883, 0.625, 0.417, 0.247, 0.111, 0.0] #f_sites_with_diff_c\n",
    "\n",
    "plt.scatter(dens, v)\n",
    "plt.xlabel('density');plt.ylabel('velocity');plt.legend()\n",
    "plt.savefig('v-dens.pdf')"
   ]
  },
  {
   "cell_type": "code",
   "execution_count": null,
   "metadata": {},
   "outputs": [],
   "source": []
  }
 ],
 "metadata": {
  "kernelspec": {
   "display_name": "Python 3",
   "language": "python",
   "name": "python3"
  },
  "language_info": {
   "codemirror_mode": {
    "name": "ipython",
    "version": 3
   },
   "file_extension": ".py",
   "mimetype": "text/x-python",
   "name": "python",
   "nbconvert_exporter": "python",
   "pygments_lexer": "ipython3",
   "version": "3.7.3"
  }
 },
 "nbformat": 4,
 "nbformat_minor": 2
}
