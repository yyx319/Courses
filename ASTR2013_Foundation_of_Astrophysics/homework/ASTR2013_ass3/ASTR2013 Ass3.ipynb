{
 "cells": [
  {
   "cell_type": "code",
   "execution_count": 1,
   "metadata": {},
   "outputs": [],
   "source": [
    "import numpy as np\n",
    "from astropy import units as u\n",
    "from astropy import constants as c\n",
    "from astropy.time import Time\n",
    "from astropy.coordinates import SkyCoord, EarthLocation, AltAz, GeocentricTrueEcliptic"
   ]
  },
  {
   "cell_type": "markdown",
   "metadata": {},
   "source": [
    "# Q1"
   ]
  },
  {
   "cell_type": "markdown",
   "metadata": {},
   "source": [
    "### 1.a\n",
    "\n",
    "Minor planet 136199 Eris has a right ascension of 01h46m55s, and a declination of -1d42m18, on Sep 2,2019.\n",
    "\n",
    "**method:** \n",
    "We use tools in http://catserver.ing.iac.es/staralt/ for our analysis. In this program:\n",
    "\n",
    "The MODE we use is chosen to be Staralt, so we need to specify the DATE, name of the OBSERVATORY, the OBJECT COORDINATE with the formats of name hh mm ss dd mm ss, Moon distance, OPTIONS and Output format. We set the maximum elevation to be 10 deg, corresponding to maximum airmass of 5.8.\n",
    " \n",
    "We finally hit the RETRIEVE button and get the plot of altitude against time for a particular night below. \n",
    "\n",
    "**observation time:**\n",
    "The observation should be above 30 degrees elevation and the sky has to be darker than 18 degree twilight. As elevation excess 30 after about 23:30pm and the sky is darker than 18 degree twilight before about 5:00am(both time are local time) the we know that the observation time should be about in this period. \n",
    "Hence the observation time is about 5.5 hour long"
   ]
  },
  {
   "cell_type": "code",
   "execution_count": 79,
   "metadata": {},
   "outputs": [
    {
     "data": {
      "image/png": "[encoded data removed]",
      "text/plain": [
       "<IPython.core.display.Image object>"
      ]
     },
     "execution_count": 79,
     "metadata": {},
     "output_type": "execute_result"
    }
   ],
   "source": [
    "from IPython.display import Image\n",
    "Image(filename='plot.png')"
   ]
  },
  {
   "cell_type": "markdown",
   "metadata": {},
   "source": [
    "### 1.b\n",
    "\n",
    "We define our coordinate of the planet by using astropy.coordinate in our code below. We choose the ICRS (Right ascension [RA], Declination [Dec]) to represent sky position. The code just automatically do the unit conversion to degree for both coordinates, telling us the right ascension is 26.73 degree."
   ]
  },
  {
   "cell_type": "code",
   "execution_count": 2,
   "metadata": {},
   "outputs": [
    {
     "ename": "ValueError",
     "evalue": "Latitude angle(s) must be within -90 deg <= angle <= 90 deg, got -317.43749999999994 deg",
     "output_type": "error",
     "traceback": [
      "\u001b[1;31m---------------------------------------------------------------------------\u001b[0m",
      "\u001b[1;31mValueError\u001b[0m                                Traceback (most recent call last)",
      "\u001b[1;32m<ipython-input-2-53bca64954f9>\u001b[0m in \u001b[0;36m<module>\u001b[1;34m\u001b[0m\n\u001b[0;32m      1\u001b[0m \u001b[1;31m#co = SkyCoord('01h46m55s', '-1d42m18s', frame='icrs')\u001b[0m\u001b[1;33m\u001b[0m\u001b[1;33m\u001b[0m\u001b[1;33m\u001b[0m\u001b[0m\n\u001b[1;32m----> 2\u001b[1;33m \u001b[0mco\u001b[0m \u001b[1;33m=\u001b[0m \u001b[0mSkyCoord\u001b[0m\u001b[1;33m(\u001b[0m\u001b[1;34m'18h53m18s'\u001b[0m\u001b[1;33m,\u001b[0m \u001b[1;34m'-21h09m45s'\u001b[0m\u001b[1;33m,\u001b[0m \u001b[0mframe\u001b[0m\u001b[1;33m=\u001b[0m\u001b[1;34m'icrs'\u001b[0m\u001b[1;33m)\u001b[0m\u001b[1;33m\u001b[0m\u001b[1;33m\u001b[0m\u001b[0m\n\u001b[0m\u001b[0;32m      3\u001b[0m \u001b[0mprint\u001b[0m\u001b[1;33m(\u001b[0m\u001b[0mco\u001b[0m\u001b[1;33m)\u001b[0m\u001b[1;33m\u001b[0m\u001b[1;33m\u001b[0m\u001b[0m\n",
      "\u001b[1;32m~\\Anaconda3\\lib\\site-packages\\astropy\\coordinates\\sky_coordinate.py\u001b[0m in \u001b[0;36m__init__\u001b[1;34m(self, copy, *args, **kwargs)\u001b[0m\n\u001b[0;32m    255\u001b[0m             \u001b[0margs\u001b[0m \u001b[1;33m=\u001b[0m \u001b[0mlist\u001b[0m\u001b[1;33m(\u001b[0m\u001b[0margs\u001b[0m\u001b[1;33m)\u001b[0m  \u001b[1;31m# Make it mutable\u001b[0m\u001b[1;33m\u001b[0m\u001b[1;33m\u001b[0m\u001b[0m\n\u001b[0;32m    256\u001b[0m             skycoord_kwargs, components, info = _parse_coordinate_data(\n\u001b[1;32m--> 257\u001b[1;33m                 frame_cls(**frame_kwargs), args, kwargs)\n\u001b[0m\u001b[0;32m    258\u001b[0m \u001b[1;33m\u001b[0m\u001b[0m\n\u001b[0;32m    259\u001b[0m             \u001b[1;31m# In the above two parsing functions, these kwargs were identified\u001b[0m\u001b[1;33m\u001b[0m\u001b[1;33m\u001b[0m\u001b[1;33m\u001b[0m\u001b[0m\n",
      "\u001b[1;32m~\\Anaconda3\\lib\\site-packages\\astropy\\coordinates\\sky_coordinate_parsers.py\u001b[0m in \u001b[0;36m_parse_coordinate_data\u001b[1;34m(frame, args, kwargs)\u001b[0m\n\u001b[0;32m    298\u001b[0m                                                                   repr_attr_names, units):\n\u001b[0;32m    299\u001b[0m                 \u001b[0mattr_class\u001b[0m \u001b[1;33m=\u001b[0m \u001b[0mframe\u001b[0m\u001b[1;33m.\u001b[0m\u001b[0mrepresentation_type\u001b[0m\u001b[1;33m.\u001b[0m\u001b[0mattr_classes\u001b[0m\u001b[1;33m[\u001b[0m\u001b[0mrepr_attr_name\u001b[0m\u001b[1;33m]\u001b[0m\u001b[1;33m\u001b[0m\u001b[1;33m\u001b[0m\u001b[0m\n\u001b[1;32m--> 300\u001b[1;33m                 \u001b[0m_components\u001b[0m\u001b[1;33m[\u001b[0m\u001b[0mframe_attr_name\u001b[0m\u001b[1;33m]\u001b[0m \u001b[1;33m=\u001b[0m \u001b[0mattr_class\u001b[0m\u001b[1;33m(\u001b[0m\u001b[0marg\u001b[0m\u001b[1;33m,\u001b[0m \u001b[0munit\u001b[0m\u001b[1;33m=\u001b[0m\u001b[0munit\u001b[0m\u001b[1;33m)\u001b[0m\u001b[1;33m\u001b[0m\u001b[1;33m\u001b[0m\u001b[0m\n\u001b[0m\u001b[0;32m    301\u001b[0m \u001b[1;33m\u001b[0m\u001b[0m\n\u001b[0;32m    302\u001b[0m         \u001b[1;32melse\u001b[0m\u001b[1;33m:\u001b[0m\u001b[1;33m\u001b[0m\u001b[1;33m\u001b[0m\u001b[0m\n",
      "\u001b[1;32m~\\Anaconda3\\lib\\site-packages\\astropy\\coordinates\\angles.py\u001b[0m in \u001b[0;36m__new__\u001b[1;34m(cls, angle, unit, **kwargs)\u001b[0m\n\u001b[0;32m    512\u001b[0m             \u001b[1;32mraise\u001b[0m \u001b[0mTypeError\u001b[0m\u001b[1;33m(\u001b[0m\u001b[1;34m\"A Latitude angle cannot be created from a Longitude angle\"\u001b[0m\u001b[1;33m)\u001b[0m\u001b[1;33m\u001b[0m\u001b[1;33m\u001b[0m\u001b[0m\n\u001b[0;32m    513\u001b[0m         \u001b[0mself\u001b[0m \u001b[1;33m=\u001b[0m \u001b[0msuper\u001b[0m\u001b[1;33m(\u001b[0m\u001b[1;33m)\u001b[0m\u001b[1;33m.\u001b[0m\u001b[0m__new__\u001b[0m\u001b[1;33m(\u001b[0m\u001b[0mcls\u001b[0m\u001b[1;33m,\u001b[0m \u001b[0mangle\u001b[0m\u001b[1;33m,\u001b[0m \u001b[0munit\u001b[0m\u001b[1;33m=\u001b[0m\u001b[0munit\u001b[0m\u001b[1;33m,\u001b[0m \u001b[1;33m**\u001b[0m\u001b[0mkwargs\u001b[0m\u001b[1;33m)\u001b[0m\u001b[1;33m\u001b[0m\u001b[1;33m\u001b[0m\u001b[0m\n\u001b[1;32m--> 514\u001b[1;33m         \u001b[0mself\u001b[0m\u001b[1;33m.\u001b[0m\u001b[0m_validate_angles\u001b[0m\u001b[1;33m(\u001b[0m\u001b[1;33m)\u001b[0m\u001b[1;33m\u001b[0m\u001b[1;33m\u001b[0m\u001b[0m\n\u001b[0m\u001b[0;32m    515\u001b[0m         \u001b[1;32mreturn\u001b[0m \u001b[0mself\u001b[0m\u001b[1;33m\u001b[0m\u001b[1;33m\u001b[0m\u001b[0m\n\u001b[0;32m    516\u001b[0m \u001b[1;33m\u001b[0m\u001b[0m\n",
      "\u001b[1;32m~\\Anaconda3\\lib\\site-packages\\astropy\\coordinates\\angles.py\u001b[0m in \u001b[0;36m_validate_angles\u001b[1;34m(self, angles)\u001b[0m\n\u001b[0;32m    529\u001b[0m         \u001b[1;32mif\u001b[0m \u001b[0mnp\u001b[0m\u001b[1;33m.\u001b[0m\u001b[0many\u001b[0m\u001b[1;33m(\u001b[0m\u001b[0mangles\u001b[0m\u001b[1;33m.\u001b[0m\u001b[0mvalue\u001b[0m \u001b[1;33m<\u001b[0m \u001b[0mlower\u001b[0m\u001b[1;33m)\u001b[0m \u001b[1;32mor\u001b[0m \u001b[0mnp\u001b[0m\u001b[1;33m.\u001b[0m\u001b[0many\u001b[0m\u001b[1;33m(\u001b[0m\u001b[0mangles\u001b[0m\u001b[1;33m.\u001b[0m\u001b[0mvalue\u001b[0m \u001b[1;33m>\u001b[0m \u001b[0mupper\u001b[0m\u001b[1;33m)\u001b[0m\u001b[1;33m:\u001b[0m\u001b[1;33m\u001b[0m\u001b[1;33m\u001b[0m\u001b[0m\n\u001b[0;32m    530\u001b[0m             raise ValueError('Latitude angle(s) must be within -90 deg <= angle <= 90 deg, '\n\u001b[1;32m--> 531\u001b[1;33m                              'got {0}'.format(angles.to(u.degree)))\n\u001b[0m\u001b[0;32m    532\u001b[0m \u001b[1;33m\u001b[0m\u001b[0m\n\u001b[0;32m    533\u001b[0m     \u001b[1;32mdef\u001b[0m \u001b[0m__setitem__\u001b[0m\u001b[1;33m(\u001b[0m\u001b[0mself\u001b[0m\u001b[1;33m,\u001b[0m \u001b[0mitem\u001b[0m\u001b[1;33m,\u001b[0m \u001b[0mvalue\u001b[0m\u001b[1;33m)\u001b[0m\u001b[1;33m:\u001b[0m\u001b[1;33m\u001b[0m\u001b[1;33m\u001b[0m\u001b[0m\n",
      "\u001b[1;31mValueError\u001b[0m: Latitude angle(s) must be within -90 deg <= angle <= 90 deg, got -317.43749999999994 deg"
     ]
    }
   ],
   "source": [
    "co = SkyCoord('01h46m55s', '-1d42m18s', frame='icrs')\n",
    "print(co)"
   ]
  },
  {
   "cell_type": "markdown",
   "metadata": {},
   "source": [
    "### 1.c\n",
    "The brightness is defined relative to the brightest star in the\n",
    "Northern hemisphere, $\\alpha$ Lyrae or Vega. For any filter $F,$ we\n",
    "have:\n",
    "$$\n",
    "\\begin{aligned} m_{F} &=-2.5 \\log _{10} \\frac{f_{F}}{f_{F}, \\text { Vega }} \\\\ f_{F} &=f_{F, \\text { Vega }} 10^{-0.4 m_{F}} \\end{aligned}\n",
    "$$\n",
    "\n",
    "Surface brightnesses are usually quoted in magnitudes per square arcsecond. For a source with a total or integrated magnitude m extending over a visual area of A square arcseconds, the surface brightness S is given by \n",
    "$$S=m+2.5\\cdot \\log_{10}A$$\n",
    "\n",
    "**proof for this formula**:\n",
    "\n",
    "As\n",
    "$$f_{F} = f_{surface} \\cdot A =f_{F, \\text { Vega }} 10^{-0.4 S} \\cdot 10^{\\log_{10}A} = f_{F, \\text { Vega }} 10^{-0.4 S+\\log_{10}A} = f_{F, \\text { Vega }} 10^{-0.4m} $$ \n",
    "\n",
    "We know that: \n",
    "$$ \n",
    "10^{-0.4 S+\\log_{10}A} = 10^{-0.4m}\n",
    "$$\n",
    "$$ m = S-2.5\\cdot \\log_{10}A,$$ $$S=m+2.5\\cdot \\log_{10}A $$\n",
    "\n",
    "\n",
    "\n",
    "Now we do the actual calculation for this problem:\n",
    "\n",
    "As sky has a 21 magnitudes per square arcsec,the brightness of sky in a aperture with diameter equal to the seeing disk diameter of 2 arcsec is given by\n",
    "$$\n",
    "m_{sky}= S_{sky}-2.5\\cdot \\log_{10}A = 21-2.5\\cdot \\log_{10}(\\pi) \\approx 19.7571\n",
    "$$\n",
    "\n",
    "If the magnitude of object 1 is m$_1$ and the corresponding brightness is f$_1$, and for objsct 2 they are m$_2$ and f$_2$, for filter F. \n",
    "$$f_{1} =f_{F, \\text { Vega }} 10^{-0.4 m_{1}}$$\n",
    "$$f_{2} =f_{F, \\text { Vega }} 10^{-0.4 m_{2}}$$\n",
    "By simple algebra we have:\n",
    "$$\n",
    "\\frac{f_1}{f_2} = 10^{-0.4(m_1-m_2)}\n",
    "$$\n",
    "Plug the magnitude of Eris $m_1 = 18.7$ and the magnitude of sky $m_2 = 19.7571$, we know that Eris is about 2.65 times brighter than the sky."
   ]
  },
  {
   "cell_type": "code",
   "execution_count": 81,
   "metadata": {},
   "outputs": [
    {
     "name": "stdout",
     "output_type": "stream",
     "text": [
      "The brightness in magnitude of sky is 19.7571\n",
      "Eris is about 2.65 times brighter than the sky\n"
     ]
    }
   ],
   "source": [
    "mag = lambda S, A: S-2.5*np.log10(A)\n",
    "S = 21\n",
    "d = 2\n",
    "A = np.pi*(d/2)**2\n",
    "m_2 = mag(S,A)\n",
    "print('The brightness in magnitude of sky is {:.4f}'.format(m_2))\n",
    "\n",
    "m_1 = 18.7\n",
    "ratio = 10**(-0.4*(m_1-m_2))\n",
    "print('Eris is about %.2f times brighter than the sky'%ratio)"
   ]
  },
  {
   "cell_type": "markdown",
   "metadata": {},
   "source": [
    "### 1.d\n",
    "\n",
    "We use the following code to calculate the geocentric ecliptic coordinate of Eris. The Eris is -11.90 degree from the ecliptic plane."
   ]
  },
  {
   "cell_type": "code",
   "execution_count": 82,
   "metadata": {},
   "outputs": [
    {
     "data": {
      "text/plain": [
       "<SkyCoord (GeocentricTrueEcliptic: equinox=J2000.000, obstime=2019-09-02 12:00:00.000): (lon, lat, distance) in (deg, deg, )\n",
       "    (24.16926906, -11.89543649, 1.)>"
      ]
     },
     "execution_count": 82,
     "metadata": {},
     "output_type": "execute_result"
    }
   ],
   "source": [
    "#Pick an observational time\n",
    "obstime = Time('2019-9-02 12:00:00')\n",
    "#Let's convert to geocentric coords. Note that these details can be found at:\n",
    "#https://docs.astropy.org/en/stable/api/astropy.coordinates.GeocentricTrueEcliptic.html\n",
    "c_gc = co.transform_to(GeocentricTrueEcliptic(obstime=obstime))\n",
    "c_gc"
   ]
  },
  {
   "cell_type": "markdown",
   "metadata": {},
   "source": [
    "# Q2"
   ]
  },
  {
   "cell_type": "markdown",
   "metadata": {},
   "source": [
    "### 2.a\n",
    "\n",
    "Recall the formula for distance modulus is that:\n",
    "$m-M=5 \\log _{10}\\left(\\frac{d}{10 \\mathrm{pc}}\\right)$, where m is the apparent magnitude, M is absolute magnitude and d is the distance to the object, so the distance \n",
    "$$d = 10\\mathrm{pc}\\times 10^{\\frac{m-M}{5}}$$.\n",
    "\n",
    "Observing the star with a signal-to-noise ratio of 5 allow us observe to magnitude limit of 23. As the absolute magnitude of the horizontal branch star is 0.7, we can use above formula to calculate the distance to detect the Horizontal branch star with SNR of 5 and the result is 288.40kpc. "
   ]
  },
  {
   "cell_type": "code",
   "execution_count": 83,
   "metadata": {},
   "outputs": [
    {
     "name": "stdout",
     "output_type": "stream",
     "text": [
      "The distance to detect the Horizontal branch star with SNR of 5 is that 288.40 kpc\n"
     ]
    }
   ],
   "source": [
    "distance = lambda m,M: (10*u.pc*10**((m-M)/5)).to(u.kpc)\n",
    "m = 23\n",
    "M = 0.7\n",
    "print('The distance to detect the Horizontal branch star with SNR of 5 is that {:.2f}'.format(distance(m, M)))"
   ]
  },
  {
   "cell_type": "markdown",
   "metadata": {},
   "source": [
    "### 2.b\n",
    "\n",
    "Observation of horiontal branch star of magnitude 15 tells us the distance and distance modulus. We calcualte them using the above equation in 2.a.\n",
    "The distance to detect the Horizontal branch star for this observation is that 7.24 kpc\n",
    "The distance modulus is 14.30"
   ]
  },
  {
   "cell_type": "code",
   "execution_count": 84,
   "metadata": {
    "scrolled": true
   },
   "outputs": [
    {
     "name": "stdout",
     "output_type": "stream",
     "text": [
      "The distance to detect the Horizontal branch star for this observation is that 7.24 kpc\n",
      "The distance modulus is 14.30\n"
     ]
    }
   ],
   "source": [
    "m = 15\n",
    "d = distance(m, M)\n",
    "distance_modulus = m-M\n",
    "print('The distance to detect the Horizontal branch star for this observation is that {:.2f}'.format(d))\n",
    "print('The distance modulus is {:.2f}'.format(distance_modulus))"
   ]
  },
  {
   "cell_type": "markdown",
   "metadata": {},
   "source": [
    "### 2.c\n",
    "\n",
    "Recall that the signal to noise ratio is proportional to $\\sqrt{N}$, where N is the number of photons recieved by detector. \n",
    "\n",
    "A 15 mins exposure will gives SNR of 20. In order to achieve SNR of 40, we need to amplify the number of photons recieved by the square of 2,which is 4. As the number of photons recieved is propotional to the exposure time, this indicates that we need to amplify the exposure time by that factor also.\n",
    "So we need to integrate $4 \\times 15 \\text{mins} = 60 \\text{mins}$ in total, which means we have to integrate 45 mins longer."
   ]
  },
  {
   "cell_type": "markdown",
   "metadata": {},
   "source": [
    "# Q3"
   ]
  },
  {
   "cell_type": "markdown",
   "metadata": {},
   "source": [
    "We compute the angular seperation between two which have their Right Ascension (RA, $\\alpha$)  Declination (Dec, $\\delta$).\n",
    "\n",
    "From the equation in spherical coordinate, we know easily that the infinitesmall angular seperation is given by(note that $\\delta$ is from -90 to 90 deg, not 0 to 180 deg. The 90 deg phase shift makes it $cos(\\delta)$ not $sin(\\delta)$ in the formula as $cos\\delta = sin(\\delta+90)$): \n",
    "\n",
    "\n",
    "$$d\\theta^2 = d\\delta^2+ cos^2\\delta d\\alpha^2 $$\n",
    "\n",
    "In the calculation below there is no change in declination $\\delta$:\n",
    "$$d\\delta = 0$$\n",
    "$$\\delta = const$$\n",
    "so above formula simplifies to:\n",
    "$$d\\theta = cos\\delta d\\alpha$$\n",
    "By integration we get:\n",
    "$$\\Delta \\theta = cos\\delta \\Delta \\alpha$$\n",
    "\n",
    "For two stars which both have declination -5 degrees and have RA of 23 and 1 hours. $\\Delta \\alpha = 2h \\times 15 degree/hour = 30 degree$\n",
    "so we know that their angular seperation is about 29.89 deg.\n",
    "\n",
    "For two stars which both have declination -85 degrees and have RA of 1 and 3 hours. $\\Delta \\alpha = 2h \\times 15 degree/hour = 30 degree$\n",
    "so we know that their angular seperation is about 2.61 deg."
   ]
  },
  {
   "cell_type": "code",
   "execution_count": 85,
   "metadata": {},
   "outputs": [
    {
     "name": "stdout",
     "output_type": "stream",
     "text": [
      "angular seperation for two stars(first group) is 29.89 deg\n",
      "angular seperation for two stars(second group) is 2.61 deg\n"
     ]
    }
   ],
   "source": [
    "dec1 = -5*np.pi/180\n",
    "d_ra1 = 30*np.pi/180\n",
    "\n",
    "dec2 = -85*np.pi/180\n",
    "d_ra2 = 30*np.pi/180\n",
    "ang_sep = lambda dec,d_ra: np.cos(dec)*d_ra*180/np.pi\n",
    "a1 = ang_sep(dec1, d_ra1)\n",
    "a2 = ang_sep(dec2, d_ra2)\n",
    "\n",
    "print('angular seperation for two stars(first group) is %.2f deg'%a1)\n",
    "print('angular seperation for two stars(second group) is %.2f deg'%a2)"
   ]
  },
  {
   "cell_type": "markdown",
   "metadata": {},
   "source": [
    "# Q4"
   ]
  },
  {
   "cell_type": "markdown",
   "metadata": {},
   "source": [
    "The total gravitational potential energy of a white dwarf is $\\frac{\\alpha GM^2}{R}$, where we approximate $\\alpha$ as 1. \n",
    "\n",
    "The energy from nuclear fusion of C to Fe can power the white dwarf exploding as type Ia supernova. The energy released in this process is $\\epsilon Mc^2$, where $\\epsilon$ is the fraction of mass loss to the total mass in nuclear fusion. The atomic mass of C is 12.0000u and that of Fe is 55.9349u. Assuming the all C change into Fe in white dwarf, the fraction of mass loss is therefore $12/12 - 55.9349/56 \\approx 0.00116$.\n",
    "\n",
    "Type Ia SN requires that at Chandrasekhar mass, the energy generated by nuclear fusion is enough to explode the white dwarf, rather than gravitational energy, so\n",
    "$$\n",
    "\\epsilon Mc^2 \\geq \\frac{GM^2}{R}\n",
    "$$\n",
    "$$\n",
    "R \\geq \\frac{GM}{\\epsilon c^2}\n",
    "$$\n",
    "\n",
    "The mass M in above eq is Chandrasekhar mass, which is  \n",
    "$$\n",
    "M_{\\mathrm{ch}}=0.21\\left(\\frac{\\mathcal{Z}}{A}\\right)^{2}\\left(\\frac{h c}{G m_{p}^{2}}\\right)^{3 / 2} m_{p}\n",
    "$$\n",
    "where $Z/A \\approx 0.5$ is the ratio of atomic number and atomic mass number.\n",
    "\n",
    "So the minimum value for R is given as $$R_{min} = \\frac{G M_{ch}}{\\epsilon c^2},$$ which is 0.0028R$_{sun}$."
   ]
  },
  {
   "cell_type": "code",
   "execution_count": 86,
   "metadata": {},
   "outputs": [
    {
     "name": "stdout",
     "output_type": "stream",
     "text": [
      "The Chandrasekhar mass is 1.321 solMass\n",
      "minimum value for radius is 0.0028 solRad\n"
     ]
    }
   ],
   "source": [
    "M_ch = 0.21*0.5**2*(c.h*c.c/c.G/c.m_p**2)**(3/2)*c.m_p\n",
    "M_ch = M_ch.to(u.M_sun)\n",
    "print('The Chandrasekhar mass is {:.3f}'.format(M_Fe))\n",
    "\n",
    "R_min = lambda epsilon,M: c.G*M/epsilon/c.c**2\n",
    "\n",
    "epsilon = 1-55.9349/56\n",
    "R_min = R_min(epsilon, M_ch).to(u.R_sun)\n",
    "print('minimum value for radius is {:.3}'.format(R_min))"
   ]
  }
 ],
 "metadata": {
  "kernelspec": {
   "display_name": "Python 3",
   "language": "python",
   "name": "python3"
  },
  "language_info": {
   "codemirror_mode": {
    "name": "ipython",
    "version": 3
   },
   "file_extension": ".py",
   "mimetype": "text/x-python",
   "name": "python",
   "nbconvert_exporter": "python",
   "pygments_lexer": "ipython3",
   "version": "3.7.3"
  }
 },
 "nbformat": 4,
 "nbformat_minor": 2
}
