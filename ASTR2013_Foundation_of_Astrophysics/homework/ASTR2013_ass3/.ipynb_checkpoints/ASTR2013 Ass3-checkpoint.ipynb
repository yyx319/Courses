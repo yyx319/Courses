{
 "cells": [
  {
   "cell_type": "code",
   "execution_count": 1,
   "metadata": {},
   "outputs": [],
   "source": [
    "from astropy import units as u\n",
    "from astropy import constants as c\n",
    "from astropy.time import Time\n",
    "from astropy.coordinates import SkyCoord, EarthLocation, AltAz"
   ]
  },
  {
   "cell_type": "markdown",
   "metadata": {},
   "source": [
    "1.a\n",
    "\n",
    "\n",
    "This is observed for 5.5h"
   ]
  },
  {
   "cell_type": "code",
   "execution_count": 2,
   "metadata": {},
   "outputs": [
    {
     "ename": "SyntaxError",
     "evalue": "unexpected character after line continuation character (<ipython-input-2-470acec45b7c>, line 5)",
     "output_type": "error",
     "traceback": [
      "\u001b[1;36m  File \u001b[1;32m\"<ipython-input-2-470acec45b7c>\"\u001b[1;36m, line \u001b[1;32m5\u001b[0m\n\u001b[1;33m    \\begin{figure}[h]\u001b[0m\n\u001b[1;37m                     ^\u001b[0m\n\u001b[1;31mSyntaxError\u001b[0m\u001b[1;31m:\u001b[0m unexpected character after line continuation character\n"
     ]
    }
   ],
   "source": [
    "\n",
    "\n",
    "#1.b\n",
    "co = SkyCoord('00h42m30s', '-41d12m00s', frame='icrs')\n",
    "co\n",
    "\n"
   ]
  },
  {
   "cell_type": "markdown",
   "metadata": {},
   "source": [
    "\\begin{figure}\n",
    "\\centering\n",
    "  \\includegraphics[width=\\linewidth]{plot.png}\n",
    "\\caption{example random walk of 100 steps}\n",
    "\\label{fig:example_walk}\n",
    "\\end{figure}"
   ]
  },
  {
   "cell_type": "markdown",
   "metadata": {},
   "source": [
    "1.c\n",
    "\n",
    "\n",
    "8.5 times brighter"
   ]
  },
  {
   "cell_type": "code",
   "execution_count": 5,
   "metadata": {},
   "outputs": [
    {
     "data": {
      "text/plain": [
       "<SkyCoord (AltAz: obstime=2019-09-02 12:00:00.000, location=(-4680819.69848996, 2805720.3355555, -3292431.71483404) m, pressure=0.0 hPa, temperature=0.0 deg_C, relative_humidity=0.0, obswl=1.0 micron): (az, alt) in deg\n",
       "    (119.35852131, 41.2125604)>"
      ]
     },
     "execution_count": 5,
     "metadata": {},
     "output_type": "execute_result"
    }
   ],
   "source": [
    "#1.d\n",
    "#Pick an observational time\n",
    "obstime = Time('2019-9-02 12:00:00')\n",
    "#Find our observatory's location\n",
    "obsloc = EarthLocation.of_site('SSO')\n",
    "#Let's convert to Alt-Az coords. Note that these details can be found at:\n",
    "#https://docs.astropy.org/en/stable/generated/examples/coordinates/plot_obs-planning.html\n",
    "c_altaz = co.transform_to(AltAz(obstime=obstime,location=obsloc))\n",
    "c_altaz"
   ]
  },
  {
   "cell_type": "code",
   "execution_count": null,
   "metadata": {},
   "outputs": [],
   "source": [
    "#Let's start with an equatorial coordinate...\n",
    "c = SkyCoord('01h46m55s', '-1d42m18s', frame='icrs')\n",
    "#Pick an observational time\n",
    "obstime = Time('2019-9-02 12:00:00')\n",
    "#Find our observatory's location\n",
    "obsloc = EarthLocation.of_site('SSO')\n",
    "#Let's convert to Alt-Az coords. Note that these details can be found at:\n",
    "#https://docs.astropy.org/en/stable/generated/examples/coordinates/plot_obs-planning.html\n",
    "c_altaz = c.transform_to(AltAz(obstime=obstime,location=obsloc))"
   ]
  },
  {
   "cell_type": "code",
   "execution_count": 8,
   "metadata": {},
   "outputs": [
    {
     "data": {
      "text/latex": [
       "$288403.15 \\; \\mathrm{pc}$"
      ],
      "text/plain": [
       "<Quantity 288403.15031266 pc>"
      ]
     },
     "execution_count": 8,
     "metadata": {},
     "output_type": "execute_result"
    }
   ],
   "source": [
    "# 2 .a\n",
    "distance = lambda m,M: 10*u.pc*10**((m-M)/5)\n",
    "m = 23\n",
    "M = 0.7\n",
    "distance(m, M)"
   ]
  },
  {
   "cell_type": "code",
   "execution_count": 9,
   "metadata": {},
   "outputs": [
    {
     "data": {
      "text/latex": [
       "$7244.3596 \\; \\mathrm{pc}$"
      ],
      "text/plain": [
       "<Quantity 7244.35960075 pc>"
      ]
     },
     "execution_count": 9,
     "metadata": {},
     "output_type": "execute_result"
    }
   ],
   "source": [
    "#2.b\n",
    "m = 15\n",
    "distance(m, M)\n",
    "\n",
    "distance_modulus = m-M"
   ]
  },
  {
   "cell_type": "markdown",
   "metadata": {},
   "source": [
    "2.c\n",
    "signal to noise ratio is proportional to $\\sqrt{N}$, \n",
    "time 60\n",
    "\n",
    "45min longer"
   ]
  },
  {
   "cell_type": "markdown",
   "metadata": {},
   "source": [
    "3\n",
    "\n",
    "\n",
    "$$\\Delta \\theta = cos\\delta \\Delta \\alpha$$\n",
    "\n"
   ]
  },
  {
   "cell_type": "markdown",
   "metadata": {},
   "source": [
    "4\n",
    "\n"
   ]
  }
 ],
 "metadata": {
  "kernelspec": {
   "display_name": "Python 3",
   "language": "python",
   "name": "python3"
  },
  "language_info": {
   "codemirror_mode": {
    "name": "ipython",
    "version": 3
   },
   "file_extension": ".py",
   "mimetype": "text/x-python",
   "name": "python",
   "nbconvert_exporter": "python",
   "pygments_lexer": "ipython3",
   "version": "3.7.3"
  }
 },
 "nbformat": 4,
 "nbformat_minor": 2
}
