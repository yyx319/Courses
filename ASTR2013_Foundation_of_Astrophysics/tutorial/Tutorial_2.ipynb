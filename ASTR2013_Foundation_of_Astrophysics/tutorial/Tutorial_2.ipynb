{
 "cells": [
  {
   "cell_type": "code",
   "execution_count": 2,
   "metadata": {},
   "outputs": [],
   "source": [
    "import astropy.constants as c, astropy.units as u\n",
    "import numpy as np, matplotlib.pyplot as plt"
   ]
  },
  {
   "cell_type": "code",
   "execution_count": 3,
   "metadata": {},
   "outputs": [],
   "source": [
    "lambd_1 = 550*u.nm\n",
    "lambd_2 = 2200*u.nm\n",
    "T = np.logspace(np.log10(3000),np.log10(30000),100)*u.K\n",
    "F = lambda lambd, T: 2*c.h*c.c**2/lambd**5/(np.exp(c.h*c.c/lambd/c.k_B/T)-1)\n",
    "F_1 = F(lambd_1, T)\n",
    "F_2 = F(lambd_2, T)"
   ]
  },
  {
   "cell_type": "code",
   "execution_count": 6,
   "metadata": {},
   "outputs": [
    {
     "name": "stderr",
     "output_type": "stream",
     "text": [
      "No handles with labels found to put in legend.\n"
     ]
    },
    {
     "data": {
      "text/plain": [
       "<matplotlib.legend.Legend at 0x1ce2e843940>"
      ]
     },
     "execution_count": 6,
     "metadata": {},
     "output_type": "execute_result"
    },
    {
     "data": {
      "image/png": "[encoded data removed]",
      "text/plain": [
       "<Figure size 432x288 with 1 Axes>"
      ]
     },
     "metadata": {
      "needs_background": "light"
     },
     "output_type": "display_data"
    }
   ],
   "source": [
    "plt.loglog(T, F_1)\n",
    "plt.loglog(T, F_2)\n",
    "\n",
    "plt.xlabel('T(K)');plt.ylabel('Flux');plt.legend()\n"
   ]
  },
  {
   "cell_type": "code",
   "execution_count": 8,
   "metadata": {},
   "outputs": [
    {
     "name": "stderr",
     "output_type": "stream",
     "text": [
      "No handles with labels found to put in legend.\n"
     ]
    },
    {
     "data": {
      "text/plain": [
       "<matplotlib.legend.Legend at 0x1ce2eb0da20>"
      ]
     },
     "execution_count": 8,
     "metadata": {},
     "output_type": "execute_result"
    },
    {
     "data": {
      "image/png": "[encoded data removed]",
      "text/plain": [
       "<Figure size 432x288 with 1 Axes>"
      ]
     },
     "metadata": {
      "needs_background": "light"
     },
     "output_type": "display_data"
    }
   ],
   "source": [
    "plt.loglog(T, F_2/F_1)\n",
    "plt.xlabel('flux ratio');plt.ylabel('T(K)');plt.legend()\n",
    "#plt.axis([4e-1, 3e0,3000,30000])"
   ]
  },
  {
   "cell_type": "markdown",
   "metadata": {},
   "source": [
    "mass ratio M_1/M_2 = 2/1"
   ]
  },
  {
   "cell_type": "code",
   "execution_count": 2,
   "metadata": {},
   "outputs": [],
   "source": [
    "M_sin3 = lambda T, v_1, v_2: T*(np.abs(v_1)+np.abs(v_2))**3/2/np.pi/c.G"
   ]
  },
  {
   "cell_type": "code",
   "execution_count": 7,
   "metadata": {},
   "outputs": [],
   "source": [
    "M_sin3 = M_sin3(2*u.day, 100*u.km/u.s, 200*u.km/u.s).to(u.M_sun)"
   ]
  },
  {
   "cell_type": "code",
   "execution_count": 8,
   "metadata": {},
   "outputs": [
    {
     "name": "stdout",
     "output_type": "stream",
     "text": [
      "3.730136639738002 solMass 1.865068319869001 solMass\n"
     ]
    }
   ],
   "source": [
    "M_1_sin3 = 2/3*M_sin3\n",
    "M_2_sin3 = 1/3*M_sin3\n",
    "print(M_1_sin3,M_2_sin3)"
   ]
  },
  {
   "cell_type": "code",
   "execution_count": 9,
   "metadata": {},
   "outputs": [
    {
     "name": "stdout",
     "output_type": "stream",
     "text": [
      "6.3324766359732845 solMass 3.1662383179866422 solMass\n"
     ]
    }
   ],
   "source": [
    "M_1 = M_1_sin3*16/3/np.pi\n",
    "M_2 = M_2_sin3*16/3/np.pi\n",
    "print(M_1,M_2)"
   ]
  },
  {
   "cell_type": "markdown",
   "metadata": {},
   "source": [
    "Q3"
   ]
  },
  {
   "cell_type": "code",
   "execution_count": 12,
   "metadata": {},
   "outputs": [
    {
     "name": "stdout",
     "output_type": "stream",
     "text": [
      "10008.224907704978 s 1592.8584656366752 s 5022642.89170665 s 1.3982382200799301 s\n"
     ]
    }
   ],
   "source": [
    "# orbitar period\n",
    "T_0 = 2*np.pi*np.sqrt(c.R_sun**3/c.G/c.M_sun)\n",
    "# freefall(dynamical) time\n",
    "T_1 = np.sqrt(c.R_sun**3/c.G/c.M_sun)\n",
    "R = 1*u.au\n",
    "M = c.M_sun\n",
    "T_2 = np.sqrt(R**3/c.G/M)\n",
    "\n",
    "R = 1*c.R_earth\n",
    "M = c.M_sun\n",
    "T_3 = np.sqrt(R**3/c.G/M)\n",
    "print(T_0,T_1,T_2.to(u.s),T_3)"
   ]
  },
  {
   "cell_type": "code",
   "execution_count": 18,
   "metadata": {},
   "outputs": [
    {
     "name": "stdout",
     "output_type": "stream",
     "text": [
      "1.896617969308168e+41 J\n",
      "15.700155893704935 Myr\n"
     ]
    }
   ],
   "source": [
    "# internal energy\n",
    "E_th = c.G*c.M_sun**2/2/c.R_sun\n",
    "print(E_th.to(u.J))\n",
    "# K-H time scale\n",
    "t = E_th/c.L_sun\n",
    "print(t.to(u.Myr))"
   ]
  },
  {
   "cell_type": "code",
   "execution_count": null,
   "metadata": {},
   "outputs": [],
   "source": [
    "time scale decrease by a factor of 1000"
   ]
  },
  {
   "cell_type": "code",
   "execution_count": 19,
   "metadata": {},
   "outputs": [
    {
     "name": "stdout",
     "output_type": "stream",
     "text": [
      "135.9547743442746 TPa 0.6304769459321532 TPa\n"
     ]
    }
   ],
   "source": [
    "rho = 1.4*u.g/u.cm**3\n",
    "m = 0.85*c.m_p\n",
    "T=1e7*u.K\n",
    "\n",
    "P_g = rho/m*c.k_B*T\n",
    "P_rad = 1/3*c.sigma_sb/c.c*T**4\n",
    "print(P_g.to(u.TPa),P_rad.to(u.TPa))"
   ]
  },
  {
   "cell_type": "code",
   "execution_count": null,
   "metadata": {},
   "outputs": [],
   "source": [
    "4.a \n",
    "4.b ideal gas law\n",
    "4.c"
   ]
  },
  {
   "cell_type": "code",
   "execution_count": 22,
   "metadata": {},
   "outputs": [
    {
     "data": {
      "text/plain": [
       "2655.110738522751"
      ]
     },
     "execution_count": 22,
     "metadata": {},
     "output_type": "execute_result"
    }
   ],
   "source": [
    "2.5*(2**0.4-1)*8.31*400"
   ]
  },
  {
   "cell_type": "code",
   "execution_count": 29,
   "metadata": {},
   "outputs": [
    {
     "data": {
      "text/latex": [
       "$2.5422598 \\; \\mathrm{Gyr}$"
      ],
      "text/plain": [
       "<Quantity 2.54225978 Gyr>"
      ]
     },
     "execution_count": 29,
     "metadata": {},
     "output_type": "execute_result"
    }
   ],
   "source": [
    "(0.78*u.Mpc/300/u.km*u.s).to(u.Gyr)"
   ]
  },
  {
   "cell_type": "code",
   "execution_count": 30,
   "metadata": {},
   "outputs": [
    {
     "data": {
      "text/plain": [
       "0.02171472409516259"
      ]
     },
     "execution_count": 30,
     "metadata": {},
     "output_type": "execute_result"
    }
   ],
   "source": [
    "0.05/np.log(10)"
   ]
  },
  {
   "cell_type": "code",
   "execution_count": null,
   "metadata": {},
   "outputs": [],
   "source": []
  }
 ],
 "metadata": {
  "kernelspec": {
   "display_name": "Python 3",
   "language": "python",
   "name": "python3"
  },
  "language_info": {
   "codemirror_mode": {
    "name": "ipython",
    "version": 3
   },
   "file_extension": ".py",
   "mimetype": "text/x-python",
   "name": "python",
   "nbconvert_exporter": "python",
   "pygments_lexer": "ipython3",
   "version": "3.7.3"
  }
 },
 "nbformat": 4,
 "nbformat_minor": 2
}
