{
 "cells": [
  {
   "cell_type": "markdown",
   "metadata": {},
   "source": [
    "# ASTR2013 - Tutorial 1"
   ]
  },
  {
   "cell_type": "markdown",
   "metadata": {},
   "source": [
    "#### Student Number: <span style=\"color:blue\"> u1234567 </span>\n",
    "\n",
    "#### Due Date: <span style=\"color:blue\"> Complete during tutorial if you can - otherwise in your own time before week 2.  </span>"
   ]
  },
  {
   "cell_type": "markdown",
   "metadata": {},
   "source": [
    "<a id=\"contents\"></a>\n",
    "# Contents:\n",
    "***\n",
    "[Modules](#immod)\n",
    "---\n",
    "***\n",
    "[Question 1](#q1)\n",
    "---\n",
    "   - [Part A](#1pa) \n",
    "   - [Part B](#1pb)\n",
    "***\n",
    "[Question 2](#q2)\n",
    "---\n",
    "   - [Part A](#2pa) \n",
    "   - [Part B](#2pb)\n",
    "   - [Part C](#2pc)\n",
    "   - [Part D](#2pd)\n",
    "   - [Part E](#2pe)\n",
    "***\n",
    "[Question 3](#q3)\n",
    "---\n",
    "   - [Part A](#3pa) \n",
    "   - [Part B](#3pb)\n",
    "   - [Part C](#3pc)\n",
    "   - [Part D](#3pd)\n",
    "   - [Part E](#3pe)"
   ]
  },
  {
   "cell_type": "markdown",
   "metadata": {},
   "source": [
    "***\n",
    "<a id=\"immod\"></a>\n",
    "## Modules\n",
    "\n",
    "Press Shift-Enter (or the \"Run\" button) when the next cell is selected to run it. It is important that you import the modules before running further code blocks.\n",
    "\n",
    "[Back](#contents)"
   ]
  },
  {
   "cell_type": "code",
   "execution_count": 1,
   "metadata": {},
   "outputs": [],
   "source": [
    "import astropy.constants as c, astropy.units as u\n",
    "import numpy as np, matplotlib.pyplot as plt"
   ]
  },
  {
   "cell_type": "markdown",
   "metadata": {},
   "source": [
    "## Examples\n",
    "\n",
    "Here are some example python commands that you'll find useful below. Note that you can run many functions in a single cell. Press Shift-Enter to run the cell. Note that comments within the python block use the # symbol."
   ]
  },
  {
   "cell_type": "code",
   "execution_count": null,
   "metadata": {},
   "outputs": [],
   "source": [
    "#A simple print statement\n",
    "print(\"The number of parsecs in a light year is:\")\n",
    "#Formatting a print statement\n",
    "pc_in_ly = (c.c*u.yr).to(u.pc).value\n",
    "print(\"{:5.2f}\".format(pc_in_ly))"
   ]
  },
  {
   "cell_type": "code",
   "execution_count": null,
   "metadata": {},
   "outputs": [],
   "source": [
    "#Making a simple plot of a parabola. Raising something to the power is **\n",
    "x = np.arange(10)\n",
    "y = x**2\n",
    "plt.plot(x, y)\n",
    "plt.xlabel('x')\n",
    "plt.ylabel('y')\n",
    "plt.show()"
   ]
  },
  {
   "cell_type": "code",
   "execution_count": null,
   "metadata": {},
   "outputs": [],
   "source": [
    "#Some constants you'll need below and formatting\n",
    "print(\"Boltzman's constant in cgs units: \" + str(c.k_B.cgs))\n",
    "print(\"Boltzman's constant in SI units: \" + str(c.k_B.si))\n",
    "print(\"Boltzman's constant in SI units to 3 decimal places: {:10.3e}\".format(c.k_B.si))\n",
    "print(\"Boltzman's constant in SI units (value only) to 3 decimal places: {:10.3e} J/K\".format(c.k_B.si.value))\n",
    "#Now lets print everything with 3 decimal places...\n",
    "print(\"Planck's constant in default (SI) units: {:10.3e}\".format(c.h))\n",
    "print(\"Planck's constant in cgs units: {:10.3e}\".format(c.h.cgs))\n",
    "print(\"Stefan-Boltzman constant in default (SI) units: {:10.3e}\".format(c.sigma_sb))\n",
    "print(\"Stefan-Boltzman constant in cgs units: {:10.3e}\".format(c.sigma_sb.cgs))"
   ]
  },
  {
   "cell_type": "markdown",
   "metadata": {},
   "source": [
    "***\n",
    "<a id=\"q1\"></a>\n",
    "## Question 1\n",
    "(based on Textbook 1.1 - try the rest of that question in your own time as suggested study)\n",
    "\n",
    "[Back](#contents)"
   ]
  },
  {
   "cell_type": "markdown",
   "metadata": {},
   "source": [
    "<a id=\"1pa\"></a>\n",
    "### Part A\n",
    "Calculate the best possible angular resolution of the human eye. Assume a 0.5cm pupil diameter and a 0.5 $\\mu$m wavelength. Express in arcminutes. \n",
    "\n",
    "Note that in astropy, you can convert to radians when using the small angle formula by multiplying by `c.rad` or by using the `np.arctan()` function applied to a dimensionless quantity (e.g. `(u.m/u.m)`).\n",
    "\n",
    "The human eye with so-called 20/20 vision typically has an angular resolution of only 1 arcminute. What pupil diameter does this correspond to? Discuss with your neighbours the limiting factors for human eye resolution, and environmental factors that might change this."
   ]
  },
  {
   "cell_type": "code",
   "execution_count": 2,
   "metadata": {},
   "outputs": [
    {
     "name": "stdout",
     "output_type": "stream",
     "text": [
      "Perfect Eye Resolution: 0.42 arcmin\n",
      "Effective Pupil Diameter: 2.10 mm\n"
     ]
    }
   ],
   "source": [
    "eye_resolution = 0.5*u.um/0.5/u.cm*u.rad\n",
    "print(\"Perfect Eye Resolution: {:.2f}\".format(1.22*eye_resolution.to(u.arcmin)))\n",
    "#If theta = 1.22*wave/diameter, then diameter = 1.22*wave/theta.\n",
    "pupil_diameter = 0.5*u.um/(1*u.arcmin).to(u.rad).value\n",
    "print(\"Effective Pupil Diameter: {:.2f}\".format(1.22*pupil_diameter.to(u.mm)))"
   ]
  },
  {
   "cell_type": "markdown",
   "metadata": {},
   "source": [
    "<a id=\"1pb\"></a>\n",
    "### Part B\n",
    "\n",
    "50 years ago, the Honeysuckle Creek tracking station used a 2.2 GHz frequency to view the Apollo 11 lunar module and receive the signals from Neil Armstrong landing on the moon. The dish diameter was 26 m, and effectively acted as a telescope with a single pixel. What was the wavelength corresponding to this transmission frequency? What was the angular resolution of this dish at this wavelength? How did it compare to the size of the moon, and would it have mattered if the Lunar Module landed in the wrong place by 10 km? "
   ]
  },
  {
   "cell_type": "code",
   "execution_count": 10,
   "metadata": {},
   "outputs": [
    {
     "name": "stdout",
     "output_type": "stream",
     "text": [
      "Wavelength: 13.6 cm\n",
      "The telescope diffraction limit is 21.98 arcmin compared to the moon angular diameter of 31.97 arcmin\n",
      "10km is much smaller than the diffraction limit of this beam, so Honeysuckle creek could still communicate if the Lunar Module missed its landing target by 10km.\n"
     ]
    }
   ],
   "source": [
    "#lambda = c/nu\n",
    "wave = (c.c/2.2/u.GHz).to(u.cm)\n",
    "print(\"Wavelength: {:.1f}\".format(wave))\n",
    "diffraction_limit = np.arctan(1.22*wave/26/u.m).to(u.arcmin)\n",
    "#astropy constants doesn't have the moon size! But the sun size is about the same (think solar eclipse)\n",
    "moon_diameter = np.arctan(2*c.R_sun/c.au).to(u.arcmin)\n",
    "print(\"The telescope diffraction limit is {:.2f} compared to the moon angular diameter of {:.2f}\".format(diffraction_limit, moon_diameter))\n",
    "print(\"10km is much smaller than the diffraction limit of this beam, so Honeysuckle creek could still communicate if the Lunar Module missed its landing target by 10km.\")\n"
   ]
  },
  {
   "cell_type": "markdown",
   "metadata": {},
   "source": [
    "***\n",
    "<a id=\"q2\"></a>\n",
    "## Question 2\n",
    "\n",
    "(based on Textbook 1.2)\n",
    "\n",
    "A CCD detector at the focal plane of a 1m diameter telescope records the image of a star. Due to the blurring effect of the atmosphere (i.e. \"seeing\"), the light from the star is spread over a circular area of radius R pixels. The total number of photoelectrons over this area, accumulated during the exposure, and due to the light of the star, is $N_\\text{star}$. Light from the sky produces $n_\\text{sky}$ photoelectrons per pixel in the same exposure.\n",
    "\n",
    "[Back](#contents)"
   ]
  },
  {
   "cell_type": "markdown",
   "metadata": {},
   "source": [
    "<a id=\"2pa\"></a>\n",
    "### Part A\n",
    "\n",
    "Ignore the photon-electrons from the sky (i.e. assume $n_\\text{sky} = 0$). Assuming Poisson statistics, the \"noise\" is given by the square root of the expected number of collected photons over an exposure. What is the signal to noise ratio (S/N) for a measurement of the brightness of this star? Answer in a workbook or in the box below. "
   ]
  },
  {
   "cell_type": "markdown",
   "metadata": {},
   "source": [
    "**The signal is $N_\\text{star}$ and the noise $\\sqrt{N_\\text{star}}$. This gives S/N of $\\sqrt{N_\\text{star}}$.**"
   ]
  },
  {
   "cell_type": "markdown",
   "metadata": {},
   "source": [
    "<a id=\"2pb\"></a>\n",
    "### Part B\n",
    "\n",
    "Now assume that $n_\\text{sky}$ is non-zero, and write down a formula for (S/N) of the photometric measurement of the star (in a workbook or in the box)."
   ]
  },
  {
   "cell_type": "markdown",
   "metadata": {},
   "source": [
    "**The signal stays the same (assuming the sky background is well estimated), but the noise increases, with both sky and target photons adding to the noise. There are a total of $\\pi R^2$ pixels, giving a signal to noise of $\\frac{N_\\text{Star}}{\\sqrt{N_\\text{Star} + \\pi R^2 n_\\text{sky}}}$.**"
   ]
  },
  {
   "cell_type": "markdown",
   "metadata": {},
   "source": [
    "<a id=\"2pc\"></a>\n",
    "### Part C\n",
    "\n",
    "Now assume that the star is observed with a 10m diameter telescope. This will collect more photons from both the sky and the star. How much does this increase the signal-to-noise ratio?"
   ]
  },
  {
   "cell_type": "markdown",
   "metadata": {},
   "source": [
    "**The numerator of Part B will increase by a factor of $10^2=100$ and the denominator by a factor of 10. This increase applies to both star and sky photons. Overall, (S/N) will increase by a factor of 10.**"
   ]
  },
  {
   "cell_type": "markdown",
   "metadata": {},
   "source": [
    "<a id=\"2pd\"></a>\n",
    "### Part D\n",
    "\n",
    "Now assume that the star is observed through a less turbulent atmosphere, improving the seeing by a factor of 3. This means that the star image is now spread over R/3 pixels, while the sky brightness in each pixel is the same. What factor does this improve the S/N by, assuming that $n_\\text{sky} \\gg N_\\text{star}$?"
   ]
  },
  {
   "cell_type": "markdown",
   "metadata": {},
   "source": [
    "** We neglect $n_\\text{star}$ in the denominator. $n_\\text{sky}$ goes down by a factor of 9, and (S/N) goes up by a factor of 3. **"
   ]
  },
  {
   "cell_type": "markdown",
   "metadata": {},
   "source": [
    "<a id=\"2pe\"></a>\n",
    "### Part E\n",
    "\n",
    "Lets try some real numbers. For Proxima Centauri has a visual magnitude of 11.1 (more on this Week 6), which means that between 500 and 600nm, $3.6 \\times 10^5$ photons per square meter arrive at the top of the atmosphere each second from this star. The atmosphere is 90% transparent at visible wavelengths (as long as there are not clouds!), and in each square arcsecond of solid angle, the sky has a brightness of 600 photons per second. Assume the telescope is 50% efficient and the star image radius is 2 arcsec. What is the photometric signal to noise ratio for a 1 second observation of this star? [hint - this question will be easier to answer if you define variables for each part of the answer]"
   ]
  },
  {
   "cell_type": "code",
   "execution_count": 14,
   "metadata": {},
   "outputs": [
    {
     "name": "stdout",
     "output_type": "stream",
     "text": [
      "S/N: 353.02\n",
      "S/N (neglecting sky): 356.70\n"
     ]
    }
   ],
   "source": [
    "#photons per square meter * area * atmosphere throughput * telescope throughput\n",
    "Nstar = 3.6e5*np.pi*0.5**2 * 0.9 * 0.5\n",
    "#photons per square meter * area * atmosphere throughput * telescope throughput * image area in square arcsec\n",
    "Nsky = 600*np.pi*0.5**2 * 0.9 * 0.5 * np.pi*2**2\n",
    "print(\"S/N: {:.2f}\".format(Nstar/np.sqrt(Nstar+Nsky)))\n",
    "\n",
    "#The sky is pretty negligible. Lets see by how much:\n",
    "print(\"S/N (neglecting sky): {:.2f}\".format(np.sqrt(Nstar)))"
   ]
  },
  {
   "cell_type": "markdown",
   "metadata": {},
   "source": [
    "***\n",
    "<a id=\"q3\"></a>\n",
    "## Question 3\n",
    "\n",
    "(based on Question 2.1 in the textbook)\n",
    "\n",
    "Create a `python` script in this notebook that numerically computes the integral under the Planck function\n",
    "for a temperature of 5770 K (the blackbody equivalent, or 'effective' temperature of the sun). To do this, you will first need to define an array `nu` e.g.:\n",
    "\n",
    "\n",
    "`nu = 1e12*np.arange(1,1e4)*u.Hz`\n",
    "\n",
    "This creates an array in 1 THz increments up to a frequency of 10$^{16}$ Hz. You can try alternatives to this, e.g. using the `u.Thz` unit directly. Next create an array $B$ using the Planck radiation formula and use the `np.trapz` functions to compute the integral. Use a search engine or the `help` command e.g. `help np.trapz` to find out how to use this. \n",
    "\n",
    "[Back](#contents)"
   ]
  },
  {
   "cell_type": "markdown",
   "metadata": {},
   "source": [
    "<a id=\"3pa\"></a>\n",
    "### Part A"
   ]
  },
  {
   "cell_type": "code",
   "execution_count": null,
   "metadata": {},
   "outputs": [],
   "source": []
  },
  {
   "cell_type": "markdown",
   "metadata": {},
   "source": [
    "<a id=\"3pb\"></a>\n",
    "### Part B\n",
    "\n",
    "Now compute exactly the same quantity using the Stefan-Boltzmann law."
   ]
  },
  {
   "cell_type": "code",
   "execution_count": null,
   "metadata": {},
   "outputs": [],
   "source": []
  },
  {
   "cell_type": "markdown",
   "metadata": {},
   "source": [
    "<a id=\"3pc\"></a>\n",
    "### Part C\n",
    "\n",
    "The flux we receive at earth is diluted from this flux by the inverse square law. Using the astropy constants `c.au` and `c.R_sun`, compute the flux received at Earth in Watts per square m."
   ]
  },
  {
   "cell_type": "code",
   "execution_count": null,
   "metadata": {},
   "outputs": [],
   "source": []
  },
  {
   "cell_type": "markdown",
   "metadata": {},
   "source": [
    "<a id=\"3pd\"></a>\n",
    "### Part D\n",
    "\n",
    "The angular diameter of the sun is 0.57 degrees when viewed from earth, according to the textbook. Verify this using the constants module of `astropy` (which you've imported as `c`). Calculate the solid angle subtended by the sun, in steradians."
   ]
  },
  {
   "cell_type": "code",
   "execution_count": null,
   "metadata": {},
   "outputs": [],
   "source": []
  },
  {
   "cell_type": "markdown",
   "metadata": {},
   "source": [
    "<a id=\"3pe\"></a>\n",
    "### Part E\n",
    "\n",
    "Approxiomating the sun as a *uniform-disk*, which has constant specific intensity accross its surface, what is the frequency integrated specific intensity in the direction of the center of the sun. How would this change if instead you viewed the sun from a distance of 1pc instead of 1au?"
   ]
  },
  {
   "cell_type": "code",
   "execution_count": null,
   "metadata": {},
   "outputs": [],
   "source": []
  }
 ],
 "metadata": {
  "kernelspec": {
   "display_name": "Python 3",
   "language": "python",
   "name": "python3"
  },
  "language_info": {
   "codemirror_mode": {
    "name": "ipython",
    "version": 3
   },
   "file_extension": ".py",
   "mimetype": "text/x-python",
   "name": "python",
   "nbconvert_exporter": "python",
   "pygments_lexer": "ipython3",
   "version": "3.7.3"
  }
 },
 "nbformat": 4,
 "nbformat_minor": 2
}
