{
 "cells": [
  {
   "cell_type": "code",
   "execution_count": 2,
   "metadata": {},
   "outputs": [],
   "source": [
    "from astropy import units as u\n",
    "from astropy import constants as c\n",
    "from astropy.coordinates import SkyCoord\n",
    "from astropy.time import Time\n",
    "from astropy.coordinates import SkyCoord, EarthLocation, AltAz"
   ]
  },
  {
   "cell_type": "code",
   "execution_count": 3,
   "metadata": {},
   "outputs": [
    {
     "name": "stdout",
     "output_type": "stream",
     "text": [
      "Downloading http://maia.usno.navy.mil/ser7/finals2000A.all [Done]\n"
     ]
    }
   ],
   "source": [
    "#Let's start with an equatorial coordinate...\n",
    "c = SkyCoord('00h42m30s', '-41d12m00s', frame='icrs')\n",
    "#Pick an observational time\n",
    "obstime = Time('2019-9-02 12:00:00')\n",
    "#Find our observatory's location\n",
    "obsloc = EarthLocation.of_site('SSO')\n",
    "#Let's convert to Alt-Az coords. Note that these details can be found at:\n",
    "#https://docs.astropy.org/en/stable/generated/examples/coordinates/plot_obs-planning.html\n",
    "c_altaz = c.transform_to(AltAz(obstime=obstime,location=obsloc))"
   ]
  },
  {
   "cell_type": "code",
   "execution_count": 5,
   "metadata": {},
   "outputs": [
    {
     "name": "stdout",
     "output_type": "stream",
     "text": [
      "Altitude (degs): 41.21 deg Azimuth (degs): 119.36 deg\n"
     ]
    }
   ],
   "source": [
    "print(\"Altitude (degs): {:.2f} Azimuth (degs): {:.2f}\".format(c_altaz.alt, c_altaz.az))"
   ]
  }
 ],
 "metadata": {
  "kernelspec": {
   "display_name": "Python 3",
   "language": "python",
   "name": "python3"
  },
  "language_info": {
   "codemirror_mode": {
    "name": "ipython",
    "version": 3
   },
   "file_extension": ".py",
   "mimetype": "text/x-python",
   "name": "python",
   "nbconvert_exporter": "python",
   "pygments_lexer": "ipython3",
   "version": "3.7.3"
  }
 },
 "nbformat": 4,
 "nbformat_minor": 2
}
