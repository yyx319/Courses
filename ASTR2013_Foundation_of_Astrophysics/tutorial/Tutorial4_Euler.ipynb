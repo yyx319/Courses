{
 "cells": [
  {
   "cell_type": "markdown",
   "metadata": {},
   "source": [
    "**Q2** Start with our imports."
   ]
  },
  {
   "cell_type": "code",
   "execution_count": 1,
   "metadata": {
    "collapsed": true
   },
   "outputs": [],
   "source": [
    "import numpy as np\n",
    "import matplotlib.pyplot as plt\n",
    "import astropy.constants as c\n",
    "import astropy.units as u\n",
    "#from scipy.integrate import solve_ivp"
   ]
  },
  {
   "cell_type": "markdown",
   "metadata": {},
   "source": [
    "Now define a function that computes the derivative of M and log(rho), when given an input r, M and log(rho)."
   ]
  },
  {
   "cell_type": "code",
   "execution_count": 2,
   "metadata": {
    "collapsed": true
   },
   "outputs": [],
   "source": [
    "def M_rho_deriv_degen(r_in_rsun, M_lrho, Z_on_A=0.5):\n",
    "    \"\"\"Find the Mass and density derivatives for solving a degenerate\n",
    "    star equation of state problem. We have log(rho) as an input to help\n",
    "    with numerics, as rho can never be negative.\n",
    "    \n",
    "    Parameters\n",
    "    ----------\n",
    "    M_lrho: numpy array-like, including M in solar units, rho in g/cm^3.\n",
    "    \n",
    "    Returns\n",
    "    -------\n",
    "    derivatives: Derivatives of M in solar units, log(rho in g/cm^3), with respect \n",
    "        to r_in_rsun, as a numpy array-like variable.\n",
    "    \"\"\"\n",
    "    M_in_Msun, lrho = M_lrho\n",
    "    \n",
    "    #Lets create a variable rho in real units\n",
    "    rho = np.exp(lrho)*u.g/u.cm**3\n",
    "    \n",
    "    #Mass continuity. Convert to dimensionless units\n",
    "    dM_in_Msundr = float(4*np.pi*r_in_rsun**2*rho * c.R_sun**3/c.M_sun)\n",
    "    \n",
    "    #Fermi momentum\n",
    "    p_F = ( c.h/2*(3*rho*Z_on_A/np.pi/u.u)**(1/3) ).cgs\n",
    "    \n",
    "    #dPdrho - should have units of (velocity)^2\n",
    "    dPdrho = ( p_F**2*c.c/3/u.u/np.sqrt(p_F**2 + c.m_e**2*c.c**2) * Z_on_A ).cgs\n",
    "    \n",
    "    #drho/dr\n",
    "    if r_in_rsun==0:\n",
    "        dlrhodr = 0\n",
    "    else:\n",
    "        dlrhodr = -(c.G*M_in_Msun*c.M_sun/(r_in_rsun*c.R_sun)**2 / dPdrho)\\\n",
    "            .to(1/c.R_sun).value\n",
    "    \n",
    "    return np.array([dM_in_Msundr, dlrhodr])\n",
    "    \n",
    "#The following function may be slightly confusing for people who aren't python or \n",
    "#object oriented programming experts, as variables (properties) are added to a function. \n",
    "#We can actually always add additional properties to functions, as all variables and\n",
    "#functions in python are objects.\n",
    "def near_surface(r_in_rsun, M_lrho):\n",
    "    \"\"\"Determine a surface condition by the surface becoming too cool. In practice, \n",
    "    our adiabatic approximation is likely to break before this!\"\"\"\n",
    "    return M_lrho[1] - np.log(1e-3)\n",
    "near_surface.terminal = True\n",
    "near_surface.direction = -1"
   ]
  },
  {
   "cell_type": "markdown",
   "metadata": {},
   "source": [
    "Use this function, combined with `scipy`'s `solve_ivp` function to solve the differential equation when starting with a central density $\\rho_c$. "
   ]
  },
  {
   "cell_type": "code",
   "execution_count": 3,
   "metadata": {
    "collapsed": true
   },
   "outputs": [],
   "source": [
    "def wd_structure(rho_c):\n",
    "    \"\"\"Assuming a fully degenerate equation of state, compute the interior structure\n",
    "    of a white dwarf, including its outer radius and mass.\n",
    "    \n",
    "    Parameters\n",
    "    ----------\n",
    "    rho_c: Central density, including units from astropy.units\n",
    "    \"\"\"\n",
    "    #Start the problem at the white dwarf center.\n",
    "    y0 = [0, np.log(rho_c.to(u.g/u.cm**3).value)]\n",
    "    \n",
    "    #Don't go past 1 R_sun!\n",
    "    rspan = [0,1] \n",
    "    \n",
    "    #Solve the initial value problem!\n",
    "    result = solve_ivp(M_rho_deriv_degen, [0,100], y0, events=[near_surface], method='RK23') \n",
    "    \n",
    "    #Extract the results\n",
    "    r_in_rsun = result.t\n",
    "    M_in_Msun = result.y[0]\n",
    "    rho = np.exp(result.y[1])*u.g/u.cm**3\n",
    "    return r_in_rsun, M_in_Msun, rho"
   ]
  },
  {
   "cell_type": "code",
   "execution_count": 16,
   "metadata": {},
   "outputs": [],
   "source": [
    "def euler_integrate(fun, init_rho_in_g_gm3, dr_in_rsun=1e-4):\n",
    "    dr = dr_in_rsun\n",
    "    lrhos = [np.log(init_rho_in_g_gm3)]\n",
    "    Ms = [0]\n",
    "    rs = [0]\n",
    "    niter = 0\n",
    "    while (lrhos[-1] > np.log(1)) and (niter < 1000):\n",
    "        #Compute Deltas\n",
    "        dMdr, dlrhodr = fun(rs[-1], [Ms[-1], lrhos[-1]]) \n",
    "        rs.append(rs[-1] + dr)\n",
    "        Ms.append(Ms[-1] +  + dMdr * dr)\n",
    "        lrhos.append(lrhos[-1] + dlrhodr * dr)\n",
    "        niter += 1\n",
    "    return rs, Ms, lrhos"
   ]
  },
  {
   "cell_type": "code",
   "execution_count": 17,
   "metadata": {},
   "outputs": [
    {
     "data": {
      "image/png": "[encoded data removed]",
      "text/plain": [
       "<matplotlib.figure.Figure at 0x1191a51d0>"
      ]
     },
     "metadata": {},
     "output_type": "display_data"
    }
   ],
   "source": [
    "rs, Ms, lrhos = euler_integrate(M_rho_deriv_degen, 1e6)\n",
    "plt.plot(rs, np.exp(lrhos))\n",
    "plt.show()\n"
   ]
  },
  {
   "cell_type": "markdown",
   "metadata": {},
   "source": [
    "**(a)** Modify some of the code below to help with this question. First, you will have to re-arrange (2) with the Fermi momentum being $m_e c$. "
   ]
  },
  {
   "cell_type": "code",
   "execution_count": null,
   "metadata": {
    "collapsed": true
   },
   "outputs": [],
   "source": [
    "critical_density = INSERT_FORMULA_FOR_RHO\n",
    "print('Critical density is: {:.2e}'.format(critical_density.cgs))\n",
    "#Try 10 times lower than the critical density\n",
    "r_in_rsun, M_in_Msun, rho = wd_structure(critical_density/10)\n",
    "plt.plot(r_in_rsun, rho)\n",
    "#Now 100 times lower.\n",
    "r_in_rsun, M_in_Msun, rho = wd_structure(critical_density/100)\n",
    "plt.plot(r_in_rsun, rho)"
   ]
  },
  {
   "cell_type": "markdown",
   "metadata": {},
   "source": [
    "**(b)** Pen and paper plus quick calculation. [Hint: Equate electron pressure with gas pressure, with a mean molecular weight of 0.5]"
   ]
  },
  {
   "cell_type": "code",
   "execution_count": null,
   "metadata": {
    "collapsed": true
   },
   "outputs": [],
   "source": []
  },
  {
   "cell_type": "markdown",
   "metadata": {},
   "source": [
    "**(c)** Here are some code snippets to help..."
   ]
  },
  {
   "cell_type": "code",
   "execution_count": null,
   "metadata": {
    "collapsed": true
   },
   "outputs": [],
   "source": [
    "rho_cs = np.linspace(np.log(LOWEST_DENSITY), np.log(HIGHEST_DENSITY), 30)\n",
    "Ms = []\n",
    "Rs = []\n",
    "for rho_c in rho_cs:\n",
    "    r_in_rsun, M_in_Msun, rho = wd_structure(rho_c)\n",
    "    #for an array x, the value x[-1] is the last value in the array.\n",
    "    Ms.append(INSERT_FINAL_M_HERE)\n",
    "    Rs.append(INSERT_FINAL_R_HERE)\n",
    "\n",
    "#Here is a plot with dots. Use xlabel and ylabel to label.\n",
    "plt.plot(Ms, Rs, '.')"
   ]
  }
 ],
 "metadata": {
  "kernelspec": {
   "display_name": "Python 3",
   "language": "python",
   "name": "python3"
  },
  "language_info": {
   "codemirror_mode": {
    "name": "ipython",
    "version": 3
   },
   "file_extension": ".py",
   "mimetype": "text/x-python",
   "name": "python",
   "nbconvert_exporter": "python",
   "pygments_lexer": "ipython3",
   "version": "3.6.1"
  }
 },
 "nbformat": 4,
 "nbformat_minor": 2
}
