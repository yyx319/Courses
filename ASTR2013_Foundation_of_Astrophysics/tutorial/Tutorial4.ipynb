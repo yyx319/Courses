{
 "cells": [
  {
   "cell_type": "markdown",
   "metadata": {},
   "source": [
    "**Q2** Start with our imports."
   ]
  },
  {
   "cell_type": "code",
   "execution_count": 2,
   "metadata": {},
   "outputs": [],
   "source": [
    "import numpy as np\n",
    "import matplotlib.pyplot as plt\n",
    "import astropy.constants as c\n",
    "import astropy.units as u\n",
    "from scipy.integrate import solve_ivp"
   ]
  },
  {
   "cell_type": "markdown",
   "metadata": {},
   "source": [
    "Now define a function that computes the derivative of M and log(rho), when given an input r, M and log(rho)."
   ]
  },
  {
   "cell_type": "code",
   "execution_count": 3,
   "metadata": {},
   "outputs": [],
   "source": [
    "def M_rho_deriv_degen(r_in_rsun, M_lrho, Z_on_A=0.5):\n",
    "    \"\"\"Find the Mass and density derivatives for solving a degenerate\n",
    "    star equation of state problem. We have log(rho) as an input to help\n",
    "    with numerics, as rho can never be negative.\n",
    "    \n",
    "    Parameters\n",
    "    ----------\n",
    "    M_lrho: numpy array-like, including M in solar units, rho in g/cm^3.\n",
    "    \n",
    "    Returns\n",
    "    -------\n",
    "    derivatives: Derivatives of M in solar units, log(rho in g/cm^3), with respect \n",
    "        to r_in_rsun, as a numpy array-like variable.\n",
    "    \"\"\"\n",
    "    M_in_Msun, lrho = M_lrho\n",
    "    \n",
    "    #Lets create a variable rho in real units\n",
    "    rho = np.exp(lrho)*u.g/u.cm**3\n",
    "    \n",
    "    #Mass continuity. Convert to dimensionless units\n",
    "    dM_in_Msundr = float(4*np.pi*r_in_rsun**2*rho * c.R_sun**3/c.M_sun)\n",
    "    \n",
    "    #Fermi momentum\n",
    "    p_F = ( c.h/2*(3*rho*Z_on_A/np.pi/u.u)**(1/3) ).cgs\n",
    "    \n",
    "    #dPdrho - should have units of (velocity)^2\n",
    "    dPdrho = ( p_F**2*c.c/3/u.u/np.sqrt(p_F**2 + c.m_e**2*c.c**2) * Z_on_A ).cgs\n",
    "    \n",
    "    #drho/dr\n",
    "    if r_in_rsun==0:\n",
    "        dlrhodr = 0\n",
    "    else:\n",
    "        dlrhodr = -(c.G*M_in_Msun*c.M_sun/(r_in_rsun*c.R_sun)**2 / dPdrho)\\\n",
    "            .to(1/c.R_sun).value\n",
    "    \n",
    "    return np.array([dM_in_Msundr, dlrhodr])\n",
    "    \n",
    "#The following function may be slightly confusing for people who aren't python or \n",
    "#object oriented programming experts, as variables (properties) are added to a function. \n",
    "#We can actually always add additional properties to functions, as all variables and\n",
    "#functions in python are objects.\n",
    "def near_surface(r_in_rsun, M_lrho):\n",
    "    \"\"\"Determine a surface condition by the surface becoming too cool. In practice, \n",
    "    our adiabatic approximation is likely to break before this!\"\"\"\n",
    "    return M_lrho[1] - np.log(1e-3)\n",
    "near_surface.terminal = True\n",
    "near_surface.direction = -1"
   ]
  },
  {
   "cell_type": "markdown",
   "metadata": {},
   "source": [
    "Use this function, combined with `scipy`'s `solve_ivp` function to solve the differential equation when starting with a central density $\\rho_c$. "
   ]
  },
  {
   "cell_type": "code",
   "execution_count": 4,
   "metadata": {},
   "outputs": [],
   "source": [
    "def wd_structure(rho_c):\n",
    "    \"\"\"Assuming a fully degenerate equation of state, compute the interior structure\n",
    "    of a white dwarf, including its outer radius and mass.\n",
    "    \n",
    "    Parameters\n",
    "    ----------\n",
    "    rho_c: Central density, including units from astropy.units\n",
    "    \"\"\"\n",
    "    #Start the problem at the white dwarf center.\n",
    "    y0 = [0, np.log(rho_c.to(u.g/u.cm**3).value)]\n",
    "    \n",
    "    #Don't go past 1 R_sun!\n",
    "    rspan = [0,1] \n",
    "    \n",
    "    #Solve the initial value problem!\n",
    "    result = solve_ivp(M_rho_deriv_degen, [0,100], y0, events=[near_surface], method='RK23') \n",
    "    \n",
    "    #Extract the results\n",
    "    r_in_rsun = result.t\n",
    "    M_in_Msun = result.y[0]\n",
    "    rho = np.exp(result.y[1])*u.g/u.cm**3\n",
    "    return r_in_rsun, M_in_Msun, rho"
   ]
  },
  {
   "cell_type": "markdown",
   "metadata": {},
   "source": [
    "**(a)** Modify some of the code below to help with this question. First, you will have to re-arrange (2) with the Fermi momentum being $m_e c$. "
   ]
  },
  {
   "cell_type": "code",
   "execution_count": 11,
   "metadata": {},
   "outputs": [
    {
     "name": "stdout",
     "output_type": "stream",
     "text": [
      "Critical density is: 1.95e+06 g / cm3\n"
     ]
    },
    {
     "data": {
      "text/plain": [
       "[<matplotlib.lines.Line2D at 0x236692a2780>]"
      ]
     },
     "execution_count": 11,
     "metadata": {},
     "output_type": "execute_result"
    },
    {
     "data": {
      "image/png": "[encoded data removed]",
      "text/plain": [
       "<Figure size 432x288 with 1 Axes>"
      ]
     },
     "metadata": {
      "needs_background": "light"
     },
     "output_type": "display_data"
    }
   ],
   "source": [
    "Z_on_A=0.5\n",
    "critical_density = 8*c.m_e**3*c.c**3*np.pi*u.u/3/c.h**3/Z_on_A\n",
    "print('Critical density is: {:.2e}'.format(critical_density.cgs))\n",
    "#Try 10 times lower than the critical density\n",
    "r_in_rsun, M_in_Msun, rho = wd_structure(critical_density*10)\n",
    "plt.semilogy(r_in_rsun, rho)\n",
    "#Try 10 times lower than the critical density\n",
    "r_in_rsun, M_in_Msun, rho = wd_structure(critical_density/10)\n",
    "plt.semilogy(r_in_rsun, rho)\n",
    "#Now 100 times lower.\n",
    "r_in_rsun, M_in_Msun, rho = wd_structure(critical_density/100)\n",
    "plt.semilogy(r_in_rsun, rho)"
   ]
  },
  {
   "cell_type": "markdown",
   "metadata": {},
   "source": [
    "**(b)** Pen and paper plus quick calculation. [Hint: Equate electron pressure with gas pressure, with a mean molecular weight of 0.5]"
   ]
  },
  {
   "cell_type": "code",
   "execution_count": 13,
   "metadata": {},
   "outputs": [
    {
     "data": {
      "text/plain": [
       "array([0.00000000e+00, 1.38163426e-08, 1.15300067e-05, 7.87444373e-05,\n",
       "       2.58898968e-04, 6.37561191e-04, 1.37290648e-03, 2.80199203e-03,\n",
       "       5.81504258e-03, 1.26340799e-02, 2.21975039e-02, 3.32534688e-02,\n",
       "       4.45350858e-02, 5.54659399e-02, 6.41795418e-02, 6.63594383e-02,\n",
       "       6.73553854e-02, 6.77514440e-02, 6.79123791e-02, 6.79782992e-02,\n",
       "       6.80056992e-02, 6.80172872e-02, 6.80222871e-02, 6.80244938e-02,\n",
       "       6.80254925e-02, 6.80259573e-02, 6.80261801e-02, 6.80262903e-02,\n",
       "       6.80263464e-02, 6.80263753e-02, 6.80263903e-02, 6.80264025e-02,\n",
       "       6.80264139e-02, 6.80264224e-02, 6.80264268e-02, 6.80264291e-02,\n",
       "       6.80264303e-02, 6.80264308e-02, 6.80264311e-02, 6.80264312e-02,\n",
       "       6.80264312e-02, 6.80264312e-02, 6.80264313e-02, 6.80264313e-02,\n",
       "       6.80264313e-02, 6.80264313e-02])"
      ]
     },
     "execution_count": 13,
     "metadata": {},
     "output_type": "execute_result"
    }
   ],
   "source": [
    "M_in_Msun"
   ]
  },
  {
   "cell_type": "markdown",
   "metadata": {},
   "source": [
    "**(c)** Here are some code snippets to help..."
   ]
  },
  {
   "cell_type": "code",
   "execution_count": 15,
   "metadata": {},
   "outputs": [
    {
     "data": {
      "text/plain": [
       "[<matplotlib.lines.Line2D at 0x23669005780>]"
      ]
     },
     "execution_count": 15,
     "metadata": {},
     "output_type": "execute_result"
    },
    {
     "data": {
      "image/png": "[encoded data removed]",
      "text/plain": [
       "<Figure size 432x288 with 1 Axes>"
      ]
     },
     "metadata": {
      "needs_background": "light"
     },
     "output_type": "display_data"
    }
   ],
   "source": [
    "rho_cs = np.linspace(np.log10(1e4), np.log10(1e6), 30)\n",
    "Ms = []\n",
    "Rs = []\n",
    "for rho_c in rho_cs:\n",
    "    r_in_rsun, M_in_Msun, rho = wd_structure(10**rho_c*u.g/u.cm**3)\n",
    "    #for an array x, the value x[-1] is the last value in the array.\n",
    "    Ms.append(M_in_Msun[-1])\n",
    "    Rs.append(r_in_rsun[-1])\n",
    "\n",
    "#Here is a plot with dots. Use xlabel and ylabel to label.\n",
    "plt.plot(Ms, Rs, '.')"
   ]
  },
  {
   "cell_type": "code",
   "execution_count": 16,
   "metadata": {},
   "outputs": [
    {
     "data": {
      "text/plain": [
       "[0.04905092843063587,\n",
       " 0.05303670889811976,\n",
       " 0.05733841063586255,\n",
       " 0.061975943046664136,\n",
       " 0.06698886835824247,\n",
       " 0.07237393432796277,\n",
       " 0.07818354485330312,\n",
       " 0.08441732013762107,\n",
       " 0.09115145758142695,\n",
       " 0.09839774921011593,\n",
       " 0.10618716711458738,\n",
       " 0.1145661910516416,\n",
       " 0.12351736081754015,\n",
       " 0.13311875146458402,\n",
       " 0.14340483705573168,\n",
       " 0.15441190881016273,\n",
       " 0.16618273837541314,\n",
       " 0.17876560667086466,\n",
       " 0.1921805103805993,\n",
       " 0.20647016997598763,\n",
       " 0.22158468234545659,\n",
       " 0.2376811770801784,\n",
       " 0.25460912023380516,\n",
       " 0.27256039991295594,\n",
       " 0.2914886468312394,\n",
       " 0.3113985832440805,\n",
       " 0.3323163491501697,\n",
       " 0.35430168808908274,\n",
       " 0.3773122629192468,\n",
       " 0.401051208474282]"
      ]
     },
     "execution_count": 16,
     "metadata": {},
     "output_type": "execute_result"
    }
   ],
   "source": [
    "Ms"
   ]
  },
  {
   "cell_type": "code",
   "execution_count": null,
   "metadata": {},
   "outputs": [],
   "source": []
  }
 ],
 "metadata": {
  "kernelspec": {
   "display_name": "Python 3",
   "language": "python",
   "name": "python3"
  },
  "language_info": {
   "codemirror_mode": {
    "name": "ipython",
    "version": 3
   },
   "file_extension": ".py",
   "mimetype": "text/x-python",
   "name": "python",
   "nbconvert_exporter": "python",
   "pygments_lexer": "ipython3",
   "version": "3.7.3"
  }
 },
 "nbformat": 4,
 "nbformat_minor": 2
}
