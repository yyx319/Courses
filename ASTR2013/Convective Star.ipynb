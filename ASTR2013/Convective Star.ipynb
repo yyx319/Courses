{
 "cells": [
  {
   "cell_type": "markdown",
   "metadata": {},
   "source": [
    "**First, import all the modules we need**"
   ]
  },
  {
   "cell_type": "code",
   "execution_count": 5,
   "metadata": {},
   "outputs": [],
   "source": [
    "import numpy as np\n",
    "import matplotlib.pyplot as plt\n",
    "import astropy.constants as c\n",
    "import astropy.units as u\n",
    "from scipy.integrate import solve_ivp\n",
    "import scipy.optimize as op"
   ]
  },
  {
   "cell_type": "markdown",
   "metadata": {},
   "source": [
    "**Next, define the complex equation of state (EOS) functions**"
   ]
  },
  {
   "cell_type": "code",
   "execution_count": 6,
   "metadata": {},
   "outputs": [],
   "source": [
    "def solarmet():\n",
    "    \"\"\"Return solar metalicity abundances by number and masses for low mass elements.\n",
    "    From Asplund et al (2009), up to Oxygen only\"\"\"\n",
    "    abund = 10**np.array([0.00,-1.07,-10.95,-10.62,-9.3,-3.57,-4.17,-3.31])\n",
    "    masses=  np.array([1.0, 4.0, 6.94, 9.01, 10.81, 12.01, 14.01, 16.00])\n",
    "    return abund, masses\n",
    "    \n",
    "def simplified_eos_rho_T(rho, T):\n",
    "    \"\"\"Assume that H and He are ionised. Return the gas pressure for this density and\n",
    "    the adiabatic gamma\n",
    "    \n",
    "    Parameters\n",
    "    ----------\n",
    "    rho: Density, including units from astropy units.\n",
    "    T: Temperature, including units from astropy units.\n",
    "    \n",
    "    Returns\n",
    "    -------\n",
    "    Pressure, including units from astropy.units\n",
    "    Adiabatic index (dimensionless)\n",
    "    \"\"\"\n",
    "    #Input the abundances of the elements\n",
    "    abund, masses = solarmet()\n",
    "    \n",
    "    #Find the number density of H\n",
    "    n_h = rho/(np.sum(abund*masses)*u.u)\n",
    "    \n",
    "    #Assume that H and He are totally ionized. Ignore heavier elements.\n",
    "    n_e = n_h*(abund[0] + 2*abund[1])\n",
    "    \n",
    "    #Now find total pressure.\n",
    "    P = ((n_h*np.sum(abund) + n_e)*c.k_B*T).cgs\n",
    "    \n",
    "    return P, 5/3\n",
    "    \n",
    "def saha(n_e, T):\n",
    "    \"\"\"Compute the solution to the Saha equation as a function of electron number\n",
    "    density and temperature. This enables the problem to be a simple Ax=b linear problem.\n",
    "    Results from this function can be used to solve the Saha equation as e.g. a function \n",
    "    of rho and T via e.g. tabulating or solving.\n",
    "    \n",
    "    Parameters\n",
    "    ----------\n",
    "    n_e: the dimensioned electron number density\n",
    "    T: Temperature in K.\n",
    "    \n",
    "    Returns\n",
    "    -------\n",
    "    rho: astropy.units quantity compatible with density\n",
    "    mu: Mean molecular weight (dimensionless, i.e. to be multiplied by the AMU)\n",
    "    ns: A vector of number densities of H, H+, He, He+, He++\n",
    "    \n",
    "    \"\"\"\n",
    "    #Input the abundances of the elements\n",
    "    abund, masses = solarmet()\n",
    "    \n",
    "    #This will break for very low temperatures. In this case, fix a stupidly low \n",
    "    #ionization fraction\n",
    "    if (T<1500*u.K):\n",
    "        ns = n_e*1e15*np.array([abund[0],0,abund[1],0,0])\n",
    "    else:\n",
    "        #The thermal de Broglie wavelength\n",
    "        debroglie=np.sqrt(c.h**2/2/np.pi/c.m_e/c.k_B/T)\n",
    "    \n",
    "        #Hydrogen ionization. We neglect the excited states because\n",
    "        #they are only important when the series diverges... \n",
    "        h1  = 2./debroglie**3 *1/2*np.exp(-13.6*u.eV/c.k_B/T)  \n",
    "    \n",
    "        #Helium ionization. NB excited states are still nearly ~20ev higher.\n",
    "        he1 = 2./debroglie**3 *2/1*np.exp(-24.580*u.eV/c.k_B/T) \n",
    "    \n",
    "        #Helium double-ionization\n",
    "        he2 = 2./debroglie**3 *1/2*np.exp(-54.403*u.eV/c.k_B/T)\n",
    "    \n",
    "        #Now construct our matrix of 5 equations defining these number densities.\n",
    "        A = np.zeros( (5,5) );\n",
    "        A[0,0:2]=[-h1/n_e,1]\n",
    "        A[1,2:4]=[-he1/n_e,1]\n",
    "        A[2,3:5]=[-he2/n_e, 1]\n",
    "        A[3,:]  =[abund[1],abund[1],-abund[0],-abund[0],-abund[0]]\n",
    "        A[4,:] =[0,1,0,1,2]\n",
    "        #This has dimensions\n",
    "        b=[0,0,0,0,n_e.to(u.cm**(-3)).value]\n",
    "        ns =np.linalg.solve(A,b)*u.cm**(-3)\n",
    "    \n",
    "    #The next lines ensure ionization at high T, due to nuclei being separated by less. \n",
    "    #than the Debye length. Somewhat of a hack, but eventually the Saha equation does \n",
    "    #break down...\n",
    "    ns_highT=[0,abund[0],0,0,abund[1]]\n",
    "    ns_highT=ns_highT/(abund[0]+2*abund[1])*n_e\n",
    "    if (T > 2e6*u.K):\n",
    "        ns=ns_highT\n",
    "    elif (T > 1e6*u.K):\n",
    "        frac=(T.to(u.K).value-1e6)/1e6\n",
    "        ns = frac*ns_highT + (1-frac)*ns\n",
    "        \n",
    "    #For normalization... we need the number density of Hydrogen\n",
    "    #nuclei, which is the sum of the number densities of H and H+.\n",
    "    n_h = np.sum(ns[:2])\n",
    "    \n",
    "    #Density. Masses should be scalars.\n",
    "    rho = n_h*np.sum(abund*masses)*u.u\n",
    "    \n",
    "    #Fractional \"abundance\" of electrons.\n",
    "    f_e = n_e/n_h\n",
    "    \n",
    "    #mu is mean \"molecular\" weight, and we make the approximation that\n",
    "    #electrons have zero weight.\n",
    "    mu = np.sum(abund*masses)/(np.sum(abund) + f_e)\n",
    "    \n",
    "    #Finally, we should compute the internal energy with respect to neutral gas.\n",
    "    #This is the internal energy per H atom, divided by the mass in grams per H atom. \n",
    "    Ui=(ns[1]*13.6 + ns[3]*24.58 + ns[4]*(54.403+24.58))*u.eV/n_h/np.sum(abund*masses*u.u);\n",
    "    \n",
    "    return rho, mu, Ui, ns\n",
    "    \n",
    "def saha_solve(log_n_e_mol_cm3, T, rho_0_in_g_cm3):\n",
    "    \"\"\"Dimensionless version of the Saha equation routine, to use in np.solve to\n",
    "    solve for n_e at a fixed density.\"\"\"\n",
    "    n_e = np.exp(log_n_e_mol_cm3[0])*c.N_A.value/u.cm**3\n",
    "    rho, mu, Ui, ns = saha(n_e, T)\n",
    "    \n",
    "    return rho.to(u.g/u.cm**3).value - rho_0_in_g_cm3\n",
    "    \n",
    "def eos_rho_T(rho, T, full_output=False):\n",
    "    \"\"\"Compute the key equation of state parameters via the Saha equation\n",
    "    \n",
    "    Parameters\n",
    "    ----------\n",
    "    rho: rho: astropy.units quantity compatible with density\n",
    "    T: gas Temperature\n",
    "    \n",
    "    Returns\n",
    "    -------\n",
    "    P: Gas Pressure\n",
    "    n_e: Electron number density\n",
    "    ns: Number densities of H, H+, He, He+, He++\n",
    "    mu: Mean molecular weight in atomic mass units\n",
    "    Ui: Internal energy per unit mass due to ionization\n",
    "    \"\"\"\n",
    "    rho_in_g_cm3 = rho.to(u.g/u.cm**3).value\n",
    "    #Start with the electron number density equal in mol/cm^3 equal to the density\n",
    "    #in g/cm^3\n",
    "    x0 = np.log(rho_in_g_cm3)\n",
    "    res = op.fsolve(saha_solve, x0, args=(T, rho_in_g_cm3), xtol=1e-6)\n",
    "    \n",
    "    #Now evaluate the saha equation one more time\n",
    "    n_e = np.exp(res[0])*c.N_A.value/u.cm**3\n",
    "    rho_check, mu, Ui, ns = saha(n_e, T)\n",
    "    \n",
    "    #The total gas pressure is just the sum of the number densities multiplied by kT\n",
    "    #!!! We should take heavier elements into account here as well, and wrap this in \n",
    "    #a function. Maybe simpler just to add in more elements to Saha?\n",
    "    P = ((np.sum(ns) + n_e)*c.k_B*T).cgs\n",
    "    \n",
    "    #Next, find the adaibatic exponent. As we are neglecting radiation, pressure, there\n",
    "    #is only a single gamma (e.g. https://ui.adsabs.harvard.edu/abs/2002ApJ...581.1407S/abstract)\n",
    "    #We will do this two different ways, to double-check. I'm double checking because \n",
    "    #the results didn't seem to exactly match Unsold's 1968 book:\n",
    "    #Physik der Sternatmosphaeren MIT besonderer Beruecksichtigung der Sonne, which is \n",
    "    #referenced in e.g.\n",
    "    #http://www.ifa.hawaii.edu/users/kud/teaching/4.Convection.pdf\n",
    "    \n",
    "    #In both cases, we need to numerically compute derivatives. We do this by slightly\n",
    "    #increasing temperature and density, and re-calculating.\n",
    "    dlog = 1e-4\n",
    "    #Increase temperature\n",
    "    res_Tplus = op.fsolve(saha_solve, res[0], args=(T*np.exp(dlog), rho_in_g_cm3), xtol=1e-6)\n",
    "    n_e_Tplus = np.exp(res_Tplus[0])*c.N_A.value/u.cm**3\n",
    "    rho_check, mu_Tplus, Ui_Tplus, ns_Tplus = saha(n_e_Tplus, T*np.exp(dlog))\n",
    "    P_Tplus = ((np.sum(ns_Tplus) + n_e_Tplus)*c.k_B*T*np.exp(dlog)).cgs\n",
    "    #Increase Density\n",
    "    res_rhoplus = op.fsolve(saha_solve, res[0], args=(T, rho_in_g_cm3*np.exp(dlog)), xtol=1e-6)\n",
    "    n_e_rhoplus = np.exp(res_rhoplus[0])*c.N_A.value/u.cm**3\n",
    "    rho_check, mu_rhoplus, Ui_rhoplus, ns_rhoplus = saha(n_e_rhoplus, T)\n",
    "    P_rhoplus = ((np.sum(ns_rhoplus) + n_e_rhoplus)*c.k_B*T).cgs\n",
    "    #Compute the 4 logarithmic derivatives. We scale internal energy by rho/P to make\n",
    "    #it dimensionless.\n",
    "    dUidlrho_scaled = float( (Ui_rhoplus - Ui)/dlog*rho/P )\n",
    "    dUidlT_scaled = float( (Ui_Tplus - Ui)/dlog*rho/P )\n",
    "    dlPdlrho = float( (P_rhoplus - P)/dlog/P )\n",
    "    dlPdlT = float( (P_Tplus - P)/dlog/P )\n",
    "    \n",
    "    #Now the tricky bit. We have to use partial derivative relations to move from \n",
    "    #Ui(rho, T) to Ui(rho, P), which we call UU.\n",
    "    dUUdlrho_scaled = dUidlrho_scaled - dUidlT_scaled * (dlPdlrho/dlPdlT)\n",
    "    dUUdlP_scaled = dUidlT_scaled / dlPdlT\n",
    "\n",
    "    #The following comes directly from the definition of adiabatic, from e.g. the derivation\n",
    "    #on page 5 of https://websites.pmc.ucsc.edu/~glatz/astr_112/lectures/notes6.pdf\n",
    "    gamma = (5/2 - dUUdlrho_scaled) / (3/2 + dUUdlP_scaled)\n",
    "    \n",
    "    # For method 2, see equation 18.8 on page 571 of Cox and Guili. \n",
    "    #We need an additional two normalised logarithmic derivatives. \n",
    "    #They are all zero in the absence of a phase change\n",
    "    dlmudlT = float( (mu_Tplus - mu)/mu/dlog )\n",
    "    dlmudlrho = float( (mu_rhoplus - mu)/mu/dlog )\n",
    "    dUidlT_scaled = float( (Ui_Tplus - Ui)/dlog*mu*u.u/c.k_B/T)\n",
    "        \n",
    "    #Composition quantities to match Cox and Guili's equations. As far as I can tell,\n",
    "    #this gamma is identical to the gamma above, so a great check.\n",
    "    chi_T    = 1 - dlmudlT\n",
    "    chi_rho  = 1 - dlmudlrho\n",
    "    gamma_old = chi_rho + chi_T**2/(3/2*chi_T + dUidlT_scaled)\n",
    "    \n",
    "    if full_output:\n",
    "        return P, n_e, ns, mu, Ui, gamma\n",
    "    else:\n",
    "        return P, gamma "
   ]
  },
  {
   "cell_type": "markdown",
   "metadata": {},
   "source": [
    "**Now we can define our main function - something that returns the results of the three modified equations of stellar structure for a given r, M, rho and T**"
   ]
  },
  {
   "cell_type": "code",
   "execution_count": 7,
   "metadata": {},
   "outputs": [],
   "source": [
    "def find_derivatives(r_in_rsun, M_lrho_lT, simplified_EOS=False):\n",
    "    \"\"\"Given an interior mass M, a density logarithm rho and a pressure logarithm P, \n",
    "    find the derivatives of M and P. Derivatives are in units of solar radii.\n",
    "    Logarithms are natural logarithms in cgs units.\n",
    "    \n",
    "    Parameters\n",
    "    ----------\n",
    "    r_in_rsun: radius to compute derivatives in solar units\n",
    "    M_lrho_lT: numpy array-like, including M in solar units, log(rho in g/cm^3), and\n",
    "        log(T in K).\n",
    "        \n",
    "    Returns\n",
    "    -------\n",
    "    derivatives: Derivatives of M in solar units, log(rho in g/cm^3), and\n",
    "        log(T in K) with respect to r_in_rsun, as a numpy array-like variable.\n",
    "    \"\"\"\n",
    "    M_in_Msun, lrho, lT = M_lrho_lT\n",
    "    #Mass continuity\n",
    "    dM_in_Msundr = 4*np.pi*r_in_rsun**2*np.exp(lrho) * float(c.R_sun**3*u.g/u.cm**3/c.M_sun)\n",
    "    \n",
    "    #Equation of state.\n",
    "    if simplified_EOS:\n",
    "        P, gamma = simplified_eos_rho_T(np.exp(lrho)*u.g/u.cm**3, np.exp(lT)*u.K)\n",
    "    else:\n",
    "        P, gamma = eos_rho_T(np.exp(lrho)*u.g/u.cm**3, np.exp(lT)*u.K)\n",
    "    \n",
    "    #(logarithmic) density derivative. Firstly, avoid a divide by zero by taking a limit\n",
    "    #for r=0 and constant rho at the star's center.\n",
    "    if M_in_Msun == 0:\n",
    "        dlrhodr = 0\n",
    "    else:\n",
    "        #Put all parameters with units on the second line for neatness.\n",
    "        dlrhodr = -1/gamma * (M_in_Msun)*np.exp(lrho)/P.cgs.value/r_in_rsun**2 *\\\n",
    "         float(c.G*c.M_sun/c.R_sun * (u.g/u.erg) )\n",
    "    \n",
    "    #(logarithmic) temperature derivative.\n",
    "    dlTdr = (gamma - 1) * dlrhodr\n",
    "    # dlTdr = \n",
    "    \n",
    "    return np.array([dM_in_Msundr, dlrhodr, dlTdr])"
   ]
  },
  {
   "cell_type": "markdown",
   "metadata": {},
   "source": [
    "**This function is wrapped for convenience, and surface stopping condition functions are defined**"
   ]
  },
  {
   "cell_type": "code",
   "execution_count": 8,
   "metadata": {},
   "outputs": [],
   "source": [
    "def find_derivatives_simplified(r_in_rsun, M_lrho_lT):\n",
    "    \"\"\"A wrapper function to force a simplified equation of state\"\"\"\n",
    "    return find_derivatives(r_in_rsun, M_lrho_lT, simplified_EOS=True)\n",
    "\n",
    "\n",
    "#The following two functions may be slightly confusing for people who aren't python or \n",
    "#object oriented programming experts, as variables (properties) are added to a function. \n",
    "#We can actually always add additional properties to functions, ad all variables and\n",
    "#functions in python are objects.\n",
    "def cool_surface(r_in_rsun, M_lrho_lT):\n",
    "    \"\"\"Determine a surface condition by the surface becoming too cool. In practice, \n",
    "    our adiabatic approximation is likely to break before this!\"\"\"\n",
    "    return M_lrho_lT[2] - np.log(2000)\n",
    "cool_surface.terminal = True\n",
    "cool_surface.direction = -1\n",
    "\n",
    "def near_vacuum(r_in_rsun, M_lrho_lT):\n",
    "    \"\"\"Determine a surface condition by the surface becoming too cool. In practice, \n",
    "    our adiabatic approximation is likely to break before this!\"\"\"\n",
    "    return M_lrho_lT[1] - np.log(1e-7)\n",
    "near_vacuum.terminal = True\n",
    "near_vacuum.direction = -1"
   ]
  },
  {
   "cell_type": "markdown",
   "metadata": {},
   "source": [
    "**Finally, we're up to defining our core function which creates a numerical approximation to a fully convective star**"
   ]
  },
  {
   "cell_type": "code",
   "execution_count": 277,
   "metadata": {},
   "outputs": [],
   "source": [
    "def convective_star(rho_c, T_c, simplified_EOS=False):\n",
    "    \"\"\"Assuming a fully convective star, compute the structure using an equation of\n",
    "    state and the first two equations of stellar structure.\n",
    "    \n",
    "    Parameters\n",
    "    ----------\n",
    "    rho_c: Central density, including units from astropy.units\n",
    "    T_c: Central temperature, including units from astropy.units\n",
    "    simplified_EOS: True or False - do we use a simplified equation of state\n",
    "        with a fixed gamma (from a fixed ionisation fraction)?\n",
    "    \"\"\"\n",
    "    #Start the problem at the star center.\n",
    "    y0 = [0, np.log(rho_c.to(u.g/u.cm**3).value), np.log(T_c.to(u.K).value)] \n",
    "    \n",
    "    #Don't go past 100 R_sun!\n",
    "    rspan = [0,2] \n",
    "    \n",
    "    #Solve the initial value problem!\n",
    "    if simplified_EOS:\n",
    "        result = solve_ivp(find_derivatives_simplified, rspan, y0, events=[cool_surface, near_vacuum], method='RK23',max_step = 0.01)\n",
    "    else:\n",
    "        result = solve_ivp(find_derivatives, rspan, y0, events=[cool_surface, near_vacuum], method='RK23',max_step = 0.01)\n",
    "    \n",
    "    #Extract the results\n",
    "    r_in_rsun = result.t\n",
    "    M_in_Msun = result.y[0]\n",
    "    rho = np.exp(result.y[1])*u.g/u.cm**3\n",
    "    T = np.exp(result.y[2])*u.K\n",
    "    return r_in_rsun, M_in_Msun, rho, T"
   ]
  },
  {
   "cell_type": "markdown",
   "metadata": {},
   "source": [
    "**From this point, you'll have to run convective_star(), e.g. as** <br>\n",
    "`r_in_rsun, M_in_Msun, rho, T = convective_star(INSERT_DENSITY_HERE, INSERT_TEMPERATURE_HERE)`<br>\n",
    "**... then you can try to make pretty plots etc. Enjoy! Note that without the simplified_EOS option, this takes several seconds to run.**"
   ]
  },
  {
   "cell_type": "code",
   "execution_count": 278,
   "metadata": {},
   "outputs": [],
   "source": [
    "r_in_rsun_sim, M_in_Msun_sim, rho_sim, T_sim = convective_star(1*u.g/u.cm**3, 3e6*u.K, simplified_EOS = True)\n",
    "r_in_rsun, M_in_Msun, rho, T= convective_star(1*u.g/u.cm**3, 3e6*u.K)    "
   ]
  },
  {
   "cell_type": "code",
   "execution_count": 279,
   "metadata": {},
   "outputs": [
    {
     "data": {
      "text/plain": [
       "<matplotlib.legend.Legend at 0x1c126aee9e8>"
      ]
     },
     "execution_count": 279,
     "metadata": {},
     "output_type": "execute_result"
    },
    {
     "data": {
      "image/png": "[encoded data removed]",
      "text/plain": [
       "<Figure size 432x288 with 1 Axes>"
      ]
     },
     "metadata": {
      "needs_background": "light"
     },
     "output_type": "display_data"
    },
    {
     "data": {
      "image/png": "[encoded data removed]",
      "text/plain": [
       "<Figure size 432x288 with 1 Axes>"
      ]
     },
     "metadata": {
      "needs_background": "light"
     },
     "output_type": "display_data"
    },
    {
     "data": {
      "image/png": "[encoded data removed]",
      "text/plain": [
       "<Figure size 432x288 with 1 Axes>"
      ]
     },
     "metadata": {
      "needs_background": "light"
     },
     "output_type": "display_data"
    },
    {
     "data": {
      "image/png": "[encoded data removed]",
      "text/plain": [
       "<Figure size 432x288 with 1 Axes>"
      ]
     },
     "metadata": {
      "needs_background": "light"
     },
     "output_type": "display_data"
    }
   ],
   "source": [
    "plt.figure(1)\n",
    "plt.plot(r_in_rsun_sim, M_in_Msun_sim,label = 'simplified model')\n",
    "plt.plot(r_in_rsun, M_in_Msun)\n",
    "plt.xlabel('R/R$_{sun}$');plt.ylabel('M/M$_{sun}$');plt.legend()\n",
    "\n",
    "plt.figure(2)\n",
    "plt.plot(r_in_rsun_sim, T_sim,label = 'simplified model')\n",
    "plt.plot(r_in_rsun, T)\n",
    "plt.xlabel('R/R$_{sun}$');plt.ylabel('T (K)');plt.legend()\n",
    "\n",
    "plt.figure(3)\n",
    "plt.plot(r_in_rsun_sim, M_in_Msun_sim,label = 'simplified model')\n",
    "plt.plot(r_in_rsun, M_in_Msun)\n",
    "plt.xlabel('R/R$_{sun}$');plt.ylabel('M/M$_{sun}$');plt.legend()\n",
    "plt.axis([1.72, 1.85, 0.73, 0.75])\n",
    "\n",
    "plt.figure(4)\n",
    "plt.plot(r_in_rsun_sim, T_sim,label = 'simplified model')\n",
    "plt.plot(r_in_rsun, T)\n",
    "plt.xlabel('R/R$_{sun}$');plt.ylabel('T (K)');plt.legend()\n",
    "plt.axis([1.72, 1.85, 0,130000])\n",
    "\n",
    "plt.legend()"
   ]
  },
  {
   "cell_type": "markdown",
   "metadata": {},
   "source": [
    "They are significant difference near the surface layers\n",
    "the greatest cause of the difference."
   ]
  },
  {
   "cell_type": "markdown",
   "metadata": {},
   "source": []
  },
  {
   "cell_type": "code",
   "execution_count": 280,
   "metadata": {},
   "outputs": [],
   "source": [
    "dTdr_rad = 3.75e-17*T**7*rho**1.8/u.K**6/u.g**1.8*u.cm**5.4/u.m"
   ]
  },
  {
   "cell_type": "code",
   "execution_count": 284,
   "metadata": {},
   "outputs": [],
   "source": [
    "# compute the convective temperature gradient\n",
    "dTdr = np.zeros(np.size(r_in_rsun))*u.K/u.m\n",
    "for i in range(np.size(r_in_rsun)):\n",
    "    P, gamma = eos_rho_T(rho[i], T[i])\n",
    "    #dlrhodr = -1/gamma * (M_in_Msun_sim)*rho_sim/P.cgs.value/r_in_rsun_sim**2 *\\\n",
    "    #         c.G*c.M_sun/c.R_sun * (u.cm**3/u.erg) \n",
    "\n",
    "    #(logarithmic) temperature derivative.\n",
    "    dTdr[i] = (((gamma - 1)/gamma * T[i]/P *c.G*M_in_Msun[i]*c.M_sun*rho[i]/r_in_rsun[i]**2/c.R_sun**2)).to(u.K/u.m)"
   ]
  },
  {
   "cell_type": "code",
   "execution_count": 304,
   "metadata": {},
   "outputs": [
    {
     "data": {
      "text/plain": [
       "<matplotlib.legend.Legend at 0x1c128024a20>"
      ]
     },
     "execution_count": 304,
     "metadata": {},
     "output_type": "execute_result"
    },
    {
     "data": {
      "image/png": "[encoded data removed]",
      "text/plain": [
       "<Figure size 432x288 with 1 Axes>"
      ]
     },
     "metadata": {
      "needs_background": "light"
     },
     "output_type": "display_data"
    }
   ],
   "source": [
    "plt.semilogy(r_in_rsun, dTdr_rad,label = 'rad')\n",
    "plt.semilogy(r_in_rsun, dTdr, label = 'convective')\n",
    "plt.axis([1.825,1.828,1e-6,1e2])\n",
    "plt.legend()"
   ]
  },
  {
   "cell_type": "code",
   "execution_count": 300,
   "metadata": {},
   "outputs": [
    {
     "data": {
      "text/plain": [
       "array(4223.74952076)"
      ]
     },
     "execution_count": 300,
     "metadata": {},
     "output_type": "execute_result"
    }
   ],
   "source": [
    "# From above plot we know that the transition radius is about 1.827 R_sun\n",
    "# We calculate the temperature at this radius by interpolation\n",
    "from scipy import interpolate\n",
    "from scipy.misc import derivative\n",
    "f = interpolate.interp1d(r_in_rsun, T/u.K)\n",
    "\n",
    "f(1.827)"
   ]
  },
  {
   "cell_type": "code",
   "execution_count": 298,
   "metadata": {},
   "outputs": [
    {
     "data": {
      "text/latex": [
       "$0.95643295 \\; \\mathrm{L_{\\odot}}$"
      ],
      "text/plain": [
       "<Quantity 0.95643295 solLum>"
      ]
     },
     "execution_count": 298,
     "metadata": {},
     "output_type": "execute_result"
    }
   ],
   "source": [
    "# We calculate the luminosity of the star.\n",
    "L = 4*np.pi*c.sigma_sb*1.827**2*c.R_sun**2*(4223*u.K)**4\n",
    "L.to(u.L_sun)"
   ]
  }
 ],
 "metadata": {
  "kernelspec": {
   "display_name": "Python 3",
   "language": "python",
   "name": "python3"
  },
  "language_info": {
   "codemirror_mode": {
    "name": "ipython",
    "version": 3
   },
   "file_extension": ".py",
   "mimetype": "text/x-python",
   "name": "python",
   "nbconvert_exporter": "python",
   "pygments_lexer": "ipython3",
   "version": "3.7.3"
  }
 },
 "nbformat": 4,
 "nbformat_minor": 2
}
