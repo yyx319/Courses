{
 "cells": [
  {
   "cell_type": "markdown",
   "metadata": {},
   "source": [
    "    Instructor(s): Dr. Kenneth Duru\n",
    "    First Semester 2019\n",
    "    Mathematical Sciences Institute\n",
    "    Australian National University\n",
    "    \n",
    "# Math3511/6111, Scientific Computing\n",
    "\n",
    "This Lab book must be submitted by **20th May 5pm**. Late Submissions will\n",
    "incur a 5% penalty per working day. Assignment submissions will close on the **27th May 5pm**. Submissions after this time will be invalid.\n",
    "\n",
    "\n",
    "# Lab 4: Quadrature"
   ]
  },
  {
   "cell_type": "markdown",
   "metadata": {},
   "source": [
    "## A. Summary\n",
    "\n",
    "In this lab you will explore the accuracy of the different quadrature methods. You will explore the Newton-Cotes method using the method of undetermined coefficients. You will also be expected to debug existing code. \n",
    "\n",
    "The tutors will provide an explanation (and demonstration) of the Newton-Cotes method using the method of undetermined coefficients. \n",
    "\n",
    "Your task is to implement the Square law and the Trapezoidal law to approximate the following integral\n",
    "$$\n",
    "\\int_{-1}^{1} e^{-3x} \\ dx\n",
    "$$\n",
    "and comment on the accuracy of the two methods. "
   ]
  },
  {
   "cell_type": "markdown",
   "metadata": {},
   "source": [
    "## B. Labbook -- here comes the part which you include or modify (student)"
   ]
  },
  {
   "cell_type": "markdown",
   "metadata": {},
   "source": [
    "### B1. Left Riemann sum (student) [34 pts]\n",
    "\n",
    "1) The cell below implements the left Riemann sum for approximating integrals. Before running anything, read through the code and try to understand what it's trying to do. Write a short description on what each procedure is trying to achieve.\n",
    "\n",
    "  Unfortunately, due to the author's wild inexperience with Python, he has made several errors in the following code. Your task is to find each error in the code below, give a brief explaination as to why the error occurs and how to fix the error. \n",
    " \n",
    "  Once you are done fixing the errors in the code, use the square law to approximate the integral $$\\int_{-1}^{1} e^{-3x} \\ dx$$ with the partition of the interval ranging from 1 to 100 points. Using the expert knowledge you have gained in the previous labs, along with `scipy.quad` as a reference solution, plot the error of approximation against the size of the partition. Comment on what you observe.\n",
    "\n",
    "### My Report.\n",
    "\n",
    "Your discussion goes here. "
   ]
  },
  {
   "cell_type": "markdown",
   "metadata": {},
   "source": [
    "Description of the code:\n",
    "\n",
    "Firstly we define the function and calculate the reference integral value using scipy.quad.\n",
    "\n",
    "Secondly we define the function calculating integral using Riemann sum:\n",
    "\n",
    "**Riemannian sum**\n",
    "  $$Q(f) = \\sum_{k=0}^n (x_{k+1}-x_k)\\, f(x_k)$$\n",
    "  \n",
    "Then we calculate the integral for partition size from 2 to 100 and their numerical error compared with reference integral value.\n",
    "\n",
    "Finally we make a plot of numerical error vs partition size."
   ]
  },
  {
   "cell_type": "markdown",
   "metadata": {},
   "source": [
    "The original code has serveral errors\n",
    "\n",
    "errors and their correction \n",
    "\n",
    "1.numpy -> np  in f = lambda x : numpy.exp(-3*x)\n",
    "\n",
    "This error occurs because he forget he has already import numpy as np.\n",
    "\n",
    "2 forget to approx = 0\n",
    "\n",
    "This error occurs because he forget initialise the value before making sums.\n",
    "\n",
    "3.for i in len(xpts)->for i in range(np.size(xpts)-1)\n",
    "\n",
    "This error occurs because i is in an array, not a number.\n",
    "\n",
    "4.-3x->3*\n",
    "\n",
    "This error occurs because he forgets a operation between 3 and x.  \n",
    "\n",
    "5 errvec = ()->errvec=$[]$\n",
    "\n",
    "This error occurs because he mistaken expression empty list.\n",
    "\n",
    "6.errvec.append(abs(reference - Rect(i))->errvec.append(abs(reference - Rect(i\n",
    "\n",
    "This error occurs because he forget a right braket correspinding to the left braket of append.\n",
    "\n",
    "7.def Rect(start = -1, end = 1, f = f, partition_size):->def Rect(partition_size, start = -1, end = 1, f = f):\n",
    "\n",
    "This error occurs because undefined parameter should come first.\n",
    "\n",
    "8.plot(size,errvec,'r-'); ->plt.plot(size,errvec,'r-');\n",
    "\n",
    "This error occurs bacause he forget the plt before plot."
   ]
  },
  {
   "cell_type": "code",
   "execution_count": 10,
   "metadata": {},
   "outputs": [
    {
     "data": {
      "text/plain": [
       "Text(0,0.5,'error')"
      ]
     },
     "execution_count": 10,
     "metadata": {},
     "output_type": "execute_result"
    },
    {
     "data": {
      "image/png": "[encoded data removed]",
      "text/plain": [
       "<Figure size 432x288 with 1 Axes>"
      ]
     },
     "metadata": {
      "needs_background": "light"
     },
     "output_type": "display_data"
    }
   ],
   "source": [
    "%matplotlib inline \n",
    "import numpy as np\n",
    "import scipy as sp\n",
    "import math\n",
    "import scipy.integrate as integrate\n",
    "import pylab as plt\n",
    "\n",
    "f = lambda x : np.exp(-3*x) #fix 1\n",
    "\n",
    "# reference solution of the integral\n",
    "reference = integrate.quad(lambda x: np.exp(-3*x),-1,1)[0] #fix 1,4\n",
    "\n",
    "\n",
    "# python function implementing the Riemann sum\n",
    "def Rect(partition_size, start = -1, end = 1, f = f):\n",
    "    xpts = np.linspace(start,end,partition_size)\n",
    "    ypts = f(xpts)\n",
    "    approx = 0 #fix 2\n",
    "    for i in range(np.size(xpts)-1):   #fix 3\n",
    "        approx = approx + (xpts[i+1]-xpts[i])*f(xpts[i])\n",
    "    return approx\n",
    "\n",
    "# Initializing list of error\n",
    "errvec = []#fix 6\n",
    "for i in range(2,101):\n",
    "    errvec.append(abs(reference - Rect(i))) #fix 7\n",
    "\n",
    "# plot of the errors\n",
    "size = list(range(2,101)) #fix 5\n",
    "plt.plot(size,errvec,'r-');\n",
    "plt.xlabel('partition size')\n",
    "plt.ylabel('error')"
   ]
  },
  {
   "cell_type": "markdown",
   "metadata": {},
   "source": [
    "comments:\n",
    "As the size of partition increases, the error of square law decreases.\n",
    "\n",
    "As the error bound for Riemann sum is:\n",
    "$$|e(x)| \\leq M h \\sum_{k=1}^n (x_k - x_{k-1}) = M(b-a)h$$\n",
    "where M is Lipschitz constant  of f.\n",
    "\n",
    "The error for Riemann sum should be of order $O(N^{-1})$, where N is partition size.\n",
    "\n",
    "The following plot compare the error vs $\\frac{20.5}{N}$ in loglog space.\n",
    "The fit between two curves states that the the error for Riemann sum should be of order $O(N^{-1})$"
   ]
  },
  {
   "cell_type": "code",
   "execution_count": 33,
   "metadata": {},
   "outputs": [
    {
     "data": {
      "text/plain": [
       "<matplotlib.legend.Legend at 0x1f1c504bdd8>"
      ]
     },
     "execution_count": 33,
     "metadata": {},
     "output_type": "execute_result"
    },
    {
     "data": {
      "image/png": "[encoded data removed]",
      "text/plain": [
       "<Figure size 432x288 with 1 Axes>"
      ]
     },
     "metadata": {
      "needs_background": "light"
     },
     "output_type": "display_data"
    }
   ],
   "source": [
    "err=20.5/np.array(size)\n",
    "plt.loglog(size,err, label='fitted line')\n",
    "plt.loglog(size,errvec,'r-', label='error');\n",
    "plt.xlabel('partition size')\n",
    "plt.ylabel('error')\n",
    "plt.legend()"
   ]
  },
  {
   "cell_type": "markdown",
   "metadata": {},
   "source": [
    "### B2. Composite Trapezoidal rule (student) [33 pts]\n",
    "\n",
    "2) Repeat the accuracy study from point 1 using the Trapezoidal rule. Observe how the error reduces in comparison to the Riemannian sum; comment on wether this is expected. \n",
    "\n",
    "### My Report.\n",
    "\n",
    "Your discussion goes here. "
   ]
  },
  {
   "cell_type": "code",
   "execution_count": 23,
   "metadata": {},
   "outputs": [
    {
     "data": {
      "image/png": "[encoded data removed]",
      "text/plain": [
       "<Figure size 432x288 with 1 Axes>"
      ]
     },
     "metadata": {
      "needs_background": "light"
     },
     "output_type": "display_data"
    }
   ],
   "source": [
    "%matplotlib inline \n",
    "import numpy as np\n",
    "import scipy as sp\n",
    "import math\n",
    "import scipy.integrate as integrate\n",
    "import pylab as plt\n",
    "\n",
    "f = lambda x : np.exp(-3*x) #fix 1\n",
    "\n",
    "# reference solution of the integral\n",
    "reference = integrate.quad(lambda x: np.exp(-3*x),-1,1)[0] #fix 1,4\n",
    "\n",
    "\n",
    "# python function implementing the Riemann sum\n",
    "def Trape(partition_size, start = -1, end = 1, f = f):\n",
    "    xpts = np.linspace(start,end,partition_size)\n",
    "    ypts = f(xpts)\n",
    "    approx = 0 #fix 2\n",
    "    for i in range(np.size(xpts)-1):   #fix 3\n",
    "        approx = approx + (xpts[i+1]-xpts[i])/2*(f(xpts[i])+f(xpts[i+1]))\n",
    "    return approx\n",
    "\n",
    "# Initializing list of error\n",
    "errvec_trap = []#fix 6\n",
    "for i in range(2,101):\n",
    "    errvec_trap.append(abs(reference - Trape(i))) #fix 7\n",
    "\n",
    "# plot of the errors\n",
    "size = np.linspace(2,100,99) #fix 5\n",
    "plt.plot(size,errvec_trap,'r-');"
   ]
  },
  {
   "cell_type": "code",
   "execution_count": 35,
   "metadata": {},
   "outputs": [
    {
     "data": {
      "text/plain": [
       "<matplotlib.legend.Legend at 0x1f1c69cbd30>"
      ]
     },
     "execution_count": 35,
     "metadata": {},
     "output_type": "execute_result"
    },
    {
     "data": {
      "image/png": "[encoded data removed]",
      "text/plain": [
       "<Figure size 432x288 with 1 Axes>"
      ]
     },
     "metadata": {
      "needs_background": "light"
     },
     "output_type": "display_data"
    }
   ],
   "source": [
    "plt.plot(size,errvec,label=\"Riemann sum\");\n",
    "plt.plot(size,errvec_trap,'r-',label=\"trapezoidal rule\");\n",
    "plt.legend()"
   ]
  },
  {
   "cell_type": "markdown",
   "metadata": {},
   "source": [
    "comments:\n",
    "\n",
    "1 As the size of partition increases, the error of Trapezoidal rule decreases.\n",
    "\n",
    "2 Error reduces faster in comparison to the Riemannian sum; this is expected as The error for Trapezoidal rule should be of order $O(N^{-2})$ while for Riemann sum it is $O(N^{-1})$. Hence the error for Trapezoidal rule will decrease faster.\n",
    "\n",
    "Addtional analysis:\n",
    "As the error for Trapezoidal rule is\n",
    "$$e = T(f,h) - I(f) = \\frac{h^2}{12}(f^\\prime(b) - f^\\prime(a)) + O(h^3)$$\n",
    "The error for Trapezoidal rule should be of order $O(N^{-2})$, where N is partition size.\n",
    "\n",
    "The following plot compare the error vs $\\frac{20.5}{N^2}$ in loglog space.\n",
    "The fit between two curves states that the the error for Trapezoidal rule should be of order $O(N^{-2})$\n",
    "\n",
    "We also make a plot to compare the error for Riemann sum and trapezoidal rule in the last."
   ]
  },
  {
   "cell_type": "code",
   "execution_count": 71,
   "metadata": {},
   "outputs": [
    {
     "data": {
      "text/plain": [
       "<matplotlib.legend.Legend at 0x1f1c7d6d5c0>"
      ]
     },
     "execution_count": 71,
     "metadata": {},
     "output_type": "execute_result"
    },
    {
     "data": {
      "image/png": "[encoded data removed]",
      "text/plain": [
       "<Figure size 432x288 with 1 Axes>"
      ]
     },
     "metadata": {
      "needs_background": "light"
     },
     "output_type": "display_data"
    }
   ],
   "source": [
    "err_2=20.5/np.array(size)**2\n",
    "plt.loglog(size,err_2,label='fitted line')\n",
    "plt.loglog(size,errvec_trap,'r-',label='error for trapezoidal rule');\n",
    "plt.xlabel('partition size')\n",
    "plt.ylabel('error')\n",
    "plt.legend()"
   ]
  },
  {
   "cell_type": "code",
   "execution_count": 40,
   "metadata": {},
   "outputs": [
    {
     "data": {
      "text/plain": [
       "<matplotlib.legend.Legend at 0x1f1c6a0d0f0>"
      ]
     },
     "execution_count": 40,
     "metadata": {},
     "output_type": "execute_result"
    },
    {
     "data": {
      "image/png": "[encoded data removed]",
      "text/plain": [
       "<Figure size 432x288 with 1 Axes>"
      ]
     },
     "metadata": {
      "needs_background": "light"
     },
     "output_type": "display_data"
    }
   ],
   "source": [
    "plt.loglog(size,err,'b--',label='fitted line for RS')\n",
    "plt.loglog(size,errvec,'b',label=\"Riemann sum\");\n",
    "plt.loglog(size,err_2,'r--',label='fitted line for TR')\n",
    "plt.loglog(size,errvec_trap,'r-',label=\"trapezoidal rule\");\n",
    "plt.legend()"
   ]
  },
  {
   "cell_type": "markdown",
   "metadata": {},
   "source": [
    "### B3. Newton Cotes Method (student) [33 pts]\n",
    "\n",
    "3) Use the Newton-Cotes formula  $$\\int_{a}^{b} f(x) = \\sum_{i=0}^{4}A_{i}f(x_{i})$$ to estimate the integral $$\\int_{-1}^{1}e^{-3x}$$ with 5 evenly spaced grid points (compare to your reference value).   \n",
    "\n",
    "  (Hint: Use the method of undetermined coefficients to solve for the $A_{i}$, by substituting in $f = 1,x,x^{2},x^{3},x^{4}$ and demanding that the result of the integral be exact)\n",
    "\n",
    "  Repeat with 7 and 9 points. Comment on the improvement to your approximations.\n",
    "\n",
    "### My Report.\n",
    "\n",
    "Your discussion goes here. "
   ]
  },
  {
   "cell_type": "markdown",
   "metadata": {},
   "source": [
    "I use the method in lecture to calculate the weights\n",
    "\n",
    "equations\n",
    "  $$\\sum_{k=0}^n k^j w_k = \\frac{n^{j+1}}{j+1}, \\quad j=0,\\ldots,n$$\n",
    "  \n",
    "matrix is Vandermonde matrix"
   ]
  },
  {
   "cell_type": "code",
   "execution_count": 72,
   "metadata": {},
   "outputs": [
    {
     "name": "stdout",
     "output_type": "stream",
     "text": [
      "\n",
      " n = 4:   w0 = 0.31   w1 = 1.42   w2 = 0.53   w3 = 1.42   \n",
      " n = 6:   w0 = 0.29   w1 = 1.54   w2 = 0.19   w3 = 1.94   w4 = 0.19   w5 = 1.54   \n",
      " n = 8:   w0 = 0.28   w1 = 1.66   w2 = -0.26   w3 = 2.96   w4 = -1.28   w5 = 2.96   w6 = -0.26   w7 = 1.66   "
     ]
    }
   ],
   "source": [
    "from scipy.linalg import lu_factor, lu_solve\n",
    "# compute Newton-Cotes weights for 5,7 and 9 points\n",
    "w = np.zeros((3,10))\n",
    "for i, n in enumerate((4,6,8)):    \n",
    "    print(\"\\n n = {}:\".format(n),end='   ')\n",
    "    x = np.linspace(0,n,n+1)\n",
    "    Van = np.transpose(np.vander(x,increasing=True))\n",
    "    b = np.zeros(n+1)\n",
    "    for j in range(n+1):\n",
    "        b[j]=n**(j+1)/(j+1)\n",
    "    lu = lu_factor(Van)\n",
    "    ww = lu_solve(lu,b) \n",
    "    w[i,0:n+1]=ww\n",
    "    for j in range(n):\n",
    "        print(\"w{} = {:4.2f}\".format(j,w[i,j]),end='   ')"
   ]
  },
  {
   "cell_type": "markdown",
   "metadata": {},
   "source": [
    "Then calculate the integral using the quadrature rule:\n",
    "$$Q(f,a,b) = \\sum_{i=0}^n w_i f(x_i)$$"
   ]
  },
  {
   "cell_type": "code",
   "execution_count": 73,
   "metadata": {},
   "outputs": [
    {
     "name": "stdout",
     "output_type": "stream",
     "text": [
      "n = 4, Q = 6.7444774, Error = 6.6e-02\n",
      "n = 6, Q = 6.6812933, Error = 2.7e-03\n",
      "n = 8, Q = 6.6786691, Error = 8.6e-05\n"
     ]
    }
   ],
   "source": [
    "%matplotlib inline \n",
    "import numpy as np\n",
    "import scipy as sp\n",
    "import math\n",
    "import scipy.integrate as integrate\n",
    "import pylab as plt\n",
    "\n",
    "f = lambda x : np.exp(-3*x) #fix 1\n",
    "\n",
    "# reference solution of the integral\n",
    "reference = integrate.quad(lambda x: np.exp(-3*x),-1,1)[0] #fix 1,4\n",
    "\n",
    "\n",
    "# python function implementing Newton-Cotes methods\n",
    "for i, n in enumerate((4,6,8)):\n",
    "    Q = np.sum(w[i,:n+1]*np.exp(-3*np.linspace(-1,1,n+1)))*2/n\n",
    "    print((\"n = {}, Q = {:8.7f}, Error = {:6.1e}\"\\\n",
    "           .format(n,Q,Q-reference)))"
   ]
  },
  {
   "cell_type": "markdown",
   "metadata": {},
   "source": [
    "Comments:\n",
    "As the number of evenly spaced grid points increases, the error decreases. \n",
    "\n",
    "Analysis:\n",
    "From lecture note, in the case of even $n$ the first (constant) term does not contribute to the error and one gets\n",
    "error formula: \n",
    "$$|E| \\leq \\frac{h^{n+3}}{2(n+1)!} |f^{(n+2)}(\\xi)| \\int_0^n |w(x)| \\, dx$$\n",
    "\n",
    "from which we can see that error bound is decreasing with increasing n"
   ]
  }
 ],
 "metadata": {
  "anaconda-cloud": {},
  "kernelspec": {
   "display_name": "Python 3",
   "language": "python",
   "name": "python3"
  },
  "language_info": {
   "codemirror_mode": {
    "name": "ipython",
    "version": 3
   },
   "file_extension": ".py",
   "mimetype": "text/x-python",
   "name": "python",
   "nbconvert_exporter": "python",
   "pygments_lexer": "ipython3",
   "version": "3.7.0"
  }
 },
 "nbformat": 4,
 "nbformat_minor": 1
}
