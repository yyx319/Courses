{
 "cells": [
  {
   "cell_type": "markdown",
   "metadata": {},
   "source": [
    "# Installing Python\n",
    "\n",
    "Read the installation instruction on  \n",
    "https://www.python.org/downloads/"
   ]
  },
  {
   "cell_type": "markdown",
   "metadata": {},
   "source": [
    "# Virtualenv\n",
    "\n",
    "Using Virtualenv, we can make a nice workspace with full admin rights and not have to worry about the system. \n",
    "\n",
    "You can read more about it  \n",
    "https://virtualenv.pypa.io/en/stable/#"
   ]
  },
  {
   "cell_type": "markdown",
   "metadata": {},
   "source": [
    "# Jupyter Notebooks\n",
    "\n",
    "You can read about Jupyter notebooks here  \n",
    "http://jupyter.org/\n",
    "\n",
    "You can also try out the notebook in your browser before installing it.  \n",
    "Anaconda (https://www.continuum.io/downloads) will automatically install Jupyter and Python on your machine. "
   ]
  },
  {
   "cell_type": "markdown",
   "metadata": {},
   "source": [
    "# Introduction"
   ]
  },
  {
   "cell_type": "markdown",
   "metadata": {},
   "source": [
    "These exercises are intended to introduce you to the computer programming language Python, as well as give programming tips that will help when working through some of the later tutorials. The concepts that will be covered include\n",
    "* The use of functions,\n",
    "* translation of algorithms to code,\n",
    "* the formatting of code,\n",
    "* tips for methodically writing code,\n",
    "* advice on how to check code.  \n",
    "\n",
    "One important concept in Python not addressed in this tutorial is data types. We will discuss data types in the linear algebra tutorial.  \n",
    "By the end of this tutorial you should have checked that your computer account is working and you will have practiced using the Jupyter notebooks and Python.  \n",
    "Along the way, questions will be asked. You should provide answers to these questions in your lab book. Marks for these questions will be awarded based on the work presented in your lab book.  \n",
    "Remember this is a mathematics course. The aim is not for you to prove you can produce some sort of output, you must also show that you understand the output. When you have results in your lab book, it is a good idea to include a small discussion about your output. Are the results what you expected? Why or why not? How did you verify your results? What might be some of the reasons why the results are incorrect? During the course we will introduce you to terminology and techniques to help you answer these questions. If you just print the output, you will not be awarded full marks. "
   ]
  },
  {
   "cell_type": "markdown",
   "metadata": {},
   "source": [
    "## Login\n",
    "\n",
    "The lab computers run Linux. Once in the start menu, just search for Jupyter and start the Jupyter notebook.  \n",
    "If you're using your own machine, then you should be familiar with how to start Jupyter Notebook (but if you aren't, please ask for help). "
   ]
  },
  {
   "cell_type": "markdown",
   "metadata": {},
   "source": [
    "# Basic Python"
   ]
  },
  {
   "cell_type": "markdown",
   "metadata": {},
   "source": [
    "## Python as a calculator\n",
    "\n",
    "Python can be used as a simple calculator. For example addition, multiplication, exponentiation and others."
   ]
  },
  {
   "cell_type": "code",
   "execution_count": null,
   "metadata": {},
   "outputs": [],
   "source": [
    "1+1"
   ]
  },
  {
   "cell_type": "code",
   "execution_count": null,
   "metadata": {},
   "outputs": [],
   "source": [
    "154*9794"
   ]
  },
  {
   "cell_type": "code",
   "execution_count": null,
   "metadata": {},
   "outputs": [],
   "source": [
    "2**3"
   ]
  },
  {
   "cell_type": "code",
   "execution_count": null,
   "metadata": {},
   "outputs": [],
   "source": [
    "2^3"
   ]
  },
  {
   "cell_type": "markdown",
   "metadata": {},
   "source": [
    "The above is the binary XOR operator. It compares the binary digits of the inputs and produces an output (look this up and try to understand it, ask your tutor in the lab to see if you get it). "
   ]
  },
  {
   "cell_type": "code",
   "execution_count": null,
   "metadata": {},
   "outputs": [],
   "source": [
    "1.0/5.0"
   ]
  },
  {
   "cell_type": "markdown",
   "metadata": {},
   "source": [
    "## Conditional Statements"
   ]
  },
  {
   "cell_type": "markdown",
   "metadata": {},
   "source": [
    "Often we only need to do something once certain criteria are met. For these situations python has the **if** statements."
   ]
  },
  {
   "cell_type": "code",
   "execution_count": null,
   "metadata": {},
   "outputs": [],
   "source": [
    "x=10\n",
    "if x<30:\n",
    "    print(\"x is less than 30\")"
   ]
  },
  {
   "cell_type": "markdown",
   "metadata": {},
   "source": [
    "Notice that the line after the **if** statement is indented. Python uses white space to organize code, so you must be careful to use whitespace correctly (often when my code gives an error, it's because of whitespace). You can use tabs or spaces for whitespace, but you must be consistent or problems will occur. Fortunately, jupyter automatically adds tabs after conditional statements, making life easier for us.  \n",
    "\n",
    "You can also check multiple conditions using **elif** and **else**"
   ]
  },
  {
   "cell_type": "code",
   "execution_count": null,
   "metadata": {},
   "outputs": [],
   "source": [
    "if x<0:\n",
    "    print(\"x is less than 0\")\n",
    "elif x<50:\n",
    "    print(\"x is less than 50 and bigger than 0\")\n",
    "else:\n",
    "    print(\"Ahhhhhhh\")"
   ]
  },
  {
   "cell_type": "markdown",
   "metadata": {},
   "source": [
    "## Loops"
   ]
  },
  {
   "cell_type": "markdown",
   "metadata": {},
   "source": [
    "Other things you will want/need to do, is to iterate or repeat sections of code. You can do this using a **for** or **while** loop"
   ]
  },
  {
   "cell_type": "code",
   "execution_count": null,
   "metadata": {},
   "outputs": [],
   "source": [
    "for i in range(10):\n",
    "    print(i)"
   ]
  },
  {
   "cell_type": "code",
   "execution_count": null,
   "metadata": {},
   "outputs": [],
   "source": [
    "i=0\n",
    "while i<10:\n",
    "    print(i)\n",
    "    i+=1"
   ]
  },
  {
   "cell_type": "markdown",
   "metadata": {},
   "source": [
    "Notice that both cells produce the same output. As you'll come to learn over the course, there's more than one way to do something. "
   ]
  },
  {
   "cell_type": "markdown",
   "metadata": {},
   "source": [
    "In the above example we used the **range** function (this is a built-in function in python). To learn more about this function (and of course others), we can always use the **help** command which will print a description of the function.  \n",
    "You can also always look things up on google."
   ]
  },
  {
   "cell_type": "code",
   "execution_count": null,
   "metadata": {},
   "outputs": [],
   "source": [
    "help(range)"
   ]
  },
  {
   "cell_type": "markdown",
   "metadata": {},
   "source": [
    "From the above help section, we can see that the **range** function builds a list given input values of **start**, **stop**, and **step**. Let's try exploring this function a little more. "
   ]
  },
  {
   "cell_type": "code",
   "execution_count": null,
   "metadata": {},
   "outputs": [],
   "source": [
    "print(range(5))"
   ]
  },
  {
   "cell_type": "code",
   "execution_count": null,
   "metadata": {},
   "outputs": [],
   "source": [
    "print(list(range(5)))"
   ]
  },
  {
   "cell_type": "code",
   "execution_count": null,
   "metadata": {
    "collapsed": true
   },
   "outputs": [],
   "source": [
    "A = list(range(15))"
   ]
  },
  {
   "cell_type": "code",
   "execution_count": null,
   "metadata": {},
   "outputs": [],
   "source": [
    "print(A)"
   ]
  },
  {
   "cell_type": "markdown",
   "metadata": {},
   "source": [
    "Notice that the upper bound in range, is non-inclusive"
   ]
  },
  {
   "cell_type": "code",
   "execution_count": null,
   "metadata": {},
   "outputs": [],
   "source": [
    "B=list(range(-5,13,3))\n",
    "B"
   ]
  },
  {
   "cell_type": "markdown",
   "metadata": {},
   "source": [
    "You can specify sections of a list using slice notation, like so:"
   ]
  },
  {
   "cell_type": "code",
   "execution_count": null,
   "metadata": {},
   "outputs": [],
   "source": [
    "A[1] #why is this not 0?"
   ]
  },
  {
   "cell_type": "code",
   "execution_count": null,
   "metadata": {},
   "outputs": [],
   "source": [
    "A[3:6]"
   ]
  },
  {
   "cell_type": "code",
   "execution_count": null,
   "metadata": {},
   "outputs": [],
   "source": [
    "A[:7]"
   ]
  },
  {
   "cell_type": "code",
   "execution_count": null,
   "metadata": {},
   "outputs": [],
   "source": [
    "A[-4:]"
   ]
  },
  {
   "cell_type": "markdown",
   "metadata": {},
   "source": [
    "To find the length of a list, use the **len** function"
   ]
  },
  {
   "cell_type": "code",
   "execution_count": null,
   "metadata": {},
   "outputs": [],
   "source": [
    "len(B)"
   ]
  },
  {
   "cell_type": "markdown",
   "metadata": {},
   "source": [
    "## Functions"
   ]
  },
  {
   "cell_type": "markdown",
   "metadata": {},
   "source": [
    "To define a function in python that we can reuse, the **def** keyword is used"
   ]
  },
  {
   "cell_type": "code",
   "execution_count": null,
   "metadata": {
    "collapsed": true
   },
   "outputs": [],
   "source": [
    "def f(y):\n",
    "    return y**2"
   ]
  },
  {
   "cell_type": "code",
   "execution_count": null,
   "metadata": {},
   "outputs": [],
   "source": [
    "print(f(3), f(4), f(29372))"
   ]
  },
  {
   "cell_type": "markdown",
   "metadata": {},
   "source": [
    "The **return** keyword causes the function to stop and give back a value to whatever called it. In this case, it squares whatever argument is given to it.  \n",
    "It always a good idea to document your code and describe what it's doing and why. This allows other people (and yourself later on!!) to understand what the code is doing, and to modify or fix it. To do this add comments to the code by writing a **#**, then everything till the end of the line is ignored by Python."
   ]
  },
  {
   "cell_type": "markdown",
   "metadata": {},
   "source": [
    "As an example of how all this can tie together, here's one way you might calculate the exponential function $e^{x}$"
   ]
  },
  {
   "cell_type": "code",
   "execution_count": null,
   "metadata": {
    "collapsed": true
   },
   "outputs": [],
   "source": [
    "def ex(x):\n",
    "    \"\"\"\n",
    "    Calculate exponential from the taylor series\n",
    "    \"\"\"\n",
    "    \n",
    "    ans=0.0\n",
    "    n=1.0\n",
    "    term=1.0\n",
    "    while ans+term != ans:        # != means \"not equal to\"\n",
    "        ans = ans + term\n",
    "        term = term*(x/n)\n",
    "        n = n+1\n",
    "    return ans    "
   ]
  },
  {
   "cell_type": "code",
   "execution_count": null,
   "metadata": {},
   "outputs": [],
   "source": []
  },
  {
   "cell_type": "markdown",
   "metadata": {},
   "source": [
    "The comments between the two \"\"\" characters are documentation strings and they differ from standard comments in that they provide a way of associating documentation with a Python function. For example, see what happens when you run the next cell."
   ]
  },
  {
   "cell_type": "code",
   "execution_count": null,
   "metadata": {},
   "outputs": [],
   "source": [
    "help(ex)"
   ]
  },
  {
   "cell_type": "markdown",
   "metadata": {},
   "source": [
    "<font, color=\"blue\">\n",
    "Lab book: Using this program, what is the approximation to $e^{1}, e^{10}$ and $e^{-10}$. What are some techniques you could use to check the output?\n",
    "\n",
    "Lab Book: The Taylor series expansion of the exponential is \n",
    "$$\n",
    "e^{x} = \\sum_{i=0}^{\\infty} \\frac{x^{i}}{i!}\n",
    "$$\n",
    "When writing code to implement Taylor series expansion, we can't sum to $\\infty$, explain what's been done in the above code to get around this problem. "
   ]
  },
  {
   "cell_type": "markdown",
   "metadata": {},
   "source": [
    "## Python Modules"
   ]
  },
  {
   "cell_type": "markdown",
   "metadata": {},
   "source": [
    "To make Python more than a calculator while avoiding writing functions to do everything yourself, you use code that other people have written. To do this, you need import modules. Many modules come with Python, others need to be installed, and some you may even have to write yourself. "
   ]
  },
  {
   "cell_type": "markdown",
   "metadata": {},
   "source": [
    "The first way to import something is with the **import** command. "
   ]
  },
  {
   "cell_type": "code",
   "execution_count": null,
   "metadata": {
    "collapsed": true
   },
   "outputs": [],
   "source": [
    "import math"
   ]
  },
  {
   "cell_type": "markdown",
   "metadata": {},
   "source": [
    "To access the functions in the module you have to prefix them with the module name"
   ]
  },
  {
   "cell_type": "code",
   "execution_count": null,
   "metadata": {},
   "outputs": [],
   "source": [
    "math.exp(1)"
   ]
  },
  {
   "cell_type": "markdown",
   "metadata": {},
   "source": [
    "To avoid excessive typing you can also **import ... as**"
   ]
  },
  {
   "cell_type": "code",
   "execution_count": null,
   "metadata": {
    "collapsed": true
   },
   "outputs": [],
   "source": [
    "import math as m"
   ]
  },
  {
   "cell_type": "code",
   "execution_count": null,
   "metadata": {},
   "outputs": [],
   "source": [
    "m.exp(1)"
   ]
  },
  {
   "cell_type": "markdown",
   "metadata": {},
   "source": [
    "if you know exactly which function you want from the module, you can use **from ... import**"
   ]
  },
  {
   "cell_type": "code",
   "execution_count": null,
   "metadata": {
    "collapsed": true
   },
   "outputs": [],
   "source": [
    "from math import exp"
   ]
  },
  {
   "cell_type": "code",
   "execution_count": null,
   "metadata": {},
   "outputs": [],
   "source": [
    "exp(1)"
   ]
  },
  {
   "cell_type": "markdown",
   "metadata": {},
   "source": [
    "## Installing python modules (PIP)\n",
    "\n",
    "Installing modules in python is pretty simple with pip. \n",
    "You can read more info on  \n",
    "https://pip.pypa.io/en/stable/#"
   ]
  },
  {
   "cell_type": "markdown",
   "metadata": {},
   "source": [
    "One of the most useful python modules (for scientific computing), is NumPy.  \n",
    "You can read more about it (and find tutorial and all sorts of resources) here  \n",
    "http://www.numpy.org/  \n",
    "https://docs.scipy.org/doc/"
   ]
  },
  {
   "cell_type": "markdown",
   "metadata": {},
   "source": [
    "We can use NumPy to define (multidimensional) arrays. This is normally how we do linear algebra in Python with Matrices and Vectors.  \n",
    "For example,"
   ]
  },
  {
   "cell_type": "code",
   "execution_count": null,
   "metadata": {
    "collapsed": true
   },
   "outputs": [],
   "source": [
    "import numpy as np"
   ]
  },
  {
   "cell_type": "code",
   "execution_count": null,
   "metadata": {
    "collapsed": true
   },
   "outputs": [],
   "source": [
    "#define a new 3x3 matrix\n",
    "A = np.array([[1,2,3],[4,5,6],[7,8,9]])"
   ]
  },
  {
   "cell_type": "code",
   "execution_count": null,
   "metadata": {},
   "outputs": [],
   "source": [
    "print(A)"
   ]
  },
  {
   "cell_type": "code",
   "execution_count": null,
   "metadata": {
    "collapsed": true
   },
   "outputs": [],
   "source": [
    "#lets define a vector\n",
    "x = np.array([1,2,3])"
   ]
  },
  {
   "cell_type": "markdown",
   "metadata": {},
   "source": [
    "Lets try and find the product $Ax$"
   ]
  },
  {
   "cell_type": "code",
   "execution_count": null,
   "metadata": {
    "collapsed": true
   },
   "outputs": [],
   "source": [
    "#find the matrix vector product of A and x\n",
    "b = A*x"
   ]
  },
  {
   "cell_type": "code",
   "execution_count": null,
   "metadata": {},
   "outputs": [],
   "source": [
    "print(b)"
   ]
  },
  {
   "cell_type": "markdown",
   "metadata": {},
   "source": [
    "What this has done is multiplied the columns of $A$ with the components of $x$. To find the matrix vector product $Ax$ we can use NumPy"
   ]
  },
  {
   "cell_type": "code",
   "execution_count": null,
   "metadata": {
    "collapsed": true
   },
   "outputs": [],
   "source": [
    "b = np.dot(A,x)"
   ]
  },
  {
   "cell_type": "code",
   "execution_count": null,
   "metadata": {},
   "outputs": [],
   "source": [
    "print(b)"
   ]
  },
  {
   "cell_type": "markdown",
   "metadata": {},
   "source": [
    "## The Help Command\n",
    "\n",
    "Python Modules will usually come with documentation describing what functions are available, what they do, and how to use them. To access this, we use the **help** command (as done above).  \n",
    "To find out what is in a module, simply do **help(modulename)**, for example"
   ]
  },
  {
   "cell_type": "code",
   "execution_count": null,
   "metadata": {},
   "outputs": [],
   "source": [
    "import math\n",
    "help(math)"
   ]
  },
  {
   "cell_type": "markdown",
   "metadata": {},
   "source": [
    "The above lists all the function available in the math module. To find out how to use a specific function, do **help(functionname)**, for example"
   ]
  },
  {
   "cell_type": "code",
   "execution_count": null,
   "metadata": {},
   "outputs": [],
   "source": [
    "help(math.log)"
   ]
  },
  {
   "cell_type": "markdown",
   "metadata": {},
   "source": [
    "Some functions will have arguments in brackets, like so\n",
    "\n",
    "```\n",
    "log(x[,base])\n",
    "```\n",
    "\n",
    "This means that the *base* argument is optional. If a function lists an argument with and assigned value, it also means it is optional, and that if you do not specify the argument that it will use a default value instead. \n",
    "\n",
    "If you don't know where to look for a function or what it is called, it might be best just to search the internet or documentation for things like NumPy and MatPlotLib. "
   ]
  },
  {
   "cell_type": "markdown",
   "metadata": {},
   "source": [
    "# Example Problems"
   ]
  },
  {
   "cell_type": "markdown",
   "metadata": {},
   "source": [
    "In the example below, there is a question asked and answered. Try to understand what's being done. Look up any unfamiliar parts of the code. Try to explain what you think is being done to someone in the lab. "
   ]
  },
  {
   "cell_type": "markdown",
   "metadata": {},
   "source": [
    "#### Multiples of 5\n",
    "\n",
    "If we list all the natural numbers below 15 that are multiples of 5, we get 5 and 10. The sum of these multiples is 15.\n",
    "\n",
    "Find the sum of all the multiples of 5 below 1000."
   ]
  },
  {
   "cell_type": "code",
   "execution_count": null,
   "metadata": {
    "collapsed": true
   },
   "outputs": [],
   "source": [
    "def list_function(x):\n",
    "    my_list=[]\n",
    "    for i in range(200):\n",
    "        my_list.append(x*i)\n",
    "    return my_list"
   ]
  },
  {
   "cell_type": "code",
   "execution_count": null,
   "metadata": {},
   "outputs": [],
   "source": [
    "list_function(5)"
   ]
  },
  {
   "cell_type": "code",
   "execution_count": null,
   "metadata": {},
   "outputs": [],
   "source": [
    "sum(list_function(5))"
   ]
  },
  {
   "cell_type": "markdown",
   "metadata": {},
   "source": [
    "What if I wanted the sum of multiples of 5 or 7?"
   ]
  },
  {
   "cell_type": "markdown",
   "metadata": {},
   "source": [
    "What about multiples of 5 and 7?"
   ]
  },
  {
   "cell_type": "code",
   "execution_count": null,
   "metadata": {},
   "outputs": [],
   "source": [
    "multiples=[]\n",
    "for i in range(5):\n",
    "    for j in range(4):\n",
    "        multiples.append((5**i)*(7**j))\n",
    "print(multiples)\n",
    "    "
   ]
  },
  {
   "cell_type": "code",
   "execution_count": null,
   "metadata": {},
   "outputs": [],
   "source": [
    "sum_list=[]\n",
    "for i in multiples:\n",
    "    if i<1000:\n",
    "        sum_list.append(i)\n",
    "print(sum_list)"
   ]
  },
  {
   "cell_type": "code",
   "execution_count": null,
   "metadata": {},
   "outputs": [],
   "source": [
    "print(sum(sum_list))"
   ]
  },
  {
   "cell_type": "markdown",
   "metadata": {},
   "source": [
    "#### Find out if $10,001$ is a prime number."
   ]
  },
  {
   "cell_type": "code",
   "execution_count": null,
   "metadata": {},
   "outputs": [],
   "source": [
    "5//2"
   ]
  },
  {
   "cell_type": "code",
   "execution_count": null,
   "metadata": {},
   "outputs": [],
   "source": [
    "5%2"
   ]
  },
  {
   "cell_type": "code",
   "execution_count": null,
   "metadata": {
    "collapsed": true
   },
   "outputs": [],
   "source": [
    "def isprime(n):\n",
    "    for i in range(2,n):\n",
    "        if n%i==0:\n",
    "            return False\n",
    "            break\n",
    "    else:\n",
    "        return True\n",
    "        "
   ]
  },
  {
   "cell_type": "code",
   "execution_count": null,
   "metadata": {},
   "outputs": [],
   "source": [
    "isprime(10001)"
   ]
  },
  {
   "cell_type": "markdown",
   "metadata": {
    "collapsed": true
   },
   "source": [
    "# Example Application. "
   ]
  },
  {
   "cell_type": "markdown",
   "metadata": {},
   "source": [
    "![Circuit Diagram](circuit.png)"
   ]
  },
  {
   "cell_type": "markdown",
   "metadata": {},
   "source": [
    "## Problem Description\n",
    "\n",
    "Figure 1 shows a voltage source $V=120 \\text{V}$ with and internal resistance $R_{s}$ of $50 \\Omega$ supplying a load of resisteance $R_{L}$. Find the value of load resistance $R_{L}$ that will result in the maximum possible power being supplied by the source load. How much power will be supplied in this case?  \n",
    "Also, plot the power supplied to the load as a function of the load resistance $R_{L}$."
   ]
  },
  {
   "cell_type": "markdown",
   "metadata": {},
   "source": [
    "## Mathematical Description\n",
    "\n",
    "In this program we need to vary the load resistance $R_{L}$ and compute the power supplied to the load at each value of $R_{L}$. The power supplied to the load resistance is given by the equation\n",
    "\\begin{equation}\n",
    "P_{L} = I^{2}R_{L} \n",
    "\\end{equation}\n",
    "where $I$ is the current supplied to the load. The current supplied to the load can be calculated by Ohm's law:\n",
    "\\begin{equation}\n",
    "I = \\frac{V}{R_{S}+R_{L}} .\n",
    "\\end{equation}"
   ]
  },
  {
   "cell_type": "markdown",
   "metadata": {},
   "source": [
    "## Pseudocode\n",
    "\n",
    "It is important to always break up our problems down into smaller sections. It is easier to understand, debug and check smaller sectiond of code. This can be done using pseudocode:\n",
    "\n",
    "**Algorithm 1.** *Power Supply*\n",
    "1. Build a list of possible values for the load resistance $R_{L}$. The list will vary $R_{L}$ from $1\\Omega$ to $100 \\Omega$ in $1\\Omega$ steps.\n",
    "2. Calculate the current for each value.\n",
    "3. Calculate the power supplied to the load for each value of $R_{L}$.\n",
    "4. Plot the power supplied to the load for each value of $R_{L}$ and determine the value of load resistance resulting in the maximum power. "
   ]
  },
  {
   "cell_type": "markdown",
   "metadata": {},
   "source": [
    "## Code the function\n",
    "\n",
    "Lets first write a function that calculated the current using Ohm's law. "
   ]
  },
  {
   "cell_type": "code",
   "execution_count": null,
   "metadata": {
    "collapsed": true
   },
   "outputs": [],
   "source": [
    "def current(RL,V,RS):\n",
    "    \"\"\"\n",
    "    Calculate the current given the voltage source with voltage V\n",
    "    and internal resistance RS supplying a load of resistance RL.\n",
    "    \n",
    "    Input: RL = load of resistance (list)\n",
    "         : V = Voltage (floating point number)\n",
    "         : RS = internal resistance (floating point number)\n",
    "    \n",
    "    Output: current (list)\n",
    "    \"\"\"\n",
    "    \n",
    "    n= len(RL)\n",
    "    I = n*[0.0] #initialize I to be a list same size as RL\n",
    "    for j in range(n):\n",
    "        I[j]=V/(RL[j]+RS)\n",
    "    return I"
   ]
  },
  {
   "cell_type": "markdown",
   "metadata": {},
   "source": [
    "**NOTE:** The use of the **for** statement in examples like this is very inefficient and is in general considered to be poor programming practice. When we talk about data structures we will look at more efficient ways to implement such codes. \n",
    "\n",
    "We can now test the fucntion as follows"
   ]
  },
  {
   "cell_type": "code",
   "execution_count": null,
   "metadata": {},
   "outputs": [],
   "source": [
    "RL = list(range(1,6))\n",
    "current(RL, 1.0, 0.0)"
   ]
  },
  {
   "cell_type": "markdown",
   "metadata": {},
   "source": [
    "<font, color='blue'>\n",
    "Lab Book: Is the above output correct? Why or why not? If it is not correct, what modifications must be made to the code to correct it?"
   ]
  },
  {
   "cell_type": "markdown",
   "metadata": {},
   "source": [
    "Lets now calculate the power supplied to the load for each value of $R_{L}$ by implementing the first equation. "
   ]
  },
  {
   "cell_type": "code",
   "execution_count": null,
   "metadata": {
    "collapsed": true
   },
   "outputs": [],
   "source": [
    "def power(I, RL):\n",
    "    \"\"\"\n",
    "    Calculate the power given the load of resistance RL \n",
    "    and I\n",
    "    \n",
    "    Input: RL = load of resistance (list)\n",
    "         : I = current (list)\n",
    "    \n",
    "    Output: power (list)\n",
    "    \"\"\"\n",
    "    \n",
    "    n=len(I)\n",
    "    P=n*[0.0] #initialize P to be a list same size as I\n",
    "    for j in range(n):\n",
    "        P[j]=I[j]**2*RL[j]\n",
    "    return P"
   ]
  },
  {
   "cell_type": "markdown",
   "metadata": {},
   "source": [
    "<font, color='blue'>\n",
    "Lab Book: Is the above code correct? Why or why not? If it is not correct, what modifications must be made to the code to correct it?\n"
   ]
  },
  {
   "cell_type": "markdown",
   "metadata": {},
   "source": [
    "Check the above function using\n",
    "```\n",
    "RL = list(range(1, 6))\n",
    "I = current(RL, 1.0, 0.0)\n",
    "power(I, RL)\n",
    "```"
   ]
  },
  {
   "cell_type": "markdown",
   "metadata": {},
   "source": [
    "Next we define a function to plot our results. "
   ]
  },
  {
   "cell_type": "code",
   "execution_count": null,
   "metadata": {
    "collapsed": true
   },
   "outputs": [],
   "source": [
    "from matplotlib.pyplot import plot, show, title, xlabel, ylabel, grid\n",
    "\n",
    "def power_plot(RL,P):\n",
    "    \"\"\"\n",
    "    Plot the power P versus the load of resistance RL.\n",
    "    \n",
    "    Input: RL = load of resistance (list)\n",
    "         : P = power (list)\n",
    "         \n",
    "    Output: none\n",
    "    \"\"\"\n",
    "    \n",
    "    plot(RL, P)\n",
    "    title('Plot of power versus load resistance')\n",
    "    xlabel('Load resistance (ohms)')\n",
    "    ylabel('Power (watts)')\n",
    "    grid('on')\n",
    "    show()"
   ]
  },
  {
   "cell_type": "markdown",
   "metadata": {},
   "source": [
    "## Putting the code together"
   ]
  },
  {
   "cell_type": "markdown",
   "metadata": {},
   "source": [
    "We can calculate the power.\n",
    "\n",
    "Set the internal resistance to $50\\Omega$. "
   ]
  },
  {
   "cell_type": "code",
   "execution_count": null,
   "metadata": {
    "collapsed": true
   },
   "outputs": [],
   "source": [
    "RS = 50.0"
   ]
  },
  {
   "cell_type": "markdown",
   "metadata": {},
   "source": [
    "Set voltage source to $120\\text{V}$"
   ]
  },
  {
   "cell_type": "code",
   "execution_count": null,
   "metadata": {
    "collapsed": true
   },
   "outputs": [],
   "source": [
    "V = 120.0"
   ]
  },
  {
   "cell_type": "markdown",
   "metadata": {},
   "source": [
    "Creat a list of possible values for the load resistance"
   ]
  },
  {
   "cell_type": "code",
   "execution_count": null,
   "metadata": {
    "collapsed": true
   },
   "outputs": [],
   "source": [
    "RL = list(range(1,101))"
   ]
  },
  {
   "cell_type": "markdown",
   "metadata": {},
   "source": [
    "Calculate the current flow for each load resistance"
   ]
  },
  {
   "cell_type": "code",
   "execution_count": null,
   "metadata": {
    "collapsed": true
   },
   "outputs": [],
   "source": [
    "I = current(RL, V, RS)"
   ]
  },
  {
   "cell_type": "markdown",
   "metadata": {},
   "source": [
    "Calculate the power supplied to the load"
   ]
  },
  {
   "cell_type": "code",
   "execution_count": null,
   "metadata": {},
   "outputs": [],
   "source": [
    "P = power(I,RL)"
   ]
  },
  {
   "cell_type": "markdown",
   "metadata": {},
   "source": [
    "Plot the power versus the load resistance"
   ]
  },
  {
   "cell_type": "code",
   "execution_count": null,
   "metadata": {},
   "outputs": [],
   "source": [
    "power_plot(RL,P)"
   ]
  },
  {
   "cell_type": "markdown",
   "metadata": {},
   "source": [
    "The resulting plot suggests that the maximum power is supplied to the load when the load's resistance is $50\\Omega$. The power supplied to the load at this resistance is 72 Watts. "
   ]
  },
  {
   "cell_type": "markdown",
   "metadata": {},
   "source": [
    "# Exercises"
   ]
  },
  {
   "cell_type": "markdown",
   "metadata": {},
   "source": [
    "If a stationary ball is released at height $h_{0}$ above the surface of the Earth with a vertical velocity $v_{0}$, the position and velocity of the ball as a function of time is given by the kinematic equations of motion (for linear acceleration)\n",
    "\\begin{equation}\n",
    "h(t) = \\frac{1}{2} gt^{2}+v_{0}t+h_{0} \\\\\n",
    "v(t) = gt + v_{0}\n",
    "\\end{equation}\n",
    "where $g$ is the acceleration due to gravity $(-9.81 m/s^{2})$, $h$ is the height above the surface of the Earth (assuming no air friction), and $v$ is the vertical component of the velocity. The aim of this exercise is to write a Python program that takes the initial height of the ball in metres and velocity of the ball in metres per second, and plots the velocity versus height for $0\\leq t\\leq 20$.\n",
    "\n",
    "1. Write a pseudocode (algorithm) that breaks the problem down into smaller subproblems. Similar to what was done in the **Pseudocode** section.\n",
    "2. Implement each subproblem as a function. I recommend you copy the plotting function from before and make necessary modifications.  \n",
    "    Check that each function is working. Talk about the steps you took to verify the function is working. \n",
    "3. Produce a plot of the velocity versus height if $v_{0}=100 m/s$ and $h_{0}=400 m$."
   ]
  },
  {
   "cell_type": "markdown",
   "metadata": {},
   "source": [
    "# Examples of Good Programming Practice\n",
    "\n",
    "The following lists some examples of what are considered to be good programing practices. They\n",
    "are very useful habits to pick-up and will save you a lot of time and frustration, especially when\n",
    "we look at more complicated programs.\n",
    "\n",
    "* Use functions. This helps to break the problem down into smaller sections. It is easier to understand and debug a small section of code. It also allows you to reuse parts of your code. If each function is narrowly focused and responsible for one particular aspect of your code, you are less likely to get a cascade of errors, which is very difficult to debug.\n",
    "* Rerun your code often. When learning a new language you may want to run your code every time you make a change (I do). That way you can easily track down the source of any bugs. Even when you become familiar with the language, it pays to compile and run your code regularly. It helps to narrow down the parts of the code you have to look at when you get syntax errors.\n",
    "* Use the mathematics. Even if you don’t know what the exact solution is, the mathematics will often tell you about some of the properties of the solution. For example, if you get a negative answer when calculating the standard deviation something has gone wrong.\n",
    "* Write a pseudocode first. This allows you to focus on the logic of the problem. It also helps you structure the flow of information. That is, what do you need to pass into a function and what information do you need to get out it.\n",
    "* Format your code. You should use spaces, comments, meaningful variable names etc. to make the code easier for a human to read. It will save you a lot of time if you want to ask someone else for help. It also forces you to better structure the code."
   ]
  }
 ],
 "metadata": {
  "anaconda-cloud": {},
  "kernelspec": {
   "display_name": "Python 3",
   "language": "python",
   "name": "python3"
  },
  "language_info": {
   "codemirror_mode": {
    "name": "ipython",
    "version": 3
   },
   "file_extension": ".py",
   "mimetype": "text/x-python",
   "name": "python",
   "nbconvert_exporter": "python",
   "pygments_lexer": "ipython3",
   "version": "3.6.4"
  }
 },
 "nbformat": 4,
 "nbformat_minor": 1
}
