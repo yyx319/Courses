{
 "cells": [
  {
   "cell_type": "markdown",
   "metadata": {},
   "source": [
    "# Installing Python\n",
    "\n",
    "Read the installation instruction on  \n",
    "https://www.python.org/downloads/"
   ]
  },
  {
   "cell_type": "markdown",
   "metadata": {},
   "source": [
    "# Virtualenv\n",
    "\n",
    "Using Virtualenv, we can make a nice workspace with full admin rights and not have to worry about the system. \n",
    "\n",
    "You can read more about it  \n",
    "https://virtualenv.pypa.io/en/stable/#"
   ]
  },
  {
   "cell_type": "markdown",
   "metadata": {},
   "source": [
    "# Jupyter Notebooks\n",
    "\n",
    "You can read about Jupyter notebooks here  \n",
    "http://jupyter.org/\n",
    "\n",
    "You can also try out the notebook in your browser before installing it.  \n",
    "Anaconda (https://www.continuum.io/downloads) will automatically install Jupyter and Python on your machine. "
   ]
  },
  {
   "cell_type": "markdown",
   "metadata": {},
   "source": [
    "# Introduction"
   ]
  },
  {
   "cell_type": "markdown",
   "metadata": {},
   "source": [
    "These exercises are intended to introduce you to the computer programming language Python, as well as give programming tips that will help when working through some of the later tutorials. The concepts that will be covered include\n",
    "* The use of functions,\n",
    "* translation of algorithms to code,\n",
    "* the formatting of code,\n",
    "* tips for methodically writing code,\n",
    "* advice on how to check code.  \n",
    "\n",
    "One important concept in Python not addressed in this tutorial is data types. We will discuss data types in the linear algebra tutorial.  \n",
    "By the end of this tutorial you should have checked that your computer account is working and you will have practiced using the Jupyter notebooks and Python.  \n",
    "Along the way, questions will be asked. You should provide answers to these questions in your lab book. Marks for these questions will be awarded based on the work presented in your lab book.  \n",
    "Remember this is a mathematics course. The aim is not for you to prove you can produce some sort of output, you must also show that you understand the output. When you have results in your lab book, it is a good idea to include a small discussion about your output. Are the results what you expected? Why or why not? How did you verify your results? What might be some of the reasons why the results are incorrect? During the course we will introduce you to terminology and techniques to help you answer these questions. If you just print the output, you will not be awarded full marks. "
   ]
  },
  {
   "cell_type": "markdown",
   "metadata": {},
   "source": [
    "## Login\n",
    "\n",
    "The lab computers run Linux. Once in the start menu, just search for Jupyter and start the Jupyter notebook.  \n",
    "If you're using your own machine, then you should be familiar with how to start Jupyter Notebook (but if you aren't, please ask for help). "
   ]
  },
  {
   "cell_type": "markdown",
   "metadata": {},
   "source": [
    "# Basic Python"
   ]
  },
  {
   "cell_type": "markdown",
   "metadata": {},
   "source": [
    "## Python as a calculator\n",
    "\n",
    "Python can be used as a simple calculator. For example addition, multiplication, exponentiation and others."
   ]
  },
  {
   "cell_type": "code",
   "execution_count": 1,
   "metadata": {},
   "outputs": [
    {
     "data": {
      "text/plain": [
       "2"
      ]
     },
     "execution_count": 1,
     "metadata": {},
     "output_type": "execute_result"
    }
   ],
   "source": [
    "1+1"
   ]
  },
  {
   "cell_type": "code",
   "execution_count": 2,
   "metadata": {},
   "outputs": [
    {
     "data": {
      "text/plain": [
       "1508276"
      ]
     },
     "execution_count": 2,
     "metadata": {},
     "output_type": "execute_result"
    }
   ],
   "source": [
    "154*9794"
   ]
  },
  {
   "cell_type": "code",
   "execution_count": 3,
   "metadata": {},
   "outputs": [
    {
     "data": {
      "text/plain": [
       "8"
      ]
     },
     "execution_count": 3,
     "metadata": {},
     "output_type": "execute_result"
    }
   ],
   "source": [
    "2**3"
   ]
  },
  {
   "cell_type": "code",
   "execution_count": 13,
   "metadata": {},
   "outputs": [
    {
     "data": {
      "text/plain": [
       "6"
      ]
     },
     "execution_count": 13,
     "metadata": {},
     "output_type": "execute_result"
    }
   ],
   "source": [
    "2^4"
   ]
  },
  {
   "cell_type": "markdown",
   "metadata": {},
   "source": [
    "The above is the binary XOR operator. It compares the binary digits of the inputs and produces an output (look this up and try to understand it, ask your tutor in the lab to see if you get it). "
   ]
  },
  {
   "cell_type": "code",
   "execution_count": 14,
   "metadata": {},
   "outputs": [
    {
     "data": {
      "text/plain": [
       "0.2"
      ]
     },
     "execution_count": 14,
     "metadata": {},
     "output_type": "execute_result"
    }
   ],
   "source": [
    "1.0/5.0"
   ]
  },
  {
   "cell_type": "markdown",
   "metadata": {},
   "source": [
    "## Conditional Statements"
   ]
  },
  {
   "cell_type": "markdown",
   "metadata": {},
   "source": [
    "Often we only need to do something once certain criteria are met. For these situations python has the **if** statements."
   ]
  },
  {
   "cell_type": "code",
   "execution_count": 15,
   "metadata": {},
   "outputs": [
    {
     "name": "stdout",
     "output_type": "stream",
     "text": [
      "x is less than 30\n"
     ]
    }
   ],
   "source": [
    "x=10\n",
    "if x<30:\n",
    "    print(\"x is less than 30\")"
   ]
  },
  {
   "cell_type": "markdown",
   "metadata": {},
   "source": [
    "Notice that the line after the **if** statement is indented. Python uses white space to organize code, so you must be careful to use whitespace correctly (often when my code gives an error, it's because of whitespace). You can use tabs or spaces for whitespace, but you must be consistent or problems will occur. Fortunately, jupyter automatically adds tabs after conditional statements, making life easier for us.  \n",
    "\n",
    "You can also check multiple conditions using **elif** and **else**"
   ]
  },
  {
   "cell_type": "code",
   "execution_count": 16,
   "metadata": {},
   "outputs": [
    {
     "name": "stdout",
     "output_type": "stream",
     "text": [
      "x is less than 50 and bigger than 0\n"
     ]
    }
   ],
   "source": [
    "if x<0:\n",
    "    print(\"x is less than 0\")\n",
    "elif x<50:\n",
    "    print(\"x is less than 50 and bigger than 0\")\n",
    "else:\n",
    "    print(\"Ahhhhhhh\")"
   ]
  },
  {
   "cell_type": "markdown",
   "metadata": {},
   "source": [
    "## Loops"
   ]
  },
  {
   "cell_type": "markdown",
   "metadata": {},
   "source": [
    "Other things you will want/need to do, is to iterate or repeat sections of code. You can do this using a **for** or **while** loop"
   ]
  },
  {
   "cell_type": "code",
   "execution_count": 17,
   "metadata": {},
   "outputs": [
    {
     "name": "stdout",
     "output_type": "stream",
     "text": [
      "0\n",
      "1\n",
      "2\n",
      "3\n",
      "4\n",
      "5\n",
      "6\n",
      "7\n",
      "8\n",
      "9\n"
     ]
    }
   ],
   "source": [
    "for i in range(10):\n",
    "    print(i)"
   ]
  },
  {
   "cell_type": "code",
   "execution_count": 18,
   "metadata": {},
   "outputs": [
    {
     "name": "stdout",
     "output_type": "stream",
     "text": [
      "0\n",
      "1\n",
      "2\n",
      "3\n",
      "4\n",
      "5\n",
      "6\n",
      "7\n",
      "8\n",
      "9\n"
     ]
    }
   ],
   "source": [
    "i=0\n",
    "while i<10:\n",
    "    print(i)\n",
    "    i+=1"
   ]
  },
  {
   "cell_type": "code",
   "execution_count": 36,
   "metadata": {},
   "outputs": [
    {
     "name": "stdout",
     "output_type": "stream",
     "text": [
      "5\n",
      "345\n",
      "0.6\n",
      "g\n"
     ]
    }
   ],
   "source": [
    "for i in [5, 345, 0.6, 'g']:\n",
    "    print(i)"
   ]
  },
  {
   "cell_type": "markdown",
   "metadata": {},
   "source": [
    "Notice that both cells produce the same output. As you'll come to learn over the course, there's more than one way to do something. "
   ]
  },
  {
   "cell_type": "markdown",
   "metadata": {},
   "source": [
    "In the above example we used the **range** function (this is a built-in function in python). To learn more about this function (and of course others), we can always use the **help** command which will print a description of the function.  \n",
    "You can also always look things up on google."
   ]
  },
  {
   "cell_type": "code",
   "execution_count": 19,
   "metadata": {},
   "outputs": [
    {
     "name": "stdout",
     "output_type": "stream",
     "text": [
      "Help on class range in module builtins:\n",
      "\n",
      "class range(object)\n",
      " |  range(stop) -> range object\n",
      " |  range(start, stop[, step]) -> range object\n",
      " |  \n",
      " |  Return an object that produces a sequence of integers from start (inclusive)\n",
      " |  to stop (exclusive) by step.  range(i, j) produces i, i+1, i+2, ..., j-1.\n",
      " |  start defaults to 0, and stop is omitted!  range(4) produces 0, 1, 2, 3.\n",
      " |  These are exactly the valid indices for a list of 4 elements.\n",
      " |  When step is given, it specifies the increment (or decrement).\n",
      " |  \n",
      " |  Methods defined here:\n",
      " |  \n",
      " |  __bool__(self, /)\n",
      " |      self != 0\n",
      " |  \n",
      " |  __contains__(self, key, /)\n",
      " |      Return key in self.\n",
      " |  \n",
      " |  __eq__(self, value, /)\n",
      " |      Return self==value.\n",
      " |  \n",
      " |  __ge__(self, value, /)\n",
      " |      Return self>=value.\n",
      " |  \n",
      " |  __getattribute__(self, name, /)\n",
      " |      Return getattr(self, name).\n",
      " |  \n",
      " |  __getitem__(self, key, /)\n",
      " |      Return self[key].\n",
      " |  \n",
      " |  __gt__(self, value, /)\n",
      " |      Return self>value.\n",
      " |  \n",
      " |  __hash__(self, /)\n",
      " |      Return hash(self).\n",
      " |  \n",
      " |  __iter__(self, /)\n",
      " |      Implement iter(self).\n",
      " |  \n",
      " |  __le__(self, value, /)\n",
      " |      Return self<=value.\n",
      " |  \n",
      " |  __len__(self, /)\n",
      " |      Return len(self).\n",
      " |  \n",
      " |  __lt__(self, value, /)\n",
      " |      Return self<value.\n",
      " |  \n",
      " |  __ne__(self, value, /)\n",
      " |      Return self!=value.\n",
      " |  \n",
      " |  __new__(*args, **kwargs) from builtins.type\n",
      " |      Create and return a new object.  See help(type) for accurate signature.\n",
      " |  \n",
      " |  __reduce__(...)\n",
      " |      helper for pickle\n",
      " |  \n",
      " |  __repr__(self, /)\n",
      " |      Return repr(self).\n",
      " |  \n",
      " |  __reversed__(...)\n",
      " |      Return a reverse iterator.\n",
      " |  \n",
      " |  count(...)\n",
      " |      rangeobject.count(value) -> integer -- return number of occurrences of value\n",
      " |  \n",
      " |  index(...)\n",
      " |      rangeobject.index(value, [start, [stop]]) -> integer -- return index of value.\n",
      " |      Raise ValueError if the value is not present.\n",
      " |  \n",
      " |  ----------------------------------------------------------------------\n",
      " |  Data descriptors defined here:\n",
      " |  \n",
      " |  start\n",
      " |  \n",
      " |  step\n",
      " |  \n",
      " |  stop\n",
      "\n"
     ]
    }
   ],
   "source": [
    "help(range)"
   ]
  },
  {
   "cell_type": "markdown",
   "metadata": {},
   "source": [
    "From the above help section, we can see that the **range** function builds a list given input values of **start**, **stop**, and **step**. Let's try exploring this function a little more. "
   ]
  },
  {
   "cell_type": "code",
   "execution_count": 20,
   "metadata": {},
   "outputs": [
    {
     "name": "stdout",
     "output_type": "stream",
     "text": [
      "range(0, 5)\n"
     ]
    }
   ],
   "source": [
    "print(range(5))"
   ]
  },
  {
   "cell_type": "code",
   "execution_count": 21,
   "metadata": {},
   "outputs": [
    {
     "name": "stdout",
     "output_type": "stream",
     "text": [
      "[0, 1, 2, 3, 4]\n"
     ]
    }
   ],
   "source": [
    "print(list(range(5)))"
   ]
  },
  {
   "cell_type": "code",
   "execution_count": 22,
   "metadata": {},
   "outputs": [],
   "source": [
    "A = list(range(15))"
   ]
  },
  {
   "cell_type": "code",
   "execution_count": 23,
   "metadata": {},
   "outputs": [
    {
     "name": "stdout",
     "output_type": "stream",
     "text": [
      "[0, 1, 2, 3, 4, 5, 6, 7, 8, 9, 10, 11, 12, 13, 14]\n"
     ]
    }
   ],
   "source": [
    "print(A)"
   ]
  },
  {
   "cell_type": "markdown",
   "metadata": {},
   "source": [
    "Notice that the upper bound in range, is non-inclusive"
   ]
  },
  {
   "cell_type": "code",
   "execution_count": 24,
   "metadata": {},
   "outputs": [
    {
     "data": {
      "text/plain": [
       "[-5, -2, 1, 4, 7, 10]"
      ]
     },
     "execution_count": 24,
     "metadata": {},
     "output_type": "execute_result"
    }
   ],
   "source": [
    "B=list(range(-5,13,3))\n",
    "B"
   ]
  },
  {
   "cell_type": "markdown",
   "metadata": {},
   "source": [
    "You can specify sections of a list using slice notation, like so:"
   ]
  },
  {
   "cell_type": "code",
   "execution_count": 25,
   "metadata": {},
   "outputs": [
    {
     "data": {
      "text/plain": [
       "1"
      ]
     },
     "execution_count": 25,
     "metadata": {},
     "output_type": "execute_result"
    }
   ],
   "source": [
    "A[1] #why is this not 0?"
   ]
  },
  {
   "cell_type": "code",
   "execution_count": 26,
   "metadata": {},
   "outputs": [
    {
     "data": {
      "text/plain": [
       "[3, 4, 5]"
      ]
     },
     "execution_count": 26,
     "metadata": {},
     "output_type": "execute_result"
    }
   ],
   "source": [
    "A[3:6]"
   ]
  },
  {
   "cell_type": "code",
   "execution_count": 27,
   "metadata": {},
   "outputs": [
    {
     "data": {
      "text/plain": [
       "[0, 1, 2, 3, 4, 5, 6]"
      ]
     },
     "execution_count": 27,
     "metadata": {},
     "output_type": "execute_result"
    }
   ],
   "source": [
    "A[:7]"
   ]
  },
  {
   "cell_type": "code",
   "execution_count": 28,
   "metadata": {},
   "outputs": [
    {
     "data": {
      "text/plain": [
       "[11, 12, 13, 14]"
      ]
     },
     "execution_count": 28,
     "metadata": {},
     "output_type": "execute_result"
    }
   ],
   "source": [
    "A[-4:]"
   ]
  },
  {
   "cell_type": "markdown",
   "metadata": {},
   "source": [
    "To find the length of a list, use the **len** function"
   ]
  },
  {
   "cell_type": "code",
   "execution_count": 29,
   "metadata": {},
   "outputs": [
    {
     "data": {
      "text/plain": [
       "6"
      ]
     },
     "execution_count": 29,
     "metadata": {},
     "output_type": "execute_result"
    }
   ],
   "source": [
    "len(B)"
   ]
  },
  {
   "cell_type": "markdown",
   "metadata": {},
   "source": [
    "## Functions"
   ]
  },
  {
   "cell_type": "markdown",
   "metadata": {},
   "source": [
    "To define a function in python that we can reuse, the **def** keyword is used"
   ]
  },
  {
   "cell_type": "code",
   "execution_count": 30,
   "metadata": {},
   "outputs": [],
   "source": [
    "def f(y):\n",
    "    return y**2"
   ]
  },
  {
   "cell_type": "code",
   "execution_count": 31,
   "metadata": {},
   "outputs": [
    {
     "name": "stdout",
     "output_type": "stream",
     "text": [
      "9 16 862714384\n"
     ]
    }
   ],
   "source": [
    "print(f(3), f(4), f(29372))"
   ]
  },
  {
   "cell_type": "markdown",
   "metadata": {},
   "source": [
    "The **return** keyword causes the function to stop and give back a value to whatever called it. In this case, it squares whatever argument is given to it.  \n",
    "It always a good idea to document your code and describe what it's doing and why. This allows other people (and yourself later on!!) to understand what the code is doing, and to modify or fix it. To do this add comments to the code by writing a **#**, then everything till the end of the line is ignored by Python."
   ]
  },
  {
   "cell_type": "markdown",
   "metadata": {},
   "source": [
    "As an example of how all this can tie together, here's one way you might calculate the exponential function $e^{x}$"
   ]
  },
  {
   "cell_type": "code",
   "execution_count": 32,
   "metadata": {},
   "outputs": [],
   "source": [
    "def ex(x):\n",
    "    \"\"\"\n",
    "    Calculate exponential from the taylor series\n",
    "    \"\"\"\n",
    "    \n",
    "    ans=0.0\n",
    "    n=1.0\n",
    "    term=1.0\n",
    "    while ans+term != ans:        # != means \"not equal to\"\n",
    "        ans = ans + term\n",
    "        term = term*(x/n)\n",
    "        n = n+1\n",
    "    return ans    "
   ]
  },
  {
   "cell_type": "code",
   "execution_count": null,
   "metadata": {},
   "outputs": [],
   "source": []
  },
  {
   "cell_type": "markdown",
   "metadata": {},
   "source": [
    "The comments between the two \"\"\" characters are documentation strings and they differ from standard comments in that they provide a way of associating documentation with a Python function. For example, see what happens when you run the next cell."
   ]
  },
  {
   "cell_type": "code",
   "execution_count": 33,
   "metadata": {},
   "outputs": [
    {
     "name": "stdout",
     "output_type": "stream",
     "text": [
      "Help on function ex in module __main__:\n",
      "\n",
      "ex(x)\n",
      "    Calculate exponential from the taylor series\n",
      "\n"
     ]
    }
   ],
   "source": [
    "help(ex)"
   ]
  },
  {
   "cell_type": "markdown",
   "metadata": {},
   "source": [
    "<font, color=\"blue\">\n",
    "Lab book: Using this program, what is the approximation to $e^{1}, e^{10}$ and $e^{-10}$. What are some techniques you could use to check the output?\n",
    "\n",
    "Lab Book: The Taylor series expansion of the exponential is \n",
    "$$\n",
    "e^{x} = \\sum_{i=0}^{\\infty} \\frac{x^{i}}{i!}\n",
    "$$\n",
    "When writing code to implement Taylor series expansion, we can't sum to $\\infty$, explain what's been done in the above code to get around this problem. "
   ]
  },
  {
   "cell_type": "code",
   "execution_count": 35,
   "metadata": {},
   "outputs": [
    {
     "name": "stdout",
     "output_type": "stream",
     "text": [
      "2.7182818284590455 22026.465794806714 4.539992967040021e-05\n"
     ]
    }
   ],
   "source": [
    "print(ex(1),ex(10),ex(-10))"
   ]
  },
  {
   "cell_type": "markdown",
   "metadata": {},
   "source": [
    "## Python Modules"
   ]
  },
  {
   "cell_type": "markdown",
   "metadata": {},
   "source": [
    "To make Python more than a calculator while avoiding writing functions to do everything yourself, you use code that other people have written. To do this, you need import modules. Many modules come with Python, others need to be installed, and some you may even have to write yourself. "
   ]
  },
  {
   "cell_type": "markdown",
   "metadata": {},
   "source": [
    "The first way to import something is with the **import** command. "
   ]
  },
  {
   "cell_type": "code",
   "execution_count": 37,
   "metadata": {},
   "outputs": [],
   "source": [
    "import math"
   ]
  },
  {
   "cell_type": "markdown",
   "metadata": {},
   "source": [
    "To access the functions in the module you have to prefix them with the module name"
   ]
  },
  {
   "cell_type": "code",
   "execution_count": 38,
   "metadata": {},
   "outputs": [
    {
     "data": {
      "text/plain": [
       "2.718281828459045"
      ]
     },
     "execution_count": 38,
     "metadata": {},
     "output_type": "execute_result"
    }
   ],
   "source": [
    "math.exp(1)"
   ]
  },
  {
   "cell_type": "markdown",
   "metadata": {},
   "source": [
    "To avoid excessive typing you can also **import ... as**"
   ]
  },
  {
   "cell_type": "code",
   "execution_count": 39,
   "metadata": {},
   "outputs": [],
   "source": [
    "import math as m"
   ]
  },
  {
   "cell_type": "code",
   "execution_count": 40,
   "metadata": {},
   "outputs": [
    {
     "data": {
      "text/plain": [
       "2.718281828459045"
      ]
     },
     "execution_count": 40,
     "metadata": {},
     "output_type": "execute_result"
    }
   ],
   "source": [
    "m.exp(1)"
   ]
  },
  {
   "cell_type": "markdown",
   "metadata": {},
   "source": [
    "if you know exactly which function you want from the module, you can use **from ... import**"
   ]
  },
  {
   "cell_type": "code",
   "execution_count": 41,
   "metadata": {},
   "outputs": [],
   "source": [
    "from math import exp"
   ]
  },
  {
   "cell_type": "code",
   "execution_count": 42,
   "metadata": {},
   "outputs": [
    {
     "data": {
      "text/plain": [
       "2.718281828459045"
      ]
     },
     "execution_count": 42,
     "metadata": {},
     "output_type": "execute_result"
    }
   ],
   "source": [
    "exp(1)"
   ]
  },
  {
   "cell_type": "markdown",
   "metadata": {},
   "source": [
    "## Installing python modules (PIP)\n",
    "\n",
    "Installing modules in python is pretty simple with pip. \n",
    "You can read more info on  \n",
    "https://pip.pypa.io/en/stable/#"
   ]
  },
  {
   "cell_type": "markdown",
   "metadata": {},
   "source": [
    "One of the most useful python modules (for scientific computing), is NumPy.  \n",
    "You can read more about it (and find tutorial and all sorts of resources) here  \n",
    "http://www.numpy.org/  \n",
    "https://docs.scipy.org/doc/"
   ]
  },
  {
   "cell_type": "markdown",
   "metadata": {},
   "source": [
    "We can use NumPy to define (multidimensional) arrays. This is normally how we do linear algebra in Python with Matrices and Vectors.  \n",
    "For example,"
   ]
  },
  {
   "cell_type": "code",
   "execution_count": 43,
   "metadata": {},
   "outputs": [],
   "source": [
    "import numpy as np"
   ]
  },
  {
   "cell_type": "code",
   "execution_count": 44,
   "metadata": {},
   "outputs": [],
   "source": [
    "#define a new 3x3 matrix\n",
    "A = np.array([[1,2,3],[4,5,6],[7,8,9]])"
   ]
  },
  {
   "cell_type": "code",
   "execution_count": 45,
   "metadata": {},
   "outputs": [
    {
     "name": "stdout",
     "output_type": "stream",
     "text": [
      "[[1 2 3]\n",
      " [4 5 6]\n",
      " [7 8 9]]\n"
     ]
    }
   ],
   "source": [
    "print(A)"
   ]
  },
  {
   "cell_type": "code",
   "execution_count": 46,
   "metadata": {},
   "outputs": [],
   "source": [
    "#lets define a vector\n",
    "x = np.array([1,2,3])"
   ]
  },
  {
   "cell_type": "markdown",
   "metadata": {},
   "source": [
    "Lets try and find the product $Ax$"
   ]
  },
  {
   "cell_type": "code",
   "execution_count": 47,
   "metadata": {},
   "outputs": [],
   "source": [
    "#find the matrix vector product of A and x\n",
    "b = A*x"
   ]
  },
  {
   "cell_type": "code",
   "execution_count": 48,
   "metadata": {},
   "outputs": [
    {
     "name": "stdout",
     "output_type": "stream",
     "text": [
      "[[ 1  4  9]\n",
      " [ 4 10 18]\n",
      " [ 7 16 27]]\n"
     ]
    }
   ],
   "source": [
    "print(b)"
   ]
  },
  {
   "cell_type": "markdown",
   "metadata": {},
   "source": [
    "What this has done is multiplied the columns of $A$ with the components of $x$. To find the matrix vector product $Ax$ we can use NumPy"
   ]
  },
  {
   "cell_type": "code",
   "execution_count": 49,
   "metadata": {},
   "outputs": [],
   "source": [
    "b = np.dot(A,x)"
   ]
  },
  {
   "cell_type": "code",
   "execution_count": 50,
   "metadata": {},
   "outputs": [
    {
     "name": "stdout",
     "output_type": "stream",
     "text": [
      "[14 32 50]\n"
     ]
    }
   ],
   "source": [
    "print(b)"
   ]
  },
  {
   "cell_type": "markdown",
   "metadata": {},
   "source": [
    "## The Help Command\n",
    "\n",
    "Python Modules will usually come with documentation describing what functions are available, what they do, and how to use them. To access this, we use the **help** command (as done above).  \n",
    "To find out what is in a module, simply do **help(modulename)**, for example"
   ]
  },
  {
   "cell_type": "code",
   "execution_count": 51,
   "metadata": {},
   "outputs": [
    {
     "name": "stdout",
     "output_type": "stream",
     "text": [
      "Help on built-in module math:\n",
      "\n",
      "NAME\n",
      "    math\n",
      "\n",
      "DESCRIPTION\n",
      "    This module is always available.  It provides access to the\n",
      "    mathematical functions defined by the C standard.\n",
      "\n",
      "FUNCTIONS\n",
      "    acos(...)\n",
      "        acos(x)\n",
      "        \n",
      "        Return the arc cosine (measured in radians) of x.\n",
      "    \n",
      "    acosh(...)\n",
      "        acosh(x)\n",
      "        \n",
      "        Return the inverse hyperbolic cosine of x.\n",
      "    \n",
      "    asin(...)\n",
      "        asin(x)\n",
      "        \n",
      "        Return the arc sine (measured in radians) of x.\n",
      "    \n",
      "    asinh(...)\n",
      "        asinh(x)\n",
      "        \n",
      "        Return the inverse hyperbolic sine of x.\n",
      "    \n",
      "    atan(...)\n",
      "        atan(x)\n",
      "        \n",
      "        Return the arc tangent (measured in radians) of x.\n",
      "    \n",
      "    atan2(...)\n",
      "        atan2(y, x)\n",
      "        \n",
      "        Return the arc tangent (measured in radians) of y/x.\n",
      "        Unlike atan(y/x), the signs of both x and y are considered.\n",
      "    \n",
      "    atanh(...)\n",
      "        atanh(x)\n",
      "        \n",
      "        Return the inverse hyperbolic tangent of x.\n",
      "    \n",
      "    ceil(...)\n",
      "        ceil(x)\n",
      "        \n",
      "        Return the ceiling of x as an Integral.\n",
      "        This is the smallest integer >= x.\n",
      "    \n",
      "    copysign(...)\n",
      "        copysign(x, y)\n",
      "        \n",
      "        Return a float with the magnitude (absolute value) of x but the sign \n",
      "        of y. On platforms that support signed zeros, copysign(1.0, -0.0) \n",
      "        returns -1.0.\n",
      "    \n",
      "    cos(...)\n",
      "        cos(x)\n",
      "        \n",
      "        Return the cosine of x (measured in radians).\n",
      "    \n",
      "    cosh(...)\n",
      "        cosh(x)\n",
      "        \n",
      "        Return the hyperbolic cosine of x.\n",
      "    \n",
      "    degrees(...)\n",
      "        degrees(x)\n",
      "        \n",
      "        Convert angle x from radians to degrees.\n",
      "    \n",
      "    erf(...)\n",
      "        erf(x)\n",
      "        \n",
      "        Error function at x.\n",
      "    \n",
      "    erfc(...)\n",
      "        erfc(x)\n",
      "        \n",
      "        Complementary error function at x.\n",
      "    \n",
      "    exp(...)\n",
      "        exp(x)\n",
      "        \n",
      "        Return e raised to the power of x.\n",
      "    \n",
      "    expm1(...)\n",
      "        expm1(x)\n",
      "        \n",
      "        Return exp(x)-1.\n",
      "        This function avoids the loss of precision involved in the direct evaluation of exp(x)-1 for small x.\n",
      "    \n",
      "    fabs(...)\n",
      "        fabs(x)\n",
      "        \n",
      "        Return the absolute value of the float x.\n",
      "    \n",
      "    factorial(...)\n",
      "        factorial(x) -> Integral\n",
      "        \n",
      "        Find x!. Raise a ValueError if x is negative or non-integral.\n",
      "    \n",
      "    floor(...)\n",
      "        floor(x)\n",
      "        \n",
      "        Return the floor of x as an Integral.\n",
      "        This is the largest integer <= x.\n",
      "    \n",
      "    fmod(...)\n",
      "        fmod(x, y)\n",
      "        \n",
      "        Return fmod(x, y), according to platform C.  x % y may differ.\n",
      "    \n",
      "    frexp(...)\n",
      "        frexp(x)\n",
      "        \n",
      "        Return the mantissa and exponent of x, as pair (m, e).\n",
      "        m is a float and e is an int, such that x = m * 2.**e.\n",
      "        If x is 0, m and e are both 0.  Else 0.5 <= abs(m) < 1.0.\n",
      "    \n",
      "    fsum(...)\n",
      "        fsum(iterable)\n",
      "        \n",
      "        Return an accurate floating point sum of values in the iterable.\n",
      "        Assumes IEEE-754 floating point arithmetic.\n",
      "    \n",
      "    gamma(...)\n",
      "        gamma(x)\n",
      "        \n",
      "        Gamma function at x.\n",
      "    \n",
      "    gcd(...)\n",
      "        gcd(x, y) -> int\n",
      "        greatest common divisor of x and y\n",
      "    \n",
      "    hypot(...)\n",
      "        hypot(x, y)\n",
      "        \n",
      "        Return the Euclidean distance, sqrt(x*x + y*y).\n",
      "    \n",
      "    isclose(...)\n",
      "        isclose(a, b, *, rel_tol=1e-09, abs_tol=0.0) -> bool\n",
      "        \n",
      "        Determine whether two floating point numbers are close in value.\n",
      "        \n",
      "           rel_tol\n",
      "               maximum difference for being considered \"close\", relative to the\n",
      "               magnitude of the input values\n",
      "            abs_tol\n",
      "               maximum difference for being considered \"close\", regardless of the\n",
      "               magnitude of the input values\n",
      "        \n",
      "        Return True if a is close in value to b, and False otherwise.\n",
      "        \n",
      "        For the values to be considered close, the difference between them\n",
      "        must be smaller than at least one of the tolerances.\n",
      "        \n",
      "        -inf, inf and NaN behave similarly to the IEEE 754 Standard.  That\n",
      "        is, NaN is not close to anything, even itself.  inf and -inf are\n",
      "        only close to themselves.\n",
      "    \n",
      "    isfinite(...)\n",
      "        isfinite(x) -> bool\n",
      "        \n",
      "        Return True if x is neither an infinity nor a NaN, and False otherwise.\n",
      "    \n",
      "    isinf(...)\n",
      "        isinf(x) -> bool\n",
      "        \n",
      "        Return True if x is a positive or negative infinity, and False otherwise.\n",
      "    \n",
      "    isnan(...)\n",
      "        isnan(x) -> bool\n",
      "        \n",
      "        Return True if x is a NaN (not a number), and False otherwise.\n",
      "    \n",
      "    ldexp(...)\n",
      "        ldexp(x, i)\n",
      "        \n",
      "        Return x * (2**i).\n",
      "    \n",
      "    lgamma(...)\n",
      "        lgamma(x)\n",
      "        \n",
      "        Natural logarithm of absolute value of Gamma function at x.\n",
      "    \n",
      "    log(...)\n",
      "        log(x[, base])\n",
      "        \n",
      "        Return the logarithm of x to the given base.\n",
      "        If the base not specified, returns the natural logarithm (base e) of x.\n",
      "    \n",
      "    log10(...)\n",
      "        log10(x)\n",
      "        \n",
      "        Return the base 10 logarithm of x.\n",
      "    \n",
      "    log1p(...)\n",
      "        log1p(x)\n",
      "        \n",
      "        Return the natural logarithm of 1+x (base e).\n",
      "        The result is computed in a way which is accurate for x near zero.\n",
      "    \n",
      "    log2(...)\n",
      "        log2(x)\n",
      "        \n",
      "        Return the base 2 logarithm of x.\n",
      "    \n",
      "    modf(...)\n",
      "        modf(x)\n",
      "        \n",
      "        Return the fractional and integer parts of x.  Both results carry the sign\n",
      "        of x and are floats.\n",
      "    \n",
      "    pow(...)\n",
      "        pow(x, y)\n",
      "        \n",
      "        Return x**y (x to the power of y).\n",
      "    \n",
      "    radians(...)\n",
      "        radians(x)\n",
      "        \n",
      "        Convert angle x from degrees to radians.\n",
      "    \n",
      "    sin(...)\n",
      "        sin(x)\n",
      "        \n",
      "        Return the sine of x (measured in radians).\n",
      "    \n",
      "    sinh(...)\n",
      "        sinh(x)\n",
      "        \n",
      "        Return the hyperbolic sine of x.\n",
      "    \n",
      "    sqrt(...)\n",
      "        sqrt(x)\n",
      "        \n",
      "        Return the square root of x.\n",
      "    \n",
      "    tan(...)\n",
      "        tan(x)\n",
      "        \n",
      "        Return the tangent of x (measured in radians).\n",
      "    \n",
      "    tanh(...)\n",
      "        tanh(x)\n",
      "        \n",
      "        Return the hyperbolic tangent of x.\n",
      "    \n",
      "    trunc(...)\n",
      "        trunc(x:Real) -> Integral\n",
      "        \n",
      "        Truncates x to the nearest Integral toward 0. Uses the __trunc__ magic method.\n",
      "\n",
      "DATA\n",
      "    e = 2.718281828459045\n",
      "    inf = inf\n",
      "    nan = nan\n",
      "    pi = 3.141592653589793\n",
      "    tau = 6.283185307179586\n",
      "\n",
      "FILE\n",
      "    (built-in)\n",
      "\n",
      "\n"
     ]
    }
   ],
   "source": [
    "import math\n",
    "help(math)"
   ]
  },
  {
   "cell_type": "markdown",
   "metadata": {},
   "source": [
    "The above lists all the function available in the math module. To find out how to use a specific function, do **help(functionname)**, for example"
   ]
  },
  {
   "cell_type": "code",
   "execution_count": 52,
   "metadata": {},
   "outputs": [
    {
     "name": "stdout",
     "output_type": "stream",
     "text": [
      "Help on built-in function log in module math:\n",
      "\n",
      "log(...)\n",
      "    log(x[, base])\n",
      "    \n",
      "    Return the logarithm of x to the given base.\n",
      "    If the base not specified, returns the natural logarithm (base e) of x.\n",
      "\n"
     ]
    }
   ],
   "source": [
    "help(math.log)"
   ]
  },
  {
   "cell_type": "markdown",
   "metadata": {},
   "source": [
    "Some functions will have arguments in brackets, like so\n",
    "\n",
    "```\n",
    "log(x[,base])\n",
    "```\n",
    "\n",
    "This means that the *base* argument is optional. If a function lists an argument with and assigned value, it also means it is optional, and that if you do not specify the argument that it will use a default value instead. \n",
    "\n",
    "If you don't know where to look for a function or what it is called, it might be best just to search the internet or documentation for things like NumPy and MatPlotLib. "
   ]
  },
  {
   "cell_type": "markdown",
   "metadata": {},
   "source": [
    "# Example Problems"
   ]
  },
  {
   "cell_type": "markdown",
   "metadata": {},
   "source": [
    "In the example below, there is a question asked and answered. Try to understand what's being done. Look up any unfamiliar parts of the code. Try to explain what you think is being done to someone in the lab. "
   ]
  },
  {
   "cell_type": "markdown",
   "metadata": {},
   "source": [
    "#### Multiples of 5\n",
    "\n",
    "If we list all the natural numbers below 15 that are multiples of 5, we get 5 and 10. The sum of these multiples is 15.\n",
    "\n",
    "Find the sum of all the multiples of 5 below 1000."
   ]
  },
  {
   "cell_type": "code",
   "execution_count": 54,
   "metadata": {},
   "outputs": [],
   "source": [
    "def list_function(x):\n",
    "    my_list=[]\n",
    "    for i in range(200):\n",
    "        my_list.append(x*i)\n",
    "    return my_list"
   ]
  },
  {
   "cell_type": "code",
   "execution_count": 55,
   "metadata": {},
   "outputs": [
    {
     "data": {
      "text/plain": [
       "[0,\n",
       " 5,\n",
       " 10,\n",
       " 15,\n",
       " 20,\n",
       " 25,\n",
       " 30,\n",
       " 35,\n",
       " 40,\n",
       " 45,\n",
       " 50,\n",
       " 55,\n",
       " 60,\n",
       " 65,\n",
       " 70,\n",
       " 75,\n",
       " 80,\n",
       " 85,\n",
       " 90,\n",
       " 95,\n",
       " 100,\n",
       " 105,\n",
       " 110,\n",
       " 115,\n",
       " 120,\n",
       " 125,\n",
       " 130,\n",
       " 135,\n",
       " 140,\n",
       " 145,\n",
       " 150,\n",
       " 155,\n",
       " 160,\n",
       " 165,\n",
       " 170,\n",
       " 175,\n",
       " 180,\n",
       " 185,\n",
       " 190,\n",
       " 195,\n",
       " 200,\n",
       " 205,\n",
       " 210,\n",
       " 215,\n",
       " 220,\n",
       " 225,\n",
       " 230,\n",
       " 235,\n",
       " 240,\n",
       " 245,\n",
       " 250,\n",
       " 255,\n",
       " 260,\n",
       " 265,\n",
       " 270,\n",
       " 275,\n",
       " 280,\n",
       " 285,\n",
       " 290,\n",
       " 295,\n",
       " 300,\n",
       " 305,\n",
       " 310,\n",
       " 315,\n",
       " 320,\n",
       " 325,\n",
       " 330,\n",
       " 335,\n",
       " 340,\n",
       " 345,\n",
       " 350,\n",
       " 355,\n",
       " 360,\n",
       " 365,\n",
       " 370,\n",
       " 375,\n",
       " 380,\n",
       " 385,\n",
       " 390,\n",
       " 395,\n",
       " 400,\n",
       " 405,\n",
       " 410,\n",
       " 415,\n",
       " 420,\n",
       " 425,\n",
       " 430,\n",
       " 435,\n",
       " 440,\n",
       " 445,\n",
       " 450,\n",
       " 455,\n",
       " 460,\n",
       " 465,\n",
       " 470,\n",
       " 475,\n",
       " 480,\n",
       " 485,\n",
       " 490,\n",
       " 495,\n",
       " 500,\n",
       " 505,\n",
       " 510,\n",
       " 515,\n",
       " 520,\n",
       " 525,\n",
       " 530,\n",
       " 535,\n",
       " 540,\n",
       " 545,\n",
       " 550,\n",
       " 555,\n",
       " 560,\n",
       " 565,\n",
       " 570,\n",
       " 575,\n",
       " 580,\n",
       " 585,\n",
       " 590,\n",
       " 595,\n",
       " 600,\n",
       " 605,\n",
       " 610,\n",
       " 615,\n",
       " 620,\n",
       " 625,\n",
       " 630,\n",
       " 635,\n",
       " 640,\n",
       " 645,\n",
       " 650,\n",
       " 655,\n",
       " 660,\n",
       " 665,\n",
       " 670,\n",
       " 675,\n",
       " 680,\n",
       " 685,\n",
       " 690,\n",
       " 695,\n",
       " 700,\n",
       " 705,\n",
       " 710,\n",
       " 715,\n",
       " 720,\n",
       " 725,\n",
       " 730,\n",
       " 735,\n",
       " 740,\n",
       " 745,\n",
       " 750,\n",
       " 755,\n",
       " 760,\n",
       " 765,\n",
       " 770,\n",
       " 775,\n",
       " 780,\n",
       " 785,\n",
       " 790,\n",
       " 795,\n",
       " 800,\n",
       " 805,\n",
       " 810,\n",
       " 815,\n",
       " 820,\n",
       " 825,\n",
       " 830,\n",
       " 835,\n",
       " 840,\n",
       " 845,\n",
       " 850,\n",
       " 855,\n",
       " 860,\n",
       " 865,\n",
       " 870,\n",
       " 875,\n",
       " 880,\n",
       " 885,\n",
       " 890,\n",
       " 895,\n",
       " 900,\n",
       " 905,\n",
       " 910,\n",
       " 915,\n",
       " 920,\n",
       " 925,\n",
       " 930,\n",
       " 935,\n",
       " 940,\n",
       " 945,\n",
       " 950,\n",
       " 955,\n",
       " 960,\n",
       " 965,\n",
       " 970,\n",
       " 975,\n",
       " 980,\n",
       " 985,\n",
       " 990,\n",
       " 995]"
      ]
     },
     "execution_count": 55,
     "metadata": {},
     "output_type": "execute_result"
    }
   ],
   "source": [
    "list_function(5)"
   ]
  },
  {
   "cell_type": "code",
   "execution_count": 56,
   "metadata": {},
   "outputs": [
    {
     "data": {
      "text/plain": [
       "99500"
      ]
     },
     "execution_count": 56,
     "metadata": {},
     "output_type": "execute_result"
    }
   ],
   "source": [
    "sum(list_function(5))"
   ]
  },
  {
   "cell_type": "markdown",
   "metadata": {},
   "source": [
    "What if I wanted the sum of multiples of 5 or 7?"
   ]
  },
  {
   "cell_type": "markdown",
   "metadata": {},
   "source": [
    "What about multiples of 5 and 7?"
   ]
  },
  {
   "cell_type": "code",
   "execution_count": 57,
   "metadata": {},
   "outputs": [
    {
     "name": "stdout",
     "output_type": "stream",
     "text": [
      "[1, 7, 49, 343, 5, 35, 245, 1715, 25, 175, 1225, 8575, 125, 875, 6125, 42875, 625, 4375, 30625, 214375]\n"
     ]
    }
   ],
   "source": [
    "multiples=[]\n",
    "for i in range(5):\n",
    "    for j in range(4):\n",
    "        multiples.append((5**i)*(7**j))\n",
    "print(multiples)\n",
    "    "
   ]
  },
  {
   "cell_type": "code",
   "execution_count": 58,
   "metadata": {},
   "outputs": [
    {
     "name": "stdout",
     "output_type": "stream",
     "text": [
      "[1, 7, 49, 343, 5, 35, 245, 25, 175, 125, 875, 625]\n"
     ]
    }
   ],
   "source": [
    "sum_list=[]\n",
    "for i in multiples:\n",
    "    if i<1000:\n",
    "        sum_list.append(i)\n",
    "print(sum_list)"
   ]
  },
  {
   "cell_type": "code",
   "execution_count": 59,
   "metadata": {},
   "outputs": [
    {
     "name": "stdout",
     "output_type": "stream",
     "text": [
      "2510\n"
     ]
    }
   ],
   "source": [
    "print(sum(sum_list))"
   ]
  },
  {
   "cell_type": "markdown",
   "metadata": {},
   "source": [
    "#### Find out if $10,001$ is a prime number."
   ]
  },
  {
   "cell_type": "code",
   "execution_count": 64,
   "metadata": {},
   "outputs": [
    {
     "data": {
      "text/plain": [
       "3"
      ]
     },
     "execution_count": 64,
     "metadata": {},
     "output_type": "execute_result"
    }
   ],
   "source": [
    "11//3"
   ]
  },
  {
   "cell_type": "code",
   "execution_count": 65,
   "metadata": {},
   "outputs": [
    {
     "data": {
      "text/plain": [
       "1"
      ]
     },
     "execution_count": 65,
     "metadata": {},
     "output_type": "execute_result"
    }
   ],
   "source": [
    "5%2"
   ]
  },
  {
   "cell_type": "code",
   "execution_count": 66,
   "metadata": {},
   "outputs": [],
   "source": [
    "def isprime(n):\n",
    "    for i in range(2,n):\n",
    "        if n%i==0:\n",
    "            return False\n",
    "            break\n",
    "    else:\n",
    "        return True\n",
    "        "
   ]
  },
  {
   "cell_type": "code",
   "execution_count": 67,
   "metadata": {},
   "outputs": [
    {
     "data": {
      "text/plain": [
       "False"
      ]
     },
     "execution_count": 67,
     "metadata": {},
     "output_type": "execute_result"
    }
   ],
   "source": [
    "isprime(10001)"
   ]
  },
  {
   "cell_type": "markdown",
   "metadata": {
    "collapsed": true
   },
   "source": [
    "# Example Application. "
   ]
  },
  {
   "cell_type": "markdown",
   "metadata": {},
   "source": [
    "![Circuit Diagram](circuit.png)"
   ]
  },
  {
   "cell_type": "markdown",
   "metadata": {},
   "source": [
    "## Problem Description\n",
    "\n",
    "Figure 1 shows a voltage source $V=120 \\text{V}$ with and internal resistance $R_{s}$ of $50 \\Omega$ supplying a load of resisteance $R_{L}$. Find the value of load resistance $R_{L}$ that will result in the maximum possible power being supplied by the source load. How much power will be supplied in this case?  \n",
    "Also, plot the power supplied to the load as a function of the load resistance $R_{L}$."
   ]
  },
  {
   "cell_type": "markdown",
   "metadata": {},
   "source": [
    "## Mathematical Description\n",
    "\n",
    "In this program we need to vary the load resistance $R_{L}$ and compute the power supplied to the load at each value of $R_{L}$. The power supplied to the load resistance is given by the equation\n",
    "\\begin{equation}\n",
    "P_{L} = I^{2}R_{L} \n",
    "\\end{equation}\n",
    "where $I$ is the current supplied to the load. The current supplied to the load can be calculated by Ohm's law:\n",
    "\\begin{equation}\n",
    "I = \\frac{V}{R_{S}+R_{L}} .\n",
    "\\end{equation}"
   ]
  },
  {
   "cell_type": "markdown",
   "metadata": {},
   "source": [
    "## Pseudocode\n",
    "\n",
    "It is important to always break up our problems down into smaller sections. It is easier to understand, debug and check smaller sectiond of code. This can be done using pseudocode:\n",
    "\n",
    "**Algorithm 1.** *Power Supply*\n",
    "1. Build a list of possible values for the load resistance $R_{L}$. The list will vary $R_{L}$ from $1\\Omega$ to $100 \\Omega$ in $1\\Omega$ steps.\n",
    "2. Calculate the current for each value.\n",
    "3. Calculate the power supplied to the load for each value of $R_{L}$.\n",
    "4. Plot the power supplied to the load for each value of $R_{L}$ and determine the value of load resistance resulting in the maximum power. "
   ]
  },
  {
   "cell_type": "markdown",
   "metadata": {},
   "source": [
    "## Code the function\n",
    "\n",
    "Lets first write a function that calculated the current using Ohm's law. "
   ]
  },
  {
   "cell_type": "code",
   "execution_count": 68,
   "metadata": {},
   "outputs": [],
   "source": [
    "def current(RL,V,RS):\n",
    "    \"\"\"\n",
    "    Calculate the current given the voltage source with voltage V\n",
    "    and internal resistance RS supplying a load of resistance RL.\n",
    "    \n",
    "    Input: RL = load of resistance (list)\n",
    "         : V = Voltage (floating point number)\n",
    "         : RS = internal resistance (floating point number)\n",
    "    \n",
    "    Output: current (list)\n",
    "    \"\"\"\n",
    "    \n",
    "    n= len(RL)\n",
    "    I = n*[0.0] #initialize I to be a list same size as RL\n",
    "    for j in range(n):\n",
    "        I[j]=V/(RL[j]+RS)\n",
    "    return I"
   ]
  },
  {
   "cell_type": "markdown",
   "metadata": {},
   "source": [
    "**NOTE:** The use of the **for** statement in examples like this is very inefficient and is in general considered to be poor programming practice. When we talk about data structures we will look at more efficient ways to implement such codes. \n",
    "\n",
    "We can now test the fucntion as follows"
   ]
  },
  {
   "cell_type": "code",
   "execution_count": 83,
   "metadata": {},
   "outputs": [],
   "source": [
    "RL = list(range(1,6))\n",
    "I = current(RL, 1.0, 0.0)"
   ]
  },
  {
   "cell_type": "markdown",
   "metadata": {},
   "source": [
    "<font, color='blue'>\n",
    "Lab Book: Is the above output correct? Why or why not? If it is not correct, what modifications must be made to the code to correct it?"
   ]
  },
  {
   "cell_type": "markdown",
   "metadata": {},
   "source": [
    "Lets now calculate the power supplied to the load for each value of $R_{L}$ by implementing the first equation. "
   ]
  },
  {
   "cell_type": "code",
   "execution_count": 72,
   "metadata": {},
   "outputs": [],
   "source": [
    "def power(I, RL):\n",
    "    \"\"\"\n",
    "    Calculate the power given the load of resistance RL \n",
    "    and I\n",
    "    \n",
    "    Input: RL = load of resistance (list)\n",
    "         : I = current (list)\n",
    "    \n",
    "    Output: power (list)\n",
    "    \"\"\"\n",
    "    \n",
    "    n=len(I)\n",
    "    P=n*[0.0] #initialize P to be a list same size as I\n",
    "    for j in range(n):\n",
    "        P[j]=I[j]**2*RL[j]\n",
    "    return P"
   ]
  },
  {
   "cell_type": "markdown",
   "metadata": {},
   "source": [
    "<font, color='blue'>\n",
    "Lab Book: Is the above code correct? Why or why not? If it is not correct, what modifications must be made to the code to correct it?\n"
   ]
  },
  {
   "cell_type": "markdown",
   "metadata": {},
   "source": [
    "Check the above function using\n",
    "```\n",
    "RL = list(range(1, 6))\n",
    "I = current(RL, 1.0, 0.0)\n",
    "power(I, RL)\n",
    "```"
   ]
  },
  {
   "cell_type": "code",
   "execution_count": 84,
   "metadata": {},
   "outputs": [
    {
     "data": {
      "text/plain": [
       "[1.0, 0.5, 0.3333333333333333, 0.25, 0.20000000000000004]"
      ]
     },
     "execution_count": 84,
     "metadata": {},
     "output_type": "execute_result"
    }
   ],
   "source": [
    "power(I, RL)"
   ]
  },
  {
   "cell_type": "markdown",
   "metadata": {},
   "source": [
    "Next we define a function to plot our results. "
   ]
  },
  {
   "cell_type": "code",
   "execution_count": 78,
   "metadata": {},
   "outputs": [],
   "source": [
    "from matplotlib.pyplot import plot, show, title, xlabel, ylabel, grid\n",
    "\n",
    "def power_plot(RL,P):\n",
    "    \"\"\"\n",
    "    Plot the power P versus the load of resistance RL.\n",
    "    \n",
    "    Input: RL = load of resistance (list)\n",
    "         : P = power (list)\n",
    "         \n",
    "    Output: none\n",
    "    \"\"\"\n",
    "    \n",
    "    plot(RL, P)\n",
    "    title('Plot of power versus load resistance')\n",
    "    xlabel('Load resistance (ohms)')\n",
    "    ylabel('Power (watts)')\n",
    "    grid('on')\n",
    "    show()"
   ]
  },
  {
   "cell_type": "markdown",
   "metadata": {},
   "source": [
    "## Putting the code together"
   ]
  },
  {
   "cell_type": "markdown",
   "metadata": {},
   "source": [
    "We can calculate the power.\n",
    "\n",
    "Set the internal resistance to $50\\Omega$. "
   ]
  },
  {
   "cell_type": "code",
   "execution_count": 76,
   "metadata": {},
   "outputs": [],
   "source": [
    "RS = 50.0"
   ]
  },
  {
   "cell_type": "markdown",
   "metadata": {},
   "source": [
    "Set voltage source to $120\\text{V}$"
   ]
  },
  {
   "cell_type": "code",
   "execution_count": 77,
   "metadata": {},
   "outputs": [],
   "source": [
    "V = 120.0"
   ]
  },
  {
   "cell_type": "markdown",
   "metadata": {},
   "source": [
    "Creat a list of possible values for the load resistance"
   ]
  },
  {
   "cell_type": "code",
   "execution_count": 79,
   "metadata": {},
   "outputs": [],
   "source": [
    "RL = list(range(1,101))"
   ]
  },
  {
   "cell_type": "markdown",
   "metadata": {},
   "source": [
    "Calculate the current flow for each load resistance"
   ]
  },
  {
   "cell_type": "code",
   "execution_count": 80,
   "metadata": {},
   "outputs": [],
   "source": [
    "I = current(RL, V, RS)"
   ]
  },
  {
   "cell_type": "markdown",
   "metadata": {},
   "source": [
    "Calculate the power supplied to the load"
   ]
  },
  {
   "cell_type": "code",
   "execution_count": 81,
   "metadata": {},
   "outputs": [],
   "source": [
    "P = power(I,RL)"
   ]
  },
  {
   "cell_type": "markdown",
   "metadata": {},
   "source": [
    "Plot the power versus the load resistance"
   ]
  },
  {
   "cell_type": "code",
   "execution_count": 82,
   "metadata": {},
   "outputs": [
    {
     "name": "stderr",
     "output_type": "stream",
     "text": [
      "C:\\Anaconda3\\lib\\site-packages\\matplotlib\\cbook\\deprecation.py:107: MatplotlibDeprecationWarning: Passing one of 'on', 'true', 'off', 'false' as a boolean is deprecated; use an actual boolean (True/False) instead.\n",
      "  warnings.warn(message, mplDeprecation, stacklevel=1)\n"
     ]
    },
    {
     "data": {
      "image/png": "[encoded data removed]",
      "text/plain": [
       "<Figure size 432x288 with 1 Axes>"
      ]
     },
     "metadata": {
      "needs_background": "light"
     },
     "output_type": "display_data"
    }
   ],
   "source": [
    "power_plot(RL,P)"
   ]
  },
  {
   "cell_type": "markdown",
   "metadata": {},
   "source": [
    "The resulting plot suggests that the maximum power is supplied to the load when the load's resistance is $50\\Omega$. The power supplied to the load at this resistance is 72 Watts. "
   ]
  },
  {
   "cell_type": "markdown",
   "metadata": {},
   "source": [
    "# Exercises"
   ]
  },
  {
   "cell_type": "markdown",
   "metadata": {},
   "source": [
    "If a stationary ball is released at height $h_{0}$ above the surface of the Earth with a vertical velocity $v_{0}$, the position and velocity of the ball as a function of time is given by the kinematic equations of motion (for linear acceleration)\n",
    "\\begin{equation}\n",
    "h(t) = \\frac{1}{2} gt^{2}+v_{0}t+h_{0} \\\\\n",
    "v(t) = gt + v_{0}\n",
    "\\end{equation}\n",
    "where $g$ is the acceleration due to gravity $(-9.81 m/s^{2})$, $h$ is the height above the surface of the Earth (assuming no air friction), and $v$ is the vertical component of the velocity. The aim of this exercise is to write a Python program that takes the initial height of the ball in metres and velocity of the ball in metres per second, and plots the velocity versus height for $0\\leq t\\leq 20$.\n",
    "\n",
    "1. Write a pseudocode (algorithm) that breaks the problem down into smaller subproblems. Similar to what was done in the **Pseudocode** section.\n",
    "2. Implement each subproblem as a function. I recommend you copy the plotting function from before and make necessary modifications.  \n",
    "    Check that each function is working. Talk about the steps you took to verify the function is working. \n",
    "3. Produce a plot of the velocity versus height if $v_{0}=100 m/s$ and $h_{0}=400 m$."
   ]
  },
  {
   "cell_type": "code",
   "execution_count": 91,
   "metadata": {},
   "outputs": [],
   "source": [
    "h0 = 400\n",
    "v0 = 100\n",
    "g = -9.81\n",
    "t = np.linspace(0,20,201)"
   ]
  },
  {
   "cell_type": "code",
   "execution_count": 94,
   "metadata": {},
   "outputs": [
    {
     "data": {
      "text/plain": [
       "array([ 1. ,  1.1,  1.2,  1.3,  1.4,  1.5,  1.6,  1.7,  1.8,  1.9,  2. ,\n",
       "        2.1,  2.2,  2.3,  2.4,  2.5,  2.6,  2.7,  2.8,  2.9,  3. ,  3.1,\n",
       "        3.2,  3.3,  3.4,  3.5,  3.6,  3.7,  3.8,  3.9,  4. ,  4.1,  4.2,\n",
       "        4.3,  4.4,  4.5,  4.6,  4.7,  4.8,  4.9,  5. ,  5.1,  5.2,  5.3,\n",
       "        5.4,  5.5,  5.6,  5.7,  5.8,  5.9,  6. ,  6.1,  6.2,  6.3,  6.4,\n",
       "        6.5,  6.6,  6.7,  6.8,  6.9,  7. ,  7.1,  7.2,  7.3,  7.4,  7.5,\n",
       "        7.6,  7.7,  7.8,  7.9,  8. ,  8.1,  8.2,  8.3,  8.4,  8.5,  8.6,\n",
       "        8.7,  8.8,  8.9,  9. ,  9.1,  9.2,  9.3,  9.4,  9.5,  9.6,  9.7,\n",
       "        9.8,  9.9, 10. , 10.1, 10.2, 10.3, 10.4, 10.5, 10.6, 10.7, 10.8,\n",
       "       10.9, 11. , 11.1, 11.2, 11.3, 11.4, 11.5, 11.6, 11.7, 11.8, 11.9,\n",
       "       12. , 12.1, 12.2, 12.3, 12.4, 12.5, 12.6, 12.7, 12.8, 12.9, 13. ,\n",
       "       13.1, 13.2, 13.3, 13.4, 13.5, 13.6, 13.7, 13.8, 13.9, 14. , 14.1,\n",
       "       14.2, 14.3, 14.4, 14.5, 14.6, 14.7, 14.8, 14.9, 15. , 15.1, 15.2,\n",
       "       15.3, 15.4, 15.5, 15.6, 15.7, 15.8, 15.9, 16. , 16.1, 16.2, 16.3,\n",
       "       16.4, 16.5, 16.6, 16.7, 16.8, 16.9, 17. , 17.1, 17.2, 17.3, 17.4,\n",
       "       17.5, 17.6, 17.7, 17.8, 17.9, 18. , 18.1, 18.2, 18.3, 18.4, 18.5,\n",
       "       18.6, 18.7, 18.8, 18.9, 19. , 19.1, 19.2, 19.3, 19.4, 19.5, 19.6,\n",
       "       19.7, 19.8, 19.9, 20. , 20.1, 20.2, 20.3, 20.4, 20.5, 20.6, 20.7,\n",
       "       20.8, 20.9, 21. ])"
      ]
     },
     "execution_count": 94,
     "metadata": {},
     "output_type": "execute_result"
    }
   ],
   "source": [
    "t+1"
   ]
  },
  {
   "cell_type": "code",
   "execution_count": 95,
   "metadata": {},
   "outputs": [],
   "source": [
    "def height(h0, v0, g, t):\n",
    "    \"\"\"\n",
    "    Calculate the power given the load of resistance RL \n",
    "    and I\n",
    "    \n",
    "    Input: RL = load of resistance (list)\n",
    "         : I = current (list)\n",
    "    \n",
    "    Output: power (list)\n",
    "    \"\"\"\n",
    "\n",
    "    h= g*t**2/2+v0*t+h0 \n",
    "    return h"
   ]
  },
  {
   "cell_type": "code",
   "execution_count": 100,
   "metadata": {},
   "outputs": [
    {
     "ename": "TypeError",
     "evalue": "'builtin_function_or_method' object is not subscriptable",
     "output_type": "error",
     "traceback": [
      "\u001b[1;31m---------------------------------------------------------------------------\u001b[0m",
      "\u001b[1;31mTypeError\u001b[0m                                 Traceback (most recent call last)",
      "\u001b[1;32m<ipython-input-100-676d4f5120ca>\u001b[0m in \u001b[0;36m<module>\u001b[1;34m()\u001b[0m\n\u001b[1;32m----> 1\u001b[1;33m \u001b[0mheight\u001b[0m\u001b[1;33m(\u001b[0m\u001b[1;36m19.62\u001b[0m\u001b[1;33m,\u001b[0m \u001b[1;36m0\u001b[0m\u001b[1;33m,\u001b[0m \u001b[1;33m-\u001b[0m\u001b[1;36m9.81\u001b[0m\u001b[1;33m,\u001b[0m \u001b[0mnp\u001b[0m\u001b[1;33m.\u001b[0m\u001b[0marray\u001b[0m\u001b[1;33m[\u001b[0m\u001b[1;36m0\u001b[0m\u001b[1;33m,\u001b[0m\u001b[1;36m1\u001b[0m\u001b[1;33m,\u001b[0m\u001b[1;36m2\u001b[0m\u001b[1;33m]\u001b[0m\u001b[1;33m)\u001b[0m\u001b[1;33m\u001b[0m\u001b[0m\n\u001b[0m",
      "\u001b[1;31mTypeError\u001b[0m: 'builtin_function_or_method' object is not subscriptable"
     ]
    }
   ],
   "source": [
    "\n",
    "height(19.62, 0, -9.81, t0)"
   ]
  },
  {
   "cell_type": "code",
   "execution_count": 97,
   "metadata": {},
   "outputs": [],
   "source": [
    "def velocity(v0, g, t):\n",
    "    \"\"\"\n",
    "    Calculate the power given the load of resistance RL \n",
    "    and I\n",
    "    \n",
    "    Input: RL = load of resistance (list)\n",
    "         : I = current (list)\n",
    "    \n",
    "    Output: power (list)\n",
    "    \"\"\"\n",
    "    \n",
    "    v= g*t+v0 \n",
    "    return v"
   ]
  },
  {
   "cell_type": "code",
   "execution_count": 98,
   "metadata": {},
   "outputs": [],
   "source": [
    "h0 = 400\n",
    "v0 = 100\n",
    "g = -9.81\n",
    "t = np.linspace(0,20,201)\n",
    "\n",
    "h = height(h0, v0, g, t)\n",
    "v = velocity(v0, g, t)"
   ]
  },
  {
   "cell_type": "code",
   "execution_count": 104,
   "metadata": {},
   "outputs": [],
   "source": [
    "def v_h_plot(v,h):\n",
    "    \"\"\"\n",
    "    Plot the power P versus the load of resistance RL.\n",
    "    \n",
    "    Input: RL = load of resistance (list)\n",
    "         : P = power (list)\n",
    "         \n",
    "    Output: none\n",
    "    \"\"\"\n",
    "    \n",
    "    plot(h, v)\n",
    "    title('Plot of velocity versus')\n",
    "    xlabel('height (m)')\n",
    "    ylabel('velocity (m/s)')\n",
    "    grid('on')\n",
    "    show()"
   ]
  },
  {
   "cell_type": "code",
   "execution_count": 105,
   "metadata": {},
   "outputs": [
    {
     "name": "stderr",
     "output_type": "stream",
     "text": [
      "C:\\Anaconda3\\lib\\site-packages\\matplotlib\\cbook\\deprecation.py:107: MatplotlibDeprecationWarning: Passing one of 'on', 'true', 'off', 'false' as a boolean is deprecated; use an actual boolean (True/False) instead.\n",
      "  warnings.warn(message, mplDeprecation, stacklevel=1)\n"
     ]
    },
    {
     "data": {
      "image/png": "[encoded data removed]",
      "text/plain": [
       "<Figure size 432x288 with 1 Axes>"
      ]
     },
     "metadata": {
      "needs_background": "light"
     },
     "output_type": "display_data"
    }
   ],
   "source": [
    "v_h_plot(v,h)"
   ]
  },
  {
   "cell_type": "markdown",
   "metadata": {},
   "source": [
    "# Examples of Good Programming Practice\n",
    "\n",
    "The following lists some examples of what are considered to be good programing practices. They\n",
    "are very useful habits to pick-up and will save you a lot of time and frustration, especially when\n",
    "we look at more complicated programs.\n",
    "\n",
    "* Use functions. This helps to break the problem down into smaller sections. It is easier to understand and debug a small section of code. It also allows you to reuse parts of your code. If each function is narrowly focused and responsible for one particular aspect of your code, you are less likely to get a cascade of errors, which is very difficult to debug.\n",
    "* Rerun your code often. When learning a new language you may want to run your code every time you make a change (I do). That way you can easily track down the source of any bugs. Even when you become familiar with the language, it pays to compile and run your code regularly. It helps to narrow down the parts of the code you have to look at when you get syntax errors.\n",
    "* Use the mathematics. Even if you don’t know what the exact solution is, the mathematics will often tell you about some of the properties of the solution. For example, if you get a negative answer when calculating the standard deviation something has gone wrong.\n",
    "* Write a pseudocode first. This allows you to focus on the logic of the problem. It also helps you structure the flow of information. That is, what do you need to pass into a function and what information do you need to get out it.\n",
    "* Format your code. You should use spaces, comments, meaningful variable names etc. to make the code easier for a human to read. It will save you a lot of time if you want to ask someone else for help. It also forces you to better structure the code."
   ]
  }
 ],
 "metadata": {
  "anaconda-cloud": {},
  "kernelspec": {
   "display_name": "Python 3",
   "language": "python",
   "name": "python3"
  },
  "language_info": {
   "codemirror_mode": {
    "name": "ipython",
    "version": 3
   },
   "file_extension": ".py",
   "mimetype": "text/x-python",
   "name": "python",
   "nbconvert_exporter": "python",
   "pygments_lexer": "ipython3",
   "version": "3.6.4"
  }
 },
 "nbformat": 4,
 "nbformat_minor": 1
}
