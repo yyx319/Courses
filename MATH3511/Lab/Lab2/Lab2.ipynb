{
 "cells": [
  {
   "cell_type": "markdown",
   "metadata": {},
   "source": [
    "    Instructor(s): Dr. Kenneth Duru\n",
    "    First Semester 2019\n",
    "    Mathematical Sciences Institute\n",
    "    Australian National University\n",
    "    \n",
    "# Math3511, Scientific Computing\n",
    "\n",
    "This Lab book must be submitted by **8th April 5pm**. Late Submissions will incur a 5% penalty\n",
    "per working day. Assignment submissions will close on the **15th April 5pm**. Submissions after\n",
    "this time will be invalid.\n",
    "\n",
    "# Lab 2: Equations"
   ]
  },
  {
   "cell_type": "code",
   "execution_count": 58,
   "metadata": {},
   "outputs": [],
   "source": [
    "%matplotlib inline"
   ]
  },
  {
   "cell_type": "markdown",
   "metadata": {},
   "source": [
    "## A. Inner Products and the Gram-Schmidt Algorithm"
   ]
  },
  {
   "cell_type": "markdown",
   "metadata": {},
   "source": [
    "Given a vector space $V$ over the field $R$, an *Inner Product* on $V$ is a (bilinear) function\n",
    "\n",
    "$$\n",
    "\\langle \\cdot ,\\cdot \\rangle : V\\times V \\rightarrow \\mathbb{R}\n",
    "$$\n",
    "\n",
    "with the following properties;\n",
    "\n",
    "1. Symmetry - $\\langle x,y \\rangle = \\langle y,x \\rangle$.\n",
    "2. Positive definiteness - $\\langle x,x \\rangle \\geq 0$ & $\\langle x,x\\rangle =0 \\Leftrightarrow x=0$.\n",
    "3. (Bi)Linearity - $\\langle a x +y, z \\rangle = a\\langle x,z\\rangle +\\langle y,z\\rangle$ for any scalar $a$."
   ]
  },
  {
   "cell_type": "markdown",
   "metadata": {},
   "source": [
    "As we've seen with the Conjugate Gradient Method, given a square symmetric positive definite matrix $A$, an *inner product* on $\\mathbb{R}^{n}$ is given by \n",
    "\n",
    "$$\n",
    "\\langle x,y \\rangle_{A}  = x^{T}Ay.\n",
    "$$"
   ]
  },
  {
   "cell_type": "markdown",
   "metadata": {},
   "source": [
    "<span style=\"color:blue;\">\n",
    "1) Write a Python function called `dotA` which takes three arguments (a square symmetric positive definite matrix $A$, and two vectors $x$ and $y$), and computes the matrix inner product $\\langle x,y \\rangle_{A}$. Test your code with examples and show that it works. (10 points)\n",
    "</span>"
   ]
  },
  {
   "cell_type": "markdown",
   "metadata": {},
   "source": [
    "<div style=\"color:limegreen;\">\n",
    "**Answer**:  \n",
    "</div>"
   ]
  },
  {
   "cell_type": "code",
   "execution_count": 59,
   "metadata": {},
   "outputs": [
    {
     "data": {
      "text/plain": [
       "71"
      ]
     },
     "execution_count": 59,
     "metadata": {},
     "output_type": "execute_result"
    }
   ],
   "source": [
    "import numpy as np\n",
    "def dotA(x,y,A):\n",
    "    z1=np.dot(A,y)\n",
    "    z2=np.dot(np.transpose(x),z1)\n",
    "    return z2\n",
    "\n",
    "#examples\n",
    "x = np.array([1,2])\n",
    "y = np.array([3,5])\n",
    "A = np.array([[2,3],[5,2]])\n",
    "\n",
    "z = dotA(x,y,A)\n",
    "z"
   ]
  },
  {
   "cell_type": "markdown",
   "metadata": {},
   "source": [
    "<span style=\"color:blue;\">\n",
    "2) Remember that in $\\mathbb{R}^{n}$ the Gram Schmidt Algorithm orthonormalizes a set of (up to) $n$ vectors with respect to an inner product.  \n",
    "Write a Python function to implement the Gram Schmidt Algorithm in $\\mathbb{R}^{n}$ with the inner product given by `dotA`, where $A$ is an $n\\times n$ matrix given by\n",
    "</span>\n",
    "\n",
    "<span style=\"color:blue;\">\n",
    "$$\n",
    "A=\n",
    "\\begin{bmatrix}\n",
    "5&1&0&\\dotso&0\\\\\n",
    "1&5&1&\\dotso&0\\\\\n",
    "\\vdots&\\ddots&\\ddots&\\ddots&\\vdots\\\\\n",
    "0&\\dotso&1&5&1\\\\\n",
    "0&\\dotso&0&1&5\n",
    "\\end{bmatrix}.\n",
    "$$\n",
    "</span>\n",
    "\n",
    "<span style=\"color:blue;\">\n",
    "Test your code with examples to show that it works.  (10 points)\n",
    "</span>"
   ]
  },
  {
   "cell_type": "markdown",
   "metadata": {},
   "source": [
    "<div style=\"color:limegreen;\">\n",
    "**Answer**:  \n",
    "</div>"
   ]
  },
  {
   "cell_type": "markdown",
   "metadata": {},
   "source": [
    "Note: The vector above are row vector.\n",
    "we use $$\n",
    "A=\n",
    "\\begin{bmatrix}\n",
    "3&5&6&8\\\\\n",
    "7&4&5&7\\\\\n",
    "14&6&5&9\\\\\n",
    "6&9&12&5\n",
    "\\end{bmatrix}.\n",
    "$$\n",
    "</span>\n",
    "as the input vector and get the ouput as orthonormal sets."
   ]
  },
  {
   "cell_type": "code",
   "execution_count": 62,
   "metadata": {},
   "outputs": [
    {
     "data": {
      "text/plain": [
       "[array([0.10253789, 0.17089648, 0.20507578, 0.27343437]),\n",
       " array([0.22758963, 0.13005122, 0.16256402, 0.26010244]),\n",
       " array([ 0.42645358, -0.02116236, -0.11829215, -0.05919541]),\n",
       " array([-0.16631965, -0.06925771, -0.06032077, -0.38513788])]"
      ]
     },
     "execution_count": 62,
     "metadata": {},
     "output_type": "execute_result"
    }
   ],
   "source": [
    "from scipy.sparse import spdiags\n",
    "n=4\n",
    "\n",
    "#initialise a list of vectors 4 *(1,4)\n",
    "v_list = np.array([[3.,5.,6.,8.],\n",
    "                   [7.,4.,5.,8.],\n",
    "                   [14.,6.,5.,9.],\n",
    "                   [6.,9.,12.,5.]])\n",
    "                   \n",
    "# define the matrix A \n",
    "data = np.array([5*np.ones(n), np.ones(n), np.ones(n)])\n",
    "diags = np.array([0, -1, 1])\n",
    "A=spdiags(data, diags, n, n).toarray()\n",
    "\n",
    "def projA(x,y,A):\n",
    "    #return projection of y vector in x's direction\n",
    "    p = dotA(x,y,A)/dotA(x,x,A)*x\n",
    "    return p\n",
    "\n",
    "\n",
    "def GS(v_list,A):\n",
    "    #input: list of vextors\n",
    "    #output: list of orthonormal vectors\n",
    "    #projection vector\n",
    "    n=4\n",
    "    u_list=[]\n",
    "    for i in range(n):\n",
    "        vi=v_list[i]\n",
    "        ui=vi\n",
    "        for j in range(i-1):\n",
    "            ui = ui - projA(u_list[j],vi,A)\n",
    "        ui = ui/np.sqrt(dotA(ui,ui,A))\n",
    "        u_list.append(ui)\n",
    "    return u_list\n",
    "\n",
    "u_list = GS(v_list,A)\n",
    "u_list"
   ]
  },
  {
   "cell_type": "markdown",
   "metadata": {},
   "source": [
    "## B. Solving nonlinear equations, python modules, arrays, lists, functions, scipy, timing and plotting\n",
    "\n",
    "\n",
    "In this example we investigate the time it takes to reach a certain\n",
    "accuracy using the Newton method and the secant method. Three test cases\n",
    "are considered: first, confirm that your own code is second order\n",
    "accurate using the number of Newton iterations as a parameter. Then\n",
    "study scipy's Newton and secant method using the tolerance tol as\n",
    "parameter. Consider the determination of the zero of\n",
    "$f(x) = \\exp(-x) - x$.\n",
    "\n",
    "First some preparations:\n",
    "\n",
    "-   We will use the modules math, time, scipy, scipy.optimize and scilab\n",
    "    which need to be imported\n",
    "-   Then we will require an implementation of the function $f(x)$ and of\n",
    "    its derivative $f^\\prime(x)$\n",
    "-   As we are interested in the performance of our method in the case\n",
    "    where the function evaluation is very costly we will artificially\n",
    "    increase the time for evaluation of $f(x)$ and its derivative by a\n",
    "    substantial amount using the sleep function from the time module\n",
    "-   As we do not know the exact solution, we will use the scipy library\n",
    "    Newton method to determine a very accurate approximation as\n",
    "    reference solution\n",
    "-   We will use the time function from the time module to determine the\n",
    "    time required for the solvers. You might have to do multiple runs of\n",
    "    the timing to get an accurate time.\n",
    "-   Carefully study all codes and parts of this lab marked labbook and fill-in the missing bits, in particular anything marked LB\n",
    "-   Correcting the code is an essential part of this lab ..."
   ]
  },
  {
   "cell_type": "markdown",
   "metadata": {},
   "source": [
    "<span style=\"color:blue;\">\n",
    "3) Fill in the code below and comment on the output. (3 points)\n",
    "</span>"
   ]
  },
  {
   "cell_type": "code",
   "execution_count": 96,
   "metadata": {},
   "outputs": [
    {
     "name": "stdout",
     "output_type": "stream",
     "text": [
      "function evaluation elapsed time:  0.01997995376586914\n",
      "Newton step evaluation elapsed time:  0.03000617027282715\n"
     ]
    }
   ],
   "source": [
    "# you will need the modules: math, time, scipy, scipy.optimze \n",
    "import math as ma\n",
    "from scipy import optimize as so\n",
    "import time as tm\n",
    "#LB   ... fill in the missing bits here ...\n",
    "        \n",
    "# define function and derivative\n",
    "        \n",
    "tev = 0.01 # time for one function evaluation (see sleep below)\n",
    "        \n",
    "def f(x):\n",
    "    \"\"\" function evaluation \"\"\"\n",
    "    fx = np.exp(-x)-x\n",
    "    tm.sleep(tev) # add some time to mimic a lengthy function evaluation\n",
    "    return fx\n",
    "        \n",
    "def df(x):\n",
    "    \"\"\" derivative evaluation \"\"\"\n",
    "    dfx = -np.exp(-x)-1\n",
    "    tm.sleep(tev)\n",
    "    return dfx\n",
    "    #LB fill in the derivative\n",
    "        \n",
    "# reference solution (so is module scipy.optimize)\n",
    "xref = so.newton(f,0.0,df,tol=1e-20)\n",
    "        \n",
    "# testing the timing\n",
    "        \n",
    "# timing one function evaluation  -- should be approximately tev seconds\n",
    "t0 = tm.time()\n",
    "y = f(37)\n",
    "t1 = tm.time()\n",
    "print('function evaluation elapsed time: ', t1-t0)\n",
    "        \n",
    "# timing one Newton step -- should be approximately 2tev seconds\n",
    "x0 = 0.3\n",
    "t0 = tm.time()\n",
    "x1 = x0 - f(x0)/df(x0)\n",
    "t1 = tm.time()\n",
    "print(\"Newton step evaluation elapsed time: \", t1-t0)\n",
    "    \n",
    "#LB: run this part and hand in the results produced by print .."
   ]
  },
  {
   "cell_type": "markdown",
   "metadata": {},
   "source": [
    "comment: The Newton step evaluation time is longer than the function evaluation time because it takes more steps."
   ]
  },
  {
   "cell_type": "markdown",
   "metadata": {},
   "source": [
    "<div style=\"color:blue;\">\n",
    "4) Now use `timeit` to test and see the function evaluation timing. (2 points)\n",
    "</div>"
   ]
  },
  {
   "cell_type": "markdown",
   "metadata": {},
   "source": [
    "<div style=\"color:limegreen;\">\n",
    "**Answer**:  \n",
    "</div>"
   ]
  },
  {
   "cell_type": "code",
   "execution_count": 7,
   "metadata": {},
   "outputs": [
    {
     "name": "stdout",
     "output_type": "stream",
     "text": [
      "15.9 ms ± 1.02 ms per loop (mean ± std. dev. of 7 runs, 100 loops each)\n"
     ]
    }
   ],
   "source": [
    "%%timeit\n",
    "y = f(37)"
   ]
  },
  {
   "cell_type": "code",
   "execution_count": 9,
   "metadata": {},
   "outputs": [
    {
     "name": "stdout",
     "output_type": "stream",
     "text": [
      "33.6 ms ± 1.76 ms per loop (mean ± std. dev. of 7 runs, 10 loops each)\n"
     ]
    }
   ],
   "source": [
    "%%timeit\n",
    "x1 = x0 - f(x0)/df(x0)\n",
    "#LB: Insert the newton step below to work out x1 from x0"
   ]
  },
  {
   "cell_type": "markdown",
   "metadata": {},
   "source": [
    "### B1. First experiment: implement very simple Newton method and compare accuracy against time spent.\n",
    "\n",
    "<span style=\"color:blue;\">\n",
    "5) In a first experiment you should implement a very simple Newton solver\n",
    "which takes as input the number of Newton steps but does not use any\n",
    "termination conditions. Consider the cases of one to ten Newton steps.\n",
    "Plot the time for each case and also the relative error agains the\n",
    "reference solution. (Hint use semilogy to plot the relative error and\n",
    "add $10^{-20}$ to all relative errors to avoid having to deal with zero\n",
    "errors.) How many iterations does it take to reach the exact solution?\n",
    "Can you confirm the convergence order by visual inspection? (25 points)\n",
    "</span>"
   ]
  },
  {
   "cell_type": "markdown",
   "metadata": {},
   "source": [
    "<div style=\"color:limegreen;\">\n",
    "**Answer**:  \n",
    "</div>"
   ]
  },
  {
   "cell_type": "code",
   "execution_count": 90,
   "metadata": {},
   "outputs": [
    {
     "data": {
      "image/png": "[encoded data removed]",
      "text/plain": [
       "<Figure size 432x288 with 2 Axes>"
      ]
     },
     "metadata": {
      "needs_background": "light"
     },
     "output_type": "display_data"
    },
    {
     "data": {
      "image/png": "[encoded data removed]",
      "text/plain": [
       "<Figure size 432x288 with 1 Axes>"
      ]
     },
     "metadata": {
      "needs_background": "light"
     },
     "output_type": "display_data"
    }
   ],
   "source": [
    "# First experiment -- solution\n",
    "import timeit as ti\n",
    "import scipy as sp\n",
    "import matplotlib.pyplot as plt\n",
    "xref = so.newton(f,0.0,df,tol=1e-20)\n",
    "# my Newton routine\n",
    "def myNewton(f,df,x0,nsteps=5):\n",
    "    #LB  here comes your simple Newton solver\n",
    "    xs=x0\n",
    "    for n in range(nsteps):\n",
    "        xs = xs - f(xs)/df(xs)\n",
    "        n+=1\n",
    "    return xs\n",
    "    # f: function, df: derivative, x0: starting value, nmax: number of Newton steps\n",
    "\n",
    "# timing myNewton over a tolerance range\n",
    "tivec = []  # initialise a time list\n",
    "revec = []  #        \"\n",
    "\n",
    "# Think about adding a list here, which you can use to plot the theoretical\n",
    "# convergence rate\n",
    "\n",
    "nsimvec = range(10) # range of number of Newton iterations\n",
    "x0 = 0.0\n",
    "for n in nsimvec:\n",
    "    xs = myNewton(f,df,x0,nsteps=n+1)\n",
    "    tivec.append(ti.timeit('xs=myNewton(f,df,x0,nsteps=n+1)',\n",
    "                           setup='from __main__ import myNewton,f,df,x0,n',number=10))\n",
    "    # added the time to the list tivec\n",
    "    revec.append(abs((xs-xref)/xref))  # add the rel. error to the list revec\n",
    "    # How would you update your convergence rate list?\n",
    "revec = sp.array(revec) + 1e-20  # convert list into an array and add a very small number\n",
    "                                     # (trick to make 0 display on log plots)\n",
    "        \n",
    "#LB study the following carefully and modify if necessary\n",
    "\n",
    "plt.figure(1)  # generate a first figure (pl refers to module pylab)\n",
    "plt.subplot(211)       \n",
    "plt.plot(np.array(nsimvec)+1, tivec,'o-')  # plot time against number of Newton iterations\n",
    "plt.grid(True)         # display a grid for readability\n",
    "plt.ylabel('time in seconds')  # label the y axis\n",
    "plt.subplot(212)       \n",
    "plt.semilogy(np.array(nsimvec)+1, revec,'o-')  # plot error against number of Newton iterations\n",
    "plt.grid(True)\n",
    "plt.ylabel('rel. error')\n",
    "plt.xlabel('Newton steps')   # on the lower plot we also provide the label for the x-axis\n",
    "plt.show() # display the plot\n",
    "\n",
    "plt.figure(2)   # second figure\n",
    "plt.semilogy(tivec, revec, 'o-')  # like above the y axis is logarithmic\n",
    "plt.xlabel('time in seconds')\n",
    "plt.ylabel('rel. error')\n",
    "plt.grid(True)\n",
    "plt.show()\n",
    "\n",
    "#LB: important - play around, add extra features and  modify plots to look better \n",
    "# actually, you only need to modify when something doesn't work"
   ]
  },
  {
   "cell_type": "markdown",
   "metadata": {},
   "source": [
    "It take 6 iterations to reach the exact solution."
   ]
  },
  {
   "cell_type": "markdown",
   "metadata": {},
   "source": [
    "By visual inspection $|e^{(k+1)}| = C |e^{(k)}|^2$ before reaching the exact solution. So it is second order accurate using the number of Newton iterations as a parameter."
   ]
  },
  {
   "cell_type": "markdown",
   "metadata": {},
   "source": [
    "### B2. Second experiment: investigate the tolerance parameter of the scipy newton method\n",
    "\n",
    "<span style=\"color:blue;\">\n",
    "6) The Newton method of scipy does have a tolerance parameter (tol) which\n",
    "lets you control the accuracy of the solution. Here we suggest that you\n",
    "study the accuracy and time spent as a function of this tolerance\n",
    "parameter and again confirm the second order accuracy by visual\n",
    "inspection. Measure time and accuracy for values of tol equal to\n",
    "$10^{-k}$ for $k=0,\\ldots,20$ and plot time and accuracy against the\n",
    "tolerance parameter. Comment on how well the tol parameter estimates the\n",
    "accuracy. Use a semilogx plot for the tolerance vs time and loglog plot\n",
    "for the tolerance against accuracy. Finally plot (semilogy) time taken\n",
    "against accuracy measured. How many iterations does the method take,\n",
    "compare against your own method.  (25 points)\n",
    "</span>"
   ]
  },
  {
   "cell_type": "markdown",
   "metadata": {},
   "source": [
    "<div style=\"color:limegreen;\">\n",
    "**Answer**:  \n",
    "</div>"
   ]
  },
  {
   "cell_type": "code",
   "execution_count": 94,
   "metadata": {},
   "outputs": [
    {
     "data": {
      "image/png": "[encoded data removed]",
      "text/plain": [
       "<Figure size 432x288 with 2 Axes>"
      ]
     },
     "metadata": {
      "needs_background": "light"
     },
     "output_type": "display_data"
    },
    {
     "data": {
      "image/png": "[encoded data removed]",
      "text/plain": [
       "<Figure size 432x288 with 1 Axes>"
      ]
     },
     "metadata": {
      "needs_background": "light"
     },
     "output_type": "display_data"
    }
   ],
   "source": [
    "# Second experiment -- solution\n",
    "import scipy as sp\n",
    "# timing scipy Newton over a tolerance range\n",
    "#LB fill in the missing bits (as in the previous example)\n",
    "#LB generate a list where you store the values of the tol parameter\n",
    "\n",
    "tivec = []  # initialise a list\n",
    "revec = []  #        \"\n",
    "\n",
    "tol = 1.0\n",
    "tolvec = []  # to hold list of tolerances (you could also create this list in advance ...)\n",
    "nsim = 20\n",
    "for n in range(nsim):\n",
    "    xs = so.newton(f,x0,fprime=df,tol=tol)\n",
    "    tivec.append(ti.timeit('xs = optimize.newton(f,x0,fprime=df,tol=tol)',\n",
    "                           setup='from scipy import optimize;from __main__ import f,df,x0,tol',\n",
    "                           number=10))\n",
    "    # added the time to the list tivec\n",
    "    revec.append(abs((xs-xref)/xref))  # add the rel. error to the list revec\n",
    "    # How would you update your convergence rate list?\n",
    "\n",
    "                              \n",
    "    #LB same as before but now for the scipy Newton method\n",
    "    # don't forget to import the scipy.optimize module in timeit!\n",
    "    #LB don't forget to update tolvec\n",
    "    tolvec.append(tol)\n",
    "    tol = tol/10.0\n",
    "    \n",
    "revec = sp.array(revec) + 1e-20  # convert list into an array and add a very small number\n",
    "        \n",
    "        \n",
    "plt.figure(1)  # generate a first figure (pl refers to module pylab)\n",
    "plt.subplot(211)       \n",
    "plt.semilogx(tolvec, tivec,'o-')  # plot time against tolerence\n",
    "plt.grid(True)         # display a grid for readability\n",
    "plt.ylabel('time in seconds')  # label the y axis\n",
    "plt.subplot(212)       \n",
    "plt.loglog(tolvec, revec,'o-')  # plot error against tolerence\n",
    "plt.loglog(tolvec, tolvec,'r')  # plot error against tolerence\n",
    "plt.grid(True)\n",
    "plt.ylabel('rel. error')\n",
    "plt.xlabel('tolerence')   # on the lower plot we also provide the label for the x-axis\n",
    "plt.show() # display the plot\n",
    "\n",
    "plt.figure(2)   # second figure\n",
    "plt.semilogy(tivec, revec, 'o-')  # like above the y axis is logarithmic\n",
    "plt.xlabel('time in seconds')\n",
    "plt.ylabel('rel. error')\n",
    "plt.grid(True)\n",
    "plt.show()\n",
    "#LB plotting as before -- use log plot for tolerance and errors and ordinary plot for time\n",
    "#LB include a line with loglog(tolvec, tolvec, 'r') to get an idea how errors and tolerance\n",
    "#   fit together"
   ]
  },
  {
   "cell_type": "markdown",
   "metadata": {},
   "source": [
    "How well the tol parameter estimates the accuracy:  We can see that relative error is a monotonous function of tolerence. But it jumps at some value of tol, otherwise it is not sensitive to the value of tol .It is basiclly a good measurement of accuracy. \n",
    "\n",
    "Comparing with my own method: The time it needs to reach exact solution is about 2s.\n",
    "Thus it will take 6 iterations. It is the same with our own method."
   ]
  },
  {
   "cell_type": "markdown",
   "metadata": {},
   "source": [
    "### B3. Third experiment: investigating the tolerance parameter for the scipy secant method\n",
    "\n",
    "<span style=\"color:blue;\">\n",
    "7) It is possible to use scipy.optimize.newton as a secant method by\n",
    "omitting the derivative as an input. Investigate the performance for\n",
    "this case. (25 points)\n",
    "</span>"
   ]
  },
  {
   "cell_type": "markdown",
   "metadata": {},
   "source": [
    "<div style=\"color:limegreen;\">\n",
    "**Answer**:  \n",
    "</div>"
   ]
  },
  {
   "cell_type": "code",
   "execution_count": 70,
   "metadata": {},
   "outputs": [
    {
     "data": {
      "image/png": "[encoded data removed]",
      "text/plain": [
       "<Figure size 432x288 with 2 Axes>"
      ]
     },
     "metadata": {
      "needs_background": "light"
     },
     "output_type": "display_data"
    },
    {
     "data": {
      "image/png": "[encoded data removed]",
      "text/plain": [
       "<Figure size 432x288 with 1 Axes>"
      ]
     },
     "metadata": {
      "needs_background": "light"
     },
     "output_type": "display_data"
    }
   ],
   "source": [
    "# Third experiment -- labbook\n",
    "tivec = []  # initialise a list\n",
    "revec = []  #        \"\n",
    "\n",
    "tol = 1.0\n",
    "tolvec = []  # to hold list of tolerances (you could also create this list in advance ...)\n",
    "nsim = 20\n",
    "for n in range(nsim):\n",
    "    xs = so.newton(f,x0,tol=tol)\n",
    "    tivec.append(ti.timeit('xs = optimize.newton(f,x0,tol=tol)',\n",
    "                           setup='from scipy import optimize;from __main__ import f,x0,tol',\n",
    "                           number=10))\n",
    "    # added the time to the list tivec\n",
    "    revec.append(abs((xs-xref)/xref))  # add the rel. error to the list revec\n",
    "    # How would you update your convergence rate list?\n",
    "\n",
    "                              \n",
    "    #LB same as before but now for the scipy Newton method\n",
    "    # don't forget to import the scipy.optimize module in timeit!\n",
    "    #LB don't forget to update tolvec\n",
    "    tolvec.append(tol)\n",
    "    tol = tol/10.0\n",
    "    \n",
    "revec = sp.array(revec) + 1e-20  # convert list into an array and add a very small number\n",
    "        \n",
    "        \n",
    "plt.figure(1)  # generate a first figure (pl refers to module pylab)\n",
    "plt.subplot(211)       \n",
    "plt.semilogx(tolvec, tivec,'o-')  # plot time against tolerence\n",
    "plt.grid(True)         # display a grid for readability\n",
    "plt.ylabel('time in seconds')  # label the y axis\n",
    "plt.subplot(212)       \n",
    "plt.loglog(tolvec, revec,'o-')  # plot error against tolerence\n",
    "plt.loglog(tolvec, tolvec,'r')  # plot error against tolerence\n",
    "plt.grid(True)\n",
    "plt.ylabel('rel. error')\n",
    "plt.xlabel('tolerence')   # on the lower plot we also provide the label for the x-axis\n",
    "plt.show() # display the plot\n",
    "\n",
    "plt.figure(2)   # second figure\n",
    "plt.semilogy(tivec, revec, 'o-')  # like above the y axis is logarithmic\n",
    "plt.xlabel('time in seconds')\n",
    "plt.ylabel('rel. error')\n",
    "plt.grid(True)\n",
    "plt.show()\n",
    "#LB do the same for the secant method (Hint: check the documentation of scipy.optimize.newton)"
   ]
  },
  {
   "cell_type": "markdown",
   "metadata": {},
   "source": [
    "The performance of this method is better than previous method:\n",
    "Relative error is more sensitive to tol. The tol parameter estimates the accuracy better. Also, the time required by this method is much lower.The time it needs to reach exact solution is about 1s, nearly half of the time by previous method."
   ]
  }
 ],
 "metadata": {
  "anaconda-cloud": {},
  "kernelspec": {
   "display_name": "Python 3",
   "language": "python",
   "name": "python3"
  },
  "language_info": {
   "codemirror_mode": {
    "name": "ipython",
    "version": 3
   },
   "file_extension": ".py",
   "mimetype": "text/x-python",
   "name": "python",
   "nbconvert_exporter": "python",
   "pygments_lexer": "ipython3",
   "version": "3.7.0"
  }
 },
 "nbformat": 4,
 "nbformat_minor": 1
}
