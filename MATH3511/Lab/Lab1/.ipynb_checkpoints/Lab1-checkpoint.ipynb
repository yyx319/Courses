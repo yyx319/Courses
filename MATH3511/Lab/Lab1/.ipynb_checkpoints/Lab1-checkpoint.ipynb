{
 "cells": [
  {
   "cell_type": "markdown",
   "metadata": {},
   "source": [
    "    Instructor: Dr. Kenneth Duru\n",
    "    First Semester 2019\n",
    "    Mathematical Sciences Institute\n",
    "    Australian National University\n",
    "\n",
    "* Math3511, Scientific Computing\n",
    "\n",
    "# Lab 1: Rounding Errors and Linear Systems of Equations"
   ]
  },
  {
   "cell_type": "markdown",
   "metadata": {
    "collapsed": true
   },
   "source": [
    "## A. Rounding errors and error propagation"
   ]
  },
  {
   "cell_type": "code",
   "execution_count": 1,
   "metadata": {},
   "outputs": [],
   "source": [
    "%matplotlib inline\n",
    "import numpy as np\n",
    "import scipy as sp\n",
    "import math"
   ]
  },
  {
   "cell_type": "markdown",
   "metadata": {},
   "source": [
    "### A1. Implementing rounding in Python"
   ]
  },
  {
   "cell_type": "markdown",
   "metadata": {},
   "source": [
    "\n",
    "<span, style=\"color:blue\">1. (5 points) Discuss the function **frexp(x)** from the Python math module. In your own words describe what it does. Give some examples to demonstrate and show that the results are as expected (i.e. for your demonstrations work out the mantissa and exponent by hand).</span> \n",
    "\n",
    "<span, style=\"color:limegreen\">**Answer**:</span>"
   ]
  },
  {
   "cell_type": "markdown",
   "metadata": {},
   "source": [
    "What frexp(x) does:\n",
    "return mantissa and exponent of x as the pair (xm ,xe), where xm is a float\n",
    "and xe is an integer such that $x=xm\\times2^{xe}$. If x is not 0, $0.5\\leq|m|\\leq1$, else return (0.0, 0). This is to get the binary representation of floating point numbers\n",
    "Next, we will check the function by 3 examples. First is frexp(0), which should give (0.0,0). Second is frexp(1), which should give(0.5,1). Third is  frexp(11.2), which should give (0.7,4) as a result."
   ]
  },
  {
   "cell_type": "code",
   "execution_count": 3,
   "metadata": {},
   "outputs": [
    {
     "data": {
      "text/plain": [
       "(0.0, 0)"
      ]
     },
     "execution_count": 3,
     "metadata": {},
     "output_type": "execute_result"
    }
   ],
   "source": [
    "math.frexp(0)"
   ]
  },
  {
   "cell_type": "code",
   "execution_count": 4,
   "metadata": {},
   "outputs": [
    {
     "data": {
      "text/plain": [
       "(0.5, 1)"
      ]
     },
     "execution_count": 4,
     "metadata": {},
     "output_type": "execute_result"
    }
   ],
   "source": [
    "math.frexp(1)"
   ]
  },
  {
   "cell_type": "code",
   "execution_count": 5,
   "metadata": {},
   "outputs": [
    {
     "data": {
      "text/plain": [
       "(0.7, 4)"
      ]
     },
     "execution_count": 5,
     "metadata": {},
     "output_type": "execute_result"
    }
   ],
   "source": [
    "math.frexp(11.2)"
   ]
  },
  {
   "cell_type": "markdown",
   "metadata": {},
   "source": [
    "We can see that we get what we expected."
   ]
  },
  {
   "cell_type": "markdown",
   "metadata": {},
   "source": [
    "<span, style=\"color:blue\">2. (5 points) Consider the function **phi** below which uses **frexp(x)**. We claim that this function rounds any real number to $t$ binary digits. Give some examples to show this is true.</span>"
   ]
  },
  {
   "cell_type": "code",
   "execution_count": 2,
   "metadata": {},
   "outputs": [],
   "source": [
    "def phi(x,t):\n",
    "    \"\"\"\n",
    "    rounding function to t binary digits\n",
    "    \"\"\"\n",
    "    (xm, xe) = math.frexp(x)\n",
    "    xr = round(xm*2.0**t)/2.0**t\n",
    "    return math.ldexp(xr, xe)"
   ]
  },
  {
   "cell_type": "markdown",
   "metadata": {},
   "source": [
    "<span, style=\"color:limegreen\">**Answer**:</span>"
   ]
  },
  {
   "cell_type": "code",
   "execution_count": 13,
   "metadata": {},
   "outputs": [
    {
     "data": {
      "text/plain": [
       "3.0"
      ]
     },
     "execution_count": 13,
     "metadata": {},
     "output_type": "execute_result"
    }
   ],
   "source": [
    "phi(2.875, 3)"
   ]
  },
  {
   "cell_type": "code",
   "execution_count": 16,
   "metadata": {},
   "outputs": [
    {
     "data": {
      "text/plain": [
       "10.0"
      ]
     },
     "execution_count": 16,
     "metadata": {},
     "output_type": "execute_result"
    }
   ],
   "source": [
    "phi(10.5, 4)"
   ]
  },
  {
   "cell_type": "markdown",
   "metadata": {},
   "source": [
    "explantion\n",
    "2.875=$(10.111)_2$ So rounding to 3 digits will give $(11.0)_2=3$\n",
    "\n",
    "10.5=$(1010.1)_2$ So rounding to 4 digits will give $(1010)_2=10$"
   ]
  },
  {
   "cell_type": "markdown",
   "metadata": {},
   "source": [
    "### A2. Errors in function evaluation"
   ]
  },
  {
   "cell_type": "markdown",
   "metadata": {},
   "source": [
    "<span, style=\"color:blue\">3. (5 points) Consider the expression $x=(1.0 - \\cos(1.2*10^{-5}))/(1.2*10^{-5})^{2}$. Note that this is evaluated in the following steps.</span> "
   ]
  },
  {
   "cell_type": "markdown",
   "metadata": {},
   "source": [
    "```\n",
    "a1=1.2e-5\n",
    "x1=cos(a1)\n",
    "x2=1.0-x1\n",
    "x3=a1*a1\n",
    "x4=x2/x3\n",
    "```"
   ]
  },
  {
   "cell_type": "markdown",
   "metadata": {},
   "source": [
    "   <span, style=\"color:blue\">Recall the number of binary digits Python uses for the mantissa of floating point numbers. Use **frexp** to demonstrate that one of computations has significantly fewer digits than expected. This is called **cancellation**.</span>"
   ]
  },
  {
   "cell_type": "markdown",
   "metadata": {},
   "source": [
    "<span style=\"color:limegreen\">**Answer**:</span>"
   ]
  },
  {
   "cell_type": "code",
   "execution_count": 136,
   "metadata": {},
   "outputs": [
    {
     "name": "stdout",
     "output_type": "stream",
     "text": [
      "0.78643200000000001992361831071320921182632446289062500\n",
      "0.99999999992800003845161427307175472378730773925781250\n",
      "0.61847496032714843750000000000000000000000000000000000\n",
      "0.61847529062400008470490320178214460611343383789062500\n",
      "0.99999946594980160252674750154255889356136322021484375\n"
     ]
    }
   ],
   "source": [
    "a1=1.2e-5\n",
    "x1=np.cos(a1)\n",
    "x2=1.0-x1\n",
    "x3=a1*a1\n",
    "x4=x2/x3\n",
    "\n",
    "print(\"{0:3.53f}\".format(math.frexp(a1)[0]))\n",
    "print(\"{0:3.53f}\".format(math.frexp(x1)[0]))\n",
    "print(\"{0:3.53f}\".format(math.frexp(x2)[0]))\n",
    "print(\"{0:3.53f}\".format(math.frexp(x3)[0]))\n",
    "print(\"{0:3.53f}\".format(math.frexp(x4)[0]))"
   ]
  },
  {
   "cell_type": "markdown",
   "metadata": {},
   "source": [
    "We can see that $x_2$ has significantly fewer digits than expected.  "
   ]
  },
  {
   "cell_type": "markdown",
   "metadata": {},
   "source": [
    "<span style=\"color:blue\">4. (10 points) Use the function **phi** from the previous section to round the result of each step to 20 binary digits before continuing with the next step. Again, use **frexp** to show that the computations lose a substantial number of digits.</span>"
   ]
  },
  {
   "cell_type": "markdown",
   "metadata": {},
   "source": [
    "<span style=\"color:limegreen\">**Answer**:</span>"
   ]
  },
  {
   "cell_type": "code",
   "execution_count": 40,
   "metadata": {},
   "outputs": [
    {
     "name": "stdout",
     "output_type": "stream",
     "text": [
      "0.78643226623535156250000000000000000000000000000000000\n",
      "0.50000000000000000000000000000000000000000000000000000\n",
      "0.00000000000000000000000000000000000000000000000000000\n",
      "0.61847591400146484375000000000000000000000000000000000\n",
      "0.00000000000000000000000000000000000000000000000000000\n"
     ]
    }
   ],
   "source": [
    "a1_rounded=phi(1.2e-5,20)\n",
    "x1_rounded=phi(np.cos(a1_rounded),20)\n",
    "x2_rounded=phi(1.0-x1_rounded,20)\n",
    "x3_rounded=phi(a1_rounded*a1_rounded,20)\n",
    "x4_rounded=phi(x2_rounded/x3_rounded,20)\n",
    "\n",
    "print(\"{0:3.53f}\".format(math.frexp(a1_rounded)[0]))\n",
    "print(\"{0:3.53f}\".format(math.frexp(x1_rounded)[0]))\n",
    "print(\"{0:3.53f}\".format(math.frexp(x2_rounded)[0]))\n",
    "print(\"{0:3.53f}\".format(math.frexp(x3_rounded)[0]))\n",
    "print(\"{0:3.53f}\".format(math.frexp(x4_rounded)[0]))"
   ]
  },
  {
   "cell_type": "markdown",
   "metadata": {},
   "source": [
    "We can see that computation lose a substantial number of digits."
   ]
  },
  {
   "cell_type": "markdown",
   "metadata": {},
   "source": [
    "<span style=\"color:blue\">5. (5 points) Compare the rounded result (**x4_rounded**) with the \"exact\" **x4** and compute the relative error.</span>"
   ]
  },
  {
   "cell_type": "markdown",
   "metadata": {},
   "source": [
    "<span style=\"color:limegreen\">**Answer**:</span>"
   ]
  },
  {
   "cell_type": "code",
   "execution_count": 58,
   "metadata": {},
   "outputs": [
    {
     "name": "stdout",
     "output_type": "stream",
     "text": [
      "0.49999973297490080126337375077127944678068161010742188\n",
      "0.00000000000000000000000000000000000000000000000000000\n",
      "1.0\n"
     ]
    }
   ],
   "source": [
    "print(\"{0:3.53f}\".format(x4))\n",
    "print(\"{0:3.53f}\".format(x4_rounded))\n",
    "r_err = abs((x4_rounded-x4)/x4)\n",
    "print(r_err)"
   ]
  },
  {
   "cell_type": "markdown",
   "metadata": {},
   "source": [
    "The rounded result has 100% error which means that this calculation is useless"
   ]
  },
  {
   "cell_type": "markdown",
   "metadata": {},
   "source": [
    "## B. Linear Equations"
   ]
  },
  {
   "cell_type": "markdown",
   "metadata": {},
   "source": [
    "### B1. Matrix operations"
   ]
  },
  {
   "cell_type": "markdown",
   "metadata": {},
   "source": [
    "We now take a look at linear systems of equations with Python. We start with the *matrix* object which are a subclass of the numpy arrays (ndarray). The matrix objects inherit all the\n",
    "attributes and methods of ndarry. The difference is, that numpy matrices\n",
    "are strictly 2-dimensional, while numpy arrays can be of any dimension.\n",
    "A matrix can be defined as follows: "
   ]
  },
  {
   "cell_type": "code",
   "execution_count": 49,
   "metadata": {},
   "outputs": [],
   "source": [
    "A = np.matrix([[1,2],[3,4]]) #creates a matrix\n",
    "c = np.matrix([[1],[2]])     #creates a column vector\n",
    "r = np.matrix([[1,2]])       #creates a row vector"
   ]
  },
  {
   "cell_type": "markdown",
   "metadata": {},
   "source": [
    "The most important advantage of matrices is that they provide convenient\n",
    "notations for the matrix multiplication. If $A$ and $B$ are two matrices\n",
    "then $A*B$ defines the matrix multiplication. While on the other hand,\n",
    "if $A$ and $B$ are ndarrays, $A*B$ define an element-by-element\n",
    "multiplication."
   ]
  },
  {
   "cell_type": "code",
   "execution_count": 50,
   "metadata": {},
   "outputs": [
    {
     "data": {
      "text/plain": [
       "matrix([[ 8,  5],\n",
       "        [20, 13]])"
      ]
     },
     "execution_count": 50,
     "metadata": {},
     "output_type": "execute_result"
    }
   ],
   "source": [
    "A = np.matrix([[1,2],[3,4]])\n",
    "B = np.matrix([[4,3],[2,1]])\n",
    "A*B"
   ]
  },
  {
   "cell_type": "code",
   "execution_count": 51,
   "metadata": {},
   "outputs": [
    {
     "data": {
      "text/plain": [
       "array([[4, 6],\n",
       "       [6, 4]])"
      ]
     },
     "execution_count": 51,
     "metadata": {},
     "output_type": "execute_result"
    }
   ],
   "source": [
    "A = np.array([[1,2],[3,4]])\n",
    "B = np.array([[4,3],[2,1]])\n",
    "A*B"
   ]
  },
  {
   "cell_type": "markdown",
   "metadata": {},
   "source": [
    "If we want to perform matrix multiplication with two numpy arrays\n",
    "(ndarray), we have to use the dot product:"
   ]
  },
  {
   "cell_type": "code",
   "execution_count": 52,
   "metadata": {},
   "outputs": [
    {
     "data": {
      "text/plain": [
       "array([[ 8,  5],\n",
       "       [20, 13]])"
      ]
     },
     "execution_count": 52,
     "metadata": {},
     "output_type": "execute_result"
    }
   ],
   "source": [
    "np.dot(A,B)"
   ]
  },
  {
   "cell_type": "markdown",
   "metadata": {},
   "source": [
    "Alternatively, we can cast them into matrix objects and use the $*$\n",
    "operator:"
   ]
  },
  {
   "cell_type": "code",
   "execution_count": 53,
   "metadata": {},
   "outputs": [
    {
     "data": {
      "text/plain": [
       "matrix([[ 8,  5],\n",
       "        [20, 13]])"
      ]
     },
     "execution_count": 53,
     "metadata": {},
     "output_type": "execute_result"
    }
   ],
   "source": [
    "np.matrix(A)*np.matrix(B)"
   ]
  },
  {
   "cell_type": "markdown",
   "metadata": {},
   "source": [
    "The size of a matrix `A` can be determined by `A.shape`. The length of a\n",
    "column vector `c` is calculated by `len(c)`. Here are the examples:"
   ]
  },
  {
   "cell_type": "code",
   "execution_count": 60,
   "metadata": {},
   "outputs": [
    {
     "name": "stdout",
     "output_type": "stream",
     "text": [
      "(3, 3)\n",
      "3\n"
     ]
    }
   ],
   "source": [
    "M = np.matrix([[1,2,3],[4,5,6],[7,8,9]])\n",
    "print(M.shape)\n",
    "c = np.matrix([[1],[2],[4]])\n",
    "print(len(c))"
   ]
  },
  {
   "cell_type": "markdown",
   "metadata": {},
   "source": [
    "Try the above for matrices and arrays of larger size.  \n",
    "You can also find the transpose and inverse of a matrix `A` by using `A.T` and `A.I` respectively.  \n",
    "\n",
    "For a matrix `A`, we may use `A[i,:]` and `A[:,j]` to produce the $(i+1)$-th row and $(j+1)$-th column respectively. In general we may use `A[m:n, p:q]` to produce the sub-matrix consisting of elements $a_{i,j}$ with $i=m+1,\\dotsc,n$ and $j=p+1,\\dotsc,q$. Try out some examples to see these commands in work.\n",
    "\n",
    "Look into the functions **ones** and **diag** in the numpy module. These are very useful. "
   ]
  },
  {
   "cell_type": "code",
   "execution_count": 68,
   "metadata": {},
   "outputs": [
    {
     "name": "stdout",
     "output_type": "stream",
     "text": [
      "[[1 4 7]\n",
      " [2 5 8]\n",
      " [3 6 9]]\n",
      "[[ 3.15251974e+15 -6.30503948e+15  3.15251974e+15]\n",
      " [-6.30503948e+15  1.26100790e+16 -6.30503948e+15]\n",
      " [ 3.15251974e+15 -6.30503948e+15  3.15251974e+15]]\n",
      "[[4 5 6]]\n",
      "[[1]\n",
      " [4]\n",
      " [7]]\n",
      "[[2]\n",
      " [5]]\n",
      "[1. 1.]\n",
      "[1 5 9]\n",
      "[[1 0 0]\n",
      " [0 5 0]\n",
      " [0 0 9]]\n"
     ]
    }
   ],
   "source": [
    "print(M.T)\n",
    "print(M.I)\n",
    "print(M[1,:])\n",
    "print(M[:,0])\n",
    "print(M[0:2,1:2])\n",
    "print(np.ones(2))\n",
    "print(np.diag(M))\n",
    "print(np.diag(np.diag(M)))"
   ]
  },
  {
   "cell_type": "markdown",
   "metadata": {},
   "source": [
    "### B2. LU factorization"
   ]
  },
  {
   "cell_type": "markdown",
   "metadata": {},
   "source": [
    "A common way to understand (and in fact construct) many linear algebra\n",
    "methods is via matrix decompositions or factorisation techniques. This\n",
    "allows us to rewrite our original problem into a collection of simpler\n",
    "problems.\n",
    "\n",
    "Gaussian elimination can be considered as the application of a sequence\n",
    "of elementary matrices that can be encoded into a lower triangular\n",
    "matrix $L$, and leads to an upper triangular matrix $U$. Python provides\n",
    "the command `lu` to calculate LU decompositions.\n",
    "\n",
    "Once we have the LU factorisation of a matrix $A$, say $A = LU$, we can\n",
    "use it to solve the linear system $A {\\bf x} = {\\bf b}$ by the following\n",
    "two steps:\n",
    "\n",
    "1.  Solve $L{\\bf y} = {\\bf b}$ by forward substitution.\n",
    "\n",
    "2.  Solve $U {\\bf x} = {\\bf y}$ by back substitution.\n",
    "\n",
    "Let’s have a look at the LU factorisation. For illustrations, we use the\n",
    "following matrix"
   ]
  },
  {
   "cell_type": "code",
   "execution_count": 69,
   "metadata": {},
   "outputs": [
    {
     "data": {
      "text/plain": [
       "matrix([[-2,  1,  0,  0,  0],\n",
       "        [ 1, -2,  1,  0,  0],\n",
       "        [ 0,  1, -2,  1,  0],\n",
       "        [ 0,  0,  1, -2,  1],\n",
       "        [ 0,  0,  0,  1, -2]])"
      ]
     },
     "execution_count": 69,
     "metadata": {},
     "output_type": "execute_result"
    }
   ],
   "source": [
    "A = np.matrix([[-2,  1,  0,  0,  0],\n",
    "            [ 1, -2,  1,  0,  0],\n",
    "            [ 0,  1, -2,  1,  0],\n",
    "            [ 0,  0,  1, -2,  1],\n",
    "            [ 0,  0,  0,  1, -2]])\n",
    "A"
   ]
  },
  {
   "cell_type": "markdown",
   "metadata": {},
   "source": [
    "By using the Python command **`lu`** we can produce the $L$ and $U$ factors\n",
    "of $A$. Here is the code:"
   ]
  },
  {
   "cell_type": "code",
   "execution_count": 70,
   "metadata": {},
   "outputs": [],
   "source": [
    "from scipy.linalg import lu\n",
    "(L,U) = lu(A, permute_l=1)"
   ]
  },
  {
   "cell_type": "markdown",
   "metadata": {},
   "source": [
    "and here are the matrices"
   ]
  },
  {
   "cell_type": "code",
   "execution_count": 71,
   "metadata": {},
   "outputs": [
    {
     "data": {
      "text/plain": [
       "array([[ 1.        ,  0.        ,  0.        ,  0.        ,  0.        ],\n",
       "       [-0.5       ,  1.        ,  0.        ,  0.        ,  0.        ],\n",
       "       [-0.        , -0.66666667,  1.        ,  0.        ,  0.        ],\n",
       "       [-0.        , -0.        , -0.75      ,  1.        ,  0.        ],\n",
       "       [-0.        , -0.        , -0.        , -0.8       ,  1.        ]])"
      ]
     },
     "execution_count": 71,
     "metadata": {},
     "output_type": "execute_result"
    }
   ],
   "source": [
    "L"
   ]
  },
  {
   "cell_type": "code",
   "execution_count": 72,
   "metadata": {},
   "outputs": [
    {
     "data": {
      "text/plain": [
       "array([[-2.        ,  1.        ,  0.        ,  0.        ,  0.        ],\n",
       "       [ 0.        , -1.5       ,  1.        ,  0.        ,  0.        ],\n",
       "       [ 0.        ,  0.        , -1.33333333,  1.        ,  0.        ],\n",
       "       [ 0.        ,  0.        ,  0.        , -1.25      ,  1.        ],\n",
       "       [ 0.        ,  0.        ,  0.        ,  0.        , -1.2       ]])"
      ]
     },
     "execution_count": 72,
     "metadata": {},
     "output_type": "execute_result"
    }
   ],
   "source": [
    "U"
   ]
  },
  {
   "cell_type": "markdown",
   "metadata": {},
   "source": [
    "Notice that both of these matrices maintain the same banded structure as\n",
    "the original matrix $A$. Notice that the inverse of $A$ loses the banded\n",
    "structure. Here is the inverse"
   ]
  },
  {
   "cell_type": "code",
   "execution_count": 73,
   "metadata": {},
   "outputs": [
    {
     "data": {
      "text/plain": [
       "matrix([[-0.83333333, -0.66666667, -0.5       , -0.33333333, -0.16666667],\n",
       "        [-0.66666667, -1.33333333, -1.        , -0.66666667, -0.33333333],\n",
       "        [-0.5       , -1.        , -1.5       , -1.        , -0.5       ],\n",
       "        [-0.33333333, -0.66666667, -1.        , -1.33333333, -0.66666667],\n",
       "        [-0.16666667, -0.33333333, -0.5       , -0.66666667, -0.83333333]])"
      ]
     },
     "execution_count": 73,
     "metadata": {},
     "output_type": "execute_result"
    }
   ],
   "source": [
    "A.I"
   ]
  },
  {
   "cell_type": "markdown",
   "metadata": {},
   "source": [
    "This is typical, and you should try to avoid calculating inverses in\n",
    "preference to LU factorisations."
   ]
  },
  {
   "cell_type": "markdown",
   "metadata": {},
   "source": [
    "Verify that **`L*U=A`**. Be careful here, remember that **`*`** has different results depending on **`L,U`** being arrays or matrices.  \n",
    "Also check that the inverse matrix above is in fact the inverse (or close enough)."
   ]
  },
  {
   "cell_type": "code",
   "execution_count": 75,
   "metadata": {},
   "outputs": [
    {
     "data": {
      "text/plain": [
       "matrix([[-2.,  1.,  0.,  0.,  0.],\n",
       "        [ 1., -2.,  1.,  0.,  0.],\n",
       "        [ 0.,  1., -2.,  1.,  0.],\n",
       "        [ 0.,  0.,  1., -2.,  1.],\n",
       "        [ 0.,  0.,  0.,  1., -2.]])"
      ]
     },
     "execution_count": 75,
     "metadata": {},
     "output_type": "execute_result"
    }
   ],
   "source": [
    "np.matrix(L)*np.matrix(U)"
   ]
  },
  {
   "cell_type": "code",
   "execution_count": 76,
   "metadata": {},
   "outputs": [
    {
     "data": {
      "text/plain": [
       "matrix([[ 1.00000000e+00,  0.00000000e+00,  0.00000000e+00,\n",
       "          0.00000000e+00,  0.00000000e+00],\n",
       "        [-1.11022302e-16,  1.00000000e+00, -2.22044605e-16,\n",
       "         -2.22044605e-16, -1.11022302e-16],\n",
       "        [-5.55111512e-17, -1.11022302e-16,  1.00000000e+00,\n",
       "          0.00000000e+00,  0.00000000e+00],\n",
       "        [ 8.32667268e-17,  1.66533454e-16,  2.22044605e-16,\n",
       "          1.00000000e+00,  1.11022302e-16],\n",
       "        [ 0.00000000e+00,  0.00000000e+00,  0.00000000e+00,\n",
       "          0.00000000e+00,  1.00000000e+00]])"
      ]
     },
     "execution_count": 76,
     "metadata": {},
     "output_type": "execute_result"
    }
   ],
   "source": [
    "A*A.I"
   ]
  },
  {
   "cell_type": "markdown",
   "metadata": {},
   "source": [
    "Now let’s use the decomposition to solve a matrix equation. Take\n",
    "${\\bf b} = [1 \\ \\ 1 \\ \\ \\cdots \\ \\ 1]^T$. To solve $A{\\bf x} = {\\bf b}$\n",
    "we can use"
   ]
  },
  {
   "cell_type": "code",
   "execution_count": 74,
   "metadata": {},
   "outputs": [],
   "source": [
    "#create a vector b\n",
    "b = np.matrix([[1],[1],[1],[1],[1]])"
   ]
  },
  {
   "cell_type": "code",
   "execution_count": 77,
   "metadata": {},
   "outputs": [],
   "source": [
    "from scipy.linalg import solve\n",
    "y = solve(L,b)\n",
    "x = solve(U,y)"
   ]
  },
  {
   "cell_type": "code",
   "execution_count": 78,
   "metadata": {},
   "outputs": [
    {
     "data": {
      "text/plain": [
       "array([[-2.5],\n",
       "       [-4. ],\n",
       "       [-4.5],\n",
       "       [-4. ],\n",
       "       [-2.5]])"
      ]
     },
     "execution_count": 78,
     "metadata": {},
     "output_type": "execute_result"
    }
   ],
   "source": [
    "#check the output of x\n",
    "x"
   ]
  },
  {
   "cell_type": "markdown",
   "metadata": {},
   "source": [
    "Actually we should use specially designed forward and backward\n",
    "substitution operators to undertake the $L$ and $U$ solves. In this\n",
    "case, Python uses a slightly different format to store the $L$ and $U$\n",
    "matrices."
   ]
  },
  {
   "cell_type": "code",
   "execution_count": 79,
   "metadata": {},
   "outputs": [],
   "source": [
    "from scipy.linalg import lu_factor, lu_solve\n",
    "Alu = lu_factor(A)\n",
    "x_new = lu_solve(Alu,b)"
   ]
  },
  {
   "cell_type": "code",
   "execution_count": 80,
   "metadata": {},
   "outputs": [
    {
     "data": {
      "text/plain": [
       "array([[-2.5],\n",
       "       [-4. ],\n",
       "       [-4.5],\n",
       "       [-4. ],\n",
       "       [-2.5]])"
      ]
     },
     "execution_count": 80,
     "metadata": {},
     "output_type": "execute_result"
    }
   ],
   "source": [
    "#check the output of x_new and compare to x\n",
    "x_new"
   ]
  },
  {
   "cell_type": "markdown",
   "metadata": {},
   "source": [
    "<span style=\"color:blue\">6. (10 points) Use the LU factorization from **`SciPy`** to solve the equation $Ax=b$ where $b=\\begin{bmatrix}1\\\\2\\\\3\\\\4\\\\5\\end{bmatrix}$ and $A$ is the matrix from the example above.</span>"
   ]
  },
  {
   "cell_type": "markdown",
   "metadata": {},
   "source": [
    "<span style=\"color:limegreen\">**Answer**:</span>"
   ]
  },
  {
   "cell_type": "code",
   "execution_count": 83,
   "metadata": {},
   "outputs": [
    {
     "data": {
      "text/plain": [
       "array([[ -5.83333333],\n",
       "       [-10.66666667],\n",
       "       [-13.5       ],\n",
       "       [-13.33333333],\n",
       "       [ -9.16666667]])"
      ]
     },
     "execution_count": 83,
     "metadata": {},
     "output_type": "execute_result"
    }
   ],
   "source": [
    "b = np.matrix([[1],[2],[3],[4],[5]])\n",
    "Alu = lu_factor(A)\n",
    "x_new = lu_solve(Alu,b)\n",
    "x_new"
   ]
  },
  {
   "cell_type": "markdown",
   "metadata": {},
   "source": [
    "### B3. Gaussian elimination for linear systems"
   ]
  },
  {
   "cell_type": "markdown",
   "metadata": {},
   "source": [
    "It is the time for us to write our own python function to implement the\n",
    "Gaussian elimination for solving linear system $A{\\bf x} ={\\bf b}$. We\n",
    "start from the Gaussian elimination with no pivoting whose pseudo code\n",
    "is:\n",
    "\n",
    "```\n",
    "M = [A  b]\n",
    "    for k=1:n-1\n",
    "      for i=k+1:n\n",
    "         q = M(i,k)/M(k,k)\n",
    "         for j = k:n+1\n",
    "             M(i,j) = M(i,j) - q*M(k,j)\n",
    "         end\n",
    "      end\n",
    "    end\n",
    "    x(n) = M(n,n+1)/M(n,n)\n",
    "    for i = n-1:-1:1\n",
    "        z = 0\n",
    "        for j=i+1:n\n",
    "            z = z + M(i,j)*x(j)\n",
    "        end\n",
    "        x(i) = (M(i,n+1)-z/M(i,i)\n",
    "    end\n",
    "```"
   ]
  },
  {
   "cell_type": "markdown",
   "metadata": {},
   "source": [
    "In the above algorithm, we use the augmented matrix $M$ by augmenting\n",
    "$b$ to the coefficient matrix $A$. In python this can be realized by\n",
    "using `column_stack` from numpy:"
   ]
  },
  {
   "cell_type": "code",
   "execution_count": 84,
   "metadata": {},
   "outputs": [
    {
     "name": "stdout",
     "output_type": "stream",
     "text": [
      "[[1 2 3 1]\n",
      " [4 5 6 2]\n",
      " [7 8 9 3]]\n"
     ]
    }
   ],
   "source": [
    "A = np.matrix([[1,2,3],[4,5,6],[7,8,9]])\n",
    "b = np.matrix([[1],[2],[3]])\n",
    "M = np.column_stack((A,b))\n",
    "print(M)"
   ]
  },
  {
   "cell_type": "markdown",
   "metadata": {},
   "source": [
    "Below is the python function for implementing the Gaussian elimination method to solve linear systems without pivoting. "
   ]
  },
  {
   "cell_type": "code",
   "execution_count": 98,
   "metadata": {},
   "outputs": [],
   "source": [
    "def GENP(A, b):\n",
    "    #    Gaussian elimination for solving A x = b with no pivoting.\n",
    "    n =  len(A)\n",
    "    M = np.column_stack((A,b))\n",
    "    for k in range(n-1):\n",
    "        for i in range(k+1, n):\n",
    "            multiplier = M[i,k]/M[k,k]\n",
    "            for j in range(k,n+1):\n",
    "                M[i,j] = M[i,j] - multiplier*M[k,j]\n",
    "    x = np.zeros((n,1))\n",
    "    k = n-1\n",
    "    #x[k] = M[k,n]/M[k,k]\n",
    "    #for i in range(n-1,1,-1):\n",
    "    #    z = 0\n",
    "    #    for j in range(i+1,n):\n",
    "    #        z = z + M[i,j]*x[j]\n",
    "    #    x[i] = (M[i,n]-z)/M[i,i]\n",
    "        \n",
    "    while k >= 0:\n",
    "        x[k] = (M[k,n] - np.dot(M[k,k+1:n],x[k+1:]))/M[k,k]\n",
    "        k = k-1\n",
    "    return x"
   ]
  },
  {
   "cell_type": "markdown",
   "metadata": {},
   "source": [
    "<span style=\"color:blue\">7. (30 points) Study the above python code and explain what each loop is doing to the matrix M. Use the code above to solve the linear system</span>\n",
    "\n",
    "$$\\begin{bmatrix}1&1&1&1\\\\ 1&-2&-2&-2\\\\ 1&4&-4&1\\\\ 1&-5&-5&3 \\end{bmatrix} \n",
    "   x = \\begin{bmatrix}0\\\\ 4\\\\ 2\\\\-4\\end{bmatrix}$$\n"
   ]
  },
  {
   "cell_type": "markdown",
   "metadata": {},
   "source": [
    "Explain the code:\n",
    "In the first big loop: for k from 0 to n-2, it use Gaussian elimination on k column to make elements below $M_{k, k}$ zero. This is done by several row operations: substracting a multiple of k row to the row below it, each with a specific multiplier. The multiplier, which corresponding to the operation to i row below, should be $M[i,k]/M[k,k]$. the following nested loop do this job: for i from k+1 to n-1, the code first calculate the multiplier, then substracting the multiplier times k row to i row by using the preceeding nested loop: we calculate all the element $M[i,j]$ (j from k to n) by substracting it by the multiplier times $M[k,j]$. (We do not need to do the calculation for the element $M[i,j]$ where j from 0 to n-1, because its value stays 0 after the elimination) \n",
    "\n",
    "The second while loop solves the linear equation by Backward Substitution \n",
    "$$x_k = {{y_k - \\sum_{m=k+1}^n u_{k,m} x_m } \\over u_{k,k}}, \\quad k = n-1,..., 0.$$. \n",
    "for k from n-1 to 0."
   ]
  },
  {
   "cell_type": "code",
   "execution_count": 99,
   "metadata": {},
   "outputs": [
    {
     "data": {
      "text/plain": [
       "array([[ 1.33333333],\n",
       "       [ 0.35416667],\n",
       "       [-0.1875    ],\n",
       "       [-1.5       ]])"
      ]
     },
     "execution_count": 99,
     "metadata": {},
     "output_type": "execute_result"
    }
   ],
   "source": [
    "#Use the code above to solve the linear system\n",
    "A = np.matrix([[1,1,1,1],[1,-2,-2,-2],[1,4,-4,1],[1,-5,-5,3]])\n",
    "b = np.matrix([[0],[4],[2],[-4]])\n",
    "x=GENP(A, b)\n",
    "x"
   ]
  },
  {
   "cell_type": "markdown",
   "metadata": {},
   "source": [
    "<span style=\"color:limegreen\">**Answer**:</span>"
   ]
  },
  {
   "cell_type": "markdown",
   "metadata": {},
   "source": [
    "Since not every square matrix can have an LU factorisation, it is\n",
    "necessary to use pivoting when Gaussian elimination is used to solve\n",
    "linear system. We have included the pseudo code of Gaussian elimination\n",
    "with partial pivoting in the lecture notes; it takes the following form\n",
    "(with slight modification):"
   ]
  },
  {
   "cell_type": "markdown",
   "metadata": {},
   "source": [
    "```\n",
    "M = [A  b]\n",
    "for k=1:n-1\n",
    "  select i >= k to maximize |M(i,k)|\n",
    "  M(k,k:n) <--> M(i,k:n)    (interchange two rows)\n",
    "  for j=k+1:n\n",
    "     q = M(j,k)/M(k,k)\n",
    "     M(j,k:n+1) = M(j,k:n+1) - q*M(k,k:n+1)\n",
    "  end\n",
    "end\n",
    "x(n) = M(n,n+1)/M(n,n)\n",
    "for i = n-1:-1:1\n",
    "   z = 0\n",
    "   x(i) = (M(i,n+1)-M(i, i+1:n)*x(i+1:n))/M(i,i)\n",
    "end\n",
    "```"
   ]
  },
  {
   "cell_type": "markdown",
   "metadata": {},
   "source": [
    "<span style=\"color:blue\">8. (30 points) Write a Python function to implement Gaussian elimination with partial pivoting by adapting the above code for Gaussian elimination with no pivoting (GENP) and test your code with the linear system in the previous exercise.  \n",
    "The key part you need to think over is to implement the pivot selection.</span>"
   ]
  },
  {
   "cell_type": "markdown",
   "metadata": {},
   "source": [
    "<span style=\"color:limegreen\">**Answer**:</span>"
   ]
  },
  {
   "cell_type": "code",
   "execution_count": 133,
   "metadata": {},
   "outputs": [],
   "source": [
    "def GEP(A, b):\n",
    "    #    Gaussian elimination for solving A x = b with no pivoting.\n",
    "    n =  len(A)\n",
    "    M = np.column_stack((A,b))\n",
    "    for k in range(n-1):\n",
    "        #select i .ge. k to maximize |M(i,k)|\n",
    "        #M(k,k:n) <--> M(i,k:n)         (interchange two rows)\n",
    "        Max = M[k,k]\n",
    "        m=k\n",
    "        for l in range(k+1, n):\n",
    "            if M[l,k]>Max:\n",
    "                Max=M[l,k]\n",
    "                m = l\n",
    "        I=np.zeros((1,n-k+1))\n",
    "        I[0:n-k+1]=M[k,k:n+1]\n",
    "        M[k,k:n+1]=M[m,k:n+1]\n",
    "        M[m,k:n+1]=I[0:n-k+1]\n",
    "        \n",
    "        for i in range(k+1, n):\n",
    "            multiplier = M[i,k]/M[k,k]\n",
    "            for j in range(k,n+1):\n",
    "                M[i,j] = M[i,j] - multiplier*M[k,j]\n",
    "    x = np.zeros((n,1))\n",
    "    k = n-1\n",
    "    \n",
    "    #x[k] = M[k,n]/M[k,k]\n",
    "    #for i in range(n-1,1,-1):\n",
    "    #    z = 0\n",
    "    #    for j in range(i+1,n):\n",
    "    #        z = z + M[i,j]*x[j]\n",
    "    #    x[i] = (M[i,n]-z)/M[i,i]\n",
    "        \n",
    "    while k >= 0:\n",
    "        x[k] = (M[k,n] - np.dot(M[k,k+1:n],x[k+1:]))/M[k,k]\n",
    "        k = k-1\n",
    "    return x"
   ]
  },
  {
   "cell_type": "code",
   "execution_count": 134,
   "metadata": {},
   "outputs": [
    {
     "data": {
      "text/plain": [
       "array([[ 1.33333333],\n",
       "       [ 0.35416667],\n",
       "       [-0.1875    ],\n",
       "       [-1.5       ]])"
      ]
     },
     "execution_count": 134,
     "metadata": {},
     "output_type": "execute_result"
    }
   ],
   "source": [
    "A = np.matrix([[1,1,1,1],[1,-2,-2,-2],[1,4,-4,1],[1,-5,-5,3]])\n",
    "b = np.matrix([[0],[4],[2],[-4]])\n",
    "x=GEP(A, b)\n",
    "x"
   ]
  },
  {
   "cell_type": "code",
   "execution_count": 135,
   "metadata": {},
   "outputs": [
    {
     "data": {
      "text/plain": [
       "array([[-1.],\n",
       "       [ 2.],\n",
       "       [ 2.]])"
      ]
     },
     "execution_count": 135,
     "metadata": {},
     "output_type": "execute_result"
    }
   ],
   "source": [
    "#An additional example\n",
    "#exact solution is [-1,2,2]T\n",
    "A1 = np.matrix([[2.,4.,-2.],[4.,9.,-3.],[-2.,-3.,7.]])\n",
    "b1 = np.matrix([[2.],[8.],[10.]])\n",
    "x=GEP(A1, b1)\n",
    "x"
   ]
  }
 ],
 "metadata": {
  "anaconda-cloud": {},
  "kernelspec": {
   "display_name": "Python 3",
   "language": "python",
   "name": "python3"
  },
  "language_info": {
   "codemirror_mode": {
    "name": "ipython",
    "version": 3
   },
   "file_extension": ".py",
   "mimetype": "text/x-python",
   "name": "python",
   "nbconvert_exporter": "python",
   "pygments_lexer": "ipython3",
   "version": "3.6.4"
  }
 },
 "nbformat": 4,
 "nbformat_minor": 1
}
