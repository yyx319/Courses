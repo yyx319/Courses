{
 "cells": [
  {
   "cell_type": "markdown",
   "metadata": {},
   "source": [
    "# Q1"
   ]
  },
  {
   "cell_type": "markdown",
   "metadata": {},
   "source": [
    "Q1.1\n",
    "\n",
    "Below is the formula for **a composite trapezoidal rule** $T_n(u)$ for $I = \\int_b^a u(x)dx$ which requires n function evaluations at equidistant quadrature\n",
    "points and where the first and the last quadrature points coincide with the\n",
    "integration bounds a and b, respectively.\n",
    "\n",
    "$$T(u) = \\sum_{k=1}^n q(f,x_{k-1},q_k) \n",
    "       = h\\left(\\frac{u(x_0)}{2}+\\sum_{k=1}^{n-1} u(x_k)+\\frac{u(x_n)}{2}\\right)$$\n",
    "where $x_k= a + kh$\n"
   ]
  },
  {
   "cell_type": "markdown",
   "metadata": {},
   "source": [
    "Q1.2\n",
    "\n",
    "From the problem\n",
    "For v(x) with $x \\in [0,1]$, we do the transformation of variables $x=\\alpha \\xi+\\beta$ such that\n",
    "\n",
    "$\\alpha+\\beta=1$\n",
    "\n",
    "$-\\alpha+\\beta=0$\n",
    "\n",
    "Therefore we can solve that\n",
    "$\\alpha=1/2$, $\\beta=1/2$\n",
    "giving the transformation\n",
    "$$x=\\frac{1}{2} \\xi+ \\frac{1}{2}$$\n",
    "\n",
    "Then we make transformation for integral:\n",
    "$dx=\\alpha d\\xi$\n",
    "$$I=\\int_0^1 v(x)dx=\\int \\alpha v(\\alpha \\xi +\\beta)d\\xi=\\int_{-1}^1 u(\\xi)d\\xi $$\n",
    "where\n",
    "$$u(\\xi)=\\alpha v(\\alpha \\xi +\\beta)=\\frac{1}{2}v(\\frac{1}{2} \\xi +\\frac{1}{2})$$"
   ]
  },
  {
   "cell_type": "markdown",
   "metadata": {},
   "source": [
    "Q1.3\n",
    "\n",
    "The transformed function introduced from previous question is\n",
    "$$u(\\xi)=\\alpha v(\\alpha \\xi +\\beta)=1/2v(1/2\\xi +1/2)\n",
    "=\\frac{1}{2}\\frac{\\xi+1}{2}\\frac{\\xi}{2}\\frac{\\xi-1}{2}\n",
    "=\\frac{\\xi(\\xi^2-1)}{16}$$\n",
    "\n",
    "We can see that u($\\xi$) is an odd function of $\\xi$, therefore\n",
    "$$\\int_{-1}^1 u(\\xi)d\\xi=0$$\n",
    "\n",
    "With 2 quadrature points, we calculate the integral values of\n",
    "\n",
    "midpoint rule:\n",
    "$Q(u)=(1-(-1))u(\\frac{1-1}{2})=2u(0)=0$\n",
    "\n",
    "trapezoidal rule:\n",
    "$T(u)=(1-(-1))\\frac{u(1)+u(-1)}{2}=0$\n",
    "\n",
    "Gaussian rule:\n",
    "As n=1, from lecture note:\n",
    "$Q(u)=u(-\\frac{1}{\\sqrt{3}})+u(\\frac{1}{\\sqrt{3}})=0$\n",
    "\n",
    "From observation, for this calculation these three methods are all accurate."
   ]
  },
  {
   "cell_type": "markdown",
   "metadata": {},
   "source": [
    "Q1.4\n",
    "\n",
    "For $u=(\\xi^2-1)^2$, we Compute the values of the (composite) trapezoidal rule for equidistant points, and 2,3 and 5 points:\n",
    "\n",
    "n=1 h=2: $$T(f)=2\\frac{u(-1)+u(1)}{2}=0$$\n",
    "n=2 h=1: $$T(f)=\\frac{u(-1)}{2}+u(0)+\\frac{u(1)}{2}=1$$\n",
    "n=4 h=1/2: $$T(f)=\\frac{1}{2}[\\frac{u(-1)}{2}+u(-\\frac{1}{2})+u(0)+u(\\frac{1}{2})+\\frac{u(1)}{2}]\n",
    "=\\frac{1}{2}(\\frac{9}{16}\\times 2 +1)=\\frac{17}{16}$$\n",
    "\n",
    "The exact calculation is:\n",
    "$$\\int_{-1}^1 (\\xi^2-1)^2 d\\xi = \\frac{16}{15}$$"
   ]
  },
  {
   "cell_type": "markdown",
   "metadata": {},
   "source": [
    "We construct the Romberg tableau $R_{i,j}$ using the equation\n",
    "$$R[j,0] = T(2^{-j}(b-a)) $$ \n",
    "$$R[j,k] = \\frac{4^kR[j,k-1] - R[j-1,k-1]}{4^k-1}$$\n",
    "and the following code similar to one in lecture. "
   ]
  },
  {
   "cell_type": "code",
   "execution_count": 1,
   "metadata": {},
   "outputs": [],
   "source": [
    "import sympy as sy\n",
    "import numpy as np\n",
    "import math"
   ]
  },
  {
   "cell_type": "code",
   "execution_count": 2,
   "metadata": {},
   "outputs": [
    {
     "name": "stdout",
     "output_type": "stream",
     "text": [
      "[[0.         0.         0.         0.        ]\n",
      " [1.         1.33333333 0.         0.        ]\n",
      " [1.0625     1.08333333 1.06666667 0.        ]\n",
      " [1.06640625 1.06770833 1.06666667 1.06666667]]\n",
      "exact value: 1.0666666666666667\n"
     ]
    }
   ],
   "source": [
    "import numpy as np\n",
    "f  = lambda x : (x**2-1)**2\n",
    "intf = 16/15\n",
    "\n",
    "# trapezoidal rule\n",
    "T = lambda f,n,a=-1.0,b=1.0 : (b-a)/n*((f(a)+f(b))/2.0 \\\n",
    "    + np.sum(f(np.linspace(a+(b-a)/n,b-(b-a)/n,n-1))))\n",
    "\n",
    "\n",
    "mr = 4; h = 0.1\n",
    "R = np.zeros((mr,mr))\n",
    "for n in range(mr):\n",
    "    R[n,0] = T(f,2**n)\n",
    "for k in range(1,mr):\n",
    "    for j in range(k,mr):\n",
    "        R[j,k] = (4**k*R[j,k-1] - R[j-1,k-1])/(4**k-1)\n",
    "print(R)\n",
    "print(\"exact value: {}\".format(intf))"
   ]
  },
  {
   "cell_type": "markdown",
   "metadata": {},
   "source": [
    "We use error approximation $e_h \\approx R[j,j] - R[j+1,j+1]$ for calculation,\n",
    "\n",
    "n=1 j=0 $e_h \\approx 1.33$\n",
    "\n",
    "n=2 j=1 $e_h \\approx 0.26$\n",
    "\n",
    "n=4 j=2 $e_h \\approx 0$\n",
    "\n",
    "Hence we conclude that the calculation with 5 points is exact.\n",
    "\n",
    "Also, from the Euler-Maclaurin formula,\n",
    "\\begin{align*} T(f,h) - \\int_a^b f(x)\\, dx &= \\sum_{k=1}^{m-1} h^{2k} \n",
    "\\frac{B_{2k}}{(2k)!}\\left(f^{(2k-1)}(b) - f^{(2k-1)}(a)\\right) \\\\ &+\n",
    "h^{2m}\\frac{B_{2m}}{(2m)!}(b-a)f^{(2m)}(\\xi)\\end{align*} \n",
    "(where $B_{2k}$ are the Bernoulli numbers)\n",
    "\n",
    "we know that the columns converge and become more precise as j increases. Hence the calculation with 5 points is exact."
   ]
  },
  {
   "cell_type": "markdown",
   "metadata": {},
   "source": [
    "Q1.5\n",
    "\n",
    "\n",
    "Gauss quadrature with $n+1$ points is exact for all polynomials $p(x)$ of degree up to $2n+1$, i.e.,\n",
    "$$Q(p) = \\int_{-1}^1 p(x)\\, dx$$\n",
    "\n",
    "the degree of polynomial $u=(\\xi^2-1)^2$ is 4, so n=2 and 3 quadrature points is enough."
   ]
  },
  {
   "cell_type": "markdown",
   "metadata": {},
   "source": [
    "We compute the legendre polynomials for degree up to 3 recursively, starting with $q_0(x)=1$ and\n",
    "$$q_{k+1}(x) = xq_k(x) - c_{k-1}q_{k-1}(x)$$\n",
    "where\n",
    "$$c_{k-1} = \\frac{\\int_{-1}^1 x q_k(x) q_{k-1}(x)\\, dx}{\\int_{-1}^1 q_{k-1}^2\\, dx}$$ "
   ]
  },
  {
   "cell_type": "code",
   "execution_count": 3,
   "metadata": {},
   "outputs": [
    {
     "name": "stdout",
     "output_type": "stream",
     "text": [
      "q1(x) = x\n",
      "q2(x) = x**2 - 1/3\n",
      "q3(x) = x**3 - 3*x/5\n"
     ]
    }
   ],
   "source": [
    "# computing Legendre polynomials qk(x)\n",
    "n = 3\n",
    "\n",
    "x = sy.Symbol('x')\n",
    "\n",
    "qkm1 = 1\n",
    "qk   = x\n",
    "\n",
    "for k in range(n):\n",
    "    qkp1 = sy.simplify(x*qk - sy.integrate(x*qk*qkm1,(x,-1,1))/sy.integrate(qkm1**2,(x,-1,1))*qkm1)\n",
    "    qkm1 = sy.expand(qk)\n",
    "    qk   = qkp1\n",
    "\n",
    "    print(\"q{:1d}(x) = {}\".format(k+1,qkm1))"
   ]
  },
  {
   "cell_type": "markdown",
   "metadata": {},
   "source": [
    "3 quadrature points $z_k$ are the zeros of the Legendre polynomial $q_{3}$"
   ]
  },
  {
   "cell_type": "code",
   "execution_count": 4,
   "metadata": {},
   "outputs": [
    {
     "data": {
      "text/plain": [
       "array([-0.77459667,  0.        ,  0.77459667])"
      ]
     },
     "execution_count": 4,
     "metadata": {},
     "output_type": "execute_result"
    }
   ],
   "source": [
    "# compute the Gauss quadrature points\n",
    "c = sy.Poly(qkm1).all_coeffs() # Legendre coefficients\n",
    "z = np.roots(c)  # zeros Legendre fct = quad. pts\n",
    "z.sort() # sort by size\n",
    "z"
   ]
  },
  {
   "cell_type": "markdown",
   "metadata": {},
   "source": [
    "We compute the weights using the Lagrange interpolation formula, which is \n",
    "$$w_k = \\int_{-1}^1 l_k(x)\\, dx$$"
   ]
  },
  {
   "cell_type": "code",
   "execution_count": 5,
   "metadata": {},
   "outputs": [
    {
     "name": "stdout",
     "output_type": "stream",
     "text": [
      "\n",
      " n = 2:\n",
      "w0 = 0.5556   w1 = 0.8889   w2 = 0.5556   "
     ]
    }
   ],
   "source": [
    "# compute the weights\n",
    "n = z.shape[0]-1\n",
    "w = np.zeros(n+1)\n",
    "x = sy.Symbol('x')\n",
    "print(\"\\n n = {}:\".format(n))\n",
    "for j in range(n+1):\n",
    "    lj = 1\n",
    "    for k in range(n+1):\n",
    "        if (k!=j): lj *= (x-z[k])/(z[j]-z[k])\n",
    "    w[j] = float(sy.integrate(lj,(x,-1,1)))\n",
    "    print(\"w{} = {:4.4f}\".format(j,w[j]),end='   ')"
   ]
  },
  {
   "cell_type": "markdown",
   "metadata": {},
   "source": [
    "# Q2"
   ]
  },
  {
   "cell_type": "markdown",
   "metadata": {},
   "source": [
    "Q2.1\n",
    "\n",
    "For $n=2$ \n",
    "$x_k=0,1,2$\n",
    "We use the method of undertermined coefficient\n",
    "$$D_h(u,\\xi) = \\sum_{k=0}^n c_k u(\\xi_k)$$\n",
    "\n",
    "consider monomials $p(x) = 1, x, x^2, \\ldots$\n",
    "system of equations with Vandermonde matrix\n",
    "  $$\\begin{bmatrix} 1 & 1 & 1 \\\\ 0 & 1 & 2 \\\\ 0 & 1 & 4 \\end{bmatrix}\n",
    "    \\begin{bmatrix} c_0 \\\\ c_1 \\\\ c_2 \\end{bmatrix} =\n",
    "    \\begin{bmatrix} 0 \\\\ 1 \\\\ 2x \\end{bmatrix}$$\n",
    "\n",
    "by Gaussian elimination:\n",
    "  $$\\begin{bmatrix} 1 & 1 & 1 \\\\ 0 & 1 & 2 \\\\ 0 & 0 & 2 \\end{bmatrix}\n",
    "    \\begin{bmatrix} c_0 \\\\ c_1 \\\\ c_2 \\end{bmatrix} =\n",
    "    \\begin{bmatrix} 0 \\\\ 1 \\\\ 2\\xi-1 \\end{bmatrix}$$\n",
    "\n",
    "we get the solution for coefficient\n",
    "  $$c_2 = \\xi-1/2,\\; c_1 = 2(1-\\xi),\\; c_0 = \\xi-3/2$$\n",
    "  \n",
    "  \n",
    "By transformation $z = x + \\xi h$, $u(\\xi) = v(x+\\xi h)$ and\n",
    "$u^\\prime(\\xi) = h v^\\prime(x+\\xi h)$\n",
    "\n",
    "We get the approximation formula for $v'(z)$\n",
    "$$v^\\prime(z)=\\frac{u^\\prime(\\xi)}{h}\\approx \\frac{c_0 u(0)+c_1 u(1)+c_2 u(2)}{h}=\\frac{(\\xi-3/2) v(x)+2(1-\\xi) v(x+h)+(\\xi-1/2) v(x+2h)}{h}$$\n",
    "    \n",
    "The coefficients is computed such that formula is exact for polynomials $p$ of degree up to $n=2$\n",
    "$$D_h(p,x) = p^\\prime(x)$$ \n",
    "so this approxiamtion is equal to v'(z) at any $z \\in R$ for $v(z)= 1, z, z^2$ \n",
    "\n",
    "Coefficients for $\\xi = 3/4$ are therefore:\n",
    "\n",
    "$$c_0 = \\xi-3/2 = -3/4,\\;  c_1 = 2(1-\\xi)=1/2,\\; c_2 = \\xi-1/2 = 1/4$$\n",
    "And the approximation formula reads:\n",
    "\n",
    "$$v^\\prime(z)=v^\\prime(x+\\frac{3}{4} h)\\approx\\frac{-\\frac{3}{4} v(x)+\\frac{1}{2} v(x+h)+\\frac{1}{4} v(x+2h)}{h}$$"
   ]
  },
  {
   "cell_type": "markdown",
   "metadata": {},
   "source": [
    "Q2.2\n",
    "\n",
    "Using the approximation formula above for $v(x)=e^x$, $\\xi=3/4$ and transformation $z=\\xi h=\\frac{3}{4} h$, we get: \n",
    "$$v^\\prime(z)=v^\\prime(\\frac{3}{4} h)\\approx \\frac{-\\frac{3}{4} v(0)+ \\frac{1}{2} v(h)+ \\frac{1}{4} v(2h)}{h}=\\frac{-\\frac{3}{4} + \\frac{1}{2} e^h+ \\frac{1}{4} e^{2h}}{h}$$\n",
    "We calculate its value for $h=1, 0.5, 0.25$\n",
    "\n",
    "$h=1$  $v^\\prime(\\xi h)\\approx 2.46$\n",
    "\n",
    "$h=0.5$ $v^\\prime(\\xi h)\\approx 1.51$\n",
    "\n",
    "$h=0.25$ $v^\\prime(\\xi h)\\approx 1.22$\n",
    "\n",
    "The real value for this problem is \n",
    "$$v^\\prime(\\xi h)=e^{\\xi h}=e^{\\frac{3}{4} h}$$\n",
    "$h=1$ $v^\\prime(\\xi h)=2.12$, \n",
    "\n",
    "$h=0.5$ $v^\\prime(\\xi h)=1.45$,\n",
    "\n",
    "$h=0.25$ $v^\\prime(\\xi h)=1.21$\n",
    "\n",
    "The error is \n",
    "\n",
    "$h=1$ $e(\\xi h)=0.339$, \n",
    "\n",
    "$h=0.5$ $e(\\xi h)=0.053$, \n",
    "\n",
    "$h=0.25$ $e(\\xi h)=0.011$\n",
    "\n",
    "From the value We can guess that the dependence of the error on h  is quadratic since as the h decrease to half of its previous value, the corresponding error decrease to approximate a quarter of its previous value. \n",
    "\n",
    "In the following code, we study the dependence of the error on h in a wider range of $h$ ($10^{-8}$~$1$)."
   ]
  },
  {
   "cell_type": "code",
   "execution_count": 30,
   "metadata": {},
   "outputs": [
    {
     "data": {
      "image/png": "[encoded data removed]",
      "text/plain": [
       "<Figure size 432x288 with 1 Axes>"
      ]
     },
     "metadata": {
      "needs_background": "light"
     },
     "output_type": "display_data"
    }
   ],
   "source": [
    "import matplotlib.pyplot as plt\n",
    "h=np.logspace(0,-8,100)\n",
    "approx = (-0.75+0.5*np.exp(h)+0.25*np.exp(2.*h))/h\n",
    "real = np.exp(0.75*h)\n",
    "errvec= approx - real\n",
    "\n",
    "h1=np.logspace(0,-6,100)\n",
    "\n",
    "plt.loglog(h, abs(errvec),label=\"error\")\n",
    "plt.loglog(h1,h1**2,label=\"second order\")\n",
    "plt.xlabel(\"h\")\n",
    "plt.ylabel(\"error\")\n",
    "plt.legend()\n",
    "plt.gca().invert_xaxis()\n",
    "plt.show()"
   ]
  },
  {
   "cell_type": "markdown",
   "metadata": {},
   "source": [
    "From the plot in loglog space we can clearly see that the dependence of the error on h is quadratic before rounding error dominates."
   ]
  },
  {
   "cell_type": "markdown",
   "metadata": {},
   "source": [
    "Q2.3\n",
    "\n",
    "By taylor expansion  including third order error term:\n",
    "$$ v(x)=v(x+\\xi h)-v'(x+\\xi h)\\xi h +\\frac{v''(x+\\xi h)}{2}\\xi^2 h^2 + \\frac{v'''(x+\\xi h)}{6}\\xi^3 h^3+O(h^4)$$\n",
    "$$ v(x+h)=v(x+\\xi h)+v'(x+\\xi h)(1-\\xi) h +\\frac{v''(x+\\xi h)}{2}(1-\\xi)^2 h^2 + \\frac{v'''(x+\\xi h)}{6}(1-\\xi)^3 h^3+O(h^4)$$\n",
    "$$ v(x+2h)=v(x+\\xi h)+v'(x+\\xi h)(2-\\xi) h +\\frac{v''(x+\\xi h)}{2}(2-\\xi)^2 h^2 + \\frac{v'''(x+\\xi h)}{6}(2-\\xi)^3 h^3+O(h^4)$$\n",
    "\n",
    "We plug the above expansion into the approximation formula for derivative\n",
    "\n",
    "$$\\frac{(\\xi-3/2) v(x)+2(1-\\xi) v(x+h)+(\\xi-1/2) v(x+2h)}{h}=v'(x+\\xi h)+\\frac{(2\\xi^4-3\\xi^3-3\\xi^2+6\\xi-2)v'''(x+\\xi h)}{6}h^2+O(h^3)$$\n",
    "The truncation error formula\n",
    "\n",
    "$$e=v'(x+\\xi h)-\\frac{(\\xi-3/2) v(x)+2(1-\\xi) v(x+h)+(\\xi-1/2) v(x+2h)}{h}=\\frac{(2\\xi^4-3\\xi^3-3\\xi^2+6\\xi-2)v'''(x+\\xi h)}{6}h^2+O(h^3)=O(h^2)$$\n",
    "\n",
    "\n",
    "We apply this formula to previous problem x=0, $\\xi=3/4$ and $v(z)=exp(z)$\n",
    "\n",
    "$$e=\\frac{23v'''(\\frac{3}{4} h)}{768}h^2+O(h^3)=O(h^2)$$\n",
    "\n",
    "We also including rounding error\n",
    "\n",
    "$$\\frac{\\frac{3}{4} |v(0)|+\\frac{1}{2} |v(h)|+\\frac{1}{4} |v(2h)|}{h}\\epsilon \\approx \\frac{3v(\\frac{3}{4}h)\\epsilon}{2h}$$\n",
    "\n",
    "The total error are hence\n",
    "\n",
    "$$|e|=\\frac{|23v'''(\\frac{3}{4} h)|}{768}h^2+\\frac{3v(\\frac{3}{4}h)\\epsilon}{2h}+O(h^3)=(\\frac{23}{768}h^2+\\frac{3 \\epsilon}{2h})exp(\\frac{3}{4} h)+O(h^3)$$\n",
    "\n",
    "We compare our analytical formula with the real error and choose $\\epsilon=10^{-16}$ in the following code."
   ]
  },
  {
   "cell_type": "code",
   "execution_count": 29,
   "metadata": {},
   "outputs": [
    {
     "data": {
      "text/plain": [
       "<matplotlib.legend.Legend at 0x15b13a26908>"
      ]
     },
     "execution_count": 29,
     "metadata": {},
     "output_type": "execute_result"
    },
    {
     "data": {
      "image/png": "[encoded data removed]",
      "text/plain": [
       "<Figure size 432x288 with 1 Axes>"
      ]
     },
     "metadata": {
      "needs_background": "light"
     },
     "output_type": "display_data"
    }
   ],
   "source": [
    "ana = (23*h**2/768+3e-16/(2*h))*np.exp(0.75*h)\n",
    "plt.loglog(h,ana,label=\"analytical formula\")\n",
    "plt.loglog(h, abs(errvec), label=\"error\")\n",
    "plt.gca().invert_xaxis()\n",
    "plt.xlabel(\"h\")\n",
    "plt.ylabel(\"error\")\n",
    "plt.legend()"
   ]
  },
  {
   "cell_type": "markdown",
   "metadata": {},
   "source": [
    "Get the lower error bound by"
   ]
  },
  {
   "cell_type": "code",
   "execution_count": 28,
   "metadata": {},
   "outputs": [
    {
     "data": {
      "text/plain": [
       "1.6599614189045085e-11"
      ]
     },
     "execution_count": 28,
     "metadata": {},
     "output_type": "execute_result"
    }
   ],
   "source": [
    "np.min(ana)"
   ]
  },
  {
   "cell_type": "markdown",
   "metadata": {},
   "source": [
    "The above error formula agrees well with the real case.\n",
    "As h can be arbitarily small, there is no upper bound from the error formula.\n",
    "\n",
    "From the code, the lower bound is $1.66\\times10^{-11}$, which is smaller than the value in Q2.2"
   ]
  },
  {
   "cell_type": "markdown",
   "metadata": {},
   "source": [
    "# Q3"
   ]
  },
  {
   "cell_type": "markdown",
   "metadata": {},
   "source": [
    "Q3.1\n",
    "\n",
    "The ODE reads\n",
    "$$\\frac{du}{dt}=u$$\n",
    "Therefore\n",
    "$$\\frac{du}{u}=dt$$\n",
    "By integration we get\n",
    "$$u=Ce^t$$\n",
    "Initial value u(0)=1 tells us that C=1\n",
    "So the exact solution is:\n",
    "$$u=e^t$$"
   ]
  },
  {
   "cell_type": "markdown",
   "metadata": {},
   "source": [
    "Q3.2\n",
    "\n",
    "From ODE we know $f(t,u)=u$\n",
    "\n",
    "Euler's method is \n",
    "$$u_{k+1} = u_k + (t_{k+1}-t_k) f(t_k, u_k)$$\n",
    "for equidistant grid($t_k=hk$) $$u_{k+1} = u_k + h f(t_k,u_k)=u_k + h u_k=(1+h)u_k$$\n",
    "As $u_0=u(t_0)=u(0)=1$\n",
    "$$u_k=(1+h)^k u_0 = (1+h)^k$$\n",
    "\n",
    "as the approximation for $u(t_k)$, with $t_k = hk$"
   ]
  },
  {
   "cell_type": "markdown",
   "metadata": {},
   "source": [
    "Q3.3\n",
    "\n",
    "We use the formula\n",
    "$ln(1+h)= h−0.5h^2 +O(h^3)$ and $t_k = hk$\n",
    "\n",
    "Therefore\n",
    "$$ln[(1+h)^k]=klog(1+h)=\\frac{t_k}{h}(h−0.5h^2 +O(h^3))=t_k(1-0.5h)+O(h^2)$$\n",
    "We calculate the exponential of them and use taylor expansion in the last step:\n",
    "$$(1+h)^k=e^{t_k(1-0.5h)+O(h^2)}=e^{-0.5ht_k+O(h^2)}e^{t_k}=(1-0.5ht_k+O(h^2))e^{t_k}$$\n",
    "We finally get\n",
    "$$u(t_k) − u_k = e^{t_k}-(1+h)^k = e^{t_k}-(1-0.5ht_k+O(h^2))e^{t_k}=0.5ht_ke^{t_k}+O(h^2)$$"
   ]
  }
 ],
 "metadata": {
  "kernelspec": {
   "display_name": "Python 3",
   "language": "python",
   "name": "python3"
  },
  "language_info": {
   "codemirror_mode": {
    "name": "ipython",
    "version": 3
   },
   "file_extension": ".py",
   "mimetype": "text/x-python",
   "name": "python",
   "nbconvert_exporter": "python",
   "pygments_lexer": "ipython3",
   "version": "3.7.0"
  }
 },
 "nbformat": 4,
 "nbformat_minor": 2
}
