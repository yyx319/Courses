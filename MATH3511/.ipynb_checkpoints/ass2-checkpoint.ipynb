{
 "cells": [
  {
   "cell_type": "markdown",
   "metadata": {},
   "source": [
    "remember to upload pdf\n",
    "Q1.1a\n",
    "\n",
    "We can know that E is a elementary matrix.\n",
    "$$\n",
    "E=\\left[\\begin{array}{cccc}\n",
    "1 & 0 & 0 & 0\\\\\n",
    "0 & 1 & 0 & 0\\\\\n",
    "0 & {-\\frac{x_3}{x_2}} & 1 & 0\\\\\n",
    "0 & {-\\frac{x_4}{x_2}} & 0 & 1\n",
    "\\end{array}\\right]=I-ue_2^{T}\n",
    "$$\n",
    "\n",
    "Hence\n",
    "$$\n",
    "ue_2^{T}=\\left[\\begin{array}{cccc}\n",
    "0 & 0 & 0 & 0\\\\\n",
    "0 & 0 & 0 & 0\\\\\n",
    "0 & \\frac{x_3}{x_2} & 0 & 0\\\\\n",
    "0 & \\frac{x_4}{x_2} & 0 & 0\n",
    "\\end{array}\\right]\n",
    "$$\n",
    "\n",
    "Also,\n",
    "$$\n",
    "e_2^{T}=\\left[\\begin{array}{cccc}\n",
    "0 & 1 & 0 & 0\\\\\n",
    "\\end{array}\\right]\n",
    "$$\n",
    "Hence\n",
    "$$u=\\left[\\begin{array}{cccc}\n",
    "0 & 0 & \\frac{x_3}{x_2} & \\frac{x_4}{x_2}\\\\\n",
    "\\end{array}\\right]^T$$"
   ]
  },
  {
   "cell_type": "markdown",
   "metadata": {},
   "source": [
    "Q1.1b\n",
    "\n",
    "$$\n",
    "I-\\alpha e_3e_2^{T}=\\left[\\begin{array}{cccc}\n",
    "1 & 0 & 0 & 0\\\\\n",
    "0 & 1 & 0 & 0\\\\\n",
    "0 & 1-\\alpha & 1 & 0\\\\\n",
    "0 & 0 & 0 & 1\n",
    "\\end{array}\\right]\n",
    "$$\n",
    "\n",
    "$$\n",
    "I-\\beta e_4e_2^{T}=\\left[\\begin{array}{cccc}\n",
    "1 & 0 & 0 & 0\\\\\n",
    "0 & 1 & 0 & 0\\\\\n",
    "0 & 0 & 1 & 0\\\\\n",
    "0 & 1-\\beta & 0 & 1\n",
    "\\end{array}\\right]\n",
    "$$\n",
    "\n",
    "$$\n",
    "M=(I-\\alpha e_3e_2^{T})(I-\\beta e_4e_2^{T})=\\left[\\begin{array}{cccc}\n",
    "1 & 0 & 0 & 0\\\\\n",
    "0 & 1 & 0 & 0\\\\\n",
    "0 & 1-\\alpha & 1 & 0\\\\\n",
    "0 & 1-\\beta & 0 & 1\n",
    "\\end{array}\\right]\n",
    "$$\n",
    "\n",
    "$M=I-m_k e_k^T$\n",
    "where $m_k=[0\\ 0\\ \\alpha-1\\ \\beta-1]^T$\n",
    "so M is a elementary matrix."
   ]
  },
  {
   "cell_type": "markdown",
   "metadata": {},
   "source": [
    "Q1.c\n",
    "\n",
    "$$x=M^{-1}\\left[\\begin{array}{c}\n",
    "0 \\\\\n",
    "4\\\\\n",
    "0\\\\\n",
    "0\n",
    "\\end{array}\\right]=\n",
    "\\left[\\begin{array}{c}\n",
    "0 \\\\\n",
    "4\\\\\n",
    "4(\\alpha-1)\\\\\n",
    "4(\\beta-1)\n",
    "\\end{array}\\right]$$"
   ]
  },
  {
   "cell_type": "markdown",
   "metadata": {},
   "source": [
    "Q2.a\n",
    "\n",
    "$x^{k+1}-x^*=x^{k}-x^*-\\omega A(x^{k}-x^*)=(I-\\omega A)(x^k-x^*)$\n",
    "\n",
    "$e^{(k+1)}=Ee^k$\n",
    "\n",
    "$e^k=E^ke^0$, where $E=I-\\omega A$\n",
    "\n",
    "The eigenvalues for $E=I-\\omega A$ are $\\lambda= 1-\\omega ,1-\\frac{1}{4}\\omega ,1-\\frac{1}{9}\\omega, 1-\\frac{1}{16}\\omega$\n",
    "\n",
    "In order to make the method convergent\n",
    "$\\rho(E)=max(|\\lambda|)<1$\n",
    "\n",
    "We need to require $0<\\omega<2$\n",
    "\n",
    "When $\\omega=\\frac{32}{17}$\n",
    "$\\rho(E)_{min}=\\frac{15}{17}$\n",
    "The best possible value is 32/17"
   ]
  },
  {
   "cell_type": "markdown",
   "metadata": {},
   "source": [
    "Q2.b\n",
    "\n",
    "For Jacobi $M_J=D$ and \n",
    "$E_J=I-D^{-1}A$\n",
    "$$D=\\left[\\begin{array}{cccc}\n",
    "4 & 0 & 0 & 0\\\\\n",
    "0 & 5 & 0 & 0\\\\\n",
    "0 & 0 & 6 & 0\\\\\n",
    "0 & 0 & 0 & 3\n",
    "\\end{array}\\right] $$\n",
    "\n",
    "$$D^{-1}=\\left[\\begin{array}{cccc}\n",
    "\\frac{1}{4} & 0 & 0 & 0\\\\\n",
    "0 & \\frac{1}{5} & 0 & 0\\\\\n",
    "0 & 0 & \\frac{1}{6} & 0\\\\\n",
    "0 & 0 & 0 & \\frac{1}{3}\n",
    "\\end{array}\\right] $$\n",
    "\n",
    "$$E_J=I-D^{-1}A=\\left[\\begin{array}{cccc}\n",
    "0& \\frac{1}{4}  & 0 & 0\\\\\n",
    "\\frac{1}{5}  & 0 & \\frac{1}{5}  & 0\\\\\n",
    "0 & \\frac{1}{6}  & 0 & \\frac{1}{6} \\\\\n",
    "0 & 0 & \\frac{1}{3}  & 0\n",
    "\\end{array}\\right]\n",
    "$$\n",
    "\n",
    "From the equation\n",
    "$$\\begin{aligned}\n",
    "    \\rho(E_J)& = \\rho(D E_J D^{-1}) = \\rho((L+U) D^{-1}) \\le \\|(L+U) D^{-1}\\|_1 \\\\\n",
    "    & = \\max_{1\\le j\\le n} \\frac{1}{|a_{j,j}|} \\sum_{\\scriptstyle i=1 \\atop \\scriptstyle i\\ne j}^n |a_{i,j}|.\\end{aligned}$$\n",
    " \n",
    "we know\n",
    "$\\rho(E_J)=max\\{\\frac{1}{4},\\frac{2}{5},\\frac{1}{3}\\}=\\frac{2}{5}<1$\n",
    "so converge rate:2/5"
   ]
  },
  {
   "cell_type": "markdown",
   "metadata": {},
   "source": [
    "Q3.a\n",
    "\n",
    "I prove $d_k^Td_{k+1}=0$\n",
    "\n",
    "$$d_k^T d_{k+1}=d_k^T (b- A x_{k+1})=d_k^T (b- A x_{k}-A\\alpha_k d_k)\n",
    "=d_k^T (b- A x_{k})- d_k^T A (\\displaystyle{\\frac{d_k^T d_k}{d_k^T A d_k}}) d_k\n",
    "=d_k^T d_k - d_k^T A d_k\\displaystyle{\\frac{d_k^T d_k}{d_k^T A d_k}}\n",
    "=d_k^T d_k-d_k^T d_k=0$$\n",
    "\n",
    "So the direction vectors d$_k$ and d$_{k+1}$ are orthogonal."
   ]
  },
  {
   "cell_type": "code",
   "execution_count": 44,
   "metadata": {},
   "outputs": [
    {
     "name": "stdout",
     "output_type": "stream",
     "text": [
      "[6.86247002 4.79195236 1.67195183 2.67362578]\n"
     ]
    },
    {
     "data": {
      "text/plain": [
       "4.104466337282004"
      ]
     },
     "execution_count": 44,
     "metadata": {},
     "output_type": "execute_result"
    }
   ],
   "source": [
    "#firstly we claculate the eigenvalue of the matrix A, and the ratio of the \n",
    "#maximum eigenvalue and minimum eigenvalue. \n",
    "from numpy import linalg as la\n",
    "A=np.array([[2,-1,0,0],\n",
    "           [-1,5,-1,0],\n",
    "           [0,-1,6,-1],\n",
    "           [0,0,-1,3]])\n",
    "w, v = la.eig(A)\n",
    "print(w)\n",
    "k=max(w)/min(w)\n",
    "k"
   ]
  },
  {
   "cell_type": "markdown",
   "metadata": {},
   "source": [
    "Q3.b\n",
    "\n",
    "by defination \n",
    "$x=[a, b, c, d]^T$\n",
    "$$x^TAx=[a,b,c,d]\\left[\\begin{array}{cccc}\n",
    "2 & -1 & 0 & 0\\\\\n",
    "-1 & 5 & -1  & 0\\\\\n",
    "0 & -1 & 6 & -1 \\\\\n",
    "0 & 0 & -1 & 3\n",
    "\\end{array}\\right]\n",
    "\\left[\\begin{array}{c}\n",
    "a \\\\\n",
    "b\\\\\n",
    "c\\\\\n",
    "d\n",
    "\\end{array}\\right]\n",
    "=[a,b,c,d]\\left[\\begin{array}{c}\n",
    "2a-b \\\\\n",
    "-a+5b-c\\\\\n",
    "-b+6c-d\\\\\n",
    "-c+3d\n",
    "\\end{array}\\right]\n",
    "=a^2+3b^2+4c^2+2d^2+(a-b)^2+(b-c)^2+(c-d)^2>0\n",
    "if x\\neq 0$$\n",
    "A is positive definite.\n",
    "\n",
    "Or because the eigenvalues of A are all positive, hence A is positive difinite.\n",
    "\n",
    "\n",
    "By the calculation above, The condition number for A is given by \n",
    "$$\\kappa(A) = \\frac{\\lambda_{\\max}(A)}{\\lambda_{\\min}(A)}\\approx4.10$$\n",
    "The \n",
    "$e^k\\leq 2(\\frac{\\sqrt\\kappa-1}{\\sqrt\\kappa+1})^k e^0\\approx 2(0.34)^k e^0$\n",
    "$2(0.34)^k$ is  always less than 1 and convergent.\n",
    "\n",
    "So this method is convergent."
   ]
  },
  {
   "cell_type": "markdown",
   "metadata": {},
   "source": [
    "Q4.a\n",
    "\n",
    "f(0)=-2 f(4)=222\n",
    "f(0)f(4)<0\n",
    "hence f(x) has a zero in the intervall $[0, 4]$"
   ]
  },
  {
   "cell_type": "markdown",
   "metadata": {},
   "source": [
    "Q4.b\n",
    "\n",
    "We consider the problem in analytical way and numerical way:\n",
    "\n",
    "error tolerance achieved when $(b_0-a_0)/2^{n+1}\\leq \\delta=0.01$\n",
    "i.e. $(4-0)/2^{n+1}\\leq 0.01$\n",
    "\n",
    "$n\\geq2log_2(10)+1$\n",
    "\n",
    "The number of iteration steps required is that\n",
    "$n\\geq 8$\n"
   ]
  },
  {
   "cell_type": "code",
   "execution_count": 47,
   "metadata": {},
   "outputs": [
    {
     "name": "stdout",
     "output_type": "stream",
     "text": [
      "exact solution: 2.07722\n",
      "interval [0,4] contains the zero? True\n",
      "     0 iterations: [a,b]=[     2,     4], x=3.00000e+00, e= 9.2e-01\n",
      "     1 iterations: [a,b]=[     2,     3], x=2.50000e+00, e= 4.2e-01\n",
      "     2 iterations: [a,b]=[     2,   2.5], x=2.25000e+00, e= 1.7e-01\n",
      "     3 iterations: [a,b]=[     2,  2.25], x=2.12500e+00, e= 4.8e-02\n",
      "     4 iterations: [a,b]=[     2, 2.125], x=2.06250e+00, e=-1.5e-02\n",
      "     5 iterations: [a,b]=[ 2.062, 2.125], x=2.09375e+00, e= 1.7e-02\n",
      "     6 iterations: [a,b]=[ 2.062, 2.094], x=2.07812e+00, e= 9.0e-04\n",
      "     7 iterations: [a,b]=[ 2.062, 2.078], x=2.07031e+00, e=-6.9e-03\n",
      "     8 iterations: [a,b]=[  2.07, 2.078], x=2.07422e+00, e=-3.0e-03\n",
      "     9 iterations: [a,b]=[ 2.074, 2.078], x=2.07617e+00, e=-1.0e-03\n"
     ]
    }
   ],
   "source": [
    "#numerical test\n",
    "def bisect(f,a,b,n):\n",
    "    # first simple bisection code\n",
    "    fa, fb = f(a), f(b)\n",
    "    for i in range(n):\n",
    "        m = (a+b)/2.0\n",
    "        fm = f(m)\n",
    "        if fa*fm <= 0:\n",
    "            b, fb = m, fm\n",
    "        else:\n",
    "            a, fa = m, fm        \n",
    "    return (a+b)/2.0, (b-a)/2.0, f((a+b)/2)  # output\n",
    "\n",
    "f = lambda x : x**4-8*x-2; xex=2.07722\n",
    "a = 0.0; b = 4.0; fa, fb = f(a), f(b)\n",
    "print(\"exact solution: %g\"%(xex))\n",
    "print(\"interval [%g,%g] contains the zero? %s\"%(a,b,fa*fb <= 0)) \n",
    "for k in range(10):    \n",
    "    m, e, fm = bisect(f,a,b,1) # one step\n",
    "    a = m-e\n",
    "    b = m+e\n",
    "    print(\"%6.4g iterations: [a,b]=[%6.4g,%6.4g], x=%8.5e, e=%8.1e\"%(k,a,b,m,(m-xex))) "
   ]
  },
  {
   "cell_type": "markdown",
   "metadata": {},
   "source": [
    "We can see that after 8 iterations the error is less than 0.01."
   ]
  },
  {
   "cell_type": "markdown",
   "metadata": {},
   "source": [
    "Q5\n",
    "\n",
    "\n",
    "If $F$ is contractive on a real interval $[0,4]$ and $F([0,4]) \\subset [0,4]$ then the sequence $x_n$ defined by fixed point iteration with $F$ converges and the error satisfies $$|e_n| \\leq \\lambda^n |e_0|.$$\n",
    "Then the method is convergent.\n",
    "\n",
    "$F(x) = x - \\alpha f(x)$ needs to satisfy $$|x-y-\\alpha(f(x)-f(y))| \\leq \\lambda |x-y| $$for $x,y \\in [0, 4]$\n",
    "\n",
    "$$|1+8\\alpha-\\alpha(x^2+y^2)(x+y)||x-y|=\\lambda |x-y|\\leq|x-y|$$\n",
    "\n",
    "Hence $$|1+8\\alpha-\\alpha(x^2+y^2)(x+y)|\\leq1$$\n",
    "\n",
    "for $x,y \\in [0, 4]$, $0<(x^2+y^2)(x+y)<256$\n",
    "\n",
    "$max(|1+8\\alpha|,|1-248\\alpha|)\\leq1$\n",
    "\n",
    "So $\\alpha=0$\n",
    "but $\\alpha\\neq0$\n",
    "so there is no $\\alpha$"
   ]
  },
  {
   "cell_type": "markdown",
   "metadata": {},
   "source": [
    "Q6\n",
    "\n",
    "$$F(x)=x-\\frac{f(x)}{f'(x)}=x-\\frac{x^4-8x-2}{4x^3-8}=\\frac{3x^4+4}{4x^3-8}$$\n",
    "$$F'(x)=\\frac{12x^2(x^4-8x-2)}{16(x^3-2)^2}$$\n",
    "\n",
    "If $F$ is contractive on a real interval $[a,b]$ and $F([a,b]) \\subset [a,b]$ then the sequence $x_n$ defined by fixed point iteration with $F$ converges and the error satisfies $$|e_n| \\leq \\lambda^n |e_0|.$$\n",
    "Then the method is convergent."
   ]
  },
  {
   "cell_type": "markdown",
   "metadata": {},
   "source": [
    "We first calculate where $F$ is contractive i.e. $-1\\leq F'(x)\\leq 1$\n",
    "We plot F'(x) below."
   ]
  },
  {
   "cell_type": "code",
   "execution_count": 51,
   "metadata": {},
   "outputs": [
    {
     "name": "stderr",
     "output_type": "stream",
     "text": [
      "C:\\Anaconda3\\lib\\site-packages\\matplotlib\\cbook\\deprecation.py:107: MatplotlibDeprecationWarning: Passing one of 'on', 'true', 'off', 'false' as a boolean is deprecated; use an actual boolean (True/False) instead.\n",
      "  warnings.warn(message, mplDeprecation, stacklevel=1)\n"
     ]
    },
    {
     "data": {
      "image/png": "[encoded data removed]",
      "text/plain": [
       "<Figure size 432x288 with 1 Axes>"
      ]
     },
     "metadata": {
      "needs_background": "light"
     },
     "output_type": "display_data"
    },
    {
     "data": {
      "image/png": "[encoded data removed]",
      "text/plain": [
       "<Figure size 432x288 with 1 Axes>"
      ]
     },
     "metadata": {
      "needs_background": "light"
     },
     "output_type": "display_data"
    }
   ],
   "source": [
    "import math\n",
    "import numpy as np\n",
    "import matplotlib.pyplot as plt\n",
    "\n",
    "Fp  = lambda x: 12*x**2*(x**4-8*x-2)/(16*(x**3-2)**2)\n",
    "xg  = np.linspace(-20,20,500)\n",
    "Fpxg = Fp(xg)\n",
    "plt.figure(1)\n",
    "plt.plot(xg,Fpxg, 'r')\n",
    "plt.axis([-20,20,-2,1]); plt.grid('on')\n",
    "\n",
    "plt.figure(2)\n",
    "plt.plot(xg,Fpxg, 'r')\n",
    "plt.axis([0,2,-2,1]); plt.grid('on')"
   ]
  },
  {
   "cell_type": "markdown",
   "metadata": {},
   "source": [
    "In the limiting cases $x \\rightarrow \\pm \\infty $, $F'(x)\\rightarrow \\frac{3}{4}$\n",
    "\n",
    "Hence from the plot above we know that only the points in $[x_1, x_2]$ does not satisfy $-1\\leq F'(x)\\leq 1$, where x$_1$ x$_2$ are the roots of $F'(x)=-1$ \n",
    "\n",
    "Calculation from mathematica tells us that the approximate roots is \n",
    "0.703 and 1.796\n",
    "\n",
    "The points in $[0.703, 1.796]$ are not convergent."
   ]
  },
  {
   "cell_type": "markdown",
   "metadata": {},
   "source": [
    "Next we show that the points in $[-\\infty, 0.703]$ and $[1.796,\\infty]$ are convergent.\n",
    "\n",
    "we will show that\n",
    "$F(x)= x - f(x)/f^\\prime(x)$ maps the two intervals into itself"
   ]
  },
  {
   "cell_type": "code",
   "execution_count": 52,
   "metadata": {},
   "outputs": [],
   "source": [
    "f  = lambda x: x**4-8*x-2\n",
    "fp = lambda x: 4*x**3-8\n",
    "F  = lambda x: x - f(x)/fp(x)\n",
    "\n",
    "xg  = np.linspace(-20,20,500)\n",
    "Fxg = F(xg)"
   ]
  },
  {
   "cell_type": "code",
   "execution_count": 55,
   "metadata": {},
   "outputs": [
    {
     "name": "stderr",
     "output_type": "stream",
     "text": [
      "C:\\Anaconda3\\lib\\site-packages\\matplotlib\\cbook\\deprecation.py:107: MatplotlibDeprecationWarning: Passing one of 'on', 'true', 'off', 'false' as a boolean is deprecated; use an actual boolean (True/False) instead.\n",
      "  warnings.warn(message, mplDeprecation, stacklevel=1)\n"
     ]
    },
    {
     "data": {
      "image/png": "[encoded data removed]",
      "text/plain": [
       "<Figure size 432x288 with 1 Axes>"
      ]
     },
     "metadata": {
      "needs_background": "light"
     },
     "output_type": "display_data"
    },
    {
     "data": {
      "image/png": "[encoded data removed]",
      "text/plain": [
       "<Figure size 432x288 with 1 Axes>"
      ]
     },
     "metadata": {
      "needs_background": "light"
     },
     "output_type": "display_data"
    }
   ],
   "source": [
    "plt.figure(1);plt.plot(xg,Fxg, xg,xg, 'r'); plt.axis([-20,0.703,-20,0.703]); plt.grid('on')\n",
    "plt.figure(2);plt.plot(xg,Fxg, xg,xg, 'r'); plt.axis([1.796,20,1.796,20]); plt.grid('on')"
   ]
  },
  {
   "cell_type": "markdown",
   "metadata": {},
   "source": [
    "So the Newton’s method for $f(x) = x^4 − 8x − 2$ does not converge for any point.\n",
    "\n",
    "The points in $[0.703, 1.796]$ are not convergent."
   ]
  }
 ],
 "metadata": {
  "kernelspec": {
   "display_name": "Python 3",
   "language": "python",
   "name": "python3"
  },
  "language_info": {
   "codemirror_mode": {
    "name": "ipython",
    "version": 3
   },
   "file_extension": ".py",
   "mimetype": "text/x-python",
   "name": "python",
   "nbconvert_exporter": "python",
   "pygments_lexer": "ipython3",
   "version": "3.6.4"
  }
 },
 "nbformat": 4,
 "nbformat_minor": 2
}
