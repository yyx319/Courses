{
 "cells": [
  {
   "cell_type": "markdown",
   "metadata": {},
   "source": [
    "Q1.a\n",
    "$$Q_B={p/B^k}$$\n",
    "$Q_{10}={p/10^k}$  $Q_2={p/2^k} $\n",
    "We use the therom: if $x\\in Q_2$, then x must also in $ Q_{10}$ \n",
    "\n",
    "1.$\\frac{3}{16} =\\frac{3}{2^4}$, so $\\frac{3}{16} \\in Q_{2}, Q_{10}$\n",
    "\n",
    "2.$\\frac{91}{200}=\\frac{7\\times13}{2^3\\times5^2}$  5 is a coprime of 2, so $91/200\\notin Q_{2}$\n",
    "$\\frac{91}{200} =\\frac{455}{10^3}$, so $\\frac{91}{200} \\in Q_{10}$\n",
    "            \n",
    "3.$\\frac{8}{60}=\\frac{2}{3\\times5}$, 3 is a coprime of 2 and 10 so $\\frac{8}{60}$ so $\\frac{8}{60}\\notin Q_2, Q_{10}$\n",
    "\n",
    "4.$\\frac{24}{60}=\\frac{2}{5}=\\frac{4}{10}$, so $\\frac{24}{60} \\in Q_{10}$, but 5 is a coprime of 2, so $\\frac{24}{60} \\notin Q_2 $\n",
    "\n",
    "5.$\\frac{99}{250}=\\frac{3^2\\times11}{2\\times5^3}=\\frac{396}{10^3}$, $\\frac{99}{250} \\in Q_{10}$ but 5 is a coprime of 2, so $\\frac{99}{250} \\notin Q_2$    \n",
    "\n",
    "In sum,\n",
    "$Q_{10}$: 3/16, 91/200, 24/60, 99/250. \n",
    "$Q_2$: 3/16."
   ]
  },
  {
   "cell_type": "markdown",
   "metadata": {},
   "source": [
    "Q1.b\n",
    "First we find the binary representation of 0.07:\n",
    "$$0.07\\times2=0.14 \\longrightarrow 0$$\n",
    "$$0.14\\times2=0.28 \\longrightarrow 0$$\n",
    "$$0.28\\times2=0.56 \\longrightarrow 0$$\n",
    "$$0.56\\times2=1.12 \\longrightarrow 1$$\n",
    "$$0.12\\times2=0.24 \\longrightarrow 0$$\n",
    "$$0.24\\times2=0.48 \\longrightarrow 0$$\n",
    "$$0.48\\times2=0.96 \\longrightarrow 0$$\n",
    "\n",
    "The binary representation \n",
    "$0.07=(0.0001000)_2$\n",
    "rounding by truncation to the same first (significant) three (nonzero) binary digits gives\n",
    "$\\phi(0.07)=(0.000100)_2=0.0625$"
   ]
  },
  {
   "cell_type": "markdown",
   "metadata": {},
   "source": [
    "Q2.a\n",
    "\n",
    "0.4 has one significant digits so $0.4\\in F_{10}(2)$.\n",
    "\n",
    "$0.4=0.(\\dot{0}\\dot{1}\\dot{1}\\dot{0})_2$, which have more than 6 significant binary digits, so $0.4\\notin F_2(6)$\n",
    "\n",
    "0.25 have two significant digits, so $0.25\\in F_{10}(2)$.\n",
    "\n",
    "$0.25=2^{-2}$, so $0.25\\in F_2(6)$\n",
    "\n",
    "0.125 has three significant digits so $0.125\\notin F_{10}(2)$. \n",
    "\n",
    "$0.125=1\\times2^{-3}$ so $0.125\\in F_2(6)$\n",
    "\n",
    "0.0125 has three significant digits so $0.125\\notin F_{10}(2)$. \n",
    "\n",
    "$0.0125=(0.00000\\dot{0}\\dot{1}\\dot{1}\\dot{0})_2$ which have more than 6 significant binary digits, so $0.0125\\notin F_2(6)$\n",
    "\n",
    "0.0625 has three significant digits so $0.0625\\notin F_{10}(2)$.\n",
    "\n",
    "$0.0625=1\\times2^{-4}$ so $0.0625\\in F_2(6)$\n",
    "\n",
    "0.0025 have two significant digits, so $0.0025\\in F_{10}(2)$. \n",
    "\n",
    "$0.0025=(0.000000001010001...)_2$ which have more than 6 significant binary digits, so $0.0025\\notin F_2(6)$\n",
    "\n",
    "0.625 has three significant digits so $0.625\\notin F_{10}(2)$. \n",
    "\n",
    "$0.625=1\\times2^{-1}+0\\times2^{-2}+1\\times2^{-3}$ so $0.625\\in F_2(6)$\n",
    "\n",
    "6.25 has three significant digits so $6.25\\notin F_{10}(2)$. \n",
    "\n",
    "$6.25=1\\times2^{2}+1\\times2^{1}+0\\times2^0+0\\times2^{-1}+1\\times2^{-2}$ so $6.25\\in F_2(6)$\n",
    "\n",
    "$$F_{10}(2): 0.4, 0.25, 0.0025$$\n",
    "$$F_2(6): 0.25, 0.125, 0.0625, 0.625, 6.25$$"
   ]
  },
  {
   "cell_type": "markdown",
   "metadata": {},
   "source": [
    "Q2.b\n",
    "\n",
    "{1/2, 3/4, 1} in $[1/2, 1]$ are in intersection of $F_{10}(2)$ and $F_{2}(6)$"
   ]
  },
  {
   "cell_type": "markdown",
   "metadata": {},
   "source": [
    "Q2.c\n",
    "\n",
    "$$F_B(2)={x|\\pm(c_1B^{-1+e}+c_2B^{-2+e})}$$\n",
    "For $\\epsilon=\\frac{1}{2}B^{-3}$\n",
    "define $x= B^{-1}+B^{-2}+B^{-3}\\in R$\n",
    "if F_B(2) is a dense set then there is s in $F_B(2)$ s.t. $|s-x|<\\epsilon$\n",
    "ie. $f(B,e)=|B^{-1}+B^{-2}+B^{-3}-c_1B^{-1+e}+c_2B^{-2+e}|<\\epsilon$\n",
    "but $f(B,e)_{min}=B^{-3}$\n",
    "This is a contradiction. So $F_B(2)$ is not a dense set.\n",
    "Hence $F_{10}(2)$ $F_7(2)$ are not dense sets.\n",
    " \n",
    "$F_B(2)$ do not include $\\{x=\\pm\\sum_{j=1}^t c_j 7^{-j+e\\} \\mid t>2}$ i.e. the integer with more than 3 digits.\n",
    "Hence$F_10(2)$ do not include $\\{x=\\pm\\sum_{j=1}^t c_j 10^{-j+e} \\mid t>2\\}$\n",
    "$F_7(2)$ do not include $\\{x=\\pm\\sum_{j=1}^t c_j 7^{-j+e} \\mid t>2\\}$"
   ]
  },
  {
   "cell_type": "markdown",
   "metadata": {},
   "source": [
    "Q3.a\n",
    "$$\\renewcommand{\\R}{\\mathbb{R}}$$\n",
    "\\begin{align*}\n",
    "u_0 &= 3.4  \\\\                 \n",
    "u_1 &= 0.43    \\\\              \n",
    "u_2 &= u_0u_1               \n",
    "\\end{align*}\n",
    "\n",
    "\\begin{align*}\n",
    "u_0 &= (1+\\delta_0)3.4 \\\\\n",
    "u_1 &= (1+\\delta_1)0.43 \\\\\n",
    "u_2 &= (1+\\delta_2)u_0u_1 \n",
    "\\end{align*}"
   ]
  },
  {
   "cell_type": "markdown",
   "metadata": {},
   "source": [
    "By manual multiplication exact product of 3.4 and 0.43 is 1.462"
   ]
  },
  {
   "cell_type": "code",
   "execution_count": 31,
   "metadata": {},
   "outputs": [
    {
     "name": "stdout",
     "output_type": "stream",
     "text": [
      "the exact answer for 3.4 is :1.46200000000000000000000000000000000000000000000000000\n",
      "the numerical answer for 3.4 is :1.46199999999999996624922005139524117112159729003906250\n",
      "the relative rounding error for 3.4 is : 2.612289469706250683349721572E-17\n",
      "the relative rounding error for 0.43 is : 1.549148406453706800591113956E-17\n",
      "the total relative rounding error for 3.4*0.43 is : 2.308534880205523859704405110E-17\n"
     ]
    }
   ],
   "source": [
    "#Q3.a\n",
    "#apporxiamte product of 3.4*0.43\n",
    "x_exact = Decimal(\"3.4\")\n",
    "y_exact = Decimal(\"0.43\")\n",
    "ans_exact = x_exact * y_exact\n",
    "print(\"the exact answer for 3.4 is :{:10.53f}\".format(ans_exact))\n",
    "\n",
    "x=3.4\n",
    "y=0.43\n",
    "ans=x*y\n",
    "print(\"the numerical answer for 3.4 is :{:10.53f}\".format(ans))\n",
    "\n",
    "print(\"the relative rounding error for 3.4 is :\", abs((Decimal(x)-x_exact)/x_exact))\n",
    "print(\"the relative rounding error for 0.43 is :\", abs((Decimal(y)-y_exact)/y_exact))\n",
    "print(\"the total relative rounding error for 3.4*0.43 is :\", abs((Decimal(ans)-ans_exact)/ans_exact))"
   ]
  },
  {
   "cell_type": "markdown",
   "metadata": {},
   "source": [
    "The optimal implementation requires $$|\\delta| \\leq \\epsilon \\leq \\frac{1}{2B^{t-1}}=\\frac{1}{2\\times2^{52}}\\approx 1.11\\times10^{-16}$$, We can see that the relative error for x, y and $x\\times y$ all satisfy the above condition.\n",
    "The Python implementation of this product is optimal for this data."
   ]
  },
  {
   "cell_type": "markdown",
   "metadata": {},
   "source": [
    "Q3.b\n",
    "\\begin{align*}\n",
    "u_0 &=(1+\\delta_0)x_1 \\\\          \n",
    "u_1 &=(1+\\delta_1)x_2 \\\\                   \n",
    "u_2 &=(1+\\delta_{u2})u_0u_1           \n",
    "\\end{align*}\n",
    "For optimal implementation, the relative error by rounding for each number is unique. \n",
    "\\begin{align*}\n",
    "v_0 &=(1+\\delta_1)x_2 \\\\\n",
    "v_1 &=(1+\\delta_0)x_1 \\\\\n",
    "v_2 &=(1+\\delta_{v2})v_0v_1          \n",
    "\\end{align*}\n",
    "because $$u_0u_1=(1+\\delta_0)(1+\\delta_1)x_1x_2=v_0v_1$$. so\n",
    "$\\delta_{u2}=\\delta_{v2}$\n",
    "Hence $$u_2=v_2$$\n",
    "\n",
    "for an optimal implementation of multiplication, the rounding error is the same for the (numerical) products x1 ∗ x2 and for x2 ∗ x1."
   ]
  },
  {
   "cell_type": "markdown",
   "metadata": {},
   "source": [
    "Q3.c\n",
    "\n",
    "$|\\delta|<=0.5B^{-t+1}$\n",
    "\n",
    "$F_{10}(2)$:  $|\\delta|<=0.5\\times10^{-1}=0.05$\n",
    "\n",
    "$F_2(7)$:  $|\\delta|<=0.5\\times2^{-6}=2^{-7}$\n",
    "\n",
    "Comparing the results: Although the base is smaller, the rounding for longer digits is more precise."
   ]
  },
  {
   "cell_type": "markdown",
   "metadata": {},
   "source": [
    "Q4.a\n",
    "$$u_1=x_1$$               \n",
    "$$...$$                  \n",
    "$$u_N=x_N$$             \n",
    "$$u_{N+1}=u_1+u_2$$        \n",
    "$$u_{N+2}=u_{N+1}+u_3$$    \n",
    "$$...$$                    \n",
    "$$u_{2N-1}=u_{2N-2}+u_N$$  \n",
    "$$u_{2N}=u_{2N-1}/N$$      \n",
    "$$v_1=(1+\\delta_1)x_1$$\n",
    "$$...$$\n",
    "$$v_N=(1+\\delta_N)x_N$$\n",
    "$$v_{N+1}=(1+\\delta_{N+1})(v_1+v_2)$$\n",
    "$$v_{N+2}=(1+\\delta_{N+2})(v_{N+1}+v_3)$$\n",
    "$$...$$\n",
    "$$v_{2N-1}=(1+\\delta_{2N-1})(v_{2N-2}+v_N)$$\n",
    "$$v_{2N}=(1+\\delta_{2N})v_{2N-1}/N$$\n"
   ]
  },
  {
   "cell_type": "code",
   "execution_count": 17,
   "metadata": {},
   "outputs": [
    {
     "data": {
      "image/png": "[encoded data removed]",
      "text/plain": [
       "<Figure size 432x288 with 1 Axes>"
      ]
     },
     "metadata": {
      "needs_background": "light"
     },
     "output_type": "display_data"
    },
    {
     "data": {
      "image/png": "[encoded data removed]",
      "text/plain": [
       "<Figure size 432x288 with 1 Axes>"
      ]
     },
     "metadata": {
      "needs_background": "light"
     },
     "output_type": "display_data"
    },
    {
     "data": {
      "image/png": "[encoded data removed]",
      "text/plain": [
       "<Figure size 432x288 with 1 Axes>"
      ]
     },
     "metadata": {
      "needs_background": "light"
     },
     "output_type": "display_data"
    }
   ],
   "source": [
    "# a code to calculate error\n",
    "import matplotlib.pylab as plt\n",
    "import numpy as np\n",
    "from decimal import Decimal, getcontext\n",
    "\n",
    "\n",
    "def sum(data, delta):\n",
    "    n= len(data)  \n",
    "    v=np.zeros(n)\n",
    "    s= np.zeros(n-1)\n",
    "    for i in range(n):\n",
    "        v[i]=(1+delta[i])*data[i]\n",
    "        \n",
    "    for i in range(n-1):\n",
    "        if i==0:\n",
    "            s[i] = (1+delta[n+i])*(v[0]+v[1])\n",
    "        else:\n",
    "            s[i] = (1+delta[n+i])*(s[i-1]+v[i+1])\n",
    "        \n",
    "    ave=(1+delta[2*n-1])*s[-1]/n\n",
    "        \n",
    "    return ave\n",
    "\n",
    "\n",
    "#error hist \n",
    "t=1000 #1000 trial times\n",
    "n_list = [10, 100, 500]\n",
    "for n in n_list: \n",
    "    error = np.zeros(t)\n",
    "    epsi = 1e-14\n",
    "    data = np.random.random(n)\n",
    "    for k in range(t):\n",
    "        delta = epsi*(np.random.random(2*n)*2-1)\n",
    "        error[k] = sum(data, delta)-sum(data, np.zeros(2*n))\n",
    "    plt.hist(error)\n",
    "    plt.title(r\"{} samples\".format(n))\n",
    "    plt.show()    "
   ]
  },
  {
   "cell_type": "markdown",
   "metadata": {},
   "source": [
    "Q4.b\n",
    "$$\n",
    "\\begin{align*}\n",
    "u_1 &=x \\\\                \n",
    "u_2 &=cos(u_1) \\\\                    \n",
    "u_3 &=u_2^2   \\\\                \n",
    "u_4 &=cos(2u_1)  \\\\                    \n",
    "u_5 &=2u_3-1  \\\\\n",
    "u_6 &=u_5-u_4  \n",
    "\\end{align*}$$\n",
    "\n",
    "$$\n",
    "\\begin{align*}\n",
    "v_1 &=(1+\\delta_1)x  \\\\              \n",
    "v_2 &=(1+\\delta_2)cos(v_1)  \\\\                    \n",
    "v_3 &=(1+\\delta_3)v_2^2  \\\\           \n",
    "v_4 &=(1+\\delta_4)cos(2v_1)  \\\\                    \n",
    "v_5 &=(1+\\delta_5)(2v_3-1)  \\\\\n",
    "v_6 &=(1+\\delta_6)(v_5-v_4)\n",
    "\\end{align*}$$\n",
    "\n",
    "So\n",
    "$$v_6=(1+\\delta_6)[(1+\\delta_5)(2(1+\\delta_3)(1+\\delta_2)^2cos^2((1+\\delta_1)x )-1)-(1+\\delta_4)cos(2(1+\\delta_1)x)]\\\\\n",
    "\\approx 2(1+2\\delta_2+\\delta_3+\\delta_5+\\delta_6)cos^2((1+\\delta_1)x)-(1+\\delta_5+\\delta_6)-(1+\\delta_4+\\delta_6)cos(2(1+\\delta_1)x)\\\\\n",
    "$$\n",
    "Using\n",
    "$$cos^2((1+\\delta_1)x)\\approx cos^2(x)-2sin(x)cos(x)\\delta_1 x$$\n",
    "$$cos[2(1+\\delta_1)x]=cos(2x)-2sin(2x)\\delta_1x=2cos^2(x)-1-2sin(2x)\\delta_1x$$\n",
    "\n",
    "We get: $$v_6-u_6 \\approx 2(2\\delta_2+\\delta_3-\\delta_4+\\delta_5)cos^2(x)+\\delta_4-\\delta_5\n",
    "\\leq 12\\epsilon$$ \n",
    "where we use max |$cos(x)$| $= cos(0) =1$ for $x \\in [0,\\pi/2]$ and $|\\delta|=\\pm \\delta \\leq \\epsilon$"
   ]
  },
  {
   "cell_type": "markdown",
   "metadata": {},
   "source": [
    "Q5.a\n",
    "\n",
    "$$\\kappa(x) = \\sup_{y\\neq x} \\frac{\\lVert f(y) - f(x) \\rVert/\\lVert f(x)\\rVert}{\\lVert y - \n",
    "x \\rVert/\\lvert x \\rVert}$$\n",
    "f(x)=sin(x) x [0, \\pi/4]\n",
    "$$\\kappa(x)=\\sup_{y\\neq x} \\frac{\\lVert sin(y) - sin(x) \\rVert/\\lVert sin(x)\\rVert}{\\lVert y - \n",
    "x \\rVert/\\lvert x \\rVert}\\\\\n",
    "=\\sup_{y\\neq x} \\frac{\\lVert sin(y) - sin(x) \\rVert/\\lVert y - \n",
    "x \\rVert}{\\lVert sin(x)\\rVert/\\lvert x \\rVert}=1$$\n"
   ]
  },
  {
   "cell_type": "markdown",
   "metadata": {},
   "source": [
    "Q5.b\n",
    "\n",
    "$f(x)=\\sum_{k=1}^n x_i$\n",
    "$$\\kappa(x)= \\sup_{y\\neq x} \\frac{| \\sum_{k=1}^n (y_i-x_i)| / |\\sum_{k=1}^n x_i|}{\\left.\\sqrt{\\sum_{i=1}^n (x_i-y_i)^2}\\right/\\sqrt{\\sum_{i=1}^n x_i^2} }\\\\\n",
    "=\\sup_{y\\neq x} \\frac{nd/| \\sum_{i=1}^n x_i |}{\\left.\\sqrt{nd}\\right/\\sqrt{\\sum_{i=1}^n x_i^2}}\\\\\n",
    "=\\sup_{y\\neq x} \\frac{\\sqrt{n\\sum_{i=1}^n x_i^2}}{| \\sum_{i=1}^n x_i |}\\\\\n",
    "=\\sqrt{n} $$\n",
    "\n",
    "In the last step we use:\n",
    "$$\\sqrt{\\sum_{i=1}^n x_i^2} \\leq \\sqrt{(\\sum_{i=1}^n x_i)^2} =| \\sum_{i=1}^n x_i | $$\n",
    "the equality holds when there is only one positive term in {$x_i$}."
   ]
  },
  {
   "cell_type": "markdown",
   "metadata": {},
   "source": [
    "Q6.a\n",
    "$$u_1=x\\\\\n",
    "u_2=sin(u_1)$$\n",
    "\n",
    "with rounding errors\n",
    "$$v_1=(1+\\delta_1)x\\\\\n",
    "v_2=(1+\\delta_2)sin(v_1)$$\n",
    "\n",
    "backward stable model\n",
    "$$z_1=(1+\\zeta_1)x\\\\\n",
    "z_2=sin(z_1)$$\n",
    "\n",
    "$$z_2=v_2=sin(z_1)=(1+\\delta_2)sin(v_1)\\\\\n",
    "z_1=arcsin((1+\\delta_2)sin(v_1))=arcsin((1+\\delta_2)sin((1+\\delta_1)x))=(1+\\zeta_1)x$$\n",
    "\n",
    "$$\\zeta_1=arcsin[(1+\\delta_2)sin[(1+\\delta_1)x]]/x-1$$\n",
    "When $sin(x) \\longrightarrow \\pm 1$, namely $x~(\\frac{1}{2}+n)\\pi$ $(1+\\delta_2)sin[(1+\\delta_1)x]$ may be bigger than 1, which is not the domain of arcsin. $\\zeta_1$ then can not take a value and it is not backward stable.\n",
    "so $[a,b]$ can not include the point near $(\\frac{1}{2}+n)\\pi$."
   ]
  },
  {
   "cell_type": "markdown",
   "metadata": {},
   "source": [
    "Q6.b\n",
    "\n",
    "If $f(x,\\delta)$ is backward stable and $f(x,0)$ is well conditioned with condition number \n",
    "$\\kappa(x)$, then there is a $C>0$ such that the relative error satisfies\n",
    "$$\\left| e \\right| \\leq \\kappa(x)\\, C \\epsilon.$$\n",
    "For all rounding errors $\\delta$ with $|\\delta_k| \\leq \\epsilon$,\n",
    "since $|\\zeta_1|\\leq (\\frac{\\pi}{2x}+1)$,\n",
    "$$|e| \\leq \\kappa(x) \\frac{\\lVert y-x\\rVert}{\\lVert x \\rVert}\n",
    "\\leq \\frac{\\pi}{2x}+1 $$\n",
    "\n",
    "\n",
    "\n",
    "\n"
   ]
  },
  {
   "cell_type": "code",
   "execution_count": null,
   "metadata": {},
   "outputs": [],
   "source": []
  }
 ],
 "metadata": {
  "kernelspec": {
   "display_name": "Python 3",
   "language": "python",
   "name": "python3"
  },
  "language_info": {
   "codemirror_mode": {
    "name": "ipython",
    "version": 3
   },
   "file_extension": ".py",
   "mimetype": "text/x-python",
   "name": "python",
   "nbconvert_exporter": "python",
   "pygments_lexer": "ipython3",
   "version": "3.6.4"
  }
 },
 "nbformat": 4,
 "nbformat_minor": 2
}
