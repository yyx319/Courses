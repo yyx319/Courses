{
 "cells": [
  {
   "cell_type": "markdown",
   "metadata": {},
   "source": [
    "# Chapter 3: Approximation"
   ]
  },
  {
   "cell_type": "code",
   "execution_count": 1,
   "metadata": {
    "collapsed": true,
    "scrolled": true
   },
   "outputs": [],
   "source": [
    "%reload_ext Cython\n",
    "import numpy as np\n",
    "from numpy import linalg as nla\n",
    "import pylab as plt\n",
    "%matplotlib inline"
   ]
  },
  {
   "cell_type": "markdown",
   "metadata": {
    "slideshow": {
     "slide_type": "slide"
    }
   },
   "source": [
    "## Interpolation\n",
    "\n",
    "$$\\renewcommand{\\R}{\\mathbb{R}}$$\n",
    "\n",
    "* functions in chapter 1:\n",
    "    * evaluation of function values $f(x)$ and $Ax$\n",
    "    * approximation of real numbers and arithmetic expressions\n",
    "* functions in chapter 2: \n",
    "    * computing zeros $x^*$ of functions, i.e., solution of equations $Ax = b$ and $f(x) = 0$\n",
    "    * using functions $F(x)$ for iterative methods $x^{(k+1)} = F(x^{(k)})$\n",
    "    * approximation of zeros $x^*$\n",
    "* chapter 3: \n",
    "    * approximation of functions $u(x)$ by simpler functions, in particular polynomials"
   ]
  },
  {
   "cell_type": "markdown",
   "metadata": {
    "slideshow": {
     "slide_type": "slide"
    }
   },
   "source": [
    "## Functions in scientific computing\n",
    "\n",
    "* functions are not only arithmetic expressions\n",
    "* they may solve complicated equations and usually are not known explicitely\n",
    "    * they need to be approximated\n",
    "    * these approximations are then used for predictions, diagnosis and decisions\n",
    "* some functions are univariate, and for example depend on time\n",
    "    * average temperature, blood pressure\n",
    "* other functions vary spatially\n",
    "    * hyper-spectrum of pasture or forest\n",
    "    * flow speeds of water in ocean\n",
    "* many functions also depend on various parameters\n",
    "    * flow through soil and rocks depends on density and other paramters\n",
    "* some functions are random"
   ]
  },
  {
   "cell_type": "markdown",
   "metadata": {
    "slideshow": {
     "slide_type": "slide"
    }
   },
   "source": [
    "--------------------------------------------------------------------------------------\n",
    "* fundamentally, a function is a mapping $u : X \\rightarrow Y$ with domain $X$ and range $Y$\n",
    "\n",
    "* here we will mostly consider $X=\\R^d$ and $Y=\\R$\n",
    "\n",
    "* there are now a variety of ways on how to determine a function.\n",
    "\n",
    "    * they may be specified by a formula like  $u(x) = \\exp(-2x)$.\n",
    "\n",
    "    * they may be defined implicitely, as the solution of some partial differential equation like $\\Delta u = f$\n",
    "\n",
    "    * one may only have partial and indirect information (measurements) of a function\n",
    "\n",
    "   * some functions satisfy equations with unknown parameters which may be determined from observations\n",
    "\n"
   ]
  },
  {
   "cell_type": "markdown",
   "metadata": {
    "slideshow": {
     "slide_type": "slide"
    }
   },
   "source": [
    "## Functions in Python\n",
    "\n",
    "* one-liners using lambda\n",
    "\n",
    "```python\n",
    "    u = lambda x : x*x\n",
    "```    \n",
    "    \n",
    "* Python procedures\n",
    "\n",
    "```python\n",
    "    def u(x):\n",
    "      y = x*x\n",
    "      return y\n",
    "```    \n",
    "    \n",
    "* imported from Python modules\n",
    "\n",
    "```python\n",
    "    from math import exp\n",
    "```"
   ]
  },
  {
   "cell_type": "markdown",
   "metadata": {},
   "source": [
    "# Polynomial evaluation"
   ]
  },
  {
   "cell_type": "markdown",
   "metadata": {
    "slideshow": {
     "slide_type": "slide"
    }
   },
   "source": [
    "## Polynomials, their representation and evaluation\n",
    "\n",
    "* mathematical form of polynomial\n",
    "$$p_n(x) = a_0 + a_1 x + \\cdots + a_n x^n$$\n",
    "\n",
    "* simple python code\n",
    "```python\n",
    "    def pn(x,a):\n",
    "      y = 0.0\n",
    "      n = a.shape[0]\n",
    "      for k in range(n):\n",
    "        y += a[k]*x**k\n",
    "      return y\n",
    "```\n",
    "\n",
    "-----------------------------------------------------------"
   ]
  },
  {
   "cell_type": "code",
   "execution_count": 2,
   "metadata": {
    "collapsed": true,
    "slideshow": {
     "slide_type": "slide"
    }
   },
   "outputs": [],
   "source": [
    "# timing polynomial evaluation\n",
    "def pn(x,a):\n",
    "    y = 0.0\n",
    "    n = a.shape[0]\n",
    "    for k in range(n):\n",
    "        y  += a[k]*x**k\n",
    "    return y"
   ]
  },
  {
   "cell_type": "code",
   "execution_count": 3,
   "metadata": {
    "slideshow": {
     "slide_type": "slide"
    }
   },
   "outputs": [
    {
     "name": "stdout",
     "output_type": "stream",
     "text": [
      "1000 loops, best of 3: 423 µs per loop\n"
     ]
    }
   ],
   "source": [
    "%%timeit \n",
    "from numpy.random import random, seed; \n",
    "n= 200; x = random();a = random(n)\n",
    "y = pn(x,a) # timing polynomial"
   ]
  },
  {
   "cell_type": "markdown",
   "metadata": {},
   "source": [
    "## Using Cython to be faster"
   ]
  },
  {
   "cell_type": "code",
   "execution_count": 4,
   "metadata": {
    "slideshow": {
     "slide_type": "slide"
    }
   },
   "outputs": [],
   "source": [
    "%%cython\n",
    "import cython\n",
    "cimport cython\n",
    "# timing polynomial evaluation\n",
    "def pc0(x,a):\n",
    "    y = 0.0\n",
    "    n = a.shape[0]\n",
    "    for k in range(n):\n",
    "        y  += a[k]*x**k\n",
    "    return y"
   ]
  },
  {
   "cell_type": "code",
   "execution_count": 5,
   "metadata": {
    "slideshow": {
     "slide_type": "slide"
    }
   },
   "outputs": [
    {
     "name": "stdout",
     "output_type": "stream",
     "text": [
      "1000 loops, best of 3: 336 µs per loop\n"
     ]
    }
   ],
   "source": [
    "%%timeit \n",
    "from numpy.random import random, seed; \n",
    "n= 200; x = random();a = random(n)\n",
    "y = pc0(x,a) # timing polynomial"
   ]
  },
  {
   "cell_type": "markdown",
   "metadata": {},
   "source": [
    "--------------------------------------"
   ]
  },
  {
   "cell_type": "markdown",
   "metadata": {},
   "source": [
    "## Typing\n",
    "\n",
    "* Python uses *dynamic typing*, where the type of each object is determined at run time\n",
    "* C uses *static typing*, the type of each object needs to be specified explicitely\n",
    "* Cython can do both but dynamic typing may prevent code optimisation\n",
    "    * for efficient code, type all objects explicitely except where one actually requires dynamically typed\n",
    "        objects"
   ]
  },
  {
   "cell_type": "markdown",
   "metadata": {},
   "source": [
    "-------------------"
   ]
  },
  {
   "cell_type": "code",
   "execution_count": 6,
   "metadata": {
    "collapsed": true,
    "slideshow": {
     "slide_type": "slide"
    }
   },
   "outputs": [],
   "source": [
    "%%cython \n",
    "cimport numpy as np\n",
    "def pnc(np.float64_t x,\\\n",
    "        np.ndarray[np.float64_t, ndim=1] a):\n",
    "    cdef int k\n",
    "    cdef int n = a.shape[0]\n",
    "    cdef np.float64_t y = 0\n",
    "    for k in range(n):\n",
    "        y  += a[k]*x**k\n",
    "    return y"
   ]
  },
  {
   "cell_type": "code",
   "execution_count": 7,
   "metadata": {
    "slideshow": {
     "slide_type": "slide"
    }
   },
   "outputs": [
    {
     "name": "stdout",
     "output_type": "stream",
     "text": [
      "10000 loops, best of 3: 62.8 µs per loop\n"
     ]
    }
   ],
   "source": [
    "%%timeit\n",
    "from numpy.random import random; n= 200;\\\n",
    "      x = random(); a = random(n)\n",
    "y = pnc(x,a) # timing polynomial"
   ]
  },
  {
   "cell_type": "markdown",
   "metadata": {
    "slideshow": {
     "slide_type": "slide"
    }
   },
   "source": [
    "## how to get faster code\n",
    "\n",
    "* computational hardware costs substantially reduced in recent years\n",
    "* code transformations used by compilers to get faster code\n",
    "* faster code often by exploiting the *distributive law*\n",
    "   $$(a + b) c = ac + bc$$\n",
    "* application to polynomial evaluation: *Horner's rule*\n",
    "\n",
    "   $$p_n(x) = a_0 + x(a_1 + x(a_2 + x(a_3+\\cdots)))$$\n",
    "   \n",
    "--------------------------------------------------"
   ]
  },
  {
   "cell_type": "code",
   "execution_count": 8,
   "metadata": {
    "collapsed": true,
    "slideshow": {
     "slide_type": "slide"
    }
   },
   "outputs": [],
   "source": [
    "# fast polynomial evaluation with Horner's method\n",
    "\n",
    "def pnh(x,a):\n",
    "    n = a.shape[0]\n",
    "    y = 0.0\n",
    "    for k in range(n):\n",
    "        y  = x*y + a[n-k-1]\n",
    "    return y"
   ]
  },
  {
   "cell_type": "code",
   "execution_count": 9,
   "metadata": {
    "slideshow": {
     "slide_type": "slide"
    }
   },
   "outputs": [
    {
     "name": "stdout",
     "output_type": "stream",
     "text": [
      "1000 loops, best of 3: 184 µs per loop\n"
     ]
    }
   ],
   "source": [
    "%%timeit \n",
    "from numpy.random import random, seed; \n",
    "n= 200; x = random(); a = random(n)\n",
    "y = pnh(x,a) "
   ]
  },
  {
   "cell_type": "markdown",
   "metadata": {
    "slideshow": {
     "slide_type": "slide"
    }
   },
   "source": [
    "-----------------------------------------------------------------------------------"
   ]
  },
  {
   "cell_type": "code",
   "execution_count": 10,
   "metadata": {
    "collapsed": true
   },
   "outputs": [],
   "source": [
    "%%cython\n",
    "import numpy as np\n",
    "cimport numpy as np\n",
    "\n",
    "# two versions: pnc for scalar x and png for vector xg\n",
    "\n",
    "def pnc(np.float64_t x, np.ndarray[np.float64_t, ndim=1] a):\n",
    "    cdef int k\n",
    "    cdef int n = a.shape[0]\n",
    "    cdef np.float64_t y = 0\n",
    "    for k in range(n):\n",
    "        y  = x*y + a[n-k-1]\n",
    "    return y\n"
   ]
  },
  {
   "cell_type": "markdown",
   "metadata": {},
   "source": [
    "-------------------------"
   ]
  },
  {
   "cell_type": "code",
   "execution_count": 11,
   "metadata": {
    "collapsed": true
   },
   "outputs": [],
   "source": [
    "%%cython\n",
    "import numpy as np\n",
    "cimport numpy as np\n",
    "\n",
    "from __main__ import pnc\n",
    "\n",
    "def png(np.ndarray[np.float64_t, ndim=1] xg, np.ndarray[np.float64_t,ndim=1] a, p=pnc):\n",
    "    cdef int k\n",
    "    cdef int ng = xg.shape[0]\n",
    "    cdef int n  = a.shape[0]\n",
    "    cdef np.ndarray[np.float64_t, ndim=1] yg = np.zeros(ng)\n",
    "    for i in range(ng):\n",
    "        for k in range(n):\n",
    "            yg[i] = xg[i]*yg[i] + a[n-k-1]\n",
    "    return yg"
   ]
  },
  {
   "cell_type": "markdown",
   "metadata": {},
   "source": [
    "------------------------------------"
   ]
  },
  {
   "cell_type": "code",
   "execution_count": 12,
   "metadata": {},
   "outputs": [
    {
     "name": "stdout",
     "output_type": "stream",
     "text": [
      "0.0\n"
     ]
    }
   ],
   "source": [
    "\n",
    "# testing\n",
    "from numpy.random import random\n",
    "n=200; x = random(); a = random(n)\n",
    "print(pnc(x,a)-pnh(x,a))"
   ]
  },
  {
   "cell_type": "code",
   "execution_count": 13,
   "metadata": {},
   "outputs": [
    {
     "name": "stdout",
     "output_type": "stream",
     "text": [
      "10000 loops, best of 3: 32.3 µs per loop\n"
     ]
    }
   ],
   "source": [
    "%%timeit\n",
    "from numpy.random import random; \n",
    "n= 200; x = random(); a = random(n)\n",
    "y = pnc(x,a) # timing polynomial"
   ]
  },
  {
   "cell_type": "markdown",
   "metadata": {
    "slideshow": {
     "slide_type": "slide"
    }
   },
   "source": [
    "## Polynomial approximation and the Taylor polynomial\n",
    "\n",
    "**Weierstrass' theorem**\n",
    "\n",
    "*Every continuous function over a finite interval can be approximated arbitrarily well by a polynomial of sufficiently high degree.*\n",
    "\n",
    "* we do not know in advance how high the degree has to be\n",
    "* polynomial approximation works well for very smooth functions\n",
    "* no quantitative error bound\n",
    "* several proofs, including one using probability theory!\n",
    "\n",
    "**Taylor remainder theorem**\n",
    "*If $u(x)$ is $n+1$ times continuously differentiable in $[a,b]$ then for all $x\\in[a,b]$ there exists\n",
    "a $\\xi\\in [a,b]$ such that*\n",
    "\n",
    "$$\\begin{split}u(x) = u(a) + u^\\prime(a) (x-a) + \\frac{u^{\\prime\\prime}(a)}{2} (x-a)^2 + \\cdots +\n",
    "          \\frac{u^{(n)}(a)}{n!} (x-a)^n \\\\ + \\frac{u^{(n+1)}(\\xi)}{(n+1)!} (x-a)^{n+1}\\end{split}$$ \n",
    "          \n",
    "------------------------------------------------------\n",
    "          \n",
    "* if $|u^{(n+1)}(x)| \\leq C$ for all $x\\in[a,b]$ then error of Taylor polynomial is bounded by\n",
    "$$C\\frac{(b-a)^{n+1}}{(n+1)!}$$"
   ]
  },
  {
   "cell_type": "markdown",
   "metadata": {},
   "source": [
    "--------------------------------------------------------------"
   ]
  },
  {
   "cell_type": "code",
   "execution_count": 14,
   "metadata": {},
   "outputs": [
    {
     "name": "stdout",
     "output_type": "stream",
     "text": [
      "time for evaluation:\n",
      "The slowest run took 12.68 times longer than the fastest. This could mean that an intermediate result is being cached.\n",
      "10000 loops, best of 1: 39.2 µs per loop\n"
     ]
    }
   ],
   "source": [
    "# Taylor series  y = sin(x) around x=0\n",
    "\n",
    "from math import pi\n",
    "n = 6\n",
    "# compute taylor coefficients\n",
    "taycoeff        = np.ones(n)\n",
    "taycoeff[::2]   =  0\n",
    "taycoeff[3::4] *= -1\n",
    "taycoeff[1:]   /= np.cumprod(np.arange(1,n))\n",
    "uex  = np.sin\n",
    "ut = lambda x, a=taycoeff, p = png: p(x, a) # taylor approximation\n",
    "\n",
    "xg = np.linspace(-2*pi,2*pi,128)\n",
    "yg = np.sin(xg)\n",
    "print('time for evaluation:')\n",
    "%timeit -r 1 ygt = ut(xg)\n",
    "ygt = ut(xg)"
   ]
  },
  {
   "cell_type": "markdown",
   "metadata": {},
   "source": [
    "--------------------------------------------------------------------------------------------"
   ]
  },
  {
   "cell_type": "code",
   "execution_count": 15,
   "metadata": {},
   "outputs": [
    {
     "data": {
      "image/png": "[encoded data removed]",
      "text/plain": [
       "<matplotlib.figure.Figure at 0x7f9303069320>"
      ]
     },
     "metadata": {},
     "output_type": "display_data"
    }
   ],
   "source": [
    "plt.grid('on'); plt.axis(ymin = -2, ymax = 2)\n",
    "plt.plot(xg,yg, label=\"exact\"); plt.plot(xg, ygt, label=\"taylor\");plt.legend();"
   ]
  },
  {
   "cell_type": "markdown",
   "metadata": {
    "slideshow": {
     "slide_type": "slide"
    }
   },
   "source": [
    "# Polynomial Interpolation\n",
    "\n",
    "## Collocation\n",
    "\n",
    "**Proposition**\n",
    "\n",
    "*There is exactly one polynomial $p_n$ of degree $n$ which satisfies the interpolation conditions $$p_n(x_k) = y_k, \\quad k=0,\\ldots,n$$ if all $x_k$ are distinct*\n",
    "\n",
    "**Proof**\n",
    "by construction, will give 3 different approaches below which choose three different sets of basis functions for the linear space of polynomials of degree $n$"
   ]
  },
  {
   "cell_type": "markdown",
   "metadata": {
    "slideshow": {
     "slide_type": "slide"
    }
   },
   "source": [
    "## Approach 1: power basis $x^k$\n",
    "\n",
    "* if $p_n(x) =a_0+a_1x+\\cdots+a_{n}x^n$, then the interpolation conditions lead to a linear system of\n",
    "   equations for the $a_k$:\n",
    "$$\\left[\\begin{array}{ccccc}\n",
    "1&x_0&x_0^2&\\cdots&x_0^{n}\\\\\n",
    "1&x_1&x_1^2&\\cdots&x_1^{n}\\\\\n",
    "\\vdots&\\vdots&\\vdots&&\\vdots\\\\\n",
    "1&x_{n}&x_n^2&\\cdots&x_{n}^{n}\n",
    "\\end{array}\\right]\n",
    "\\left[\\begin{array}{c}\n",
    "a_0\\\\a_1\\\\\\vdots\\\\a_n\\end{array}\\right]\n",
    "=\\left[\\begin{array}{c}\n",
    "y_0\\\\y_1\\\\\\vdots\\\\y_n\\end{array}\\right]$$\n",
    "\n",
    "* the matrix $X$ of this system is a *Vandermonde matrix*\n",
    "* **Proposition:** if no two $x_k$ are the same then $X$ is invertible"
   ]
  },
  {
   "cell_type": "markdown",
   "metadata": {},
   "source": [
    "## Example:  linear interpolation"
   ]
  },
  {
   "cell_type": "markdown",
   "metadata": {
    "slideshow": {
     "slide_type": "slide"
    }
   },
   "source": [
    "## Example\n",
    "\n",
    "* $p_2(x) = a_0 + a_1 x + a_2 x^2$\n",
    "* collocation points\n",
    "\n",
    "|  $i$  |  0  |  1  |   2  |\n",
    "|:-----:|:---:|:---:|:----:|\n",
    "| $x_i$ |  0  | 0.5 |   2  |\n",
    "| $y_i$ | 0.2 | 0.6 | -1.0 |\n",
    "\n",
    "* system of equations for $a_k$: $$\\begin{bmatrix}\n",
    "1 & 0 & 0 \\\\\n",
    "1 & 0.5 & 0.25 \\\\\n",
    "1 & 2 & 4\n",
    "\\end{bmatrix}\n",
    "\\begin{bmatrix}\n",
    "a_0 \\\\ a_1 \\\\ a_2\n",
    "\\end{bmatrix}=\n",
    "\\begin{bmatrix}\n",
    "0.2 \\\\ 0.6 \\\\ -1\n",
    "\\end{bmatrix}$$\n",
    "\n",
    "* solution $a_0 = 1/5$, $a_1 = 19/15$ and $a_2 = -14/15$ \n",
    "* interpolating polynomial $$p_2(x) = 1/5 + 19/15 x + -14/15 x^2$$"
   ]
  },
  {
   "cell_type": "markdown",
   "metadata": {},
   "source": [
    "--------------------------------------------------------------"
   ]
  },
  {
   "cell_type": "code",
   "execution_count": 16,
   "metadata": {
    "collapsed": true
   },
   "outputs": [],
   "source": [
    "# polynomial interpolant\n",
    "\n",
    "n    = 6\n",
    "xpts = np.linspace(-2*pi,2*pi,n+1)\n",
    "ypts = uex(xpts)\n",
    "# Collocation matrix\n",
    "A = []\n",
    "for i in range(n+1):\n",
    "    A.append(xpts**i)\n",
    "A = np.array(A).T\n"
   ]
  },
  {
   "cell_type": "markdown",
   "metadata": {},
   "source": [
    "------------------------------"
   ]
  },
  {
   "cell_type": "code",
   "execution_count": 17,
   "metadata": {},
   "outputs": [
    {
     "name": "stdout",
     "output_type": "stream",
     "text": [
      "time for computing polynomial coefficients:\n",
      "The slowest run took 158.51 times longer than the fastest. This could mean that an intermediate result is being cached.\n",
      "10000 loops, best of 1: 66.3 µs per loop\n",
      "time for evaluation:\n",
      "10000 loops, best of 1: 29.3 µs per loop\n"
     ]
    }
   ],
   "source": [
    "# solve problem\n",
    "print('time for computing polynomial coefficients:')\n",
    "%timeit -r 1 coeffs = nla.solve(A,ypts)\n",
    "coeffs = nla.solve(A,ypts)\n",
    "# interpolant: ui\n",
    "ui = lambda x, a=coeffs, p = png, n=n : p(x, a, n) \n",
    "xg = np.linspace(-2*pi,2*pi,128); yg = np.sin(xg); \n",
    "print('time for evaluation:')\n",
    "%timeit -r 1 ygi = ui(xg)\n",
    "ygi = ui(xg)"
   ]
  },
  {
   "cell_type": "markdown",
   "metadata": {},
   "source": [
    "--------------------------------------------------------------"
   ]
  },
  {
   "cell_type": "code",
   "execution_count": 18,
   "metadata": {},
   "outputs": [
    {
     "data": {
      "image/png": "[encoded data removed]",
      "text/plain": [
       "<matplotlib.figure.Figure at 0x7f93030b5908>"
      ]
     },
     "metadata": {},
     "output_type": "display_data"
    }
   ],
   "source": [
    "plt.grid('on'); plt.axis(ymin = -2, ymax = 2)\n",
    "plt.plot(xg,yg, label=\"exact\"); plt.plot(xg, ygi, label=\"interpolant\")\n",
    "plt.legend();"
   ]
  },
  {
   "cell_type": "markdown",
   "metadata": {
    "slideshow": {
     "slide_type": "slide"
    }
   },
   "source": [
    "## Approach 2: cardinal basis $l_j$\n",
    "\n",
    "* basis functions $$l_j(x) = \\prod_{k\\neq j} \\frac{x-x_k}{x_j-x_k}$$\n",
    "\n",
    "  * this forms a basis of the linear space of polynomials of degree $n$ if the $x_k$ are all distinct\n",
    "  * collocation matrix is identity\n",
    "\n",
    "* basis functions satisfy\n",
    "  $$l_j(x_k) = \\delta_{j,k}$$\n",
    "  where $\\delta_{j,k}$ is Kronecker delta\n",
    "\n",
    "    * thus they are the solution of a special interpolation problem\n",
    "  \n",
    "* interpolation polynomial $$p_n(x) = \\sum_{j=0}^n y_j l_j(x)$$\n",
    "\n",
    "* no need to solve any equations!\n",
    "* also called the *Lagrange form* of the interpolation polynomial"
   ]
  },
  {
   "cell_type": "markdown",
   "metadata": {},
   "source": [
    "## Derivation of the Lagrangian (or cardinal) functions $l_j(x)$\n",
    "\n",
    "* aim: compute $l_j(x)$, a polynomial of degree $n$ which satisfies $l_j(x_k) = \\delta_{j,k}$\n",
    "\n",
    "* property:   $l_j(x)$ is zero for all $x=x_k$ *except* $x=x_j$\n",
    "* consequence:\n",
    "    $$l_j(x) = c_j \\prod_{k\\neq j} (x-x_k)$$\n",
    "    where the product is to be taken over all $k=0,\\ldots,n$ *excluding* $k=j$\n",
    "\n",
    "* property:   $$l_j(x_j) = c_j \\prod_{k\\neq j} (x_j-x_k) = 1$$\n",
    "* consequence:\n",
    "    $$c_j = \\left(\\prod_{k\\neq j} (x_j - x_k)\\right)^{-1}$$"
   ]
  },
  {
   "cell_type": "markdown",
   "metadata": {
    "collapsed": true
   },
   "source": [
    "## Example: linear interpolation"
   ]
  },
  {
   "cell_type": "markdown",
   "metadata": {
    "slideshow": {
     "slide_type": "slide"
    }
   },
   "source": [
    "## Example -- cardinal functions\n",
    "\n",
    "* for the data points\n",
    "\n",
    "|  $i$  |  0  |  1  |   2  |\n",
    "|:-----:|:---:|:---:|:----:|\n",
    "| $x_i$ |  0  | 0.5 |   2  |\n",
    "| $y_i$ | 0.2 | 0.6 | -1.0 |\n",
    "\n",
    "the cardinal functions are\n",
    "\n",
    "$$l_0(x) = \\frac{(x-0.5)(x-2)}{(0-0.5)(0-2)} = (x-0.5)(x-2),$$ $$l_1(x) = \\frac{(x-0)(x-2)}{(0.5-0)(0.5-2)} = -\\frac{4}{3} x(x-2),$$ $$l_2(x) = \\frac{(x-0)(x-0.5)}{(2-0)(2-0.5)} = \\frac{1}{3} x(x-0.5).$$"
   ]
  },
  {
   "cell_type": "markdown",
   "metadata": {
    "slideshow": {
     "slide_type": "slide"
    }
   },
   "source": [
    "## Example -- Lagrangian interpolant\n",
    "\n",
    "$$p_2(x) = 0.2*l_0(x)+0.6*l_1(x)-l_2(x)$$\n",
    "\n",
    "* verification:\n",
    "    \n",
    "    1. $p_2(x)$ has degree at most 2\n",
    "    2. satisfies interpolation conditions\n",
    "\n",
    "$$\\begin{aligned}\n",
    "p_n(x_j) &=& y_0 l_0(x_j) + \\cdots + y_j l_j(x_j) + \\cdots + y_n l_n(x_j) \\\\\n",
    "&=& y_0 \\cdot  0 + \\cdots + y_j \\cdot 1 + \\cdots + y_n \\cdot 0 \\\\\n",
    "&=& y_j\\end{aligned}$$\n",
    "\n",
    "* uniqueness of this interpolant:\n",
    "\n",
    "    * suppose $p(x)$ and $q(x)$ both satisfy collocation equations \n",
    "    * then $r(x) = p(x)-q(x)$ is a polynomial of degree at most $n$\n",
    "    * and $r(x)$ has $n+1$ roots $x_0 \\dots x_n$\n",
    "    * thus $r(x)$ must be identically zero, and so $p=q$"
   ]
  },
  {
   "cell_type": "markdown",
   "metadata": {},
   "source": [
    "-----------------------------------------------------"
   ]
  },
  {
   "cell_type": "code",
   "execution_count": 19,
   "metadata": {
    "collapsed": true
   },
   "outputs": [],
   "source": [
    "%%cython\n",
    "import numpy as np\n",
    "cimport numpy as np\n",
    "def eval_lj(np.ndarray[np.float64_t,ndim=1] xpts, \\\n",
    "            np.ndarray[np.float64_t,ndim=1] xg):\n",
    "    cdef int ng = xg.shape[0]\n",
    "    cdef int npts = xpts.shape[0]\n",
    "    cdef np.ndarray[np.float64_t,ndim=2] \\\n",
    "                    lj = np.ones((ng,npts))\n",
    "    cdef int i\n",
    "    cdef int j\n",
    "    cdef int k\n",
    "    for i in range(npts):\n",
    "        for j in range(npts):\n",
    "            if (i != j):\n",
    "                for k in range(ng):\n",
    "                    lj[k,i] *= (xg[k]-xpts[j])\\\n",
    "                              /(xpts[i]-xpts[j])\n",
    "    return lj"
   ]
  },
  {
   "cell_type": "markdown",
   "metadata": {},
   "source": [
    "---------------------------------------------------------------"
   ]
  },
  {
   "cell_type": "code",
   "execution_count": 20,
   "metadata": {},
   "outputs": [
    {
     "data": {
      "image/png": "[encoded data removed]",
      "text/plain": [
       "<matplotlib.figure.Figure at 0x7f9300701128>"
      ]
     },
     "metadata": {},
     "output_type": "display_data"
    }
   ],
   "source": [
    "# Lagrangian or cardinal polynomials lj(x)\n",
    "npts = 6; xpts = np.linspace(-2*pi,2*pi,npts)\n",
    "ypts = uex(xpts); ng = 128; xg = np.linspace(-2*pi,2*pi,ng)\n",
    "ljg = eval_lj(xpts,xg); \n",
    "for j in range(npts): plt.plot(xg,ljg[:,j])"
   ]
  },
  {
   "cell_type": "markdown",
   "metadata": {},
   "source": [
    "------------------------------------------------"
   ]
  },
  {
   "cell_type": "code",
   "execution_count": 21,
   "metadata": {},
   "outputs": [
    {
     "name": "stdout",
     "output_type": "stream",
     "text": [
      "time for polynomial evaluation:\n",
      "10000 loops, best of 1: 150 µs per loop\n"
     ]
    },
    {
     "data": {
      "image/png": "[encoded data removed]",
      "text/plain": [
       "<matplotlib.figure.Figure at 0x7f930308f8d0>"
      ]
     },
     "metadata": {},
     "output_type": "display_data"
    }
   ],
   "source": [
    "print('time for polynomial evaluation:')\n",
    "%timeit -r 1 yg = np.dot(eval_lj(xpts,xg),ypts.T)\n",
    "plt.plot(xg, np.dot(eval_lj(xpts,xg),ypts.T),xg,uex(xg)); plt.grid('on')"
   ]
  },
  {
   "cell_type": "markdown",
   "metadata": {
    "slideshow": {
     "slide_type": "slide"
    }
   },
   "source": [
    "## Approach 3: Newton's basis $n_j(x)$\n",
    "\n",
    "* basis functions $n_0(x)=1$ and $$n_{j+1}(x) = \\prod_{k=0}^j (x-x_k)$$\n",
    "    * collocation matrix is triangular\n",
    "\n",
    "* interpolant for points $(x_0,y_0),\\ldots,(x_k,y_k)$:\n",
    "$$p_k(x) = \\sum_{j=0}^k c_j n_j(x)$$\n",
    "NB: the $c_j$ are independent of $k$!\n",
    "\n",
    "* first polynomial $p_0(x) = y_0$\n",
    "* recursion $$p_{k+1}(x) = p_k(x) + c_{k+1} n_{k+1}(x)$$\n",
    "    * substituting $x=x_{k+1}$ to get $$c_{k+1} = \\frac{y_{k+1}-p_k(x_{k+1})}{n_{k+1}(x_{k+1})}$$"
   ]
  },
  {
   "cell_type": "markdown",
   "metadata": {},
   "source": [
    "## Example: linear interpolant"
   ]
  },
  {
   "cell_type": "markdown",
   "metadata": {
    "slideshow": {
     "slide_type": "slide"
    }
   },
   "source": [
    "## Example Polynomial Interpolation\n",
    "\n",
    "* same interpolation points\n",
    "\n",
    "|  $i$  |  0  |  1  |   2  |\n",
    "|:-----:|:---:|:---:|:----:|\n",
    "| $x_i$ |  0  | 0.5 |   2  |\n",
    "| $y_i$ | 0.2 | 0.6 | -1.0 |\n",
    "\n",
    "* Newton's functions are $$\\begin{aligned}\n",
    "n_0(x)            & = 1, \\\\\n",
    "n_1(x) & = x,\\\\\n",
    "n_2(x) & = x(x-0.5)\\end{aligned}$$\n",
    "* and so $$\\begin{aligned}\n",
    "p_0(x)            & = 0.2, \\\\\n",
    "p_1(x) & = 0.2 + 0.8 x,\\\\\n",
    "p_2(x) & = 0.2 + 0.8 x - \\frac{14}{15} x(x-0.5)\\end{aligned}$$"
   ]
  },
  {
   "cell_type": "markdown",
   "metadata": {
    "collapsed": true
   },
   "source": [
    "## Evaluation of Newton polynomial with Horner-like method\n"
   ]
  },
  {
   "cell_type": "code",
   "execution_count": 22,
   "metadata": {
    "collapsed": true,
    "slideshow": {
     "slide_type": "slide"
    }
   },
   "outputs": [],
   "source": [
    "def pnh(x,a,xk,n):\n",
    "    y = a[-1]\n",
    "    for k in range(n-2,-1,-1):\n",
    "        y  = (x-xk[k])*y + a[k]\n",
    "    return y"
   ]
  },
  {
   "cell_type": "code",
   "execution_count": 23,
   "metadata": {
    "slideshow": {
     "slide_type": "slide"
    }
   },
   "outputs": [
    {
     "name": "stdout",
     "output_type": "stream",
     "text": [
      "1000 loops, best of 3: 327 µs per loop\n"
     ]
    }
   ],
   "source": [
    "%%timeit\n",
    "from numpy.random import random; n= 200; x = random(); \\\n",
    "               a = random(n); xk = np.linspace(0,1,n)\n",
    "y = pnh(x,a,xk, n) # timing polynomial"
   ]
  },
  {
   "cell_type": "markdown",
   "metadata": {},
   "source": [
    "-----------------------------------------------------"
   ]
  },
  {
   "cell_type": "code",
   "execution_count": 24,
   "metadata": {
    "collapsed": true
   },
   "outputs": [],
   "source": [
    "%%cython\n",
    "# fast Newton polynomial evaluation with Horner's method\n",
    "cimport numpy as np\n",
    "import numpy as np\n",
    "\n",
    "def pnhc(np.float64_t x, \n",
    "         np.ndarray[np.float64_t, ndim=1] a,\n",
    "         np.ndarray[np.float64_t, ndim=1] xk):\n",
    "    \n",
    "    cdef np.float64_t y = 0.0\n",
    "    n = a.shape[0]\n",
    "    for k in range(n-1,-1,-1):\n",
    "        y  = (x-xk[k])*y + a[k]\n",
    "    return y"
   ]
  },
  {
   "cell_type": "markdown",
   "metadata": {},
   "source": [
    "---------------------------"
   ]
  },
  {
   "cell_type": "code",
   "execution_count": 25,
   "metadata": {
    "collapsed": true,
    "slideshow": {
     "slide_type": "slide"
    }
   },
   "outputs": [],
   "source": [
    "%%cython\n",
    "# fast Newton polynomial evaluation with Horner's method\n",
    "cimport numpy as np\n",
    "import numpy as np\n",
    "def pnhg(np.ndarray[np.float64_t, ndim=1] xg, \\\n",
    "         np.ndarray[np.float64_t,ndim=1] a,\n",
    "         np.ndarray[np.float64_t,ndim=1] xk): \n",
    "    cdef int k\n",
    "    cdef int ng = xg.shape[0]\n",
    "    cdef int n  = a.shape[0]\n",
    "    cdef np.ndarray[np.float64_t, ndim=1] \\\n",
    "                        yg = np.zeros(ng)\n",
    "    for i in range(ng):\n",
    "        for k in range(n-1,-1,-1):\n",
    "            yg[i] = (xg[i]-xk[k])*yg[i] + a[k]\n",
    "    return yg"
   ]
  },
  {
   "cell_type": "markdown",
   "metadata": {},
   "source": [
    "-------------------------------"
   ]
  },
  {
   "cell_type": "code",
   "execution_count": 26,
   "metadata": {
    "slideshow": {
     "slide_type": "slide"
    }
   },
   "outputs": [
    {
     "name": "stdout",
     "output_type": "stream",
     "text": [
      "1000 loops, best of 3: 398 µs per loop\n"
     ]
    }
   ],
   "source": [
    "%%timeit\n",
    "from numpy.random import random; n= 200; x = random(); \\\n",
    "      a = random(n); xk = np.linspace(0,1,n)\n",
    "y = pnhc(x,a,xk) # timing polynomial"
   ]
  },
  {
   "cell_type": "markdown",
   "metadata": {},
   "source": [
    "-------------------"
   ]
  },
  {
   "cell_type": "code",
   "execution_count": 27,
   "metadata": {
    "collapsed": true
   },
   "outputs": [],
   "source": [
    "%%cython\n",
    "import numpy as np\n",
    "cimport numpy as np\n",
    "\n",
    "# compute the values of the Newton functions on some grid\n",
    "\n",
    "def eval_nj(np.ndarray[np.float64_t,ndim=1] xpts, \\\n",
    "            np.ndarray[np.float64_t,ndim=1] xg):\n",
    "        \n",
    "    cdef int i, j, k\n",
    "    cdef int ng = xg.shape[0]\n",
    "    cdef int npts = xpts.shape[0]\n",
    "    cdef np.ndarray[np.float64_t,ndim=2] \\\n",
    "                     nj = np.ones((ng,npts))\n",
    "    for i in range(npts):\n",
    "        for j in range(0,i):\n",
    "            for k in range(ng):\n",
    "                nj[k,i] *= (xg[k]-xpts[j])\n",
    "    return nj"
   ]
  },
  {
   "cell_type": "markdown",
   "metadata": {},
   "source": [
    "--------------------"
   ]
  },
  {
   "cell_type": "code",
   "execution_count": 28,
   "metadata": {
    "collapsed": true
   },
   "outputs": [],
   "source": [
    "# Newton polynomials lj(x)\n",
    "\n",
    "s = 2\n",
    "h = s\n",
    "\n",
    "npts = 6\n",
    "xpts = np.linspace(-s,s,npts)\n",
    "ypts = uex(xpts)\n",
    "ng = 129\n",
    "xg = np.linspace(-s,s,ng)\n",
    "\n",
    "njg = eval_nj(xpts,xg)"
   ]
  },
  {
   "cell_type": "markdown",
   "metadata": {},
   "source": [
    "------------------------------------"
   ]
  },
  {
   "cell_type": "code",
   "execution_count": 29,
   "metadata": {},
   "outputs": [
    {
     "data": {
      "image/png": "[encoded data removed]",
      "text/plain": [
       "<matplotlib.figure.Figure at 0x7f930049aa58>"
      ]
     },
     "metadata": {},
     "output_type": "display_data"
    }
   ],
   "source": [
    "plt.plot(xpts,np.zeros(npts),'ro')\n",
    "for j in range(npts): plt.plot(xg,njg[:,j],label=j)\n",
    "plt.legend();plt.grid('on');plt.axis(ymin=-h,ymax=h);"
   ]
  },
  {
   "cell_type": "markdown",
   "metadata": {},
   "source": [
    "--------------------------"
   ]
  },
  {
   "cell_type": "code",
   "execution_count": 30,
   "metadata": {
    "collapsed": true
   },
   "outputs": [],
   "source": [
    "%%cython\n",
    "import numpy as np\n",
    "cimport numpy as np\n",
    "from __main__ import pnhc\n",
    "\n",
    "def ncoeffs(np.ndarray[np.float64_t,ndim=1] xpts, \\\n",
    "            np.ndarray[np.float64_t,ndim=1] ypts):\n",
    "    cdef int n = xpts.shape[0]\n",
    "    cdef np.ndarray[np.float64_t, ndim=1] c = np.zeros(n)\n",
    "    cdef int k\n",
    "    c[0] = ypts[0]\n",
    "    for k in range(n):\n",
    "        c[k] = (ypts[k] - pnhc(xpts[k],c[:k],xpts[:k]))  \\\n",
    "                        / np.prod(xpts[k]-xpts[:k])\n",
    "    return c"
   ]
  },
  {
   "cell_type": "markdown",
   "metadata": {},
   "source": [
    "--------------------------------------------------------------------"
   ]
  },
  {
   "cell_type": "code",
   "execution_count": 31,
   "metadata": {},
   "outputs": [
    {
     "name": "stdout",
     "output_type": "stream",
     "text": [
      "10 loops, best of 3: 32.9 ms per loop\n"
     ]
    }
   ],
   "source": [
    "%%timeit\n",
    "from numpy.random import random; n= 200; \\\n",
    "    xpts = np.linspace(0,1,n); ypts = random(n)\n",
    "c = ncoeffs(xpts, ypts)"
   ]
  },
  {
   "cell_type": "markdown",
   "metadata": {},
   "source": [
    "---------------------------------------------------"
   ]
  },
  {
   "cell_type": "code",
   "execution_count": 36,
   "metadata": {
    "collapsed": true
   },
   "outputs": [],
   "source": [
    "%%cython\n",
    "import numpy as np\n",
    "cimport numpy as np\n",
    "def ncoeffs2(np.ndarray[np.float64_t,ndim=1] xpts, \\\n",
    "              np.ndarray[np.float64_t,ndim=1] ypts):\n",
    "    cdef int k, i\n",
    "    cdef np.float64_t qk, yi\n",
    "    cdef int n = xpts.shape[0]\n",
    "    cdef np.ndarray[np.float64_t,ndim=1] c = np.zeros(n)\n",
    "    c[0] = ypts[0]\n",
    "    for k in range(n):\n",
    "        qk = 1.0\n",
    "        for i in range(k):\n",
    "            qk *= (xpts[k]-xpts[i])\n",
    "        yi = 0.0\n",
    "        for i in range(k-1,-1,-1):\n",
    "            yi  = (xpts[k]-xpts[i])*yi + c[i]\n",
    "        c[k] = (ypts[k] - yi)/qk\n",
    "    return c"
   ]
  },
  {
   "cell_type": "markdown",
   "metadata": {},
   "source": [
    "--------------------------------------------"
   ]
  },
  {
   "cell_type": "code",
   "execution_count": 37,
   "metadata": {},
   "outputs": [
    {
     "name": "stdout",
     "output_type": "stream",
     "text": [
      "The slowest run took 346.33 times longer than the fastest. This could mean that an intermediate result is being cached.\n",
      "1000 loops, best of 3: 246 µs per loop\n"
     ]
    }
   ],
   "source": [
    "%%timeit\n",
    "from numpy.random import random; n= 200; \\\n",
    "    xpts = np.linspace(0,1,n); ypts = random(n)\n",
    "c = ncoeffs2(xpts, ypts)"
   ]
  },
  {
   "cell_type": "markdown",
   "metadata": {},
   "source": [
    "---------------------------------------------"
   ]
  },
  {
   "cell_type": "code",
   "execution_count": 38,
   "metadata": {},
   "outputs": [
    {
     "name": "stdout",
     "output_type": "stream",
     "text": [
      "100000 loops, best of 3: 12 µs per loop\n",
      "The slowest run took 263.80 times longer than the fastest. This could mean that an intermediate result is being cached.\n",
      "100000 loops, best of 3: 19.8 µs per loop\n"
     ]
    }
   ],
   "source": [
    "# computing the interpolant with Newton\n",
    "# first we compute the coefficients\n",
    "npts = 6\n",
    "xpts = np.linspace(-2*pi,2*pi,npts)\n",
    "ypts = uex(xpts)\n",
    "\n",
    "ng = 127\n",
    "xg = np.linspace(-2*pi,2*pi,ng)\n",
    "yg = uex(xg)\n",
    "#plt.plot(xg,yg)\n",
    "\n",
    "%timeit c = ncoeffs2(xpts,ypts)\n",
    "c = ncoeffs2(xpts,ypts)\n",
    "%timeit yig = pnhg(xg, c, xpts)\n",
    "yig = pnhg(xg, c, xpts)\n",
    "# plt.plot(xg, yig);"
   ]
  },
  {
   "cell_type": "markdown",
   "metadata": {
    "slideshow": {
     "slide_type": "slide"
    }
   },
   "source": [
    "## Another example\n",
    "\n",
    "* another illustration of how the same polynomial is represented in three different forms\n",
    "* Consider the polynomial $p_3(x)=4x^3 +35x^2 -84x -954$ \n",
    "* Show that the four points with coordinates $(5,1)$, $(-7,-23)$, $(-6,-54)$ and $(0,-954)$ are on the graph of $p_3$\n",
    "\n",
    "## Example - Newton’s Form\n",
    "\n",
    "* the Newton functions are then $n_0(x)=1, \\quad n_1(x)=x-5, \\quad n_2(x)=(x-5)(x+7),\\quad n_3(x)=(x-5)(x+7)(x+6)$\n",
    "* An application of Newton’s interpolation method gives then $$p_3(x)=n_0(x)+2n_1(x)+3n_2(x)+4n_3(x)$$"
   ]
  }
 ],
 "metadata": {
  "celltoolbar": "Slideshow",
  "kernelspec": {
   "display_name": "Python 3",
   "language": "python",
   "name": "python3"
  },
  "language_info": {
   "codemirror_mode": {
    "name": "ipython",
    "version": 3
   },
   "file_extension": ".py",
   "mimetype": "text/x-python",
   "name": "python",
   "nbconvert_exporter": "python",
   "pygments_lexer": "ipython3",
   "version": "3.7.0"
  }
 },
 "nbformat": 4,
 "nbformat_minor": 2
}
