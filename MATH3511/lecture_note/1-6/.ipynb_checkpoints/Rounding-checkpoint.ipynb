{
 "cells": [
  {
   "cell_type": "markdown",
   "metadata": {},
   "source": [
    "# 1.6 Rounding"
   ]
  },
  {
   "cell_type": "markdown",
   "metadata": {
    "slideshow": {
     "slide_type": "slide"
    }
   },
   "source": [
    "\n",
    "## floating point numbers\n",
    "\n",
    "$\\renewcommand{\\R}{\\mathbb{R}}\n",
    " \\renewcommand{\\Z}{\\mathbb{Z}}\n",
    " \\renewcommand{\\F}{\\mathbb{F}}$\n",
    " \n",
    "* recall that we are computing in the number system $\\F_B(t)$ with $B=2$ or $B=10$\n",
    "* a typical $x\\in \\F_B(t) \\setminus \\{0\\}$ is of the form\n",
    "    $$x = \\pm \\left(\\frac{x_1}{B} + \\frac{x_2}{B^2} + \\cdots + \\frac{x_t}{B^t}\\right)B^e$$\n",
    "    with exponents $e\\in\\Z$ and digits $x_k\\in \\{0,\\ldots,B-1\\}$ and $x_1 \\neq 0$\n",
    "* in short we write this as $$x = 0.x_1x_2\\ldots x_t\\, B^e$$\n",
    "    * for example one has $x = -0.4521 \\cdot 10^5$\n",
    "    \n",
    "    \n",
    "## Rounding function $\\phi(x)$ \n",
    "\n",
    "* mapping $$\\phi : \\R \\rightarrow \\F_B(t)$$\n",
    "     * there are many different rounding functions including truncation\n",
    "         * example: $\\phi(0.346) = 0.34$\n",
    "     * set of floating point numbers discrete, thus rounding function \n",
    "         piecewise constant\n",
    "* the rounding error for some $x\\in \\R$ is then $$\\epsilon(x) = \\phi(x) - x$$\n",
    "     * error piecewise linear, not continuous\n",
    "     * rounding errors of complicated expressions can be hard to predict\n",
    "     * $\\phi(x)$ monotone: $\\phi(x) \\leq \\phi(y)$ if $x \\leq y$"
   ]
  },
  {
   "cell_type": "markdown",
   "metadata": {
    "slideshow": {
     "slide_type": "slide"
    }
   },
   "source": [
    "## Questions\n",
    "\n",
    "* When do you use rounding? \n",
    "* In projects, when estimating costs and time? \n",
    "* How many digits do you usually require?\n",
    "* What happens if we do not round?"
   ]
  },
  {
   "cell_type": "markdown",
   "metadata": {
    "slideshow": {
     "slide_type": "slide"
    }
   },
   "source": [
    "## Optimal Rounding\n",
    "\n",
    "* A rounding function $\\phi$ is called *optimal* if\n",
    "    $$|\\phi(x) - x| \\leq |y - x|, \\quad y \\in \\F_B(t)$$\n",
    "    \n",
    "* Truncation is not optimal: e.g., for $\\F_{10}(2)$ one has for $\\phi$ = truncation\n",
    "    $$\\phi(0.4563) = 0.45$$\n",
    "  but $$|0.45 - 0.4563| = 0.0063 > |0.46 - 0.4563| = 0.0037$$\n",
    "    \n",
    "--------------------------------------------------------------------\n",
    "    \n",
    "**Proposition** *An optimal rounding satisfies*\n",
    "    $$\\phi(x) - x = \\delta x$$\n",
    "    *where $|\\delta| \\leq 0.5 B^{-t+1}$*\n",
    "    \n",
    "*Proof.*\n",
    "\n",
    "* if $x\\in \\F_B(t)$ then $\\phi(x) = x$ by optimality\n",
    "* if $x\\not\\in \\F_B(t)$ then $\\phi(x) \\in \\{x_1,x_2\\}$ where $x_i\\in\\F_B(t)$ are the two closest numbers to $x$\n",
    "* by optimality $|\\phi(x)-x| \\leq |x_2-x_1|/2$ \n",
    "* If $x>0$ one has $x = \\sum_{j=1}^\\infty c_j B^{-j+e}$ and\n",
    "    $$x_1 = \\sum_{j=1}^t c_j B^{-j+e} < x_2 = x_1 + B^{-t+e}$$\n",
    "    and so $(x_2-x_1)/2 = 0.5 B^{-t+e}$ and similar for $x<0$\n",
    "* Normalisation: $B^{-1+e} \\leq c_1 B^{-1+e} \\leq x$ and thus\n",
    "    $$\\frac{x_2-x_1}{2x} \\leq \\frac{0.5 B^{-t+e}}{B^{-1+e}} = 0.5 B^{-t+1}$$\n",
    "    \n",
    "    \n",
    "-----------------------------------------------------------------------\n",
    "\n",
    "* Optimal rounding is not unique, for example, if $x=0.745$ both both $0.74$ and $0.75$ are optimal (in $\\F_{10}(2)$)\n",
    "    * a common choice is in this case to select the number with even least significant digit, i.e., $0.74$\n",
    "    "
   ]
  },
  {
   "cell_type": "markdown",
   "metadata": {
    "slideshow": {
     "slide_type": "slide"
    }
   },
   "source": [
    "\n",
    "## examples\n",
    "\n",
    "1. floating point decimal numbers in $\\F_{10}(2)$: \n",
    "    * $\\phi(3.452)=3.5$ \n",
    "    * $\\phi(0.675)=0.68$\n",
    "    * $\\phi(1/9)=0.11$\n",
    "2. floating point binary number in $\\F_2(3)$: \n",
    "    * $\\phi(3.1875) = 3$ as $3.1875=0.110011_2 \\cdot 2^2$ and $\\phi(0.110011_2\\cdot 2^2)=0.11_2\\cdot 2^2=3$\n",
    "    \n",
    "## A property of floating point rounding\n",
    "\n",
    "**Lemma**\n",
    "\n",
    "If $\\phi_0 : \\mathbb{R} \\rightarrow \\mathbb{Z}$ and $\\phi:\\mathbb{R} \\rightarrow \\F_B(t)$ \n",
    "are rounding functions (with consistent rounding of midpoints) and $e$ is the exponent of $x\\in\\R$ (normalised) then\n",
    "$$ \n",
    "\\phi(x) = \\phi_0(B^{t-e} x)/B^{t-e}\n",
    "$$\n",
    "\n",
    "*for proof use:* $\\quad \\{B^{t-1},\\ldots,B^t-1\\} = \\{B^{t-e} y \\mid y \\in \\F_B(t)\\} \\in \\Z$\n",
    "\n",
    "---------------------------------------------------------------------------------------"
   ]
  },
  {
   "cell_type": "code",
   "execution_count": 38,
   "metadata": {
    "slideshow": {
     "slide_type": "slide"
    }
   },
   "outputs": [
    {
     "data": {
      "text/plain": [
       "3.25"
      ]
     },
     "execution_count": 38,
     "metadata": {},
     "output_type": "execute_result"
    }
   ],
   "source": [
    "# Rounding to Fl_2(t) in Python:\n",
    "\n",
    "def roundfl2(number, ndigits=1):\n",
    "    import math\n",
    "    (xm, xe) = math.frexp(number)\n",
    "    xr = round(xm*2.0**ndigits)/2.0**ndigits\n",
    "    return math.ldexp(xr, xe)\n",
    "\n",
    "roundfl2(3.1875, ndigits=4)"
   ]
  },
  {
   "cell_type": "markdown",
   "metadata": {
    "slideshow": {
     "slide_type": "slide"
    }
   },
   "source": [
    "## using Python decimal module for rounding in $\\F_{10}(t)$\n",
    "\n",
    "* Python *decimal* which implements floating point numbers\n",
    "* we use this module to implement a decimal rounding function\n",
    "* output in floating point thus additional error"
   ]
  },
  {
   "cell_type": "code",
   "execution_count": 39,
   "metadata": {
    "slideshow": {
     "slide_type": "slide"
    }
   },
   "outputs": [
    {
     "data": {
      "text/plain": [
       "3.19"
      ]
     },
     "execution_count": 39,
     "metadata": {},
     "output_type": "execute_result"
    }
   ],
   "source": [
    "# decimal rounding of binary floating point numbers\n",
    "\n",
    "def roundfl10(x, t=1):\n",
    "    from decimal import Context\n",
    "    return float(Context(prec=t).create_decimal(x))\n",
    "\n",
    "roundfl10(3.1875, t=3)"
   ]
  },
  {
   "cell_type": "markdown",
   "metadata": {
    "collapsed": true,
    "slideshow": {
     "slide_type": "slide"
    }
   },
   "source": [
    "## Applications of Rounding to elementary unary and binary functions\n",
    "\n",
    "As $\\F_B(t)$ is not a ring, we need to approximate all arithmetic operations and an optimal approximation\n",
    "of these operations is\n",
    "\n",
    "* for example, we replace the sum $x+y$ by $\\phi(x+y)$, and the same for multiplications\n",
    "* any unary function evaluations are also done using rounding, e.g. replace $\\sin(x)$ by $\\phi(\\sin(x))$\n",
    "\n",
    "------------------------------------------------------\n",
    "\n",
    "In order to assess the error caused through rounding one uses the proposition above to get\n",
    "\n",
    "* for the binary function evaluations: $(1+\\delta_1)(x+y)$ \n",
    "* for unary function evaluations: $(1+\\delta_2) \\sin(x)$\n",
    "\n",
    "(of course, the $\\delta_i$ are not the same but in an ideal case, they are bounded by the same constant)\n",
    "\n",
    "* the $\\delta_i$ characterise the relative rounding error which occurs when the functions are done on a computer"
   ]
  },
  {
   "cell_type": "markdown",
   "metadata": {
    "slideshow": {
     "slide_type": "slide"
    }
   },
   "source": [
    "## arithmetic operations in $\\mathbb{F}_B(t)$\n",
    "\n",
    "* difference in $\\F_B(t)$ exact only in exceptional circumstances, a\n",
    "  notable case is where $x$ and $y$ are very close as in this case the\n",
    "  difference of $x$ and $y$ is also in $\\F_B(t)$\n",
    "* the product $x*y$ of two numbers in $\\F_B(t)$\n",
    "  is in $\\F_B(2t)$\n",
    "* the quotient will typically be a floating point number with\n",
    "  an infinite number of digits\n",
    "* IEEE 754 standard suggests that best approximation using rounding\n",
    "  should be used to implement arithmetic operations\n",
    "\n",
    "*thus replace any $x\\circ y$ by $\\phi(x\\circ y)$*\n",
    "\n",
    "## properties of approximate arithmetic\n",
    "\n",
    "* commutative law holds for addition and multiplication in $\\F_B(t)$ $$\\phi(xy) = \\phi(yx)$$\n",
    "* associative law for addition does not hold\n",
    "    * e.g. $\\phi(x+\\phi(y+z)) \\neq \\phi(\\phi(x+y)+z)$\n",
    "    * e.g. in $\\F_{10}(3)$ $$\\phi(\\phi(1.32+0.254)+0.392) = 1.96 \\neq 1.97 = \\phi(1.32+\\phi(0.254+0.392))$$\n",
    "* neither associative law for multiplication nor the distributive law hold\n",
    "\n",
    "\n",
    "\n",
    "## simple functions\n",
    "\n",
    "* IEEE 754 also requires that simple functions like $\\exp$, $\\sin$ etc\n",
    "  are implemented such that they are the rounded version of the exact\n",
    "  function\n",
    "* For example, we may define $\\sin_{\\F}(x):=\\phi(\\sin(x))$ where $\\phi:\\R \\rightarrow\\F$ is a rounding function"
   ]
  },
  {
   "cell_type": "markdown",
   "metadata": {
    "slideshow": {
     "slide_type": "slide"
    }
   },
   "source": [
    "## Questions\n",
    "\n",
    "The next section deals with numeric expressions.\n",
    "\n",
    "* What is the significance of such expressions, where are they used?\n",
    "* What is the math behind the expressions? \n",
    "* Can you think of anything related to your studies, work and life where such expressions play a role?\n"
   ]
  },
  {
   "cell_type": "markdown",
   "metadata": {
    "collapsed": true,
    "slideshow": {
     "slide_type": "slide"
    }
   },
   "source": [
    "# 1.7 error analysis of expressions\n",
    "\n",
    "----------------------------------------------------------\n",
    "\n",
    "* recall: floating point numbers have only a finite fixed number of digits in mantissa\n",
    "    * consequence: computers need to round almost every arithmetic operation and function evaluation\n",
    "* most real numbers and even rational numbers (like $1/5$) are not floating point numbers\n",
    "    * consequence: computers have to round almost all inputs\n",
    "* the resulting *rounding errors* are unavoidable and occur in every computation \n",
    "\n",
    "----------------------------------------------------\n",
    "\n",
    "In the following we analyse these errors\n",
    "\n",
    "Consider, for example the evaluation of $$f(x) = 2\\sin(x_1 x_2) + x_3$$  where\n",
    "$$x_1=3.57,\\quad  x_2=0.0723, \\quad and \\quad x_3=1.0.$$\n",
    "Evaluating this on your computer gives"
   ]
  },
  {
   "cell_type": "code",
   "execution_count": 40,
   "metadata": {
    "slideshow": {
     "slide_type": "slide"
    }
   },
   "outputs": [
    {
     "data": {
      "text/plain": [
       "1.5105091672725943"
      ]
     },
     "execution_count": 40,
     "metadata": {},
     "output_type": "execute_result"
    }
   ],
   "source": [
    "from math import sin\n",
    "2*sin(3.57*0.0723) + 1.0"
   ]
  },
  {
   "cell_type": "markdown",
   "metadata": {
    "slideshow": {
     "slide_type": "slide"
    }
   },
   "source": [
    "## Step 1: rewrite expression as sequence of simple assignments\n",
    "\n",
    "In a first step we rewrite the expression to\n",
    "be evaluated as a sequence of simple expressions of the form\n",
    "\n",
    "\\begin{align*}\n",
    "  u_0 &= f_0 \\\\\n",
    "  u_1 &= f_1(u_0)\\\\\n",
    "  u_2 &= f_2(u_0,u_1) \\\\\n",
    "  & \\cdots \\\\\n",
    "  u_n &= f_n(u_0,\\ldots,u_{n-1}).\n",
    "\\end{align*}\n",
    "\n",
    "----------------------------------------------------------\n",
    "\n",
    "\n",
    "The functions $f_k$ are either non-floating point constants, in our example 3.57 and 0.0723 but not 1.0 as\n",
    "this is a floating point number, or simple expressions which are evaluated with a rounding error, for example\n",
    "$2u_3+1$ but not $2u_3$ (which is evaluated exactly).\n",
    "\n",
    "\n",
    "In the case of our example we get\n",
    "\n",
    "\\begin{align*}\n",
    "  u_0 &= 3.57 \\\\\n",
    "  u_1 &= 0.0723\\\\\n",
    "  u_2 &= u_0 u_1 \\\\\n",
    "  u_3 &= \\sin(u_2) \\\\\n",
    "  u_4 &= 2u_3 + 1\n",
    "\\end{align*}"
   ]
  },
  {
   "cell_type": "markdown",
   "metadata": {
    "slideshow": {
     "slide_type": "slide"
    }
   },
   "source": [
    "## Step 2: include errors\n",
    "\n",
    "We now rewrite the algorithm including rounding errors\n",
    "\n",
    "* formula for rounding function\n",
    "    $$\\phi(x) = (1 + \\delta) x$$\n",
    "    note: $\\delta$ depends on $x$ but satisfies\n",
    "    $$|\\delta(x)| \\leq \\epsilon$$\n",
    "\n",
    "With the substitution one then gets\n",
    "\n",
    "\\begin{align*}\n",
    "  u_0 &= (1+\\delta_0)\\,f_0 \\\\\n",
    "  u_1 &= (1+\\delta_1)\\,f_1(u_0)\\\\\n",
    "  u_2 &= (1+\\delta_2)\\,f_2(u_0,u_1) \\\\\n",
    "  & \\cdots \\\\\n",
    "  u_n &= (1+\\delta_n)\\,f_n(u_0,\\ldots,u_{n-1}).\n",
    "\\end{align*}\n",
    "\n",
    "---------------------------------------------------\n",
    "\n",
    "For our **example** we get\n",
    "\n",
    "\\begin{align*}\n",
    "  u_0 &= (1+\\delta_0)\\, 3.57 \\\\\n",
    "  u_1 &= (1+\\delta_1)\\, 0.0723 \\\\\n",
    "  u_2 &= (1+\\delta_2)\\, u_0 u_1 \\\\\n",
    "  u_3 &= (1+\\delta_3)\\,\\sin(u_2) \\\\\n",
    "  u_4 &= (1+\\delta_4)\\, (2u_3 + 1)\n",
    "\\end{align*}\n",
    "\n",
    "* result $u_4$ is polynomial in the $\\delta_k$\n",
    "* study using simulation and derive error bounds\n",
    "* we have avoided dealing with the discontinuous rounding functions!\n",
    "\n",
    "----------------------------------------------------------------------"
   ]
  },
  {
   "cell_type": "code",
   "execution_count": 41,
   "metadata": {
    "collapsed": true,
    "slideshow": {
     "slide_type": "slide"
    }
   },
   "outputs": [],
   "source": [
    "# study the effect of rounding errors on the result\n",
    "\n",
    "def g(delta):\n",
    "    \n",
    "    u_0 = (1+delta[0])*3.57\n",
    "    u_1 = (1+delta[1])*0.0723\n",
    "    u_2 = (1+delta[2])*u_0*u_1\n",
    "    u_3 = (1+delta[3])*sin(u_2)\n",
    "    u_4 = (1+delta[4])*(2*u_3 + 1)\n",
    "    \n",
    "    return u_4\n",
    "\n"
   ]
  },
  {
   "cell_type": "markdown",
   "metadata": {},
   "source": [
    "---------------------------------------------------------------"
   ]
  },
  {
   "cell_type": "code",
   "execution_count": 42,
   "metadata": {},
   "outputs": [
    {
     "name": "stdout",
     "output_type": "stream",
     "text": [
      "exact result:  1.51050916727\n"
     ]
    }
   ],
   "source": [
    "# compute \"exact\" result\n",
    "import numpy as np\n",
    "u_4ex = g(np.zeros(5))\n",
    "print(\"exact result: \", u_4ex)\n",
    "\n",
    "# simulate using random rounding errors with uniform \n",
    "#   distribution for uncertain epsilon[k]\n",
    "n = 1000\n",
    "error = np.zeros(n)\n",
    "epsi = 1e-14\n",
    "for k in range(n):\n",
    "    delta = epsi*(np.random.random(5)*2-1)\n",
    "    error[k] = g(delta) - u_4ex\n",
    "\n"
   ]
  },
  {
   "cell_type": "markdown",
   "metadata": {},
   "source": [
    "--------------------------------------------------------"
   ]
  },
  {
   "cell_type": "code",
   "execution_count": 43,
   "metadata": {},
   "outputs": [
    {
     "data": {
      "image/png": "[encoded data removed]",
      "text/plain": [
       "<matplotlib.figure.Figure at 0x7f4eb1200ac8>"
      ]
     },
     "metadata": {},
     "output_type": "display_data"
    }
   ],
   "source": [
    "%matplotlib inline\n",
    "import pylab as plt\n",
    "plt.hist(error);"
   ]
  },
  {
   "cell_type": "markdown",
   "metadata": {
    "slideshow": {
     "slide_type": "slide"
    }
   },
   "source": [
    "## Revision ideas:\n",
    "\n",
    "* use above approach to analyse simple expressions like $a*b$ or $a+b+c$\n",
    "* take a code you might have and include rounding errors to study their effect on the result\n",
    "* any suggestions on how to automatically include rounding errors?"
   ]
  }
 ],
 "metadata": {
  "celltoolbar": "Slideshow",
  "kernelspec": {
   "display_name": "Python 3",
   "language": "python",
   "name": "python3"
  },
  "language_info": {
   "codemirror_mode": {
    "name": "ipython",
    "version": 3
   },
   "file_extension": ".py",
   "mimetype": "text/x-python",
   "name": "python",
   "nbconvert_exporter": "python",
   "pygments_lexer": "ipython3",
   "version": "3.6.4"
  }
 },
 "nbformat": 4,
 "nbformat_minor": 2
}
