{
 "cells": [
  {
   "cell_type": "markdown",
   "metadata": {},
   "source": [
    "# Romberg "
   ]
  },
  {
   "cell_type": "code",
   "execution_count": 1,
   "metadata": {},
   "outputs": [],
   "source": [
    "import numpy as np\n",
    "import matplotlib.pyplot as plt\n",
    "%matplotlib inline"
   ]
  },
  {
   "cell_type": "markdown",
   "metadata": {},
   "source": [
    "## introduction\n",
    "\n",
    "* (composite) trapezoidal rule for quadrature\n",
    "  $$T(f,h) = \\frac{h}{2} \\left( f(a) + 2 \\sum_{k=1}^{n-1} f(a+kh) + f(b) \\right)$$\n",
    "  where $h= (b-a)/n$ for some integer $n$\n",
    "\n",
    "* the Romberg method is Richardson extrapolation applied to the trapezoidal rule\n",
    "* first we need to establish an error formula for the trapezoidal rule\n",
    "* while in the case of central differences one considers a sequence of increasingly\n",
    "  coarser grids, for Romberg one consider a sequence of increasingly finer grids\n",
    "  \n",
    "## example"
   ]
  },
  {
   "cell_type": "code",
   "execution_count": 2,
   "metadata": {},
   "outputs": [],
   "source": [
    "f  = lambda x : np.exp(-x)\n",
    "intf = 1.0 - 1/np.e\n",
    "\n",
    "# trapezoidal rule\n",
    "T = lambda f,n,a=0.0,b=1.0 : (b-a)/n*((f(a)+f(b))/2.0 \\\n",
    "    + np.sum(f(np.linspace(a+(b-a)/n,b-(b-a)/n,n-1))))\n",
    "d = 20   # might have to set lower ...\n",
    "q = np.zeros(d)\n",
    "nv = 2**np.arange(d)*4\n",
    "for i,n in enumerate(nv):\n",
    "    q[i] = T(f,n)\n",
    "h = 1.0/nv\n",
    "\n",
    "def pl1():  # plotting commands\n",
    "    plt.title('trapezoidal rule')\n",
    "    plt.gca().invert_xaxis();plt.loglog(h,h*h,label=\"$h^2$\")\n",
    "    plt.xlabel('h');plt.ylabel('error')\n",
    "    plt.loglog(h,abs((q - intf)/intf),'.',label=\"$Q(f)-I(f)$\")\n",
    "    plt.legend();"
   ]
  },
  {
   "cell_type": "markdown",
   "metadata": {},
   "source": [
    "------------------------------------------"
   ]
  },
  {
   "cell_type": "code",
   "execution_count": 3,
   "metadata": {},
   "outputs": [
    {
     "data": {
      "image/png": "[encoded data removed]",
      "text/plain": [
       "<matplotlib.figure.Figure at 0x7fd10b16cb70>"
      ]
     },
     "metadata": {},
     "output_type": "display_data"
    }
   ],
   "source": [
    "pl1()"
   ]
  },
  {
   "cell_type": "markdown",
   "metadata": {},
   "source": [
    "## Euler-Maclaurin \n",
    "\n",
    "**Theorem**\n",
    "\n",
    "*Let $f\\in C^{2k+1}[a,b]$ and $h=(b-a)/n$. Then* \n",
    "  \\begin{align*} T(f,h) - \\int_a^b f(x)\\, dx &= \\sum_{k=1}^{m-1} h^{2k} \n",
    "    \\frac{B_{2k}}{(2k)!}\\left(f^{(2k-1)}(b) - f^{(2k-1)}(a)\\right) \\\\ &+\n",
    "    h^{2m}\\frac{B_{2m}}{(2m)!}(b-a)f^{(2m)}(\\xi)\\end{align*} *where $B_{2k}$ are the Bernoulli numbers.*\n",
    "\n",
    "* proof by induction and integration by parts\n",
    "* first few Bernoulli numbers\n",
    "    $$B_0=1,\\; B_2 = 1/6,\\; B_4 = -1/30,\\; B_6=1/42,\\; B_8=-1/30,\\ldots$$\n",
    "* improve quadrature using derivatives\n",
    "* case of $m=1$ see earlier discussion of trapezoidal rule\n",
    "* $f$ periodic and analytic: error $o(h^m)$ for all $m$\n",
    "    * in this case: trapezoidal rule better than Gauss quadrature!\n",
    "\n",
    "(see Wikipedia)\n",
    "\n",
    "## Recursive computation of $T(2^{-k}(b-a))$\n",
    "\n",
    "* compute sequence $T(f,2^{-k}(b-a))$, for $k=0,\\ldots,m$ by\n",
    "\n",
    "$$\\begin{aligned}\n",
    "  T(f,b-a)    &= \\frac{(b-a)(f(a)+f(b))}{2} \\\\\n",
    " T\\left(f,(b-a)/2 \\right) &= \\frac{T(f,b-a)}{2}+\\frac{(b-a)f\\left( a+(b-a)/2\\right)}{2}, \\\\\n",
    " T(f,(b-a)/4) &= \\frac{T(f,(b-a)/2)}{2} \\\\ &+ \\frac{(b-a)\\left(f(a+(b-a)/4)+f(a+3(b-a)/4)\\right)}{4} \\\\\n",
    "              &   \\vdots \\\\\n",
    "T(f,(b-a)/2^m) &= \\frac{T(f,(b-a)/2^{m-1})}{2} \\\\\n",
    "          &+\\frac{(b-a)\\sum_{i=1}^{2^{m-1}}f\\left(a+(2i-1)(b-a)/2^m\\right)}{2^m}\\end{aligned}$$\n",
    "\n",
    "## Romberg integration = Richardson extrapolation for trapozoidal rule\n",
    "\n",
    "* we use \n",
    "  $$T(f,h) - I(f) = a_1 h^2 + a_2 h^4 + a_3 h^6 + \\cdots$$\n",
    "  and eliminate $a_1$, then $a_2$, etc\n",
    "  \n",
    "* establish lower triangular tableau $R[j,k]$ with\n",
    "    * leftmost column $$R[j,0] = T(2^{-j}(b-a)) $$\n",
    "    * elements \n",
    "      $$R[j,k] = \\frac{4^kR[j,k-1] - R[j-1,k-1]}{4^k-1}$$\n",
    "    * use the efficient method to update $T(2^{-j}h)$\n",
    "\n",
    "* error approximation $e_h \\approx R[j,j] - R[j+1,j+1]$\n",
    "\n",
    "## example $f(x) = \\exp(-x)$"
   ]
  },
  {
   "cell_type": "code",
   "execution_count": 4,
   "metadata": {},
   "outputs": [
    {
     "name": "stderr",
     "output_type": "stream",
     "text": [
      "/home/hegland/Environment3/lib/python3.5/site-packages/ipykernel_launcher.py:5: DeprecationWarning: object of type <class 'numpy.float64'> cannot be safely interpreted as an integer.\n",
      "  \"\"\"\n"
     ]
    }
   ],
   "source": [
    "R  = lambda f,n: (4*T(f,n) - T(f,n/2))/3\n",
    "qr = np.zeros(d)\n",
    "for i,n in enumerate(nv[1:]):\n",
    "    qr[i] = R(f,n)\n",
    "\n",
    "def pl2():  # plotting commands\n",
    "    plt.title('trapezoidal rule')\n",
    "    plt.gca().invert_xaxis();plt.loglog(h,h*h,label=\"$h^2$\")\n",
    "    plt.xlabel('h');plt.ylabel('error')\n",
    "    plt.loglog(h,abs((q - intf)/intf),'.',label=\"trapezoidal\")\n",
    "    plt.loglog(h,abs((qr - intf)/intf),'.',label=\"extrapolation\")\n",
    "    plt.legend();"
   ]
  },
  {
   "cell_type": "markdown",
   "metadata": {},
   "source": [
    "------------------------------------------------------------"
   ]
  },
  {
   "cell_type": "code",
   "execution_count": 5,
   "metadata": {},
   "outputs": [
    {
     "data": {
      "image/png": "[encoded data removed]",
      "text/plain": [
       "<matplotlib.figure.Figure at 0x7fd1090765c0>"
      ]
     },
     "metadata": {},
     "output_type": "display_data"
    }
   ],
   "source": [
    "pl2()"
   ]
  },
  {
   "cell_type": "markdown",
   "metadata": {},
   "source": [
    "## Romberg tableau\n",
    "\n",
    "* all the $R(i,j)$ required for $R(0,k)$:\n",
    "\n",
    "$$\\begin{array}{cccccc}\n",
    "R(0,0) & & &  & & \\\\\n",
    "R(1,0) & R(1,1) &  &  &  &\\\\\n",
    "R(2,0) & R(2,1) & R(2, 2) &  &  &\\\\\n",
    "\\vdots & \\vdots & \\vdots & \\ddots& &\\\\\n",
    "R(n-1,0) & R(n-1, 1) & R(n-1, 2) &  \\cdots& R(n-1, n-1) \\\\\n",
    "R(n,0) & R(n, 1) & R(n, 2) & \\cdots & \\cdots &R(n, n) \\\\\n",
    "\\end{array}$$\n",
    "\n",
    "* follows from\n",
    "    $$R[j,k] = \\frac{4^kR[j,k-1] - R[j-1,k-1]}{4^k-1}$$\n",
    "\n",
    "* use $R(j,k)$ for error estimate on diagonal\n",
    "\n",
    "  $$e_j = R(j,j) - \\phi(0) \\approx R(j,j) - R(j+1,j+1)$$ \n",
    "  \n",
    "## example"
   ]
  },
  {
   "cell_type": "code",
   "execution_count": 6,
   "metadata": {},
   "outputs": [
    {
     "name": "stdout",
     "output_type": "stream",
     "text": [
      "[[0.68393972 0.         0.         0.         0.        ]\n",
      " [0.64523519 0.63233368 0.         0.         0.        ]\n",
      " [0.63540943 0.63213418 0.63212088 0.         0.        ]\n",
      " [0.63294342 0.63212141 0.63212056 0.63212056 0.        ]\n",
      " [0.63232631 0.63212061 0.63212056 0.63212056 0.63212056]]\n",
      "exact value: 0.6321205588285577\n"
     ]
    }
   ],
   "source": [
    "mr = 5; h = 0.1\n",
    "R = np.zeros((mr,mr))\n",
    "for n in range(mr):\n",
    "    R[n,0] = T(f,2**n)\n",
    "for k in range(1,mr):\n",
    "    for j in range(k,mr):\n",
    "        R[j,k] = (4**k*R[j,k-1] - R[j-1,k-1])/(4**k-1)\n",
    "print(R)\n",
    "print(\"exact value: {}\".format(intf))"
   ]
  },
  {
   "cell_type": "markdown",
   "metadata": {},
   "source": [
    "## errors"
   ]
  },
  {
   "cell_type": "code",
   "execution_count": 7,
   "metadata": {},
   "outputs": [
    {
     "name": "stdout",
     "output_type": "stream",
     "text": [
      "5.18e-02   \n",
      "\n",
      "1.31e-02   2.13e-04   \n",
      "\n",
      "3.29e-03   1.36e-05   3.16e-07   \n",
      "\n",
      "8.23e-04   8.56e-07   5.06e-09   1.23e-10   \n",
      "\n",
      "2.06e-04   5.36e-08   7.96e-11   4.94e-13   1.21e-14   \n",
      "\n"
     ]
    }
   ],
   "source": [
    "for j in range(mr):\n",
    "    for k in range(j+1):\n",
    "        print(\"{:1.2e}\".format(R[j,k]-intf),end='   ')\n",
    "    print(\"\\n\")"
   ]
  },
  {
   "cell_type": "markdown",
   "metadata": {},
   "source": [
    "## error estimate on diagonal"
   ]
  },
  {
   "cell_type": "code",
   "execution_count": 8,
   "metadata": {},
   "outputs": [
    {
     "name": "stdout",
     "output_type": "stream",
     "text": [
      "approx   5.1606e-02  2.1280e-04  3.1606e-07  1.2341e-10  \n",
      "exact   5.1819e-02  2.1312e-04  3.1618e-07  1.2342e-10  "
     ]
    }
   ],
   "source": [
    "# error approximation for diagonal\n",
    "print(\"approx\",end='   ')\n",
    "for k in range(mr-1):\n",
    "    print(\"{:1.4e}\".format(R[k,k]-R[k+1,k+1]),end='  ')\n",
    "print(\"\\nexact\",end='   ')\n",
    "for k in range(mr-1):\n",
    "    print(\"{:1.4e}\".format(R[k,k]-intf),end='  ')"
   ]
  },
  {
   "cell_type": "markdown",
   "metadata": {
    "collapsed": true
   },
   "source": [
    "## comments\n",
    "\n",
    "* practical implementation will require stopping criteria based on error estimate\n",
    "* the columns converge according to the Euler-Maclaurin formula\n",
    "* the diagonal may not converge! \n",
    "* in contrast to differentiation, rounding errors for integration are usually not a problem"
   ]
  }
 ],
 "metadata": {
  "kernelspec": {
   "display_name": "Python 3",
   "language": "python",
   "name": "python3"
  },
  "language_info": {
   "codemirror_mode": {
    "name": "ipython",
    "version": 3
   },
   "file_extension": ".py",
   "mimetype": "text/x-python",
   "name": "python",
   "nbconvert_exporter": "python",
   "pygments_lexer": "ipython3",
   "version": "3.7.0"
  }
 },
 "nbformat": 4,
 "nbformat_minor": 2
}
