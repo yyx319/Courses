{
 "cells": [
  {
   "cell_type": "markdown",
   "metadata": {
    "slideshow": {
     "slide_type": "slide"
    }
   },
   "source": [
    "# Gradient methods\n",
    "\n",
    "## The equivalent optimisation problem\n",
    "\n",
    "**Proposition:**\n",
    "\n",
    "If $A$ is symmetric and positive definite the following are equivalent\n",
    "\n",
    "1. $x^*$ satisfies $A x^* = b$\n",
    "2. $f(x^*) \\leq f(x)$ for all vectors $x$ and \n",
    "    $$f(x) = \\frac{1}{2} x^T A x - b^T x$$\n",
    "    \n",
    "---------------------------------------------------------\n",
    "    \n",
    "**Proof.**\n",
    "\n",
    "* Let $x, z$ be arbitrary vectors and $x^* = x - z$\n",
    "* Then one has\n",
    "  $$\\begin{aligned} f(x) &= f(x^* + z) \\\\ &= f(x^*) + z^T (A x^* - b ) + \\frac{1}{2} z^T A z.\\end{aligned}$$\n",
    "  \n",
    "* If $Ax^* = b$ then $f(x)$ is minimal for $z=0$ as $A$ is positive definite\n",
    "* If $f(x^*) \\leq f(x^*+z)$ for all vectors $z$ then $Ax^*-b=0$ as otherwise it would be possible to find\n",
    "    some $z$ for which $f(x^*+z) < f(x^*)$ (choose $z$ such that the second term dominates in size and is\n",
    "    negative)\n",
    "    \n",
    "------------------------------------------------------\n",
    "\n",
    "- optimisation methods to solve the minimisation problem can now be used to compute the solution of \n",
    "    the linear system of equations\n",
    "    \n",
    "- in particular, use methods of the form\n",
    "    $$x^{(k+1)} = x^{(k)} + \\alpha_k d^{(k)}$$\n",
    "    where $\\alpha_k$ is the *stepsize* and $d^{(k)}$ the *search direction*\n",
    "\n",
    "- use optimisation method technology to find best step size and descent direction\n",
    "\n",
    "- We will consider two particular methods, the steepest descent method an the conjugate gradient method\n",
    "\n"
   ]
  },
  {
   "cell_type": "markdown",
   "metadata": {},
   "source": [
    "## Gradient method and steepest descent\n",
    "\n",
    "-   For a differentiable function $f : {\\mathbb R}^n \\rightarrow {\\mathbb R}$, its $\\nabla f$ is defined by $$\\nabla f(x)\n",
    "    = \\begin{bmatrix} \\frac{\\partial f}{\\partial x_1}(x)& \\dots & \\frac{\\partial f}{\\partial x_n}(x) \\end{bmatrix}^T.$$ \n",
    "    It is known that, for any vector $d$, $$\\frac{d}{d\\alpha} f(x + \\alpha d) = d^T \\nabla f(x+\\alpha d).$$\n",
    "\n",
    "\n",
    "------------------------------------------\n",
    "\n",
    "-   Suppose we have an iterative scheme in which $x^{k+1}$ is given by , i.e. $x_{k+1} = x_k + \\alpha_k d_k$. Then an application of Taylor’s formula gives $$f(x_{k+1}) = f(x_k) + \\alpha_k d_k^T \\nabla f (x_k) \n",
    "    +o(\\alpha_k) \\mbox{ as } \\alpha_k \\rightarrow 0.$$\n",
    "\n",
    "-   Suppose that $\\nabla f(x_k) \\not = 0$. We can then ensure $f(x_{k+1}) < f(x_k)$ (at least for small $\\alpha_k$) if $$d_k^T \\nabla f(x_k)< 0.$$\n",
    "\n",
    "    \n",
    "\n",
    "-   We say that $d_k$ is a *descent direction* if this holds\n",
    "\n",
    "    \n",
    "\n",
    "-   Various different methods can be developed by the choices of descent directions $d_k$ and step sizes $\\alpha_k$.\n",
    "\n",
    "    \n",
    "\n",
    "-   Clearly $d_k:=-\\nabla f(x_k)$ is a descent direction at $x_k$ because $$d_k^T \\nabla f(x_k) = - \\|\\nabla f(x_k)|_2^2 <0.$$ With such choices of $d_k$, it leads to the gradient method $$x_{k+1} = x_k - \\alpha_k \\nabla f(x_k), \\quad k=0,1, \\cdots$$ with suitable choices of $\\alpha_k$.\n",
    "\n",
    "<!-- -->\n",
    "\n",
    "------------------------------------------------\n",
    "\n",
    "-   If the step size $\\alpha_k$ is chosen optimally, in the sense that  $$\\begin{aligned} f(x_k + \\alpha_k d_k ) = \\min_{\\alpha > 0} f( x_k + \\alpha d_k ),\\end{aligned}$$ \n",
    "    the corresponding gradient method is called . It is easy to see that $\\alpha_k$ must then satisfy $$\\left. \\frac{d}{d\\alpha} f(x_k + \\alpha d_k ) \\right|_{\\alpha= \\alpha_k} = 0.$$ This is equivalent to $$d_k^T \\nabla f(x_k + \\alpha_k d_k ) = 0.$$\n",
    "\n",
    "## Example\n",
    "\n",
    "-   We return to the quadratic function $$f(x) = \\frac{1}{2} x^T A x - b^T x.$$ Its gradient is given by $\\nabla f(x) = A x - b$.\n",
    "\n",
    "-   Thus, the corresponding gradient method for solving $Ax=b$ becomes $$x_{k+1} = x_k + \\alpha_k d_k,   \\quad \\mbox{where } d_k =b- A x_k.$$\n",
    "\n",
    "-   If $\\alpha_k$ is chosen optimally, we have $$\\begin{aligned}\n",
    "    0 &= d_k^T \\nabla f(x_k + \\alpha_k d_k ) = d_k^T \\left( A ( x_k + \\alpha_k d_k ) - b \\right)  \\\\\n",
    "      &= d_k^T ( A x_k - b ) + \\alpha_k d_k^T A d_k\\\\\n",
    "      & = -d_k^T d_k + \\alpha_k d_k^T A d_k\\end{aligned}$$ which gives $$\\begin{aligned}\n",
    "    \\alpha_k =\\frac{ d_k^T d_k }{ d_k A d_k}\\end{aligned}$$\n",
    "    \n",
    "---------------------------------------------------------------\n",
    "\n",
    "Summarizing the above, we obtain the following algorithm for solving $A x =b$ with symmetric positive definite matrix $A$.\n",
    "\n",
    "\n",
    "1.  Pick a starting point $x_0 \\in {\\mathbb R}^n$ and set $k:=0$;\n",
    "\n",
    "2.  For $k=0,1,\\cdots$ do\n",
    "\n",
    "    1.  $d_k = b- A x_k$;\n",
    "\n",
    "    2.  $\\alpha_k= \\displaystyle{\\frac{d_k^T d_k}{d_k^T A d_k}}$; \n",
    "\n",
    "    3.  $x_{k+1} =x_k +\\alpha_k d_k$; \n",
    "\n",
    "    4.  $k =k+1$;\n",
    "    \n",
    "---------------------------------------------------------------------"
   ]
  },
  {
   "cell_type": "code",
   "execution_count": 27,
   "metadata": {
    "slideshow": {
     "slide_type": "slide"
    }
   },
   "outputs": [],
   "source": [
    "import numpy as np\n",
    "from numpy import linalg as nla\n",
    "\n",
    "def A1(x):   # matrix vector product\n",
    "    y = np.zeros(3)\n",
    "    y[0] =  6*x[0] -2*x[1] + 2*x[2]\n",
    "    y[1] = -2*x[0] +5*x[1] +   x[2]\n",
    "    y[2] =  2*x[0] +  x[1] + 4*x[2]\n",
    "    return y\n",
    "x1 = np.array((-.5,1,2))\n",
    "b1  = A1(x1)\n",
    "n = 11\n",
    "xk = np.zeros(3)"
   ]
  },
  {
   "cell_type": "markdown",
   "metadata": {},
   "source": [
    "------------------------------------------------------------------------"
   ]
  },
  {
   "cell_type": "code",
   "execution_count": 28,
   "metadata": {},
   "outputs": [
    {
     "name": "stdout",
     "output_type": "stream",
     "text": [
      "k=0 xk=[ 0.  0.  0.] error=2.3\n",
      "k=1 xk=[-0.18169014  1.45352113  1.45352113] error=0.78\n",
      "k=2 xk=[-0.1581733   1.17058415  1.73939771] error=0.46\n",
      "k=3 xk=[-0.36842545  1.18674061  1.77268385] error=0.32\n",
      "k=4 xk=[-0.35833855  1.0711127   1.89252145] error=0.19\n",
      "k=5 xk=[-0.44550883  1.07734604  1.90587306] error=0.13\n",
      "k=6 xk=[-0.44133517  1.02944466  1.95548535] error=0.079\n",
      "k=7 xk=[-0.47743373  1.03203101  1.96101931] error=0.055\n",
      "k=8 xk=[-0.47570526  1.0121939   1.9815653 ] error=0.033\n",
      "k=9 xk=[-0.49065468  1.01326493  1.98385702] error=0.023\n",
      "k=10 xk=[-0.48993888  1.00504983  1.99236568] error=0.014\n"
     ]
    }
   ],
   "source": [
    "for k in range(n):\n",
    "    print(\"k={} xk={} error={:3.2g}\".format(k,xk, nla.norm(xk-x1)))\n",
    "    dk = b1 - A1(xk)\n",
    "    alphak = np.dot(dk,dk)/np.dot(dk,A1(dk))\n",
    "    xk = xk + alphak*dk"
   ]
  },
  {
   "cell_type": "markdown",
   "metadata": {},
   "source": [
    "## The method of steepest descent\n",
    "\n",
    "Consider the system $A x = b$ where $$A = \\left[\\begin{array}{ccc}\n",
    "6 & -2 & 2 \\\\\n",
    "-2 & 5 & 1 \\\\\n",
    "2 & 1 & 4 \\end{array}\\right],  \\quad b = \\left[\\begin{array}{c}\n",
    "-1 \\\\ 8 \\\\ 8\\end{array}\\right] ,$$ which has a solution $x = [ -0.5 , 1 , 2 ]^T$. The table gives the computational result by the method of steepest descent with $x_0 = 0$:\n",
    "\n",
    "|  k  |           | $x_k$      |          |\n",
    "|:---:|:---------:|:----------:|:--------:|\n",
    "|  0  |     0     |      0     |     0    |\n",
    "|  1  | -0.181690 |  1.453521  | 1.453521 |\n",
    "|  2  | -0.158173 |  1.170584  | 1.739398 |\n",
    "|  3  | -0.368425 |  1.186741  | 1.772684 |\n",
    "|  4  | -0.358339 |  1.071113  | 1.892521 |\n",
    "|  5  | -0.445509 |  1.077346  | 1.905873 |\n",
    "|  10 | -0.489939 |  1.005050  | 1.992366 |\n",
    "\n",
    "\n",
    "------------------------------------------------\n",
    "\n",
    "-   The above example shows that the method of steepest descent, like the Jacobi method converges slowly\n",
    "\n",
    "-   By further investigation, one can show that $$(x_{k+1}-x_k)^T (x_k-x_{k-1}) =0\\quad \\mbox{ for } k=1,2, \\cdots$$ for the sequence $\\{x_k\\}$ defined by the method of steepest descent. This means that $\\{x_k\\}$ moves to the exact solution in a zig-zag way which makes the method slow.\n",
    "\n",
    "---------------------------------------------------------------\n",
    "\n",
    "An important question is how fast does this method converge. For a positive definite matrix $A$, the condition number (with respect to the  norm) is given by $$\\kappa(A) = \\frac{\\lambda_{\\max}(A)}{\\lambda_{\\min}(A)}$$ where $\\lambda_{max}(A)$ and $\\lambda_{min}(A)$ are the maximum and minimum eigenvalues of $A$. It is worth noting that these eigenvalues satisfy $$\\lambda_{max}(A) = \\max_{y \\in \\mathbb{R}^m}\n",
    "\\frac{y \\cdot A y }{ \\| y \\|_2 } \\quad \\quad\n",
    "\\lambda_{min}(A) = \\min_{y \\in \\mathbb{R}^m} \\frac{y \\cdot A y }{\n",
    "\\| y \\|_2 }$$ The second ratio is known as the Rayleigh Quotient. Also recall that if $B$ is a symmetric matrix with eigenvalues $\\lambda_1(B),\\ldots,\\lambda_n(B)$ then the  operator norm of $B$ satisfies $$\\| B \\|_2 = \\max_j | \\lambda_j(B) | .$$\n",
    "\n",
    "-----------------------------------------------------------------------\n",
    "\n",
    "To obtain an idea of how the gradient method converges, let us consider a steepest descent method with a constant step length. That is, let us consider the iterative method where $\\alpha_k =\n",
    "\\alpha$, a constant, and $$d^{k+1} = r^k = b - A x^k.$$ Then $$x^{k+1} = x^k + \\alpha ( b - A x^k ).$$ Now the exact solution $x$ must also satisfy $$x = x + \\alpha ( b - A x ).$$ Subtracting Equations and leads to the equation $$x^{k+1} - x = ( I - \\alpha A ) (x^k - x ) .$$ \n",
    "\n",
    "----------------------------------------------\n",
    "\n",
    "\n",
    "If we let $e^k$ denote the error at the $k$th step, then we have $e^{k+1} = E e^k$ where the error matrix is given by $E = I - \\alpha A$. For convergence we need $\\| I - \\alpha A \\|_2 < 1$. Consequently, we need $\\max_j | 1 - \\alpha \\lambda_j(A) | < 1$. Since all the eigenvalues are positive, we conclude that this implies that $$\\alpha < \\frac{2}{\\lambda_{\\max}(A)} .$$ Let us choose $\\alpha = 1 / \\lambda_{\\max}(A)$. It turns out that this choice is close to the best choice. Then we have $$\\| I - \\alpha A \\|_2 = 1 -\n",
    "\\frac{\\lambda_{\\min}(A)}{\\lambda_{\\max}(A)} = 1 -\n",
    "\\frac{1}{\\kappa(A)} .$$ This shows that as the condition number increases, the convergence rate decreases. In fact we see that the number of iterations required to obtain a specified accuracy will be proportional to the condition number.\n",
    "\n",
    "--------------------------------------------------------------------\n",
    "\n",
    "The following figure shows an example calculation based on the steepest descent method. Observe that all of the steps only go in one of two directions. What if we could combine the steps so we only took one big step in each direction? Then the solution would be found in two steps. The Conjugate gradient method tries to achieve that goal.\n",
    "\n",
    "-------------------------------------------------------------------------------"
   ]
  },
  {
   "cell_type": "code",
   "execution_count": 29,
   "metadata": {},
   "outputs": [],
   "source": [
    "%matplotlib inline\n",
    "\n",
    "def A(x):\n",
    "    y1 = 1.3*x[0] -   x[1]\n",
    "    y2 = -x[0] +  1.1*x[1]\n",
    "    return np.array((y1,y2))\n",
    "xe = np.array((2.0,1.0))\n",
    "b = A(xe)\n",
    "\n",
    "import pylab as pl\n",
    "\n",
    "n = 51\n",
    "xk = np.zeros(2)\n",
    "xg = np.zeros((2,n))\n",
    "for k in range(n):\n",
    "    xg[:,k] = xk\n",
    "    dk = b - A(xk)\n",
    "    alphak = np.dot(dk,dk)/np.dot(dk,A(dk))\n",
    "    xk = xk + alphak*dk\n",
    "    "
   ]
  },
  {
   "cell_type": "markdown",
   "metadata": {},
   "source": [
    "------------------------------------------------------"
   ]
  },
  {
   "cell_type": "code",
   "execution_count": 30,
   "metadata": {},
   "outputs": [
    {
     "data": {
      "image/png": "[encoded data removed]",
      "text/plain": [
       "<matplotlib.figure.Figure at 0x7f8e75fcaef0>"
      ]
     },
     "metadata": {},
     "output_type": "display_data"
    }
   ],
   "source": [
    "pl.title(\"path to solution\")\n",
    "pl.axis([0,2.5,-1,2]);pl.axis('equal');\n",
    "pl.plot(xg[0,:],xg[1,:]);"
   ]
  },
  {
   "cell_type": "code",
   "execution_count": 31,
   "metadata": {
    "collapsed": true
   },
   "outputs": [],
   "source": [
    "# Your gradient descent\n",
    "# explore some 2 x 2 matrices, use contour plots to visualise isolines or countour lines of f(x)\n",
    "# plot how gradient descent moves through the 2d space and reduces f(x)"
   ]
  },
  {
   "cell_type": "markdown",
   "metadata": {},
   "source": [
    "## Conjugate Gradient Method\n",
    "\n",
    "-   The method of steepest descent has a tendency to zig-zag into the solution. This can make the method convergent slowly.\n",
    "\n",
    "-   We next consider the which is a fast algorithm; it was proposed by Hestens and Stiefel in 1950.\n",
    "\n",
    "-   We start with the description of a general class of iterative methods — .\n",
    "\n",
    "A set of nonzero vectors $\\{d_0, d_1, \\cdots, d_{n-1}\\}$ in ${\\mathbb R}^n$ is called (or ) if $$d_i^T A d_j = 0\\quad \\mbox{ for all } i\\ne j.$$\n",
    "\n",
    "One can check that any nonzero $A$-conjugate vectors $\\{d_0, \\cdots, d_{n-1}\\}$ are linearly independent and hence form a basis of ${\\mathbb R}^n$.\n",
    "\n",
    "--------------------------------------------------\n",
    "\n",
    "-   Given a set of nonzero $A$-conjugate vectors $\\{d_0, \\cdots, d_{n-1}\\}$ in ${\\mathbb R}^n$. A is to find the minimizer of $$f(x) = \\frac{1}{2} x^T A x - b^T x$$ in $n$ steps by successively minimizing $f(x)$ along the individual directions $d_i$.\n",
    "\n",
    "-   To be more precise, let $x_0\\in {\\mathbb R}^n$ be a starting point, it generates a sequence $\\{x_k\\}$ by setting $$x_{k+1} =x_k +\\alpha_k d_k,$$ where $\\alpha_k$ is chosen by $$f(x_k +\\alpha_k d_k) = \\min_{\\alpha\\in {\\mathbb R}} f(x_k +\\alpha d_k).$$\n",
    "\n",
    "-   $\\alpha_k$ can be determined by solving the equation $$\\frac{d}{d\\alpha} f(x_k +\\alpha d_k) =0.$$\n",
    "\n",
    "<!-- -->\n",
    "\n",
    "-----------------------------------------------------------------------------\n",
    "\n",
    "-   Note that \n",
    "$$\\begin{aligned}\n",
    "    f(x_k+\\alpha d_k)\n",
    "    & = \\frac{1}{2} (x_k + \\alpha d_k)^T A (x_k +\\alpha d_k) - b^T (x_k +\\alpha d_k)\\\\\n",
    "    & = \\frac{1}{2} \\alpha^2 d_k^T A d_k + \\alpha d_k^T A x_k + \\frac{1}{2} x_k^T A x_k \n",
    "    -b^T x_k - \\alpha d_k^T b\\end{aligned}$$ Therefore $$\\begin{aligned}\n",
    "    \\frac{d}{d\\alpha} f(x_k +\\alpha d_k) \n",
    "    & = \\alpha d_k^T A d_k + d_k^T A x_k -d_k^T b\\\\\n",
    "    & = \\alpha d_k^T A d_k + d_k^T \\left(A x_k -b\\right).\\end{aligned}$$\n",
    "\n",
    "-   Thus $\\alpha_k$ satisfies the equation $$\\alpha_k d_k^T A d_k + d_k^T \\left(A x_k -b\\right) =0.$$ Let $r_k = A x_k -b$. Then $$\\alpha_k = -\\frac{d_k^T r_k}{d_k^T A d_k}.$$\n",
    "\n",
    "<!-- -->\n",
    "\n",
    "----------------------------------------------------------------------------------\n",
    "\n",
    "-   Consequently, a conjugate direction method can be formed by repeating the steps $$\\begin{aligned}\n",
    "    \\begin{split}\n",
    "    r_k & = A x_k -b,\\\\\n",
    "    \\alpha_k & = -\\frac{d_k^T r_k}{d_k^T A d_k},\\\\\n",
    "    x_{k+1} & = x_k +\\alpha_k d_k\n",
    "    \\end{split}\\end{aligned}$$ from an initial guess $x_0$, once a set of nonzero $A$-conjugate vectors $\\{d_0, \\cdots, d_{n-1}\\}$ are known.\n",
    "\n",
    "-   How to find a set of nonzero $A$-conjugate vectors $\\{d_0, \\cdots, d_{n-1}\\}$ in a computationally efficient way?\n",
    "\n",
    "-   is a conjugate direction method with the conjugate vectors constructed successively during computation.\n",
    "\n",
    "<!-- -->\n",
    "\n",
    "-----------------------------------------------------------------------\n",
    "\n",
    "-   It starts with $$r_0 = A x_0-b \\quad \\mbox{and} \\quad d_0 =-r_0$$ and construct each new $d_{k+1}$ as the linear combination of $r_{k+1}$ and $d_k$ of the form $$d_{k+1} =-r_{k+1} +\\beta_{k+1} d_k,$$ where $\\beta_{k+1}$ is chosen so that $d_{k+1}$ and $d_k$ are $A$-conjugate, i.e. $$0=d_{k+1}^T A d_k =-r_{k+1}^T A d_k +\\beta_{k+1} d_k^T A d_k$$ and hence $$\\beta_{k+1} =\\frac{r_{k+1}^T A d_k}{d_k^T A d_k}.$$\n",
    "\n",
    "-   Combining this construction of $d_{k+1}$ with (\\[3.24.2\\]), it leads to the following conjugate gradient method.\n",
    "\n",
    "\n",
    "\n",
    "------------------------------------------------------------------------\n",
    "\n",
    "1.  Pick a starting point $x_0 \\in {\\mathbb R}^n$;\n",
    "\n",
    "2.  Set $r_0:= A x_0-b$, $d_0:=-r_0$, and $k:=0$;\n",
    "\n",
    "3.  While $r_k\\ne 0$ do\n",
    "\n",
    "    1.  $\\alpha_k= \\displaystyle{-\\frac{r_k^T d_k}{d_k^T A d_k}}$; \n",
    "\n",
    "    2.  $x_{k+1} =x_k +\\alpha_k d_k$; \n",
    "\n",
    "    3.  $r_{k+1} = A x_{k+1} -b$; \n",
    "\n",
    "    4.  $\\beta_{k+1}:= \\displaystyle{\\frac{r_{k+1}^T A d_k}{d_k^T A d_k}}$; \n",
    "\n",
    "    5.  $d_{k+1}:= -r_{k+1} +\\beta_{k+1} d_k$; \n",
    "\n",
    "    6.  $k =k+1$;\n",
    "\n",
    "------------------------------------------------------------------------\n",
    "\n",
    "-   One can show that the vectors $\\{d_0, d_1, \\cdots, d_{n-1}\\}$ constructed by the algorithm are $A$-conjugate.\n",
    "\n",
    "-   The sequence $\\{x_k\\}$ generated by the conjugate gradient method converges to the solution $x^*$ of $A x=b$ in at most $n$ steps.\n",
    "\n",
    "Consider the linear system $A x =b$ of size $n=600$, where $$A = \\left[\\begin{array}{ccccc}\n",
    "4 &     -1  &        &        & \\\\\n",
    "-1  &    4  &  -1     &        & \\\\\n",
    "   & \\ddots & \\ddots & \\ddots & \\\\\n",
    "   &        &  -1     &  4    &  -1\\\\\n",
    "   &        &        &   -1    & 4\n",
    "\\end{array}\\right],\n",
    "\\qquad\n",
    "b = \\left[\\begin{array}{ccccc}\n",
    "1 \\\\ 2 \\\\ 3 \\\\ \\vdots \\\\ n\n",
    "\\end{array}\\right].$$ \n",
    "\n",
    "-------------------------------------------------------------------------\n",
    "\n",
    "<!-- end of notebook NB2.6 after next block -->"
   ]
  },
  {
   "cell_type": "code",
   "execution_count": 32,
   "metadata": {
    "slideshow": {
     "slide_type": "slide"
    }
   },
   "outputs": [],
   "source": [
    "# some other data\n",
    "def A2(x): # the matrix vector product\n",
    "    y = 4*x\n",
    "    y[1:]  -= x[:-1]\n",
    "    y[:-1] -= x[1:]\n",
    "    return y\n",
    "x2 = (np.linspace(0,1,102)*(1-np.linspace(0,1,102)))[1:-1]*102**2\n",
    "b2 = A2(x2)\n",
    "\n",
    "A = A1\n",
    "b = b1\n",
    "xex = x1"
   ]
  },
  {
   "cell_type": "markdown",
   "metadata": {
    "slideshow": {
     "slide_type": "slide"
    }
   },
   "source": [
    "-----------------------------------------------------------"
   ]
  },
  {
   "cell_type": "code",
   "execution_count": 33,
   "metadata": {
    "slideshow": {
     "slide_type": "slide"
    }
   },
   "outputs": [
    {
     "name": "stdout",
     "output_type": "stream",
     "text": [
      "k=0 xk=[ 0.  0.  0.] error=2.3\n",
      "k=1 xk=[-0.18169014  1.45352113  1.45352113] error=0.78\n",
      "k=2 xk=[-0.16248694  1.20250784  1.78683386] error=0.45\n",
      "k=3 xk=[-0.5  1.   2. ] error=3.1e-16\n",
      "k=4 xk=[-0.5  1.   2. ] error=3.1e-16\n"
     ]
    }
   ],
   "source": [
    "xk = np.zeros(len(b))\n",
    "rk = A(xk)-b\n",
    "dk = -rk\n",
    "for k in range(5):\n",
    "    print(\"k={} xk={} error={:3.2g}\".format(k,xk, nla.norm(xk-xex)))\n",
    "    Adk = A(dk)\n",
    "    dkAdk = np.dot(dk,A(dk))\n",
    "    alphak = -np.dot(rk,dk)/dkAdk\n",
    "    xk = xk + alphak*dk\n",
    "    rk = A(xk) - b\n",
    "    betak = np.dot(rk,A(dk))/dkAdk\n",
    "    dk = -rk + betak*dk"
   ]
  }
 ],
 "metadata": {
  "celltoolbar": "Slideshow",
  "kernelspec": {
   "display_name": "Python 3",
   "language": "python",
   "name": "python3"
  },
  "language_info": {
   "codemirror_mode": {
    "name": "ipython",
    "version": 3
   },
   "file_extension": ".py",
   "mimetype": "text/x-python",
   "name": "python",
   "nbconvert_exporter": "python",
   "pygments_lexer": "ipython3",
   "version": "3.6.4"
  }
 },
 "nbformat": 4,
 "nbformat_minor": 2
}
