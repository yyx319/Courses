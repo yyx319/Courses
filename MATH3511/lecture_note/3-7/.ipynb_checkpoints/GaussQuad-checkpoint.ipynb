{
 "cells": [
  {
   "cell_type": "markdown",
   "metadata": {},
   "source": [
    "# Gauss quadrature"
   ]
  },
  {
   "cell_type": "code",
   "execution_count": 14,
   "metadata": {},
   "outputs": [],
   "source": [
    "import sympy as sy\n",
    "import numpy as np\n",
    "import math"
   ]
  },
  {
   "cell_type": "markdown",
   "metadata": {},
   "source": [
    "## introduction\n",
    "\n",
    "* here we consider integrals of the form\n",
    "  $$\\int_{-1}^1 f(x)\\, dx$$\n",
    "  \n",
    "* quadrature rule\n",
    "  $$Q(f) = \\sum_{k=0}^n w_k f(z_k)$$\n",
    "  with quadrature points $z_k$ and weights $w_k$\n",
    "  \n",
    "* compute weights *and* quadrature points such that for all polynomials $p(x)$ \n",
    "  of degree $2n+1$ the quadrature is exact, i.e.,\n",
    "  $$Q(p) = \\int_{-1}^1 p(x)dx$$\n",
    "  \n",
    "* the Gaussian rules require thus the determination of $2n+2$ parameters $z_k, w_k$ for $k=0,\\ldots,n$\n",
    "\n",
    "## method of unknown coefficients\n",
    "\n",
    "* determine rule which is exact for all monomials $p(x) = x^j$ for $j=0,\\ldots,2n+1$\n",
    "  $$\\sum_{k=0}^n w_k z_k^j = \\int_{-1}^1 x^j\\, dx = \\frac{2}{j+1}$$\n",
    "  \n",
    "* this is a polynomial system of equations for $w_k,z_k$\n",
    "\n",
    "* solution of polynomial systems of equations is a topic of algebraic geometry. \n",
    "   * general approach: Gröbner bases which use a combination of the Euclid and Gauss algorithms\n",
    "   \n",
    "* here we use a method based on orthogonal polynomials\n",
    "\n",
    "## example $n=0$ -- midpoint rule\n",
    "\n",
    "* general form\n",
    "  $$Q(f) = w_0 f(z_0)$$\n",
    "  \n",
    "* method exact for $p(x)=1$ and $p(x)=x$ leads to two equations\n",
    "  \\begin{align*}\n",
    "    w_0 &= 2 \\\\\n",
    "    w_0 z_0 &= 0\n",
    "  \\end{align*}\n",
    "  \n",
    "* solution $w_0=2$ and $z_0 = 0$ which leads to rule\n",
    "  $$Q(f) = 2 f(0)$$\n",
    "\n",
    "## example $n=1$\n",
    "\n",
    "* general form\n",
    "  $$Q(f) = w_0 f(z_0) + w_1 f(z_1)$$\n",
    "  \n",
    "* method exact for polynomials $p(x) = 1, x, x^2, x^3$ leads to\n",
    "  \\begin{align*}\n",
    "    w_0 + w_1 &= 2 \\\\\n",
    "    w_0z_0 + w_1 z_1 &= 0 \\\\\n",
    "    w_0z_0^2 + w_1 z_1^2 &= \\frac{2}{3} \\\\\n",
    "    w_0z_0^3 + w_1 z_1^3 &= 0\n",
    "  \\end{align*}\n",
    "  \n",
    "## solving the equations\n",
    "\n",
    "* idea: eliminate 4 unknowns $w_k$ and $z_k$ using first 2 equations and introducing two\n",
    "  (unknown) parameters $t$ and $s$\n",
    "\n",
    "* solution of $w_0 + w_1=2$\n",
    "  $$w_0 = 1+t,\\; w_1 = 1-t$$\n",
    "\n",
    "* solution of $w_0 z_0 + w_1 z_1=0$ (*orthogonality* of $w$ and $z$)\n",
    "  $$z_0 = -sw_1 = -s(1-t),\\; z_1 = sw_0 = s(1+t)$$\n",
    "  \n",
    "-------------------------------------\n",
    "\n",
    "* substituting $w_k$ and $z_k$ in third equation $w_0z_0^2 + w_1 z_1^2 = \\frac{2}{3}$\n",
    "  $$w_0z_0^2 + w_1 z_1^2 = 2s^2(1-t^2) = \\frac{2}{3}$$\n",
    "  thus $s\\neq 0$ and $t^2 \\neq 1$\n",
    "\n",
    "* substituting $w_k, z_k$ in fourth equation $w_0z_0^3 + w_1 z_1^3 = 0$\n",
    "  $$w_0z_0^3 + w_1 z_1^3 = 4s^3(1-t^2)t = 0$$\n",
    "  thus $t=0$\n",
    "  \n",
    "* substitute $t=0$ into third equation to get $s=1/\\sqrt{3}$\n",
    "\n",
    "* solution\n",
    "  $$w_0=w_1=1,\\; z_0=-1/\\sqrt{3}, \\; z_1 = 1/\\sqrt{3}$$\n",
    "\n",
    "\n",
    "## composite Gauss rules\n",
    "\n",
    "* quadrature points\n",
    "  $$x_{k+jn} = \\frac{z_k+1}{2} h + jh$$\n",
    "  where $h=(b-a)/m$\n",
    "\n",
    "* use Gauss weights $w_k$ for the interval $[-1,1]$\n",
    "  $$Q(f) = \\frac{h}{2} \\sum_{j=0}^m \\sum_{k=0}^n w_k f(x_{k+jn})$$\n",
    " \n",
    "## example $n=2$"
   ]
  },
  {
   "cell_type": "code",
   "execution_count": 15,
   "metadata": {},
   "outputs": [
    {
     "name": "stdout",
     "output_type": "stream",
     "text": [
      "m =  1,  Q = 6.319788e-01,  Error = -1.42e-04\n",
      "m =  2,  Q = 6.321115e-01,  Error = -9.07e-06\n",
      "m =  4,  Q = 6.321200e-01,  Error = -5.70e-07\n",
      "m =  8,  Q = 6.321205e-01,  Error = -3.57e-08\n",
      "m = 16,  Q = 6.321206e-01,  Error = -2.23e-09\n"
     ]
    }
   ],
   "source": [
    "f = lambda x : np.exp(-x) # integrand\n",
    "for m in (1,2,4,8,16):\n",
    "    h = 1.0/m\n",
    "    Q = 0.0; \n",
    "    for j in range(m):\n",
    "        Q += h/2*(f(h*((-1.0/math.sqrt(3)+1)/2 + j)) \\\n",
    "                  + f(h*((1.0/math.sqrt(3)+1)/2 +j)))\n",
    "    print(\"m = {:2d},  Q = {:7.6e},  Error = {:4.2e}\"\\\n",
    "          .format(m,Q,Q-1 + 1.0/np.e))"
   ]
  },
  {
   "cell_type": "markdown",
   "metadata": {},
   "source": [
    "## computing $n+1$ quadrature points and weights for larger $n$\n",
    "\n",
    "* for larger $n$ one could use\n",
    "\n",
    "    * Newton's method\n",
    "    * algebraic approaches\n",
    "    \n",
    "  but these approaches typically take a long time and/or are complicated to implement\n",
    "  \n",
    "* in the following we discuss an approach based on *Legendre polynomials* $p(x)$ defined on $[-1,1]$\n",
    "\n",
    "## orthogonality and polynomials\n",
    "\n",
    "* recall that two vectors are orthogonal, if their scalar product is zero\n",
    "  * example: $v=[1, 2]$ and $u=[-2, 1]$ are orthogonal\n",
    "  \n",
    "* we can define orthogonality for polynomials if we have a scalar product\n",
    "\n",
    "**Definition (scalar product for real polynomials):**\n",
    "  \n",
    "  $$(p,q) = \\int_{-1}^1 p(x) q(x)\\, dx$$\n",
    "  \n",
    "**Definition (orthogonality for polynomials):**\n",
    "\n",
    "  $p$ and $q$ are orthogonal if their scalar product $(p,q) = 0$\n",
    "  \n",
    "* example: $p(x)=x$ and $q(x) = x^2$ are orthogonal as\n",
    "  $$\\int_{-1}^1 p(x)q(x)\\, dx = \\int_{-1}^1 x\\cdot x^2 \\, dx = 0$$\n",
    "\n",
    "\n",
    "## Legendre polynomials\n",
    "\n",
    "* Legendre polynomials $q_k$ are of the form\n",
    "  $$q_k(x) = x^k + c_{k-1} x^{k-1} + \\cdots + c_0$$\n",
    "\n",
    "* they are pairwise orthogonal, i.e., if $k\\neq j$ one has\n",
    "  $$\\int_{-1}^1 q_k(x) q_j(x)\\, dx = 0$$\n",
    "  \n",
    "* the first four Legendre polynomials $q_k$\n",
    "\n",
    "$$q_0(x) =  1, \\quad q_1(x) = x ,\\quad q_2(x) = x^2-\\frac{1}{3}, \\quad q_3(x) = x^3-\\frac{3}{5}x$$\n",
    "\n",
    "## zeros of Legendre polynomials\n",
    "\n",
    "**Proposition:**\n",
    "\n",
    "The Legendre polynomial $q_n$ of degree $n$ has exactly $n$ real zeros $z_k$ satisfying\n",
    "  $$-1 < z_0 < z_1 < \\cdots < z_n < 1$$\n",
    "  \n",
    "**Proof.**\n",
    "\n",
    "* as degree of $q_n$ equals $n$,  $q_n$ has $\\leq n$ real zeros\n",
    "* as $q_n$ orthogonal to all $q_k$ with $k<n$, $q_n$ orthogonal\n",
    "  to any polynomial of degree $k<n$\n",
    "* assume $x_0,\\ldots,x_k$ are the zeros (excluding the ones without\n",
    "  sign change)\n",
    "* then the following integral is either positive or negative:\n",
    "   $$\\int_{-1}^1 \\prod_{i=0}^k (x-x_i) q_n(x)\\, dx$$\n",
    "   it cannot be zero\n",
    "* thus $q_n$ is not orthogonal to $\\prod_{i=0}^k (x-x_i)$ contrary to \n",
    "  assumption\n",
    "  \n",
    "---------------------------\n",
    "  \n",
    "**Proposition:**\n",
    "\n",
    "No quadrature formula with $n+1$ quadrature points $z_k$ can be exact for all polynomials\n",
    "of degree $2n+2$.\n",
    "\n",
    "**Proof**\n",
    "\n",
    "* consider $p(x) = \\prod_{k=0}^n (x-z_k)^2$\n",
    "* then\n",
    "   $$Q(f) = \\sum_{k=0}^n w_k p(x_k) = 0$$\n",
    "* but\n",
    "   $$\\int_{-1}^1 p(x)\\, dx > 0$$\n",
    "\n",
    "## Gauss quadrature rules\n",
    "\n",
    "$$Q(f) = \\sum_{k=0}^n w_k f(z_k)$$\n",
    "\n",
    "* let $n+1$ *quadrature points* $z_k$ to be the zeros of the Legendre polynomial $q_{n+1}$\n",
    "* select the *quadrature weights* $w_k$ such that for all polynomials $p$ of degree \n",
    "  up to $n$ $$Q(p) = \\int_{-1}^1 p(x)\\, dx$$\n",
    "    * compute the weights using either the Lagrange interpolation formula or the method of unknown \n",
    "      coefficients\n",
    "\n",
    "## accuracy of Gauss quadrature\n",
    "\n",
    "**Proposition:**\n",
    "\n",
    "Gauss quadrature with $n+1$ points is exact for all polynomials $p(x)$ of degree up to $2n+1$, i.e.,\n",
    "$$Q(p) = \\int_{-1}^1 p(x)\\, dx$$\n",
    "\n",
    "**Proof**\n",
    "\n",
    "* by construction $Q(p)$ is exact for all polynomials up to degree $n$\n",
    "* for $p$ of degree (at most) $2n+1$ there exist $q,r$ of degree $n$ s.t.\n",
    "  $$p(x) = q(x) q_{n+1}(x) + r(x)$$\n",
    "* by linearity and choice of the quadrature points and weights\n",
    "  $$Q(p) = Q(r) = \\int_{-1}^1 r(x)\\, dx$$\n",
    "\n",
    "* as $q$ is orthogonal to $q_{n+1}$ one has\n",
    "  $$\\int_{-1}^1 p(x)\\, dx = \\int_{-1}^1 r(x)\\, dx$$ "
   ]
  },
  {
   "cell_type": "markdown",
   "metadata": {},
   "source": [
    "## construction of Legendre polynomial $q_{n+1}$\n",
    "\n",
    "* do this recursively, starting with $q_0(x)=1$\n",
    "* multiply $q_k(x)$ with $x$ and Gram-Schmidt orthogonalisation\n",
    "  \n",
    "  $$q_{k+1}(x) = xq_k(x) - \\sum_{j=0}^{k} c_j q_j$$\n",
    "  where\n",
    "  $$c_j = \\frac{\\int_{-1}^1 x q_k(x) q_j(x)\\, dx}{\\int_{-1}^1 q_j(x)^2\\, dx}$$\n",
    "  \n",
    "* the $q_k$ are either even or odd, in any case\n",
    "  $$\\int_{-1}^1 x q_k(x)^2\\,dx = 0$$\n",
    "  \n",
    "----------------------------------\n",
    "\n",
    "* if $j<k-1$ then the degree of $x q_j(x)$ is less than $k$ and thus\n",
    "  $$\\int_{-1}^1 x q_k(x) q_j(x)\\, dx = 0$$\n",
    "* it follows that\n",
    "  $$q_{k+1}(x) = xq_k(x) - c_{k-1}q_{k-1}(x)$$\n",
    "  where\n",
    "  $$c_{k-1} = \\frac{\\int_{-1}^1 x q_k(x) q_{k-1}(x)\\, dx}{\\int_{-1}^1 q_{k-1}^2\\, dx}$$  \n",
    "  \n",
    "--------------------------------------"
   ]
  },
  {
   "cell_type": "code",
   "execution_count": 20,
   "metadata": {},
   "outputs": [
    {
     "name": "stdout",
     "output_type": "stream",
     "text": [
      "q1(x) = x\n",
      "q2(x) = x**2 - 1/3\n",
      "q3(x) = x**3 - 3*x/5\n",
      "q4(x) = x**4 - 6*x**2/7 + 3/35\n"
     ]
    }
   ],
   "source": [
    "# computing Legendre polynomials qk(x)\n",
    "n = 4\n",
    "\n",
    "x = sy.Symbol('x')\n",
    "\n",
    "qkm1 = 1\n",
    "qk   = x\n",
    "\n",
    "for k in range(n):\n",
    "    qkp1 = sy.simplify(x*qk - sy.integrate(x*qk*qkm1,\\\n",
    "        (x,-1,1))/sy.integrate(qkm1**2,(x,-1,1))*qkm1)\n",
    "    qkm1 = sy.expand(qk)\n",
    "    qk   = qkp1\n",
    "\n",
    "    print(\"q{:1d}(x) = {}\".format(k+1,qkm1))"
   ]
  },
  {
   "cell_type": "markdown",
   "metadata": {},
   "source": [
    "## computing the quadrature points"
   ]
  },
  {
   "cell_type": "code",
   "execution_count": 17,
   "metadata": {},
   "outputs": [],
   "source": [
    "# compute the Gauss quadrature points\n",
    "c = sy.Poly(qkm1).all_coeffs() # Legendre coefficients\n",
    "z = np.roots(c)  # zeros Legendre fct = quad. pts\n",
    "z.sort() # sort by size"
   ]
  },
  {
   "cell_type": "markdown",
   "metadata": {},
   "source": [
    "## computing the quadrature weights"
   ]
  },
  {
   "cell_type": "code",
   "execution_count": 23,
   "metadata": {},
   "outputs": [
    {
     "name": "stdout",
     "output_type": "stream",
     "text": [
      "\n",
      " n = 3:\n",
      "w0 = 0.3479   w1 = 0.6521   w2 = 0.6521   w3 = 0.3479   "
     ]
    }
   ],
   "source": [
    "# use Lagrange polynomials and sympy\n",
    "n = z.shape[0]-1\n",
    "w = np.zeros(n+1)\n",
    "x = sy.Symbol('x')\n",
    "print(\"\\n n = {}:\".format(n))\n",
    "for j in range(n+1):\n",
    "    lj = 1\n",
    "    for k in range(n+1):\n",
    "        if (k!=j): lj *= (x-z[k])/(z[j]-z[k])\n",
    "    w[j] = float(sy.integrate(lj,(x,-1,1)))\n",
    "    print(\"w{} = {:4.4f}\".format(j,w[j]),end='   ')"
   ]
  },
  {
   "cell_type": "markdown",
   "metadata": {},
   "source": [
    "## example $n=3$"
   ]
  },
  {
   "cell_type": "code",
   "execution_count": 19,
   "metadata": {},
   "outputs": [
    {
     "name": "stdout",
     "output_type": "stream",
     "text": [
      "n = 3\n",
      "m =  1,  Q = 6.321206e-01,  Error = -3.43e-10\n",
      "m =  2,  Q = 6.321206e-01,  Error = -1.38e-12\n",
      "m =  4,  Q = 6.321206e-01,  Error = -5.33e-15\n",
      "m =  8,  Q = 6.321206e-01,  Error = 1.11e-16\n",
      "m = 16,  Q = 6.321206e-01,  Error = 2.22e-16\n"
     ]
    }
   ],
   "source": [
    "f = lambda x : np.exp(-x) # integrand\n",
    "print(\"n = {}\".format(n))\n",
    "for m in (1,2,4,8,16):\n",
    "    h = 1.0/m\n",
    "    Q = 0.0; \n",
    "    for j in range(m):\n",
    "        for k in range(n+1):\n",
    "            Q += h/2*w[k]*(f(h*((z[k]+1)/2 + j)))\n",
    "    print(\"m = {:2d},  Q = {:7.6e},  Error = {:4.2e}\"\\\n",
    "          .format(m,Q,Q-1 + 1.0/np.e))"
   ]
  },
  {
   "cell_type": "markdown",
   "metadata": {},
   "source": [
    "## sign of Gauss weights\n",
    "\n",
    "**Proposition:**\n",
    "\n",
    "All Gauss weights $w_k$ are positive.\n",
    "\n",
    "**Proof**\n",
    "\n",
    "* let $p_i(x) = \\prod_{k\\neq i} (x-z_k)^2$, a polynomial of degree $2n-1$\n",
    "* Gauss quadrature with points $z_k$ is exact for $p_i$\n",
    "  $$\\int_{-1}^1 p_i(x)\\, dx = Q(p_i) = \\sum_{k=0}^n w_k p_i(z_k) = w_i p(z_i)$$\n",
    "* the integral and $p(z_i)$ are positive and one gets $w_i > 0$\n",
    "\n",
    "see Wikipedia [https://en.wikipedia.org/wiki/Gaussian_quadrature]"
   ]
  },
  {
   "cell_type": "markdown",
   "metadata": {},
   "source": [
    "## performance of Gauss rules\n",
    "\n",
    "\n",
    "**Theorem:**\n",
    "$Q(f)$ converges to the exact integral for $n\\rightarrow \\infty$ and any continuous function $f$.\n",
    "\n",
    "* Gauss quadrature rules are very reliable and highly accurate\n",
    "* composite rules using Gauss weights may be more convenient and, in the case of less smooth functions,\n",
    "  may require fewer function evaluations\n",
    "\n",
    "## convergence rate for Gaussian Quadrature\n",
    "\n",
    "The basis for the convergence rate is the error formula for any Gaussian quadrature formula:\n",
    "\n",
    "The error in Gaussian Quadrature is given by: $$\\int_a^b  f(x)dx- \\sum_{i=0}^nA_i f(x_i)=\\frac{f^{(2n+2)}(\\xi )}{(2n+2)!} \\int_a^bw(x)dx$$ where $\\xi$ is some point in the domain of integration and $$w(x)=\\prod_{i=0}^n {(x-x_i)^2}$$\n",
    "\n",
    "* **composite rules** have error $O(h^{2n+2})$ in this case\n",
    "* for $n=9$ doubling $m$\n",
    "    * doubles the computational effort\n",
    "    * reduces error by factor $2^{20}\\approx 10^6$\n",
    "\n",
    "<!-- end of NB3.6 -->"
   ]
  }
 ],
 "metadata": {
  "kernelspec": {
   "display_name": "Python 3",
   "language": "python",
   "name": "python3"
  },
  "language_info": {
   "codemirror_mode": {
    "name": "ipython",
    "version": 3
   },
   "file_extension": ".py",
   "mimetype": "text/x-python",
   "name": "python",
   "nbconvert_exporter": "python",
   "pygments_lexer": "ipython3",
   "version": "3.7.0"
  }
 },
 "nbformat": 4,
 "nbformat_minor": 2
}
