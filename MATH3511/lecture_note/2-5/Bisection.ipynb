{
 "cells": [
  {
   "cell_type": "markdown",
   "metadata": {
    "slideshow": {
     "slide_type": "slide"
    }
   },
   "source": [
    "# The solution of nonlinear equations\n"
   ]
  },
  {
   "cell_type": "code",
   "execution_count": 12,
   "metadata": {
    "slideshow": {
     "slide_type": "slide"
    }
   },
   "outputs": [],
   "source": [
    "%matplotlib inline\n",
    "import math\n",
    "import numpy as np\n",
    "import pylab as pl"
   ]
  },
  {
   "cell_type": "markdown",
   "metadata": {
    "slideshow": {
     "slide_type": "slide"
    }
   },
   "source": [
    "## Nonlinear equations\n",
    "\n",
    "-   general form of equation, $x$ real $$ f(x) = 0 $$\n",
    "-   exact solution $x=x^*$\n",
    "\n",
    "**examples:**\n",
    "\n",
    "1.  geometric: compute length requires square root: $f(x) = x^2 -d$\n",
    "2.  decision problems: when cost $g(x)$ hits $g_0$: $f(x) = g(x) - g_0$\n",
    "3.  stationary states of dynamical systems\n",
    "    -   discrete time $x(t+1) = g(x(t))$: $f(x) = x - g(x)$\n",
    "    -   continuous time $x^\\prime(t) = g(x(t))$: $f(x) = g(x)$\n",
    "\n",
    "4.  optimisation of $g(x)$: maximum: $f(x) = g^\\prime(x)$\n",
    "\n",
    "------------------------------------------------------------\n",
    "\n",
    "**Question:** What is your favorite nonlinear equation? Can you recall an application?\n",
    "\n",
    "\n",
    "## simple examples, explicit solutions\n",
    "\n",
    "-   solution of linear equation $f(x) = ax + b$, $a\\neq 0$: $$ x^* = -b/a $$\n",
    "\n",
    "-   quadratic equation $x^2 - d$ (square root of $d$)\n",
    "    -   has two solutions $x^*_{1,2}= \\pm \\sqrt{d}$ if $d>0$\n",
    "    -   has one solution $x^*=0$ if $d=0$\n",
    "    -   has no (real) solutions if $d<0$\n",
    "-   the determination of the square root requires a numerical algorithm which is typically part of the system library (math in Python)\n",
    "\n",
    "-   for most equations it is not possible to find a formula for the solution\n",
    "\n",
    "-   range reduction: one only needs algorithm for $1< d< 4$ as $$\\sqrt{4^k d} = 2^k \\sqrt{d}$$\n",
    "\n",
    "\n",
    "## continuous functions $f$ -- getting help from calculus\n",
    "\n",
    "**Bolzano's theorem**\n",
    "  *If $f(x)$ is a continuous real valued function on the interval $[a, b]$ and $f(a)\\cdot f(b) \\leq 0$ then there exists a solution $x=x^*\\in[a,b]$ of the equation $f(x)=0$.*\n",
    "\n",
    "-   consequence of intermediate value theorem for continuous functions\n",
    "\n",
    "-   existence of solution: If we know real numbers $a$ and $b$ such that $f(a)$ and $f(b)$ have different signs then we know that there is a solution of $f(x)=0$ between $a$ and $b$\n",
    "\n",
    "--------------------------------------------------------------------------------\n",
    "\n",
    "**iterations -- our class of solution methods**\n",
    "\n",
    "-   determine a sequence $x_0, x_1, \\ldots$ by $$ x_{n+1} = F_n(x_0,x_1,\\ldots,x_n) $$ such that $$ x_n \\rightarrow x^*, \\quad \\text{for $n\\rightarrow \\infty$} $$\n",
    "\n",
    "-   we will study some very successful choices of $F$\n",
    "\n",
    "-   $F$ has to depend on $f(x)$"
   ]
  },
  {
   "cell_type": "markdown",
   "metadata": {},
   "source": [
    "# The Bisection Method\n",
    "\n",
    "\n",
    "## Bisection \n",
    "\n",
    "* construction of intervals $I_k$ such that $I_{k+1} \\subset I_k$ contain the solution $x^*$ of\n",
    "  $$f(x) = 0$$\n",
    "* solution is unique if $f(x)$ (strictly) increasing or decreasing\n",
    "* size of the intervals $$|I_{k+1}| = 0.5 |I_k|$$\n",
    "* as size of intervals goes to zero there is exactly one real number contained in\n",
    "  $$\\bigcap_{k=1}^\\infty I_k$$\n",
    "  \n",
    "* intervals chosen to maintain different signs of $f(x)$ on the two endpoints of $I_k$\n",
    "\n",
    "--------------------------------------------------------------------------------------"
   ]
  },
  {
   "cell_type": "code",
   "execution_count": 13,
   "metadata": {
    "slideshow": {
     "slide_type": "slide"
    }
   },
   "outputs": [],
   "source": [
    "# First version of code\n",
    "\n",
    "def bisect(f,a,b,n):\n",
    "    # first simple bisection code\n",
    "    fa, fb = f(a), f(b)\n",
    "    for i in range(n):\n",
    "        m = (a+b)/2.0\n",
    "        fm = f(m)\n",
    "        if fa*fm <= 0:\n",
    "            b, fb = m, fm\n",
    "        else:\n",
    "            a, fa = m, fm        \n",
    "    return (a+b)/2.0, (b-a)/2.0, f((a+b)/2)  # output"
   ]
  },
  {
   "cell_type": "markdown",
   "metadata": {
    "slideshow": {
     "slide_type": "slide"
    }
   },
   "source": [
    "* try this out and challenge the code with difficult examples, then fix the probems and retry\n",
    "\n",
    "----------------------------------------------------------------------------------\n",
    "\n",
    "## Example $f(x) = x^2 - 3$\n",
    "\n",
    "* verify that $I_0 = [1,2]$ contains the zero\n",
    "* after first subdivision one gets $I_1 = [1.5,2]$\n",
    "\n",
    "--------------------------------------------------------------"
   ]
  },
  {
   "cell_type": "code",
   "execution_count": 16,
   "metadata": {
    "slideshow": {
     "slide_type": "slide"
    }
   },
   "outputs": [
    {
     "name": "stdout",
     "output_type": "stream",
     "text": [
      "exact solution:  sqrt(3.0)= 1.73205\n",
      "interval [1,2] contains the zero? True\n",
      "[a,b]=[   1.5,     2],  e/ebound= 7.2e-02, f(m)= 6.2e-02\n",
      "[a,b]=[   1.5,  1.75],  e/ebound=-8.6e-01, f(m)=-3.6e-01\n",
      "[a,b]=[ 1.625,  1.75],  e/ebound=-7.1e-01, f(m)=-1.5e-01\n",
      "[a,b]=[ 1.688,  1.75],  e/ebound=-4.3e-01, f(m)=-4.6e-02\n",
      "[a,b]=[ 1.719,  1.75],  e/ebound= 1.5e-01, f(m)= 8.1e-03\n",
      "[a,b]=[ 1.719, 1.734],  e/ebound=-7.0e-01, f(m)=-1.9e-02\n",
      "[a,b]=[ 1.727, 1.734],  e/ebound=-4.1e-01, f(m)=-5.5e-03\n",
      "[a,b]=[  1.73, 1.734],  e/ebound= 1.9e-01, f(m)= 1.3e-03\n",
      "[a,b]=[  1.73, 1.732],  e/ebound=-6.2e-01, f(m)=-2.1e-03\n",
      "[a,b]=[ 1.731, 1.732],  e/ebound=-2.4e-01, f(m)=-4.1e-04\n"
     ]
    }
   ],
   "source": [
    "f = lambda x : x*x - 3; xex=math.sqrt(3)\n",
    "a = 1.0; b = 2.0; fa, fb = f(a), f(b)\n",
    "print(\"exact solution:  sqrt(3.0)= %g\"%(xex))\n",
    "print(\"interval [%g,%g] contains the zero? %s\"%(a,b,fa*fb <= 0)) \n",
    "xex = math.sqrt(3.0)\n",
    "for k in range(10):    \n",
    "    m, e, fm = bisect(f,a,b,1) # one step\n",
    "    a = m-e\n",
    "    b = m+e\n",
    "    print(\"[a,b]=[%6.4g,%6.4g],  e/ebound=%8.1e, f(m)=%8.1e\"%(a,b,(m-xex)/e,fm)) "
   ]
  },
  {
   "cell_type": "markdown",
   "metadata": {
    "slideshow": {
     "slide_type": "slide"
    }
   },
   "source": [
    "-------------------------------------------------------------------------------"
   ]
  },
  {
   "cell_type": "code",
   "execution_count": 17,
   "metadata": {},
   "outputs": [
    {
     "data": {
      "image/png": "[encoded data removed]",
      "text/plain": [
       "<Figure size 432x288 with 1 Axes>"
      ]
     },
     "metadata": {
      "needs_background": "light"
     },
     "output_type": "display_data"
    }
   ],
   "source": [
    "# challenging example for testing\n",
    "f = lambda x : (x**3+4.0*x**2+3.0*x+5.0)/(2.0*x**3-9.0*x**2+18.0*x-2.0)\n",
    "xg = np.linspace(0.1, 0.15, 100)\n",
    "pl.plot(xg, f(xg));"
   ]
  },
  {
   "cell_type": "markdown",
   "metadata": {},
   "source": [
    "--------------------------------------------------------------------------"
   ]
  },
  {
   "cell_type": "code",
   "execution_count": 18,
   "metadata": {},
   "outputs": [
    {
     "name": "stdout",
     "output_type": "stream",
     "text": [
      "interval [0.1,0.15] contains the zero? True\n",
      "[a,b]=[     0.1,   0.125], f(m)=-6.3e+01, eb= 1.2e-02\n",
      "[a,b]=[  0.1125,   0.125], f(m)= 3.9e+02, eb= 6.2e-03\n",
      "[a,b]=[  0.1125, 0.11875], f(m)=-1.5e+02, eb= 3.1e-03\n",
      "[a,b]=[ 0.11563, 0.11875], f(m)=-4.9e+02, eb= 1.6e-03\n",
      "[a,b]=[ 0.11719, 0.11875], f(m)= 3.7e+03, eb= 7.8e-04\n",
      "[a,b]=[ 0.11719, 0.11797], f(m)=-1.1e+03, eb= 3.9e-04\n",
      "[a,b]=[ 0.11758, 0.11797], f(m)=-3.3e+03, eb= 2.0e-04\n",
      "[a,b]=[ 0.11777, 0.11797], f(m)=-6.2e+04, eb= 9.8e-05\n",
      "[a,b]=[ 0.11787, 0.11797], f(m)= 7.8e+03, eb= 4.9e-05\n",
      "[a,b]=[ 0.11787, 0.11792], f(m)= 1.8e+04, eb= 2.4e-05\n"
     ]
    }
   ],
   "source": [
    "a = 0.1; b = 0.15; fa, fb = f(a), f(b)\n",
    "print(\"interval [%g,%g] contains the zero?\"%(a,b),fa*fb<=0) \n",
    "for k in range(10):\n",
    "    m, e, fm = bisect(f,a,b,1) # one step\n",
    "    a = m-e\n",
    "    b = m+e\n",
    "    print(\"[a,b]=[%8.5g,%8.5g], f(m)=%8.1e, eb=%8.1e\"%(a,b,fm,e)) "
   ]
  },
  {
   "cell_type": "markdown",
   "metadata": {},
   "source": [
    "\n",
    "## Bisection Algorithm: First Version -- weaknesses\n",
    "\n",
    "\n",
    "* no test for accuracy\n",
    "   * examples: small interval, error bounds\n",
    "* rounding errors can cause problems -- might even get sign wrong for small $f(x)$!\n",
    "\n",
    "* infinite loops due to small intervals or negative $\\delta$\n",
    "* discontinuities may mask as zeros\n",
    "* what if $a > b$?\n",
    "\n",
    "The test for accuracy is not specified. The obvious thing is to require the interval to be small enough such that the root is known to within a certain maximum error $\\delta$. \n",
    "\n",
    "## Bisection Algorithm: Second Version\n",
    "\n",
    "    Initialisation\n",
    "    Find a, b that surround a root [f(a),f(b)] of opposite signs, \n",
    "    rename them if necessary so that a< b, \n",
    "        and specify an iteration limit M, desired error bound delta \n",
    "        and a “zero threshold” \\epsilon. \n",
    "    Evaluate u=f(a), v=f(b), e=b-a \n",
    "    stop [failure due to bad initial interval] \n",
    "    Initialise the count of steps done, n=0\n",
    "\n",
    "    loop-start-2\n",
    "        Set e=e/2, m=a+e, w=f(m), n=n+1 \n",
    "        Stop: output m, e and w, and stop success \n",
    "        Stop: output m, e and w, and stop “probable success” \n",
    "        Stop: output m, e and w, and stop failure to converge \n",
    "        set a=m, u=w set b=m, v=w \n",
    "    Repeat from step 7\n",
    "\n",
    "-------------------------------------------------\n",
    "\n",
    "* sign only used in choosing subinterval\n",
    "* but still problem with sign for small intervals and uncertainty of root"
   ]
  },
  {
   "cell_type": "code",
   "execution_count": 12,
   "metadata": {
    "collapsed": true
   },
   "outputs": [],
   "source": [
    "# TODO: code an improved version of bisection in python"
   ]
  },
  {
   "cell_type": "markdown",
   "metadata": {},
   "source": [
    "## Convergence, Error Analysis and Convergence Rate\n",
    "\n",
    "* automatic simple and reliable upper bound of error if $f(x)$ continous\n",
    "* stops for good approximation\n",
    "* error bound (by induction)\n",
    "\n",
    "$$|x^*-m_n|< d_n/2=(b_0-a_0)/2^{n+1},\\;\\rightarrow 0\\text{ as }n\\rightarrow \\infty$$\n",
    "\n",
    "-----------------------------------------------------------------------\n",
    "\n",
    "* ignoring rounding errors, one can make the error as small as desired by taking enough steps\n",
    "* error tolerance achieved when $(b_0-a_0)/2^{n+1}\\leq \\delta$\n",
    "* requires $\\log_2 10 \\approx 3.3$ steps to reduce error by factor 10\n",
    "    * we can predict accuracy!\n",
    "* but:\n",
    "    * only computes one of all possible zeros\n",
    "    * may be tricked by a singularity\n",
    "<!-- end of NB2.7-->"
   ]
  }
 ],
 "metadata": {
  "celltoolbar": "Slideshow",
  "kernelspec": {
   "display_name": "Python 3",
   "language": "python",
   "name": "python3"
  },
  "language_info": {
   "codemirror_mode": {
    "name": "ipython",
    "version": 3
   },
   "file_extension": ".py",
   "mimetype": "text/x-python",
   "name": "python",
   "nbconvert_exporter": "python",
   "pygments_lexer": "ipython3",
   "version": "3.6.4"
  }
 },
 "nbformat": 4,
 "nbformat_minor": 2
}
