{
 "cells": [
  {
   "cell_type": "markdown",
   "metadata": {
    "slideshow": {
     "slide_type": "slide"
    }
   },
   "source": [
    "# Iterative Solution of Linear Systems of Equations"
   ]
  },
  {
   "cell_type": "code",
   "execution_count": 1,
   "metadata": {
    "slideshow": {
     "slide_type": "slide"
    }
   },
   "outputs": [],
   "source": [
    "%matplotlib inline\n",
    "import numpy as np\n",
    "import pylab as pl\n",
    "from numpy import linalg as nla"
   ]
  },
  {
   "cell_type": "markdown",
   "metadata": {
    "slideshow": {
     "slide_type": "slide"
    }
   },
   "source": [
    "## Direct and Iterative methods for $Ax=b$\n",
    "\n",
    "- Direct methods like Gaussian elimination \n",
    "    * returns solution after fixed but large number of operations\n",
    "    * errors due to rounding and conditioning\n",
    "    * based on matrix factorisations\n",
    "    \n",
    "- Iterative methods like Jacobi or Gauss-Seidel\n",
    "    * returns approximation after variable number of iterations\n",
    "    * each iteration evaluates matrix vector product\n",
    "    * error a function of number of iterations taken\n",
    "    * less affected by rounding, naturally fault tolerant\n"
   ]
  },
  {
   "cell_type": "markdown",
   "metadata": {
    "slideshow": {
     "slide_type": "slide"
    }
   },
   "source": [
    "## Recasting linear system $Ax=b$ as system $x = Tx-c$\n",
    "\n",
    "- Why? \n",
    "\n",
    "     * Solve by iteration\n",
    "     $$x^{(k+1)} = Tx^{(k)} + c\\quad k = 0,1,\\ldots,m$$\n",
    "    \n",
    "* How to get (good) $T$ and $c$?\n",
    "    \n",
    "     * find invertible $M$ close to $A$ such that $Mx = b$ can be solved fast\n",
    "     * note that solution of $Ax=b$ is equivalent to\n",
    "     $$Mx = Mx + \\omega(-Ax + b)$$\n",
    "         where *relaxation parameter* $\\omega \\neq 0$\n",
    "     * choose $T= I - \\omega M^{-1}A$ and $c= \\omega M^{-1} b$\n",
    "     \n",
    "* Simplest choice $M=I$"
   ]
  },
  {
   "cell_type": "markdown",
   "metadata": {
    "slideshow": {
     "slide_type": "slide"
    }
   },
   "source": [
    "## representing structured matrices $A$ if only $Ax$  is required\n",
    "   \n",
    "$$A=\\begin{bmatrix} 2.1 & -1 &  & & \\\\ -1 & 2.1 & -1 & & \\\\  \n",
    "&\\ddots & \\ddots &\\ddots & \\\\ & & -1 & 2.1 & -1\\\\ & & & -1 & 2.1\\end{bmatrix}$$\n",
    "\n",
    "* *structure* of matrix $A$:\n",
    "    \n",
    "    * symmetric with constant offdiagonals and diagonal\n",
    "    \n",
    "* matrix fully determined by one number, the diagonal elements $\\alpha=2.1$\n",
    "* it would be wasteful to store $A$ using a twodimensional array with $n^2$ elements\n",
    "* instead, use Python procedure to implement matrix vector product\n",
    "\n",
    "## Representing matrix A as Python procedure"
   ]
  },
  {
   "cell_type": "code",
   "execution_count": 2,
   "metadata": {
    "slideshow": {
     "slide_type": "slide"
    }
   },
   "outputs": [],
   "source": [
    "def A(x): # returns A times x\n",
    "    y = 2.1*x\n",
    "    y[1:]  -= x[:-1]\n",
    "    y[:-1] -= x[1:]\n",
    "    return y\n",
    "\n",
    "# computing the rhs\n",
    "n = 200\n",
    "t = np.linspace(-1.0, 1.0,n)\n",
    "a = -2\n",
    "xs = (1+a*t-t**2-a*t**3)*(np.exp(-8*t**2)+(t+1)**2)\n",
    "\n",
    "b = A(xs)    # rhs is A times exact sol"
   ]
  },
  {
   "cell_type": "markdown",
   "metadata": {},
   "source": [
    "--------------------------------------------------"
   ]
  },
  {
   "cell_type": "code",
   "execution_count": 3,
   "metadata": {
    "slideshow": {
     "slide_type": "slide"
    }
   },
   "outputs": [
    {
     "data": {
      "image/png": "[encoded data removed]",
      "text/plain": [
       "<matplotlib.figure.Figure at 0x7fe1cbb57080>"
      ]
     },
     "metadata": {},
     "output_type": "display_data"
    }
   ],
   "source": [
    "pl.plot(t, xs, label=\"exact sol\")\n",
    "pl.plot(t, b, label=\"data\");pl.legend(loc=2);"
   ]
  },
  {
   "cell_type": "markdown",
   "metadata": {
    "slideshow": {
     "slide_type": "slide"
    }
   },
   "source": [
    "## Doing a couple of iterations and monitoring the error"
   ]
  },
  {
   "cell_type": "code",
   "execution_count": 4,
   "metadata": {
    "slideshow": {
     "slide_type": "slide"
    }
   },
   "outputs": [],
   "source": [
    "x0 = np.zeros(len(xs))\n",
    "\n",
    "kmax = 100 # number of iterations\n",
    "xk = x0\n",
    "e = np.zeros(kmax)\n",
    "om = 0.4   # relaxation factor\n",
    "for i in range(kmax):\n",
    "    xk -= om*(A(xk)-b)\n",
    "    e[i] = nla.norm(xk - xs) "
   ]
  },
  {
   "cell_type": "markdown",
   "metadata": {
    "slideshow": {
     "slide_type": "slide"
    }
   },
   "source": [
    "--------------------------------------------------------------------"
   ]
  },
  {
   "cell_type": "code",
   "execution_count": 5,
   "metadata": {},
   "outputs": [
    {
     "data": {
      "image/png": "[encoded data removed]",
      "text/plain": [
       "<matplotlib.figure.Figure at 0x7fe1c9b03438>"
      ]
     },
     "metadata": {},
     "output_type": "display_data"
    }
   ],
   "source": [
    "pl.semilogy(e,'.'); # plot the error\n",
    "pl.title('error as function of number of itns');"
   ]
  },
  {
   "cell_type": "markdown",
   "metadata": {},
   "source": [
    "\n",
    "## 2.1.2.1 Matrix splitting methods (Jacobi and Gauss-Seidel)\n",
    "\n",
    "Let $A =(a_{i,j})$ be an $n \\times n$ matrix and write $$A = L + D + U$$ where\n",
    "$$L = \\left[\\begin{array}{cccccc}\n",
    "0 &  & &  \\\\\n",
    "a_{2,1} & 0 & & \\\\\n",
    "\\vdots  & \\vdots & \\ddots & \\\\\n",
    "a_{n,1} & a_{n,2} & \\cdots & 0\n",
    "\\end{array}\\right],\\quad\n",
    "D = \\left[\\begin{array}{ccccc}\n",
    "a_{1,1} &     &     &\\\\\n",
    "        & a_{2,2} &      &\\\\\n",
    "        &         & \\ddots &\\\\\n",
    "        &         &        & a_{n,n}\n",
    "\\end{array}\\right]$$\n",
    "$$U = \\left[\\begin{array}{cccccc}\n",
    "0 & a_{1,2} & \\cdots & a_{1,n} \\\\\n",
    "  &  0      & \\cdots & a_{2,n}\\\\\n",
    "  &         & \\ddots & \\vdots\\\\\n",
    "  &         &        & 0\n",
    "\\end{array}\\right].$$ </span>\n",
    "\n",
    "## Jacobi method\n",
    "\n",
    "Use the decomposition $A = L+D +U$, we can write $A x =b$ as $$D x = b - ( L + U ) x .$$ In case none of the diagonal entries are zero we have $$x = D^{-1} b - D^{-1} (L+U) x.$$ This motivates the iteration $$\\begin{aligned}\n",
    "x^{(k+1)} &= D^{-1} b - D^{-1} ( L + U ) x^{(k)}\\end{aligned}$$ \n",
    "\n",
    "-------------------------------------------------------------\n",
    "\n",
    "-   In terms of components, Jacobi method takes the form $$\\begin{aligned}\n",
    "    x_1^{(k+1)} &= \\Big( b_1 - \\sum_{j \\ne 1 } a_{1,j} x_j^{(k)} \\Big) / a_{1,1} \\\\\n",
    "    \\cdots \\cdots     & \\cdots\\cdots \\cdots \\cdots\\cdots\\cdots\\cdots\\cdots\\\\\n",
    "    x_i^{(k+1)} &= \\Big( b_i - \\sum_{j \\ne i } a_{i,j} x_j^{(k)} \\Big) / a_{i,i}\\\\\n",
    "    \\cdots \\cdots     & \\cdots\\cdots \\cdots \\cdots\\cdots\\cdots\\cdots\\cdots\\\\\n",
    "    x_n^{(k+1)} &= \\Big( b_n - \\sum_{j \\ne n } a_{n,j} x_j^{(k)} \\Big) / a_{n,n}\\end{aligned}$$ for $k =0, 1, \\cdots$.\n",
    "\n",
    "-   Note that the computation of every component $x_j^{(k+1)}$ of $x^{(k+1)}$ is independent of other components. Thus Jacobi method can be implemented in a manner.\n",
    "\n",
    "## Jacobi method -- example\n",
    "\n",
    "Consider the system $A x = b$ where $$A = \\left[\\begin{array}{ccc}\n",
    "6 & -2 & 2 \\\\\n",
    "-2 & 5 & 1 \\\\\n",
    "2 & 1 & 4 \\end{array}\\right],  \\quad b = \\left[\\begin{array}{c}\n",
    "-1 \\\\ 8 \\\\ 8\\end{array}\\right] ,$$ which has a solution $x = [ -0.5 , 1 , 2 ]^T$. Jacobi method for this system is $$\\begin{aligned}\n",
    "x_1^{(k+1)} &= \\frac{1}{6}\\left( -1 + 2 x_2^{(k)} -2 x_3^{(k)} \\right), \\\\\n",
    "x_2^{(k+1)} &= \\frac{1}{5}\\left( 8 + 2 x_1^{(k)} -x_3^{(k)} \\right), \\\\\n",
    "x_3^{(k+1)} &= \\frac{1}{4} \\left(8 - 2 x_1^{(k)} - x_2^{(k)} \\right) .\\end{aligned}$$\n",
    "\n",
    "-----------------------------------------------------------------\n",
    "\n",
    "Starting with $x^{(0)} = 0$, we obtain\n",
    "\n",
    "|  k  | $x_1^{(k)}$ | $x_2^{(k)}$ | $x_3^{(k)}$ |\n",
    "|:---:|:-----------:|:-----------:|:-----------:|\n",
    "|  0  |      0      |      0      |      0      |\n",
    "|  1  |  -0.166667  |     1.6     |     2.0     |\n",
    "|  2  |     -0.3    |   1.133333  |   1.683333  |\n",
    "|  3  |    -0.35    |   1.143333  |   1.866667  |\n",
    "|  4  |  -0.407778  |   1.086667  |   1.889167  |\n",
    "|  5  |  -0.434167  |   1.059056  |   1.932222  |\n",
    "|  10 |  -0.491339  |   1.008028  |   1.990504  |\n",
    "\n",
    "\n",
    "## Algorithm (Jacobi method)\n",
    "\n",
    "```\n",
    "input A and b\n",
    "take an initial guess x_0\n",
    "k = 0   (iteration number)\n",
    "while a stopping criterion is not satisfied do\n",
    "   for i = 1:n\n",
    "      z = 0\n",
    "      for j = 1:n\n",
    "         if j != i do\n",
    "            z = z + A(i,j)*x_0(j)            \n",
    "      x(i) = (b(i)-z)/A(i,i)\n",
    "   k = k+1\n",
    "   x_0 = x\n",
    "output x and k\n",
    "```\n",
    "## Python implementation of Jacobi method\n",
    "\n",
    "**Lab questions for Jacobi method: (to be thought about at your own leisure)**\n",
    "\n",
    "1. view the documentation of Jacobi with ?Jacobi, extend it, understand the code\n",
    "2. can you recover the example above?\n",
    "3. print out the number of iterations and plot iterations against error and residual norm, discuss convergence\n",
    "4. do a couple of other (larger) examples for point 2\n",
    "5. consider and try other stoping criteria\n",
    "6. time your routine and compare to other (library) implementations\n",
    "7. make routine more robust by checking against wrong input, possibly correcting ...\n",
    "\n",
    "----------------------------------------------------------"
   ]
  },
  {
   "cell_type": "code",
   "execution_count": 6,
   "metadata": {},
   "outputs": [],
   "source": [
    "def Jacobi(A,b,tol=0.001,x0=0):\n",
    "    '''solving Ax=b by the Jacobi method'''\n",
    "    n = len(b)\n",
    "    xk = x0*np.ones((n,))\n",
    "    rk = np.dot(A,xk) - b\n",
    "    dinv = 1.0/np.diag(A)   # diagonal matrix D^{-1} stored as array\n",
    "    while (nla.norm(rk,2) > tol*nla.norm(xk,2)+tol):\n",
    "        print(\".\",end=\"\") # monitor progress\n",
    "        xk = xk - dinv*rk\n",
    "        rk = np.dot(A,xk) - b\n",
    "    print(\"\\n\")\n",
    "    return xk"
   ]
  },
  {
   "cell_type": "markdown",
   "metadata": {},
   "source": [
    "------------------------------------------------------"
   ]
  },
  {
   "cell_type": "code",
   "execution_count": 7,
   "metadata": {},
   "outputs": [
    {
     "name": "stdout",
     "output_type": "stream",
     "text": [
      "b =  [ 5.  1.] ,    xex =  [ 3. -1.]\n",
      ".................\n",
      "\n",
      "xnum = [ 2.99999237 -0.99997711]\n"
     ]
    }
   ],
   "source": [
    "A = np.array([[2.0, 1.0],[1.0, 2.0]])\n",
    "xex = np.array([3.0,-1.0])\n",
    "b = np.dot(A,xex)\n",
    "print(\"b = \", b, \",    xex = \", xex)\n",
    "\n",
    "xnum = Jacobi(A,b,tol=1e-5)\n",
    "print(\"xnum =\", xnum)"
   ]
  },
  {
   "cell_type": "markdown",
   "metadata": {},
   "source": [
    "## Gauss-Seidel Method\n",
    "\n",
    "Use $A = L + D + U$ to write $Ax =b$ in the form $( L + D )x = b -  U  x$, or equivalently $$x = (L+D)^{-1} (b- Ux).$$ This leads to the iterative method $$x^{(k+1)} = (L+D)^{-1} (b - Ux^{(k)})$$ or $$(L+D) x^{(k+1)} = b - Ux^{(k)}, \\quad k = 0,1, ...$$ Consequently one gets a method which can implemented very similarly as the Jacobi method with the iteration $$x^{(k+1)}  = D^{-1} \\left(b  -  L  x^{(k+1)} -   U  x^{(k)}\\right)$$. This is the Gauss-Seidel method.\n",
    "\n",
    "------------------------------------------------------------------\n",
    "\n",
    "-   In terms of components, Gauss-Seidel method takes the form $$x_i^{(k+1)} = \\frac{1}{a_{i,i}} \\left( b_i - \\sum_{j = 1 }^{i - 1} a_{i,j} x_j^{(k+1)} -\n",
    "     \\sum_{j = i+1 }^n a_{i,j} x_j^{(k)} \\right), \\quad\n",
    "    i = 1, ... , n$$ for $k=0, 1, \\cdots$.\n",
    "\n",
    "-   Gauss-Seidel method is closely related to Jacobi method, the only difference being that the improved values $x^{(k+1)}$ are used as soon as they are available.\n",
    "\n",
    "-   Gauss-Seidel method is not a parallel method.\n",
    "\n",
    "---------------------------------------------------------\n",
    "\n",
    "## Gauss-Seidel method -- Example\n",
    "Consider the system in the previous example, Gauss-Seidel method is $$\\begin{aligned}\n",
    "x_1^{(k+1)} &= ( -1 + 2 x_2^{(k)} -2 x_3^{(k)} ) / 6, \\\\\n",
    "x_2^{(k+1)} &= ( 8 + 2 x_1^{(k+1)} -x_3^{(k)} )/5, \\\\\n",
    "x_3^{(k+1)} &= (8 - 2 x_1^{(k+1)} - x_2^{(k+1)} ) /4 .\\end{aligned}$$\n",
    "\n",
    "---------------------------------------------------\n",
    "\n",
    "Starting with $x^{(0)} = 0$, we obtain\n",
    "\n",
    "|  k  | $x_1^{(k)}$ | $x_2^{(k)}$ | $x_3^{(k)}$ |\n",
    "|:---:|:-----------:|:-----------:|:-----------:|\n",
    "|  0  |      0      |      0      |      0      |\n",
    "|  1  |  -0.166667  |   1.533333  |     1.7     |\n",
    "|  2  |  -0.222222  |   1.171111  |   1.818333  |\n",
    "|  3  |  -0.382407  |   1.083370  |   1.920361  |\n",
    "|  4  |  -0.445664  |   1.037662  |   1.963416  |\n",
    "|  5  |  -0.475251  |   1.017216  |   1.983322  |\n",
    "|  10 |  -0.499510  |   1.000341  |   1.999670  |\n",
    "\n",
    "\n",
    "## Algorithm (Gauss-Seidel method)\n",
    "\n",
    "While this looks very similar to the Jacobi method, note that the x(i) are changed during the\n",
    "outer loop so that there is less vectorisation possible ...\n",
    "\n",
    "```\n",
    "input A and b\n",
    "take an initial guess x\n",
    "k = 0   (iteration number)\n",
    "while a stopping criterion is not satisfied do\n",
    "   for i = 1:n\n",
    "      z = 0\n",
    "      for j = 1:n\n",
    "         if j != i do\n",
    "            z = z + A(i,j)*x(j)\n",
    "      x(i) = (b(i)-z)/A(i,i)\n",
    "   k = k+1\n",
    "output x and k\n",
    "```\n",
    "\n",
    "## Python implementation of Gauss-Seidel\n",
    "\n",
    "**Lab Questions for Gauss-Seidel (GS) method:**\n",
    "\n",
    "* check the Gauss-Seidel code and compare the performance with Jacobi\n",
    "* be careful when implementing the method, you might have some non-vectorisable parts ...\n",
    "\n",
    "--------------------------------------------------------\n"
   ]
  },
  {
   "cell_type": "code",
   "execution_count": 8,
   "metadata": {},
   "outputs": [
    {
     "name": "stdout",
     "output_type": "stream",
     "text": [
      "b =  [ 5.  1.] ,    xex =  [ 3. -1.]\n",
      "..........\n",
      "\n",
      "xnum = [ 2.99999809 -0.99999905]\n"
     ]
    }
   ],
   "source": [
    "\n",
    "def GS(A,b,tol=0.001,x0=0):\n",
    "    '''solving Ax=b by the Gauss-Seidel method'''\n",
    "    n = len(b)\n",
    "    xk = x0*np.ones((n,))\n",
    "    dinv = 1.0/np.diag(A)   # diagonal matrix D^{-1} stored as array\n",
    "    rk = -b.copy()\n",
    "    while (nla.norm(rk,2) > tol*nla.norm(xk,2)+tol):\n",
    "        print('.', end=\"\")\n",
    "        for i in range(n):\n",
    "            rk[i] = np.dot(A[i,:],xk) - b[i]\n",
    "            xk[i] -= dinv[i]*rk[i]\n",
    "    print('\\n')\n",
    "    return xk\n",
    "\n",
    "A = np.array([[2.0, 1.0],[1.0, 2.0]])\n",
    "xex = np.array([3.0,-1.0])\n",
    "b = np.dot(A,xex)\n",
    "print(\"b = \", b, \",    xex = \", xex)\n",
    "\n",
    "xnum = GS(A,b,tol=1e-5)\n",
    "print(\"xnum =\", xnum)"
   ]
  },
  {
   "cell_type": "markdown",
   "metadata": {},
   "source": [
    "## Convergence Analysis\n",
    "\n",
    "We turn to the convergence analysis of the *general iterative method*\n",
    "$$x^{(k+1)} = M^{-1} b - M^{-1} (A-M) x^{(k)}.$$ \n",
    "\n",
    "Let $x^*$ be the solution, i.e. $A x^* = b$. Then $$\\begin{aligned}\n",
    "x^{(k+1)} -x^* & = M^{-1} A x^* + (I -M^{-1} A) x^{(k)} -x^*\\\\\n",
    "& = (I- M^{-1} A) (x^{(k)}-x^*).\\end{aligned}$$ Let $e^{(k)} = x^{(k)} - x^*$ denote the error vector and let $E=I-M^{-1} A$. Then $$\\begin{aligned}\n",
    "e^{(k+1)} &= E e^{(k)}.\\end{aligned}$$ \n",
    "\n",
    "----------------------------------------------------\n",
    "\n",
    "By induction we obtain $$e^{(k)} =  E^k e^{(0)}, \\qquad k=0, 1, \\cdots.$$\n",
    "\n",
    "Therefore $$\\|e^{(k)}\\| =\\|E^k e^{(0)}\\| \\le \\|E^k\\| \\|e^{(0)}\\|\\le \\|E\\|^k \\|e^{(0)}\\|.$$ where $\\|E\\|$ can be any induced norm on $E$. This shows the following result.\n",
    "\n",
    "If $\\| E \\| = \\rho < 1$, then for any initial guess $x^{(0)}$ the sequence $\\{x^{(k)}\\}$ defined above converges to the solution $x^*$ of $A x =b$ and $$\\|x^{(k)}-x^*\\| \\le \\rho^k \\|x^{(0)} - x^*\\|.$$\n",
    "\n",
    "\n",
    "## Convergence using Spectral Radius\n",
    "\n",
    "In terms of spectral radius, the above theorem can be strengthened to the following version.\n",
    "\n",
    "\n",
    "$E^k e^{(0)} \\rightarrow 0$ for every $e^{(0)}$ as $k \\rightarrow\n",
    "\\infty$ if and only if $\\rho(E) < 1$. Therefore, the Jacobi method with any initial guess $x^{(0)}$ is convergent if and only if $\\rho(E)<1$.\n",
    "\n",
    "## Application to Jacobi and Gauss-Seidel Methods\n",
    "\n",
    "-   Jacobi and Gauss-Seidel methods take the form of the general iterative method with $$M_J = D   \\qquad \\mbox{and} \\qquad M_{GS} = D+L$$ respectively.\n",
    "\n",
    "-   Thus, the error matrices associated with them are $$\\begin{aligned}\n",
    "    E_J & = I-D^{-1} A = -D^{-1} (L+U),\\\\\n",
    "    E_{GS} & = I-(D+L)^{-1} A = - (D+L)^{-1} U.\\end{aligned}$$\n",
    "\n",
    "-   If $A$ is singular, then there is $x\\ne 0$ with $A x= 0$. Thus $$E_J x = x \\quad \\mbox{and} \\quad E_{GS} x = x.$$ i.e. $E_J$ and $E_{GS}$ have an eigenvalue equal to $1$. So $\\rho(E_J) \\ge 1$ and $\\rho(E_{GS})\\ge 1$. Thus, for some initial guess, Jacobi and Gauss-Seidel methods may not converge in case $A$ is singular.\n",
    "\n",
    "--------------------------------------------------------------\n",
    "\n",
    "<!-- -->\n",
    "\n",
    "-   Conditions on $A$ should be imposed to guarantee that $\\rho(E_J)<1$ and $\\rho(E_{GS})<1$.\n",
    "\n",
    "    \n",
    "\n",
    "-   Consider $\\rho(E_J)$ first. Recall that $\\rho(E_J)\\le \\|E_J\\|$ for any induced matrix norm. In particular $$\\rho(E_J) \\le \\|E\\|_\\infty =\\|D^{-1} (L+U)\\|_\\infty = \\max_{1\\le i\\le n} \\frac{1}{|a_{i,i}|}\n",
    "    \\sum_{\\scriptstyle j=1 \\atop \\scriptstyle j\\ne i}^n |a_{i,j}|.$$\n",
    "\n",
    "-   Recall also that similarity transform does not change the eigenvalues and hence the spectral radius. Thus $$\\begin{aligned}\n",
    "    \\rho(E_J)& = \\rho(D E_J D^{-1}) = \\rho((L+U) D^{-1}) \\le \\|(L+U) D^{-1}\\|_1 \\\\\n",
    "    & = \\max_{1\\le j\\le n} \\frac{1}{|a_{j,j}|} \\sum_{\\scriptstyle i=1 \\atop \\scriptstyle i\\ne j}^n |a_{i,j}|.\\end{aligned}$$\n",
    "\n",
    "The above discussion motivates the following definition.\n",
    "\n",
    "\n",
    "\n",
    "## Diagonal Dominance\n",
    "\n",
    "An $n\\times n$ matrix $A$ is diagonally dominant if either $$\\sum_{\\scriptstyle j=1 \\atop \\scriptstyle j\\ne i}^n | a_{i,j} | < |\n",
    "a_{i,i} |, \\qquad i = 1,...,n$$ or $$\\sum_{\\scriptstyle i=1 \\atop \\scriptstyle i\\ne j }^n | a_{i,j} | <\n",
    "| a_{j,j} |, \\qquad j = 1,...,n .$$\n",
    "\n",
    " The above argument has showed that if $A$ is diagonally dominant then $\\rho(E_J)<1$. Therefore, we have\n",
    "\n",
    "**Convergence of Jacobi method** If $A$ is diagonally dominant, then Jacobi method converges for any initial guess.\n",
    "\n",
    "---------------------------------------------------------------------\n",
    "\n",
    "Next we consider $\\rho(E_{GS})$ for Gauss-Seidel method. The analysis is harder. However, we can show that if $A$ is diagonally dominated, then $$\\rho(E_{GS})<1.$$ \n",
    "\n",
    "Thus we can conclude the following result.\n",
    "\n",
    "\n",
    "**Convergence of Gauss-Seidel method** If $A$ is diagonally dominated, then Gauss-Seidel method converges for any initial guess.\n",
    "\n",
    "<!-- end of NB2.4 -->"
   ]
  },
  {
   "cell_type": "markdown",
   "metadata": {},
   "source": [
    "**Questions:**  explore spectral radius, norms and convergence speed for various examples, make your own matrices with\n",
    "    given eigenvalues maybe?"
   ]
  }
 ],
 "metadata": {
  "celltoolbar": "Slideshow",
  "kernelspec": {
   "display_name": "Python 3",
   "language": "python",
   "name": "python3"
  },
  "language_info": {
   "codemirror_mode": {
    "name": "ipython",
    "version": 3
   },
   "file_extension": ".py",
   "mimetype": "text/x-python",
   "name": "python",
   "nbconvert_exporter": "python",
   "pygments_lexer": "ipython3",
   "version": "3.6.4"
  }
 },
 "nbformat": 4,
 "nbformat_minor": 2
}
