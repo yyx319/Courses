{
 "cells": [
  {
   "cell_type": "markdown",
   "metadata": {},
   "source": [
    "# Quadrature based on polynomial interpolation"
   ]
  },
  {
   "cell_type": "code",
   "execution_count": 1,
   "metadata": {},
   "outputs": [],
   "source": [
    "import sympy as sy\n",
    "import numpy as np\n",
    "import math"
   ]
  },
  {
   "cell_type": "markdown",
   "metadata": {},
   "source": [
    "## Newton-Cotes rules\n",
    "\n",
    "* *equidistant quadrature points* $x_i=a+ih$ where $h=(b-a)/n$ and $i=0,\\ldots,n$\n",
    "* *quadrature rule:*\n",
    "  $$Q(f,a,b) = \\sum_{i=0}^n w_i f(x_i)$$\n",
    "  \n",
    "* Newton-Cotes method: choose *quadrature weights* $w_i$ such that\n",
    "  $$Q(p,a,b) = \\int_a^b p(x)\\, dx$$\n",
    "  for all polynomials $p$ of degree up to $n$\n",
    "  \n",
    "## special cases \n",
    "\n",
    "* **rectangle rule** $n=0$ \n",
    "  $$Q(f,a,b) = (b-a) f(x_0)$$\n",
    "  for any quadrature point $x_0\\in [a,b]$, weight $w_0=b-a$\n",
    "  \n",
    "    * **midpoint rule** $x_0 = (a+b)/2$\n",
    "  \n",
    "* **trapezoidal rule** $n=1$\n",
    "  $$Q(f,a,b) = \\frac{b-a}{2} f(a) + \\frac{b-a}{2} f(b)$$\n",
    "  quadrature points $x_0=a$, $x_1=b$, weights $w_0=w_1=(b-a)/2$\n",
    "  \n",
    "  \n",
    "## integer quadrature points for $n\\geq 1$\n",
    "  \n",
    "* approximation of \n",
    "  $$I(f) = \\int_0^n f(x)\\, dx$$\n",
    "\n",
    "* quadrature rule\n",
    "  $$Q(f) = \\sum_{k=0}^n  w_k f(k)$$\n",
    "  \n",
    "  * note that this does not give a rule for $n=0$ as $\\int_0^0 f(x)\\, dx = 0$,\n",
    "    for this we consider \"open\" rules which approximate $$I(f) = \\int_0^{n+1} f(x)\\, dx$$ \n",
    "    by $Q(f)$ with the same points $x_k = k$ but adapted weights $w_k$ for $k=0,\\ldots,n$\n",
    "    \n",
    "\n",
    "## transformation formula\n",
    "\n",
    "* introduce variable $z\\in[0,n]$ such that $$x = a + zh$$\n",
    "  where $h=(b-a)/n$\n",
    "\n",
    "* transformed function $g(z)$ satisfying\n",
    "  $$g(z) = f(a+zh)$$\n",
    "\n",
    "* it follows that\n",
    "  $$\\int_a^b f(x)\\, dx = h \\int_0^n g(z)\\, dz$$\n",
    "  and one gets the transformed quadrature rule\n",
    "  $$Q(f) = h \\sum_{k=0}^n w_k f(a+kh)$$\n",
    "  where $w_k$ are the Newton Cotes weights for the interval $[0,a]$\n",
    "  \n",
    "## composite Newton-Cotes rules\n",
    "\n",
    "* choose $N=nm$ quadrature points $x_k = a + kh$ where $h=(b-a)/N$\n",
    "* composite formula\n",
    "  $$Q(f) = h \\sum_{j=0}^m \\sum_{k=0}^n w_k f(a+x_{k+jn})$$\n",
    "  where $w_k$ are the weights for the Newton Cotes on the interval $[0,n]$\n",
    "\n",
    "\n",
    "## computing the weights $w_k$ from the Lagrange interpolation formula\n",
    "\n",
    "* we only need to consider the interval $[0,n]$\n",
    "* choose quadrature formula defined by\n",
    "  $$Q(f) = \\int_0^n p(x)\\, dx$$\n",
    "  where $p$ is the interpolating polynomial at $x_k=k$ for $k=0,\\ldots,n$\n",
    "* Lagrange interpolation formula\n",
    "  $$p(x) = \\sum_{k=0}^n l_k(x) f(k)$$\n",
    "\n",
    "* integrate this formula to get the weights\n",
    "  $$w_k = \\int_0^n l_k(x)\\, dx$$\n",
    "  \n",
    "## example $n=1$ -- trapezoidal rule\n",
    "\n",
    "* Lagrange functions\n",
    "  $$l_0(x) = 1-x, \\quad l_1(x) = x$$\n",
    "  \n",
    "* weights\n",
    "  $$w_0 = \\int_0^1 (1-x)\\, dx = 1/2, \\quad w_1 = \\int_0^1 x\\, dx = 1/2$$\n",
    "  \n",
    "## example $n=2$ -- Simpson's rule\n",
    "\n",
    "* Lagrange (or cardinal) functions\n",
    "  $$l_0(x) = (x-1)(x-2)/2, \\quad l_1(x) = -x(x-2),\\quad l_2(x) = x(x-1)/2$$\n",
    "  \n",
    "* weights\n",
    "  \\begin{align*}\n",
    "     w_0 & = \\int_0^2 l_0(x)\\, dx = \\int_0^2 (x^2-3x+2)/2 = 1/3 \\\\\n",
    "     w_1 & = \\int_0^2 l_1(x)\\, dx = 4/3 \\\\\n",
    "     w_2 & = \\int_0^2 l_2(x)\\, dx = 1/3\n",
    "  \\end{align*}\n",
    "  \n",
    "## computing the weights using the method of unknown coefficients\n",
    "\n",
    "* set up linear system of $n+1$ equations for the $w_j$ from the conditions\n",
    "  $$Q(x^j) = \\int_0^n x^j \\, dx, \\quad j=0,\\ldots,n$$\n",
    "\n",
    "* equations\n",
    "  $$\\sum_{k=0}^n k^j w_k = \\frac{n^{j+1}}{j+1}, \\quad j=0,\\ldots,n$$\n",
    "  \n",
    "* matrix is Vandermonde matrix\n",
    "  \n",
    "## example $n=1$ trapezoidal rule\n",
    "\n",
    "* equations\n",
    "$$\\begin{bmatrix} 1 & 1 \\\\ 0 & 1 \\end{bmatrix} \\begin{bmatrix} w_0 \\\\ w_1 \\end{bmatrix} \n",
    "  = \\begin{bmatrix} 1 \\\\ 1/2 \\end{bmatrix}$$\n",
    "\n",
    "* weights\n",
    "  $$w_1 = 1/2, \\quad w_0 = 1 - 1/2 = 1$$\n",
    "  \n",
    "## example $n=2$ Simpson's rule\n",
    "\n",
    "* equations\n",
    " $$\\begin{bmatrix} 1 & 1 & 1 \\\\ 0 & 1 & 2 \\\\ 0 & 1 & 4 \\end{bmatrix}\n",
    "    \\begin{bmatrix} w_0 \\\\ w_1 \\\\ w_2 \\end{bmatrix} =\n",
    "    \\begin{bmatrix} 2 \\\\ 2 \\\\ 8/3 \\end{bmatrix} $$\n",
    "    \n",
    "* with Gauss elimination we get\n",
    "  $$\\begin{bmatrix} 1 & 1 & 1 \\\\ 0 & 1 & 2 \\\\ 0 & 0 & 2 \\end{bmatrix}\n",
    "    \\begin{bmatrix} w_0 \\\\ w_1 \\\\ w_2 \\end{bmatrix} =\n",
    "    \\begin{bmatrix} 2 \\\\ 2 \\\\ 2/3 \\end{bmatrix}$$\n",
    "    \n",
    "* the solution by back substitution is as before $w_0=1/3$, $w_1=4/3$ and $w_2=1/3$\n",
    "\n",
    "--------------------------------------------------"
   ]
  },
  {
   "cell_type": "code",
   "execution_count": 2,
   "metadata": {},
   "outputs": [
    {
     "name": "stdout",
     "output_type": "stream",
     "text": [
      "\n",
      " n = 1:   w0 = 0.50   w1 = 0.50   \n",
      " n = 2:   w0 = 0.33   w1 = 1.33   w2 = 0.33   \n",
      " n = 4:   w0 = 0.31   w1 = 1.42   w2 = 0.53   w3 = 1.42   w4 = 0.31   \n",
      " n = 8:   w0 = 0.28   w1 = 1.66   w2 = -0.26   w3 = 2.96   w4 = -1.28   w5 = 2.96   w6 = -0.26   w7 = 1.66   w8 = 0.28   "
     ]
    }
   ],
   "source": [
    "# compute Newton-Cotes weights with sympy\n",
    "w = np.zeros((4,9))\n",
    "for i, n in enumerate((1,2,4,8)):\n",
    "    x = sy.Symbol('x')\n",
    "    print(\"\\n n = {}:\".format(n),end='   ')\n",
    "    for j in range(n+1):\n",
    "        lj = 1\n",
    "        for k in range(n+1):  # compute Lagrangian polynomial (symbolic!)\n",
    "            if (k!=j): lj *= (x-k)/(j-k)\n",
    "        w[i,j] = float(sy.integrate(lj,(x,0,n)))\n",
    "        print(\"w{} = {:4.2f}\".format(j,w[i,j]),end='   ')"
   ]
  },
  {
   "cell_type": "markdown",
   "metadata": {},
   "source": [
    "## example: use weights to compute $I = \\int_0^1 \\exp(-x)\\, dx$\n",
    "\n",
    "* exact value $I=1 - e^{-1}$\n",
    "* approximations with Newton-Cotes"
   ]
  },
  {
   "cell_type": "code",
   "execution_count": 3,
   "metadata": {},
   "outputs": [
    {
     "name": "stdout",
     "output_type": "stream",
     "text": [
      "n = 1, Q = 0.6839397, Error = 5.2e-02\n",
      "n = 2, Q = 0.6323337, Error = 2.1e-04\n",
      "n = 4, Q = 0.6321209, Error = 3.2e-07\n",
      "n = 8, Q = 0.6321206, Error = 3.6e-13\n"
     ]
    }
   ],
   "source": [
    "for i, n in enumerate((1,2,4,8)):\n",
    "    Q = np.sum(w[i,:n+1]*np.exp(-np.linspace(0,1,n+1)))/n\n",
    "    print((\"n = {}, Q = {:8.7f}, Error = {:6.1e}\"\\\n",
    "           .format(n,Q,Q-1+1.0/np.e)))"
   ]
  },
  {
   "cell_type": "markdown",
   "metadata": {},
   "source": [
    "# Errors\n",
    "\n",
    "## general formula for interval $[0,n]$\n",
    "\n",
    "* error of $n$ degree interpolating polynomial $p$ for interpolation points $x_k=k$ \n",
    "  $$e(x) = p(x) - f(x) = -\\frac{1}{(n+1)!} f^{(n+1)}(\\xi_x) w(x)$$\n",
    "  where $w(x) = \\prod_{i=0}^n (x-k)$\n",
    "  \n",
    "* error of quadrature equals integral of interpolation error\n",
    "  $$E = \\int_0^n e(x)\\, dx \n",
    "    = \\frac{1}{(n+1)!} \\int_0^n f^{(n+1)}(\\xi_x) w(x)\\, dx$$\n",
    "    \n",
    "* mean value theorem gives\n",
    "  $$|E| \\leq \\frac{1}{(n+1)!} |f^{(n+1)}(\\xi)| \\int_0^n |w(x)|\\, dx$$\n",
    "  for some $\\xi \\in [0,n]$\n",
    "  \n",
    "## example: $\\int_0^1 \\exp(-x)\\, dx$\n",
    "\n",
    "* transformation from $[0,n]$ to $[0,1]$\n",
    "  $$f(x) = \\exp(-x/n)$$\n",
    "\n",
    "* value of integral\n",
    "  $$I = \\int_0^1 \\exp(-x)\\, dx = n^{-1} \\int_0^n \\exp(-x/n)\\, dx$$\n",
    "  \n",
    "* quadrature ($w_k$ are weights for $[0,n]$)\n",
    "  $$Q = n^{-1} \\sum_{k=0}^n w_k \\exp(-k/n)$$\n",
    "  \n",
    "* derivatives for error bounds\n",
    "  $$f^{(k)}(x) = (-n)^{-k} \\exp(-x/n)$$\n",
    "  \n",
    "## example: error for $n=1$, $f(x) = \\exp(-x)$ and $x\\in[0,1]$\n",
    "\n",
    "* one has for some $\\xi\\in[0,1]$:\n",
    "\n",
    "  $$|E| \\leq \\frac{1}{2} \\exp(-\\xi) \\int_0^1 x(1-x)\\, dx \\leq \\frac{1}{12} \\approx 0.08$$\n",
    "  \n",
    "  where the actual error is $0.05$ (see computation done previously)\n",
    "  \n",
    "## example error for $f(x) = \\exp(-x)$, $x\\in[0,1]$ and general $n$\n",
    "\n",
    "* error bound\n",
    "  $$|E| \\leq \\frac{h^{n+2}}{(n+1)!} \\int_0^n |w(x)| \\, dx$$\n",
    "  \n",
    "* compute $\\int_0^n |w(x)|\\, dx$ with sympy"
   ]
  },
  {
   "cell_type": "code",
   "execution_count": 4,
   "metadata": {},
   "outputs": [],
   "source": [
    "x = sy.Symbol('x'); wn = 5*[1,]; wint = np.zeros(5)\n",
    "for i,n in enumerate((1,2,3,4,5)):\n",
    "    for j in range(n+1):\n",
    "        wn[i] = wn[i]*(x-j)\n",
    "    for j in range(n):\n",
    "        wint[i] += np.abs(float(\\\n",
    "                sy.integrate(wn[i],(x,j,j+1))))"
   ]
  },
  {
   "cell_type": "markdown",
   "metadata": {},
   "source": [
    "## compute the weights for $n = 1,2,3,4,5$"
   ]
  },
  {
   "cell_type": "code",
   "execution_count": 5,
   "metadata": {},
   "outputs": [],
   "source": [
    "# compute Newton-Cotes weights with sympy\n",
    "w = np.zeros((5,6));     x = sy.Symbol('x')\n",
    "for i, n in enumerate((1,2,3,4,5)):\n",
    "    for j in range(n+1):\n",
    "        lj = 1\n",
    "        for k in range(n+1):\n",
    "            if (k!=j):\n",
    "                lj *= (x-k)/(j-k)\n",
    "        w[i,j] = float(sy.integrate(lj,(x,0,n)))"
   ]
  },
  {
   "cell_type": "markdown",
   "metadata": {},
   "source": [
    "## compute the error bounds for $n=1,2,3,4,5$"
   ]
  },
  {
   "cell_type": "code",
   "execution_count": 6,
   "metadata": {},
   "outputs": [
    {
     "name": "stdout",
     "output_type": "stream",
     "text": [
      "n = 1, error = 5.18e-02, bound = 8.33e-02\n",
      "n = 2, error = 2.13e-04, bound = 5.21e-03\n",
      "n = 3, error = 9.50e-05, bound = 2.80e-04\n",
      "n = 4, error = 3.16e-07, bound = 1.29e-05\n",
      "n = 5, error = 1.78e-07, bound = 5.20e-07\n"
     ]
    }
   ],
   "source": [
    "Ebound = np.zeros(5); E = np.zeros(5)\n",
    "for i,n in enumerate((1,2,3,4,5)):\n",
    "    h = 1.0/n\n",
    "    Ebound[i] = h**(n+2)/math.factorial(n+1)*wint[n-1]\n",
    "    E[i] = h*np.sum(w[n-1,:n+1]*\\\n",
    "        np.exp(-np.linspace(0,1,n+1))) - 1.0 + 1.0/np.e\n",
    "    print(\"n = {}, error = {:4.2e}, bound = {:4.2e}\"\\\n",
    "                 .format(n,E[i], Ebound[i]))"
   ]
  },
  {
   "cell_type": "markdown",
   "metadata": {},
   "source": [
    "## error bounds for even $n$\n",
    "\n",
    "* note: error bounds for $n=2$ and $n=4$ are bad\n",
    "* as $\\int_0^n w(x)\\, dx = 0$ for even $n$, quadrature exact for polynomials of degree $n+1$\n",
    "  in this case\n",
    "* Taylor expansion for $f^{(n+1)}(\\xi)$:\n",
    "  $$f^{(n+1)}(\\xi) = f^{(n+1)}(1/2) + (\\xi-1/2)f^{(n+2)}(\\eta)$$\n",
    "* in the case of even $n$ the first (constant) term does not contribute to the error and one gets\n",
    "  for a general function $f(x)$ \n",
    "  $$|E| \\leq \\frac{h^{n+3}}{2(n+1)!} |f^{(n+2)}(\\xi)| \\int_0^n |w(x)| \\, dx$$\n",
    "  and for our example $f(x) = \\exp(-x)$:\n",
    "  $$|E| \\leq \\frac{h^{n+3}}{2(n+1)!} \\int_0^n |w(x)| \\, dx$$\n",
    "  \n",
    "## recompute the error bounds for $n=2,4$"
   ]
  },
  {
   "cell_type": "code",
   "execution_count": 7,
   "metadata": {},
   "outputs": [
    {
     "name": "stdout",
     "output_type": "stream",
     "text": [
      "n = 2, error = 2.13e-04, bound = 1.30e-03\n",
      "n = 4, error = 3.16e-07, bound = 1.61e-06\n"
     ]
    }
   ],
   "source": [
    "Ebound = np.zeros(2); E = np.zeros(2)\n",
    "for i,n in enumerate((2,4)):\n",
    "    h = 1.0/n\n",
    "    Ebound[i] = h**(n+3)/(2*math.factorial(n+1))\\\n",
    "                *wint[n-1]\n",
    "    E[i] = h*np.sum(w[n-1,:n+1]\\\n",
    "     *np.exp(-np.linspace(0,1,n+1))) - 1.0 + 1.0/np.e\n",
    "    print(\"n = {}, error = {:4.2e}, bound = {:4.2e}\"\\\n",
    "          .format(n,E[i], Ebound[i]))"
   ]
  }
 ],
 "metadata": {
  "kernelspec": {
   "display_name": "Python 3",
   "language": "python",
   "name": "python3"
  },
  "language_info": {
   "codemirror_mode": {
    "name": "ipython",
    "version": 3
   },
   "file_extension": ".py",
   "mimetype": "text/x-python",
   "name": "python",
   "nbconvert_exporter": "python",
   "pygments_lexer": "ipython3",
   "version": "3.7.0"
  }
 },
 "nbformat": 4,
 "nbformat_minor": 2
}
