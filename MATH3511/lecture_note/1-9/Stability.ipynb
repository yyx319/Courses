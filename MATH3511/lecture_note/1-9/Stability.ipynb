{
 "cells": [
  {
   "cell_type": "markdown",
   "metadata": {
    "slideshow": {
     "slide_type": "-"
    }
   },
   "source": [
    "\n",
    "\n",
    "# 1.9 condition and stability of functions\n",
    "\n",
    "$$\\renewcommand{\\R}{\\mathbb{R}}$$\n",
    "\n",
    "\n",
    "## condition of a function $f(x)$\n",
    "\n",
    "**The Problem:**\n",
    "\n",
    "Given a function\n",
    "$$f : \\R^m \\rightarrow \\R^k$$\n",
    "compute the function value $f(x)$ for some $x\\in \\R^m$\n",
    "\n",
    "**Definition:**\n",
    "\n",
    "The *(relative) condition number* of a function is\n",
    "\n",
    "  $$\\kappa(x) = \\sup_{y\\neq x} \\frac{\\lVert f(y) - f(x) \\rVert/\\lVert f(x)\\rVert}{\\lVert y - x \\rVert/\\lvert x \\rVert}$$\n",
    "  \n",
    "a local version is\n",
    "  $$\\kappa(x) = \\lim_{\\epsilon \\rightarrow 0} \\sup_{\\lVert y - x \\lVert < \\epsilon} \\frac{\\lVert f(y) - f(x) \\rVert/\\lVert f(x)\\rVert}{\\lVert y - x \\rVert/\\lvert x \\rVert}$$\n",
    "or simplified $y=(1+\\epsilon S)x$ where $S$ is a diagonal matrix with $\\pm 1$ diagonal elements\n",
    "  $$\\kappa(x) = \\lim_{\\epsilon \\rightarrow 0} \\sup_S \\frac{\\lVert f((1+\\epsilon S)x) - f(x) \\rVert}{\\epsilon\\,\\lVert f(x)\\rVert}$$\n",
    "  (one should really take an orthogonal matrix)\n",
    "\n",
    "\n",
    "remarks:\n",
    "\n",
    "* the condition models how much the value $f(x)$ is affected by a change in the input $x$\n",
    "* if $\\kappa$ small then $f$ well-conditioned\n",
    "* the condition number depends on the domain of $f$\n",
    "* we will use mostly the local version"
   ]
  },
  {
   "cell_type": "markdown",
   "metadata": {
    "slideshow": {
     "slide_type": "-"
    }
   },
   "source": [
    "## examples\n",
    "\n",
    "1. $f(x) = 10 x + 5$ (both global and local version are the same)\n",
    "\n",
    "  \\begin{align*} \\kappa(x) &= \\sup_{y} \\frac{10(x-y)/(10x+5)}{(x-y)/x} \\\\\n",
    "                             &= \\frac{10x}{10x+5}\n",
    "  \\end{align*}\n",
    "    \n",
    "2. $f(x) = \\sqrt{x}$ for $x>0$\n",
    "\n",
    "  \\begin{align*} \\kappa(f) &=  \\sup_{y>0} \\frac{(\\sqrt{x}-\\sqrt{y})/\\sqrt{x}}{(x-y)/x} \\\\\n",
    "                             &=  \\sup_{y>0} \\frac{\\sqrt{x}}{\\sqrt{x}+\\sqrt{y}} = 1\n",
    "  \\end{align*}\n",
    "    * the local version is $\\kappa(f) = 0.5$"
   ]
  },
  {
   "cell_type": "markdown",
   "metadata": {
    "slideshow": {
     "slide_type": "-"
    }
   },
   "source": [
    "## the difference $f(x_1,x_2) = x_1-x_2$ can be ill-conditioned\n",
    "\n",
    "$$ \\kappa(x) = \n",
    "\\sup \\frac{\\left.|x_1-x_2-y_1+y_2|\\right/|x_1-x_2|}{\\left.\\sqrt{(x_1-y_1)^2+(x_2-y_2)^2}\\right/\\sqrt{x_1^2+x_2^2}} $$\n",
    "\n",
    "* maximum obtained for $x_1-y_1 = -(x_2-y_2)$ and thus\n",
    "         \n",
    "    $$\\kappa(x) = \\sqrt{2\\frac{x_1^2+x_2^2}{(x_1-x_2)^2}}$$\n",
    "    \n",
    "* condition number large for $x_1 \\approx x_2$"
   ]
  },
  {
   "cell_type": "markdown",
   "metadata": {
    "slideshow": {
     "slide_type": "-"
    }
   },
   "source": [
    "## the exponential function\n",
    "\n",
    "* $f(x) = \\exp(x)$ for $x\\in [0,M]$ $$\\kappa(x) = \\sup_{0\\leq y \\leq M} \\frac{|e^y - e^x|/e^x}{|y-x|/|x|}= \\sup_y \\frac{e^{y-x}-1}{|y-x|}|x| < e^M |x|$$\n",
    "\n",
    "    * as $|y-x| \\leq M$ and \n",
    "      $$\\frac{e^{y-x}-1}{y-x} = e^{\\theta(y-x)}$$\n",
    "      for some $\\theta \\in [0,1]$ because the left hand side is the slope of a secant ...\n",
    "* the local condition number is $\\kappa(f) = |x|$"
   ]
  },
  {
   "cell_type": "markdown",
   "metadata": {
    "slideshow": {
     "slide_type": "-"
    }
   },
   "source": [
    "## condition number of a matrix\n",
    "\n",
    "* matrix-vector product $f(x) = Ax$ for $x\\in \\R^n$\n",
    "\n",
    "\\begin{align*} \\kappa(A) &= \n",
    "  \\sup \\frac{\\lVert A(x-y)\\rVert/\\lVert Ax \\rVert}{\\lVert x-y\\rVert/\\lVert x \\rVert}\\\\\n",
    "  &= \\sup \\frac{\\lVert A(x-y)\\rVert}{\\lVert x-y\\rVert} \\cdot\n",
    "          \\frac{\\lVert x \\rVert}{\\lVert Ax \\rVert} = \\lVert A \\rVert\\cdot \\lVert A^{-1} \\rVert\n",
    "\\end{align*}\n",
    "\n",
    "* it follows that $\\kappa(A) = \\kappa(A^{-1})$"
   ]
  },
  {
   "cell_type": "markdown",
   "metadata": {
    "slideshow": {
     "slide_type": "-"
    }
   },
   "source": [
    "## stability of numerical function $f(x,\\delta)$\n",
    "\n",
    "$$f : \\R^m \\otimes \\R^k \\rightarrow \\R$$\n",
    "models a function as evaluated on a computer\n",
    "\n",
    "* where $\\delta\\in\\R^k$ is an error parameter\n",
    "* $f(x,0)$ is the exact value\n",
    "\n",
    "### Definition (stability)\n",
    "\n",
    "$f(x,\\delta)$ is *stable* if for any choice of\n",
    "\n",
    "* $x\\in \\R^m$\n",
    "* $\\epsilon>0$ and $\\delta\\in \\R^k$ with $|\\delta_k| \\leq \\epsilon$  \n",
    "\n",
    "there exist\n",
    "\n",
    "* $y\\in \\R^m$ and $C_1, C_2 > 0$\n",
    "\n",
    "such that $x$ is close to $y$, i.e.,\n",
    "$$\\frac{\\lVert y - x \\rVert}{\\lVert x \\rVert} \\leq C_1 \\epsilon$$\n",
    "and $f(x,\\delta)$ is close to some (exact) $f(y,0)$, i.e., \n",
    "$$\\frac{\\lVert f(y,0) - f(x,\\delta)\\rVert}{\\lVert f(y,0) \\rVert} \\leq C_2 \\epsilon$$ "
   ]
  },
  {
   "cell_type": "markdown",
   "metadata": {
    "slideshow": {
     "slide_type": "-"
    }
   },
   "source": [
    "## a stronger and simpler condition\n",
    "\n",
    "* concept used mostly in actual analysis\n",
    "\n",
    "### Definition (backward stability)\n",
    "\n",
    "$f(x,\\delta)$ is *backward stable* if for any choice of\n",
    "\n",
    "* $x\\in \\R^m$\n",
    "* $\\epsilon>0$ and $\\delta\\in \\R^k$ with $|\\delta_k| \\leq \\epsilon$\n",
    "\n",
    "there exist\n",
    "\n",
    "* $y\\in \\R^m$\n",
    "* $C > 0$\n",
    "\n",
    "such that $x$ is close to $y$, i.e.,\n",
    "$$\\frac{\\lVert y - x \\rVert}{\\lVert x \\rVert} \\leq C \\epsilon$$\n",
    "and $f(x,\\delta)$ is equal to $f(y,0)$\n",
    "$$f(x,\\delta) = f(y,0)$$"
   ]
  },
  {
   "cell_type": "markdown",
   "metadata": {
    "slideshow": {
     "slide_type": "-"
    }
   },
   "source": [
    "## accuracy of a backward stable algorithm\n",
    "\n",
    "**Definition: relative error**\n",
    "$$e=\\frac{f(x,\\delta) - f(x,0)}{\\left|f(x,0)\\right|}$$\n",
    "\n",
    "**Proposition**\n",
    "\n",
    "If $f(x,\\delta)$ is backward stable and $f(x,0)$ is well conditioned with condition number \n",
    "$\\kappa(x)$, then there is a $C>0$ such that the relative error satisfies\n",
    "$$\\left| e \\right| \\leq \\kappa(x)\\, C \\epsilon$$\n",
    "for all rounding errors $\\delta$ with $|\\delta_k| \\leq \\epsilon$\n",
    "\n",
    "----------------------------------\n",
    "\n",
    "*Proof.*\n",
    "\n",
    "by backward stability and the definition of the condition number one has from backward stability\n",
    "some $y$ such that\n",
    "\n",
    "\\begin{align*}\n",
    "  \\frac{|f(x,\\delta)-f(x,0)|}{|f(x,0)|} & = \\frac{|f(y,0)-f(x,0)|}{|f(x,0)|} \\\\\n",
    "     &\\leq \\kappa(x)\\, \\frac{\\lVert y-x\\rVert}{\\lVert x \\rVert} \\\\\n",
    "     &\\leq C \\kappa(x)\\, \\epsilon\n",
    "\\end{align*}\n",
    "\n",
    "where $\\lVert y - x \\rVert/\\lVert x \\rVert \\leq C \\epsilon$\n",
    "\n",
    "$\\blacksquare$\n",
    "\n",
    "**Remarks**\n",
    "\n",
    "* The constant $C$ depends on the algorithm and in particular the dimension of $\\delta$\n",
    "* Often it is easier to determine the constant $C$ and $\\kappa$ then bounding the error directly\n",
    "* When applied to the difference one sees that the ill-conditioning is the main contributor to the error"
   ]
  },
  {
   "cell_type": "markdown",
   "metadata": {},
   "source": [
    "## example: $a - bc/d$ (Schur complement)\n",
    "\n",
    "\\begin{align*}\n",
    "  u_1 &= a \\\\\n",
    "  u_2 &= b \\\\\n",
    "  u_3 &= c \\\\\n",
    "  u_4 &= d \\\\\n",
    "  u_5 &= u_2 u_3\\\\\n",
    "  u_6 &= u_5/u_4 \\\\\n",
    "  u_7 &= u_1 - u_6\n",
    "\\end{align*}\n",
    "\n",
    "* input $x = (a,b,c,d)$ (components of 2 by 2 matrix)\n",
    "* Schur complement is major tool for Gaussian elimination\n",
    "* backward stability has been used to get rounding error bounds for Gaussian elimination to\n",
    "  differentiate between the effects of the algorithm and the effects of the data (the matrix)"
   ]
  },
  {
   "cell_type": "markdown",
   "metadata": {},
   "source": [
    "## example: $a - bc/d$ with rounding errors\n",
    "\n",
    "\\begin{align*}\n",
    "  v_1 &= (1+\\delta_1)\\,a \\\\\n",
    "  v_2 &= (1+\\delta_2)\\,b \\\\\n",
    "  v_3 &= (1+\\delta_3)\\,c \\\\\n",
    "  v_4 &= (1+\\delta_4)\\,d \\\\\n",
    "  v_5 &= (1+\\delta_5)\\, v_2 v_3\\\\\n",
    "  v_6 &= (1+\\delta_6)\\, v_5/v_4 \\\\\n",
    "  v_7 &= (1+\\delta_7)\\,(v_1 - v_6)\n",
    "\\end{align*}"
   ]
  },
  {
   "cell_type": "markdown",
   "metadata": {},
   "source": [
    "## example: $a - bc/d$ backward stable model\n",
    "\n",
    "\\begin{align*}\n",
    "  z_1 &= (1+\\eta_1)\\,a \\\\\n",
    "  z_2 &= (1+\\eta_2)\\,b \\\\\n",
    "  z_3 &= (1+\\eta_3)\\,c \\\\\n",
    "  z_4 &= (1+\\eta_4)\\,d \\\\\n",
    "  z_5 &=  z_2 z_3\\\\\n",
    "  z_6 &=  z_5/z_4 \\\\\n",
    "  z_7 &=  z_1 - z_6\n",
    "\\end{align*}\n",
    "\n",
    "* the $\\eta_k$ are a function of the $\\delta_j$\n",
    "* the result is the same as before $z_7 = v_7$"
   ]
  },
  {
   "cell_type": "markdown",
   "metadata": {},
   "source": [
    "## example: $a - bc/d$ -- compute the $\\eta_j$\n",
    "\n",
    "\\begin{align*}\n",
    "  z_7 &= v_7 = (1+\\delta_7)(v_1 - v_6) = z_1 - z_6 \\\\\n",
    "  z_6 &= (1+\\delta_7)v_6 = (1+\\delta_7)(1+\\delta_6)v_5 / v_4 = z_5/z_4 \\\\\n",
    "  z_5 &= (1+\\delta_7)v_5 = (1+\\delta_7)(1+\\delta_5)v_2 v_3 = z_2 z_3 \\\\\n",
    "  z_4 &= (1+\\delta_6)^{-1}v_4 = (1+\\delta_6)^{-1}(1+\\delta_4) d = (1+\\eta_4)d\\\\\n",
    "  z_3 &= (1+\\delta_7) v_3 = (1+\\delta_7)(1+\\delta_3) c = (1+\\eta_3)c\\\\\n",
    "  z_2 &= (1+\\delta_5) v_2 = (1+\\delta_5)(1+\\delta_2) b = (1+\\eta_2)b\\\\\n",
    "  z_1 &= (1+\\delta_7) v_1 = (1+\\delta_7)(1+\\delta_1) a = (1+\\eta_1)a\n",
    "\\end{align*}\n",
    "\n",
    "* thus one gets for the $\\eta_j$\n",
    "  \\begin{align*}\n",
    "    \\eta_1 &= (1+\\delta_7)(1+\\delta_1) - 1 \\\\\n",
    "    \\eta_2 &= (1+\\delta_5)(1+\\delta_2) - 1 \\\\\n",
    "    \\eta_3 &= (1+\\delta_7)(1+\\delta_3) - 1 \\\\\n",
    "    \\eta_4 &= (1+\\delta_6)^{-1}(1+\\delta_4) - 1\n",
    "  \\end{align*}"
   ]
  },
  {
   "cell_type": "markdown",
   "metadata": {},
   "source": [
    "-------------------------------------\n",
    "\n",
    "![](Stability_files/Schur1.png)\n",
    "\n",
    "------------------------------------\n",
    "\n",
    "![](Stability_files/Schur2.png)"
   ]
  },
  {
   "cell_type": "markdown",
   "metadata": {},
   "source": [
    "## another example $f(x) = 1+x$\n",
    "\n",
    "* usual (global) error analysis from section 1.8\n",
    "\n",
    "  \\begin{align*}\n",
    "    v_1 &= (1+\\delta_1) x \\\\\n",
    "    v_2 &= (1+\\delta_2) (1 + v_1)\n",
    "  \\end{align*}\n",
    "  \n",
    "* this gives for the result $v_2 = f(x,\\delta)$ with $\\delta=(\\delta_1,\\delta_2)$\n",
    "  $$v_2 = (1+\\delta_2)(1 +(1+\\delta_1)x) = (1 + \\theta_2)(1+x)$$\n",
    "  and from this one gets (neglecting small terms like $\\delta_1\\delta_2$ for the relative\n",
    "  error $\\theta_2$\n",
    "  \\begin{align*}\n",
    "    \\theta_2 &= \\frac{(1+\\delta_2)(1+(1+\\delta_1)x)}{1+x} - 1 \\\\\n",
    "             &\\approx \\frac{x}{1+x}\\delta_1 + \\delta_2\n",
    "  \\end{align*}\n",
    "  thus the relative error is bounded by $(C +1)\\epsilon$ if $|x|/|1+x| \\leq C$\n",
    "  which we take as domain of $f$"
   ]
  },
  {
   "cell_type": "markdown",
   "metadata": {},
   "source": [
    "## backward stability of $f(x,\\delta)$ from previous slide\n",
    "\n",
    "* $f(x,\\delta)$ is backward stable if there is a $\\zeta_1$ such that\n",
    "  $$f(x,\\delta) = v_2 = z_2$$\n",
    "  for some $z_1,z_2$ and $\\zeta_1$ with\n",
    "  \\begin{align*}\n",
    "    z_1 &= (1+\\zeta_1) x \\\\\n",
    "    z_2 &= 1+ z_1\n",
    "  \\end{align*}\n",
    "* solving backwards gives\n",
    "  $$1+z_1 = z_2 = v_2 = 1+(1+\\delta_2)v_1 + \\delta_2$$\n",
    "* and so\n",
    "  $$z_1 = (1+\\delta_2)v_1 + \\delta_2 = (1+\\delta_2)(1+\\delta_1) x + \\delta_2 = (1+\\zeta_1) x$$\n",
    "  and consequently\n",
    "  $$\\zeta_1 = (1+\\delta_2)(1+\\delta_1) + \\delta_2/x -1$$\n",
    "* thus our \"algorithm\" $f(x,\\delta)$ is backward stable if $|x| > 1/M > 0$\n",
    "* note that this does not mean that the relative error is large (which happens when $x\\approx -1$) but unfortunately, our stable algorithm cannot cure this problem which is due to a large condition number\n",
    "* curiously, for $x \\approx 0$ our algorithm is not backward stable but the error is nonetheless quite small!"
   ]
  },
  {
   "cell_type": "markdown",
   "metadata": {},
   "source": [
    "## condition number of $f(x) = 1 + x$\n",
    "\n",
    "* the condition number of $f$ is\n",
    "\\begin{align*}\\kappa(f) &= \\sup_y \\frac{|f(y)-f(x)|}{|y-x|}\\frac{|x|}{|f(x)|} \\\\\n",
    "     &= \\frac{|x|}{|1+x|}\\end{align*}\n",
    "     \n",
    "* the condition number is large if $x\\approx -1$ where the function is ill-conditioned\n",
    "  but the function is well-conditioned otherwise"
   ]
  }
 ],
 "metadata": {
  "celltoolbar": "Slideshow",
  "kernelspec": {
   "display_name": "Python 3",
   "language": "python",
   "name": "python3"
  },
  "language_info": {
   "codemirror_mode": {
    "name": "ipython",
    "version": 3
   },
   "file_extension": ".py",
   "mimetype": "text/x-python",
   "name": "python",
   "nbconvert_exporter": "python",
   "pygments_lexer": "ipython3",
   "version": "3.6.4"
  }
 },
 "nbformat": 4,
 "nbformat_minor": 2
}
