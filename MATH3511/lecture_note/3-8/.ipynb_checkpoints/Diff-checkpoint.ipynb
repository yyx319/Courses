{
 "cells": [
  {
   "cell_type": "markdown",
   "metadata": {},
   "source": [
    "# Numerical Differentiation"
   ]
  },
  {
   "cell_type": "code",
   "execution_count": 5,
   "metadata": {},
   "outputs": [],
   "source": [
    "import numpy as np\n",
    "import pylab as plt\n",
    "%matplotlib inline"
   ]
  },
  {
   "cell_type": "markdown",
   "metadata": {},
   "source": [
    "## motivation\n",
    "\n",
    "-   sections on numerical differentiation and integration mirror core topics of calculus\n",
    "\n",
    "-   approximations of derivatives used in \n",
    "\n",
    "    * solution of nonlinear equations\n",
    "    * solution of ordinary and partial differential equations\n",
    "    * data analysis\n",
    "\n",
    "-   determination of derivatives from measured data is archetypical example of an \n",
    "    *ill-posed problem*\n",
    "\n",
    "-   problem: determine $f^\\prime(x)$ from finite number of values $f(x_i)$ which may contain errors\n",
    "\n",
    "-   use definition from calculus as a guide:\n",
    "    $$f^{\\prime}(x) \\simeq \\frac{f(x+h)-f(x)}{h}.$$\n",
    "\n",
    "-   approach: find method which is exact for polynomials\n",
    "\n",
    "## truncation error\n",
    "\n",
    "* Taylor expansion\n",
    "  $$\\begin{aligned}\n",
    "   \\frac{f(x+h)-f(x)}h &=\\frac{[f(x)+hf^{\\prime }(x)+h^2f^{\\prime \\prime }(\\xi)/2]-f(x)}{h} \\\\\n",
    "   &=f^{\\prime }(x)+\\frac{f^{\\prime \\prime }(\\xi )}{2}h\\end{aligned}$$ \n",
    "   for some $\\xi \\in [x,x+h]$\n",
    "\n",
    "* for bounded $f^{\\prime\\prime}$ and $h\\rightarrow 0$\n",
    "  $$e_h(x) := \\frac{f(x+h)-f(x)}{h} - f^\\prime(x) = O(h)\\to 0$$ \n",
    "  this is the *truncation error*\n",
    "\n",
    "* question for you: what is the relative truncation error?\n",
    "* also: consider rounding error!\n",
    "\n",
    "## example $f(x) = x\\sin(x)$ for $x=1$\n",
    "\n",
    "* exact derivative $f^\\prime(x) = \\sin(x) + x\\cos(x)$\n",
    "* rel. error\n",
    "  $$e_h = \\left|\\frac{\\frac{f(x+h)-f(x)}{h} - f^\\prime(x)}{f^\\prime(x)}\\right|$$"
   ]
  },
  {
   "cell_type": "code",
   "execution_count": 6,
   "metadata": {},
   "outputs": [],
   "source": [
    "f  = lambda x : x*np.sin(x)\n",
    "df = lambda x : np.sin(x) + x*np.cos(x)\n",
    "D = lambda f,x,h : (f(x+h) - f(x))/h\n",
    "\n",
    "h = 2**(-np.linspace(0,30,128))"
   ]
  },
  {
   "cell_type": "markdown",
   "metadata": {},
   "source": [
    "------------------------------------------------"
   ]
  },
  {
   "cell_type": "code",
   "execution_count": 7,
   "metadata": {},
   "outputs": [
    {
     "data": {
      "image/png": "[encoded data removed]",
      "text/plain": [
       "<matplotlib.figure.Figure at 0x7efdc9b87390>"
      ]
     },
     "metadata": {},
     "output_type": "display_data"
    }
   ],
   "source": [
    "plt.title('forward difference')\n",
    "plt.gca().invert_xaxis();plt.loglog(h,h)\n",
    "plt.xlabel('h');plt.ylabel('error')\n",
    "plt.loglog(h,abs((D(f,1.0,h) - df(1.0))/df(1.0)),'.');"
   ]
  },
  {
   "cell_type": "markdown",
   "metadata": {
    "collapsed": true
   },
   "source": [
    "<!-- \\[The derivative of $x \\sin(x)$ at $x = 1$\\] Consider the function $$f(x) = x \\sin(x)$$ where $f'(x) = \\sin(x)+x \\cos(x)$. Figure \\[fig:first\\] shows a log-log plot of the absolute value of the error $$|e_h(x)| = \\left|f'(x)-\\frac{f(x+h)-f(x)}{h}\\right|$$ for different values of $h$ when $x = 1$. Observe that as $h$ is reduced we see the $O(h)$ convergence rate until $h$ is approximately $10^{-7}$ when round-off becomes a problem. This counter-intuitive growth of the error is actually a consequence of the ill-posedness of differentiation as the number of operations used to determine derivatives does not depend on $h$.\n",
    "\n",
    "<span>![Example of forward difference approximation to the derivative](diff1.pdf \"fig:\")</span>\n",
    "\n",
    "One reason why the above approximation is not good enough is that we want to use approximate derivatives in situations like piecewise cubic approximation where the other errors are $O(h^4)$.\n",
    "\n",
    "Another reason is that we cannot always increase accuracy to the level needed by simply using smaller $h$ values, due to rounding error and catastrophic cancellation.\n",
    "\n",
    "The rounding error in the numerator is bounded by $\\epsilon (|f(x)|+|f(x+h)|)$ where $\\epsilon$ is machine epsilon. Dividing by $h$, even ignoring any further error in this operation, will give an absolute rounding error bounded by $$\\frac{|f(x)|+|f(x+h)|}h\\epsilon \\simeq \\frac{2|f(x)|}h\\epsilon.$$ Adding this to the truncation error gives a total error bounded approximately by $$\\frac{|f^{\\prime \\prime }(x)|}2h+\\frac{2|f(x)|\\epsilon }h.$$\n",
    "\n",
    "The problem is now clear: reducing one part of the error (by reducing or increasing $h$) increases the other term. In fact this approximate error bound has a minimum of $\\sqrt{|f^{\\prime\\prime}(x) f(x)|}\\sqrt{\\epsilon}$ when $h = \\sqrt{4|f(x)/f^{\\prime\\prime}(x)|}\\sqrt{\\epsilon}$. For example with $\\epsilon \\simeq 10^{-16}$ as with <span style=\"font-variant:small-caps;\">Matlab</span>, and $f$ and $f^{\\prime\\prime}$ of order one, the square root gives a best possible error of order $10^{-8}$. In general the rough rule is that half the significant digits are lost.\n",
    "\n",
    "This can be overcome, and with sufficient effort, approximations can be found with errors roughly proportional to $\\epsilon$, which is the best one could hope for. To see the path to such improvements, consider the $$f^{\\prime }(x)\\simeq \\frac{f(x+h)-f(x-h)}{2h}$$ which is the slope of the secant line to the graph of $f$ through two points at equal distances to either side of $x$.\n",
    "\n",
    "Using the second order Taylor polynomial approximations both each of $f(x\\pm h)$ with error terms gives $$\\begin{aligned}\n",
    "f^{\\prime }(x)-\\frac{f(x+h)-f(x-h)}{2h} &=&-\\frac{h^2}{12}[f^{\\prime \\prime\n",
    "\\prime }(\\xi _1)+f^{\\prime \\prime \\prime }(\\xi _2)] \\\\\n",
    "&\\simeq &-\\frac{f^{\\prime \\prime \\prime }(x)}6h^2, \\\\\n",
    "&=&O(h^2)\\end{aligned}$$ To get even more accurate formulas, one approach is to continue with Taylor polynomials at several different points near $x$, computing linear combinations that cancel out all higher order derivatives so as to express $f^{\\prime }(x)$ in terms of those nearby function values. -->"
   ]
  },
  {
   "cell_type": "markdown",
   "metadata": {},
   "source": [
    "# finite difference approximations \n",
    "\n",
    "##  first order approximations of first derivative\n",
    "\n",
    "Consider the two Taylor series expansions $$f(x+h)=f(x)+h\\,f'(x)+\\frac{h^2}{2}f''(x)+\\frac{h^3}{6}f'''(x)+\n",
    "O\\!\\left(h^4\\right),$$ and $$f(x-h)=f(x)-h\\,f'(x)+\\frac{h^2}{2}f''(x)-\\frac{h^3}{6}f'''(x)+\n",
    "O\\!\\left(h^4\\right).$$\n",
    "\n",
    "* forward difference approximation $$f'(x)=\\frac{f(x+h)-f(x)}{h} +O\\!\\left(h\\right)$$\n",
    "\n",
    "* backward difference approximation $$f'(x)=\\frac{f(x)-f(x-h)}{h} +O\\!\\left(h\\right)$$\n",
    "\n",
    "## second order approximations of first derivative\n",
    "\n",
    "* *central difference approximation*\n",
    "\n",
    "$$f'(x)=\\frac{f(x+h)-f(x-h)}{2\\,h} - O\\!\\left(h^2\\right)$$"
   ]
  },
  {
   "cell_type": "code",
   "execution_count": 8,
   "metadata": {},
   "outputs": [],
   "source": [
    "Dc = lambda f,x,h : (f(x+h) - f(x-h))/(2*h)"
   ]
  },
  {
   "cell_type": "markdown",
   "metadata": {},
   "source": [
    "------------------------------------------------"
   ]
  },
  {
   "cell_type": "code",
   "execution_count": 9,
   "metadata": {},
   "outputs": [
    {
     "data": {
      "image/png": "[encoded data removed]",
      "text/plain": [
       "<matplotlib.figure.Figure at 0x7efdc9acbf60>"
      ]
     },
     "metadata": {},
     "output_type": "display_data"
    }
   ],
   "source": [
    "plt.title(\"central difference\")\n",
    "plt.gca().invert_xaxis();plt.loglog(h,h);plt.xlabel('h')\n",
    "plt.ylabel('error');plt.loglog(h,abs((Dc(f,1.0,h) - df(1.0))/df(1.0)),'.');"
   ]
  },
  {
   "cell_type": "markdown",
   "metadata": {},
   "source": [
    "##  second derivatives\n",
    "\n",
    "To find an approximation of the second derivatives further expansion of the Taylor series is required, $$f(x+h)=f(x)+h\\,f'(x)+\\frac{h^2}{2}f''(x)+\\frac{h^3}{6}f'''(x)+\n",
    "\\frac{h^4}{24}f''''(x)+O\\!\\left(h^5\\right),$$ and $$f(x-h)=f(x)-h\\,f'(x)+\\frac{h^2}{2}f''(x)-\\frac{h^3}{6}f'''(x)+\\frac{h^4}{24}f''''(x)+O\\!\\left(h^5\\right)$$\n",
    "\n",
    "Add the equations to get $$f(x+h)+f(x-h)=2\\,f(x)+h^2\\,f''(x)+\\frac{h^4}{12}f''''(x)+\n",
    "O\\!\\left(h^5\\right)$$\n",
    "\n",
    "So $$f''(x)=\\frac{f(x+h)-2\\,f(x)+f(x-h)}{h^2}-\\frac{h^2\\,f''''(x)}{12}+\n",
    "O\\!\\left(h^3\\right)$$"
   ]
  },
  {
   "cell_type": "markdown",
   "metadata": {},
   "source": [
    "# The Method of Undetermined Coefficients\n",
    "\n",
    "##  method of undetermined coefficients\n",
    "\n",
    "* aim: compute approximation $D_h(f,x)\\approx f^\\prime(x)$ using function values $f(x_k)$\n",
    "  at *grid points* $x_k$ by *finite difference approximation*\n",
    "  $$D_h(f,x) = \\sum_{k=0}^n c_k f(x_k)$$\n",
    "  \n",
    "* approach: compute coefficients such that formula is exact for polynomials $p$ of degree up to n\n",
    "  $$D_h(p,x) = p^\\prime(x)$$ \n",
    "  \n",
    "* equidistant grid: consider $x_k = x_0 + kh$ \n",
    "\n",
    "* transformation $z = x_0 + xh$, $g(x) = f(x_0+xh)$ and\n",
    "    $$g^\\prime(x) = h f^\\prime(x_0+xh)$$\n",
    "    \n",
    "* thus determine coefficients $c_j$ for case $x_k = k$ only and use transformation\n",
    "\n",
    "* special case $x=n/2$: central difference \n",
    "\n",
    "## determination of coefficients $c_j$ for case $x_k = k$ and $n=2$\n",
    "\n",
    "* consider monomials $p(x) = 1, x, x^2, \\ldots$\n",
    "* system of equations with Vandermonde matrix\n",
    "  $$\\begin{bmatrix} 1 & 1 & 1 \\\\ 0 & 1 & 2 \\\\ 0 & 1 & 4 \\end{bmatrix}\n",
    "    \\begin{bmatrix} c_0 \\\\ c_1 \\\\ c_2 \\end{bmatrix} =\n",
    "    \\begin{bmatrix} 0 \\\\ 1 \\\\ 2x \\end{bmatrix}$$\n",
    "\n",
    "* Gaussian elimination\n",
    "  $$\\begin{bmatrix} 1 & 1 & 1 \\\\ 0 & 1 & 2 \\\\ 0 & 0 & 2 \\end{bmatrix}\n",
    "    \\begin{bmatrix} c_0 \\\\ c_1 \\\\ c_2 \\end{bmatrix} =\n",
    "    \\begin{bmatrix} 0 \\\\ 1 \\\\ 2x-1 \\end{bmatrix}$$\n",
    "\n",
    "* solution\n",
    "  $$c_2 = x-1/2,\\; c_1 = 2(1-x),\\; c_0 = x-3/2$$\n",
    "  \n",
    "  \n",
    "## computing coefficients for central differences\n",
    "\n",
    "* solve linear system of equations $Vc = b$ where $V$ is\n",
    "  Vandermonde matrix with elements $k^j$\n",
    "\n",
    "* central differences: $x=n/2$\n",
    "* Vandermonde matrix using numpy's vander function\n",
    "* rhs $b$ with components $b_k = k(n/2)^{k-1}$ for $k=0,1,\\ldots,n$"
   ]
  },
  {
   "cell_type": "code",
   "execution_count": 10,
   "metadata": {},
   "outputs": [
    {
     "name": "stdout",
     "output_type": "stream",
     "text": [
      "[ 0.04166667 -1.125       1.125      -0.04166667]\n"
     ]
    }
   ],
   "source": [
    "n = 3\n",
    "V = np.vander(np.arange(n+1),increasing=True).T\n",
    "b = np.arange(n+1)*(n/2)**(np.arange(n+1)-1)\n",
    "ck = np.linalg.solve(V,b)\n",
    "print(ck)"
   ]
  },
  {
   "cell_type": "markdown",
   "metadata": {},
   "source": [
    "  \n",
    "  \n",
    "## example $f^\\prime(1)$ for $f(x) = x\\sin(x)$ using central difference\n",
    "\n",
    "* (transformed) grid points for central difference\n",
    "  $$x_k = 1 + (k-n/2)h$$\n",
    "* transform coefficients $c_k \\rightarrow c_k/h$ "
   ]
  },
  {
   "cell_type": "code",
   "execution_count": 11,
   "metadata": {},
   "outputs": [],
   "source": [
    "def Dn(f, x, h, ck=ck):\n",
    "    n = ck.shape[0] - 1\n",
    "    ydot = 0\n",
    "    for k in range(n+1):\n",
    "        ydot += ck[k]/h*f(x+(k-n/2)*h)\n",
    "    return ydot\n",
    "        "
   ]
  },
  {
   "cell_type": "markdown",
   "metadata": {},
   "source": [
    "------------------------------------------"
   ]
  },
  {
   "cell_type": "code",
   "execution_count": 12,
   "metadata": {},
   "outputs": [
    {
     "data": {
      "image/png": "[encoded data removed]",
      "text/plain": [
       "<matplotlib.figure.Figure at 0x7efdc9a7f668>"
      ]
     },
     "metadata": {},
     "output_type": "display_data"
    }
   ],
   "source": [
    "plt.title(\"central difference n={}\".format(n))\n",
    "plt.gca().invert_xaxis();plt.loglog(h,h)\n",
    "plt.xlabel('h');plt.ylabel('error')\n",
    "plt.loglog(h,abs((Dn(f,1.0,h) - df(1.0))/df(1.0)),'.');"
   ]
  },
  {
   "cell_type": "markdown",
   "metadata": {},
   "source": [
    "# Richardson Extrapolation\n",
    "\n",
    "## extrapolating central difference\n",
    "\n",
    "* central difference $\\phi(h) = (f(x+h) - f(x-h))/(2h)$\n",
    "    * $\\phi(h)$ is even function, Taylor series contains only terms with $h^{2j}$\n",
    "    * if $f$ continuously differentiable, then $\\phi(h)$ can be continuously continued  so\n",
    "      that $\\phi(0) = f^\\prime(x)$\n",
    "      \n",
    "* interpolating polynomial of $\\phi(kh)$ for $k=1,2$ as function of $k^2$ (Lagrange formula!)\n",
    "   $$p(k) = \\frac{(4-k^2)\\phi(h) + (k^2-1)\\phi(2h)}{4-1}$$\n",
    "\n",
    "* *extrapolation*: evaluate this polynomial for $k=0$\n",
    "   $$p(0) = \\frac{4\\phi(h) - \\phi(2h)}{3}$$\n",
    "   \n",
    "## extrapolation and elimination\n",
    "\n",
    "* Taylor expantions of $f(x\\pm h)$ give\n",
    "   $$f^{\\prime}(x) = \\frac{f(x + h) - f(x - h)}{2h} - \\frac{f^{\\prime\\prime\\prime}(x)h^2}{6} + O(h^4)$$\n",
    "\n",
    "* evaluate this for both $h$ and $2h$\n",
    "  \\begin{align*}\n",
    "    f^\\prime(x) &= \\phi(h)  + a_2h^2 + a_4h^4 + O(h^6) \\\\\n",
    "    f^\\prime(x) &= \\phi(2h) + 4a_2h^2 + 16a_4h^4 + O(h^6)\\end{align*}\n",
    "\n",
    "* unknowns: $f^\\prime(x), a_2, a_4, \\ldots$\n",
    "\n",
    "* idea: eliminate $a_2$\n",
    "    $$f^\\prime(x) = \\frac{1}{3} [4\\phi(h) - \\phi(2h) - 12a_4h^4] + O(h^6)$$\n",
    "    \n",
    "## error of extrapolation"
   ]
  },
  {
   "cell_type": "code",
   "execution_count": 13,
   "metadata": {},
   "outputs": [
    {
     "data": {
      "image/png": "[encoded data removed]",
      "text/plain": [
       "<matplotlib.figure.Figure at 0x7efdc9be8710>"
      ]
     },
     "metadata": {},
     "output_type": "display_data"
    }
   ],
   "source": [
    "R  = lambda f,x,h: (4*Dc(f,x,h) - Dc(f,x,2*h))/3\n",
    "plt.gca().invert_xaxis();plt.loglog(h,h);plt.xlabel('h');plt.ylabel('error')\n",
    "plt.loglog(h,abs((Dc(f,1.0,h) - df(1.0))/df(1.0)),'.',label=\"central\");\n",
    "plt.loglog(h,abs((R(f,1.0,h) - df(1.0))/df(1.0)),'.',label=\"extrapolation\");plt.legend();"
   ]
  },
  {
   "cell_type": "markdown",
   "metadata": {},
   "source": [
    "## Richardson's idea\n",
    "\n",
    "* sequentially eliminate $a_2, a_4, a_6 \\ldots$ by including values $\\phi(4h), \\phi(8h), \\ldots$\n",
    "* after eliminating $a_2$ we get\n",
    "    $$f^\\prime(x) = \\frac{1}{3} [4\\phi(h) - \\phi(2h) - 12a_4h^4] + O(h^6)$$\n",
    "\n",
    "* introduce matrix $R$ with  $R(n,0)  = \\phi(2^nh)$ for $n=0,1,2,\\ldots$\n",
    "* furthermore $R(n,1) = (4R(n,0) - R(n+1,0))/3$ so that\n",
    "    $$f^\\prime(x) = R(0,1) - 4a_4h^4 + O(h^6)$$\n",
    "    and\n",
    "    $$f^\\prime(x) = R(1,1) - 4^2*4a_4h^4 + O(h^6)$$\n",
    "\n",
    "* now elimnate $a_4$ to get\n",
    "    $$f^\\prime(x) = (4^2 R(0,1)-R(1,1))/15 + O(h^6)$$\n",
    "\n",
    "* thus set $R(n,2) =(4^2 R(0,1)-R(1,1))/15$\n",
    "\n",
    "\n",
    "## the general scheme\n",
    "\n",
    "* start with\n",
    "    $$R(n,0) = \\phi(2^nh)$$\n",
    "\n",
    "* then set\n",
    "    $$R(n,1) = \\frac{4R(n,0) - R(n+1,0)}{3}$$\n",
    "    \n",
    "* and repeat to get\n",
    "    $$R(n,k) = \\frac{4^kR(n,k-1) - R(n+1,k-1)}{4^k - 1}$$\n",
    "    until desired accuracy achieved\n",
    "    \n",
    "* show that this eliminates $a_2,a_4,a_6,\\ldots$ using Taylor expansion\n",
    "\n",
    "* this can also be applied to other functions $\\phi(h)$\n",
    "\n",
    "## the tableau\n",
    "\n",
    "* all the $R(i,j)$ required for $R(0,k)$:\n",
    "\n",
    "$$\\begin{array}{cccccc}\n",
    "R(0,0) & R(0, 1) & R(0, 2) & \\cdots & \\cdots &R(0, k) \\\\\n",
    "R(1,0) & R(1, 1) & R(1, 2) &  \\cdots& R(1, k-1) \\\\\n",
    "  \\vdots & \\vdots & \\vdots & \\ddots& &\\\\\n",
    "R(k-2,0) & R(k-2,1) & R(k-2, 2) &  &  &\\\\\n",
    "R(k-1,0) & R(k-1,1) &  &  &  &\\\\\n",
    "R(k,0) & & &  & &\n",
    "\\end{array}$$\n",
    "\n",
    "* follows from\n",
    "    $$R(n,k) = \\frac{4^kR(n,k-1) - R(n+1,k-1)}{4^k - 1}$$\n",
    "\n",
    "* use $R(n,k)$ for error estimate\n",
    "\n",
    "  $$e_k = R(0,k) - \\phi(0) \\approx R(0,k) - R(0,k+1)$$ \n",
    "\n",
    "## example"
   ]
  },
  {
   "cell_type": "code",
   "execution_count": 14,
   "metadata": {},
   "outputs": [
    {
     "name": "stdout",
     "output_type": "stream",
     "text": [
      "[[1.37666939 1.38175749 1.38177321 1.38177329 1.38177329]\n",
      " [1.36140508 1.38152171 1.38176814 1.38177306 0.        ]\n",
      " [1.30105517 1.37782526 1.38145793 0.         0.        ]\n",
      " [1.07074492 1.32333509 0.         0.         0.        ]\n",
      " [0.3129744  0.         0.         0.         0.        ]]\n",
      "exact value: 1.3817732906760363\n"
     ]
    }
   ],
   "source": [
    "mr = 5; h = 0.1\n",
    "R = np.zeros((mr,mr))\n",
    "for n in range(mr):\n",
    "    R[n,0] = Dc(f,1.0,2**n*h)\n",
    "for k in range(1,mr):\n",
    "    for n in range(mr-k):\n",
    "        R[n,k] = (4**k*R[n,k-1] - R[n+1,k-1])/(4**k-1)\n",
    "print(R)\n",
    "print(\"exact value: {}\".format(df(1.0)))"
   ]
  },
  {
   "cell_type": "markdown",
   "metadata": {},
   "source": [
    "## errors"
   ]
  },
  {
   "cell_type": "code",
   "execution_count": 15,
   "metadata": {},
   "outputs": [
    {
     "name": "stdout",
     "output_type": "stream",
     "text": [
      "-5.10e-03   -1.58e-05   -8.14e-08   -9.07e-10   -2.51e-11   \n",
      "\n",
      "-2.04e-02   -2.52e-04   -5.15e-06   -2.26e-07   \n",
      "\n",
      "-8.07e-02   -3.95e-03   -3.15e-04   \n",
      "\n",
      "-3.11e-01   -5.84e-02   \n",
      "\n",
      "-1.07e+00   \n",
      "\n"
     ]
    }
   ],
   "source": [
    "for n in range(mr):\n",
    "    for k in range(mr-n):\n",
    "        print(\"{:1.2e}\".format(R[n,k]-df(1.0)),end='   ')\n",
    "    print(\"\\n\")"
   ]
  },
  {
   "cell_type": "markdown",
   "metadata": {},
   "source": [
    "## error approximation for first row in $R$"
   ]
  },
  {
   "cell_type": "code",
   "execution_count": 16,
   "metadata": {},
   "outputs": [
    {
     "name": "stdout",
     "output_type": "stream",
     "text": [
      "error approx   -5.09e-03  -1.57e-05  -8.05e-08  -8.82e-10  \n",
      " error exact   -5.10e-03  -1.58e-05  -8.14e-08  -9.07e-10  "
     ]
    }
   ],
   "source": [
    "# error approximation for first row\n",
    "print(\"error approx\",end='   ')\n",
    "for k in range(mr-1):\n",
    "    print(\"{:1.2e}\".format(R[0,k]-R[0,k+1]),end='  ')\n",
    "print(\"\\n error exact\",end='   ')\n",
    "for k in range(mr-1):\n",
    "    print(\"{:1.2e}\".format(R[0,k]-df(1.0)),end='  ')"
   ]
  }
 ],
 "metadata": {
  "kernelspec": {
   "display_name": "Python 3",
   "language": "python",
   "name": "python3"
  },
  "language_info": {
   "codemirror_mode": {
    "name": "ipython",
    "version": 3
   },
   "file_extension": ".py",
   "mimetype": "text/x-python",
   "name": "python",
   "nbconvert_exporter": "python",
   "pygments_lexer": "ipython3",
   "version": "3.7.0"
  }
 },
 "nbformat": 4,
 "nbformat_minor": 2
}
