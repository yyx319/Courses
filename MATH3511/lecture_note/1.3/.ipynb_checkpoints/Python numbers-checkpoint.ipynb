{
 "cells": [
  {
   "cell_type": "markdown",
   "metadata": {},
   "source": [
    "# 1.3 Real numbers in Python"
   ]
  },
  {
   "cell_type": "markdown",
   "metadata": {},
   "source": [
    "## Decimal module\n",
    "\n",
    "The module decimal implements the arithmetic we usually do by hand. All the standard arithmetic can be used and,\n",
    "if necessary, the results will be rounded to a number of digits which can be changed by setting the context\n",
    "parameter prec. However, the available functions are limited and the operations may take longer than with the\n",
    "built in data types.\n",
    "\n",
    "Note that the numbers have to be input as strings (as otherwise Python would automatically round to floating point\n",
    "numbers)."
   ]
  },
  {
   "cell_type": "code",
   "execution_count": 27,
   "metadata": {
    "collapsed": true
   },
   "outputs": [],
   "source": [
    "import decimal as dec\n",
    "\n",
    "x = dec.Decimal('0.6')\n",
    "y = dec.Decimal('0.5999999999')  # 10 significant digits\n",
    "z = x - y"
   ]
  },
  {
   "cell_type": "markdown",
   "metadata": {},
   "source": [
    "-------------------------------------------------------------"
   ]
  },
  {
   "cell_type": "code",
   "execution_count": 28,
   "metadata": {},
   "outputs": [
    {
     "name": "stdout",
     "output_type": "stream",
     "text": [
      "x = 0.6, y = 0.5999999999, x-y = 1E-10\n",
      "\n",
      "representation of x: Decimal('0.6')\n",
      "\n",
      "type of x: <class 'decimal.Decimal'>\n",
      "\n",
      "timing\n",
      "101 ns ± 0.729 ns per loop (mean ± std. dev. of 7 runs, 10000000 loops each)\n"
     ]
    }
   ],
   "source": [
    "print(\"x = {0}, y = {1}, x-y = {2}\\n\".format(x,y,z))\n",
    "print(\"representation of x: {!r}\\n\".format(x))\n",
    "print(\"type of x: {}\\n\".format(type(x)))\n",
    "\n",
    "print(\"timing\")\n",
    "%timeit(x-y)"
   ]
  },
  {
   "cell_type": "markdown",
   "metadata": {},
   "source": [
    "## Python's default real numbers\n",
    "\n",
    "Python uses 64 bit floating point numbers with 53 binary significant digits per default for real numbers. The \n",
    "arithmetic with these numbers is implemented in hardware and is very fast. However, even simple numbers like 0.6\n",
    "cannot be exactly represented as floating point numbers of this type and thus one gets rounding errors. The effect\n",
    "is even worse when one substracts two numbers which are close and looses a significant amount of digits. This is\n",
    "called *cancellation*.\n",
    "\n",
    "-------------------------------------------------------------------------------\n",
    "\n",
    "The usage of floating point numbers is illustrated below:"
   ]
  },
  {
   "cell_type": "code",
   "execution_count": 29,
   "metadata": {},
   "outputs": [
    {
     "name": "stdout",
     "output_type": "stream",
     "text": [
      "x = 0.6, y = 0.5999999999, x-y = 1.000000082740371e-10\n",
      "\n",
      "representation of x: 0.6\n",
      "\n",
      "type of x: <class 'float'>\n",
      "\n"
     ]
    }
   ],
   "source": [
    "## Default floating point numbers\n",
    "\n",
    "x = 0.6\n",
    "y = 0.5999999999  # 10 significant decimal digits\n",
    "z = x - y\n",
    "\n",
    "print(\"x = {0}, y = {1}, x-y = {2}\\n\".format(x,y,z))\n",
    "print(\"representation of x: {!r}\\n\".format(x))\n",
    "print(\"type of x: {}\\n\".format(type(x)))"
   ]
  },
  {
   "cell_type": "markdown",
   "metadata": {},
   "source": [
    "---------------------------------------------"
   ]
  },
  {
   "cell_type": "code",
   "execution_count": 30,
   "metadata": {},
   "outputs": [
    {
     "name": "stdout",
     "output_type": "stream",
     "text": [
      "printing the result with some more digits:\n",
      "\n",
      "   x = 0.59999999999999997779553950749686919152736663818359375\n",
      "   y = 0.59999999989999996952150240758783183991909027099609375\n",
      "   x-y = 1.000000082740370999090373516082763671875e-10\n",
      "\n",
      "significant decimal digits:   x: 53,     x-y: 39\n",
      "\n",
      "timing\n",
      "40.7 ns ± 0.389 ns per loop (mean ± std. dev. of 7 runs, 10000000 loops each)\n"
     ]
    }
   ],
   "source": [
    "print(\"printing the result with some more digits:\\n\")\n",
    "print(\"   x = {0:3.100g}\\n   y = {1:3.100g}\\n   x-y = {2:3.100g}\\n\".format(x,y,z))\n",
    "\n",
    "xstring = \"{:3.100g}\".format(x)\n",
    "xmystring = \"{:3.100g}\".format(x-y)\n",
    "print(\"significant decimal digits:   x: {0},     x-y: {1}\\n\".format(len(xstring)-2,len(xmystring)-6))\n",
    "\n",
    "print(\"timing\")\n",
    "%timeit(x-y)"
   ]
  },
  {
   "cell_type": "markdown",
   "metadata": {},
   "source": [
    "A simple way to output the exact values of floating point numbers using conversion to the Decimal data\n",
    "type is below. One can even use this module to compute the rounding error of $x$ and $x-y$:"
   ]
  },
  {
   "cell_type": "code",
   "execution_count": 31,
   "metadata": {},
   "outputs": [
    {
     "name": "stdout",
     "output_type": "stream",
     "text": [
      "   x = 0.59999999999999997779553950749686919152736663818359375\n",
      "   y = 0.59999999989999996952150240758783183991909027099609375\n",
      "   x-y = 1.000000082740370999090373516082763671875E-10\n",
      "\n",
      "errors:\n",
      "\n",
      "relative rounding error of x :   -3.7e-17\n",
      "relative rounding error of x-y:   8.3e-8\n",
      "\n"
     ]
    }
   ],
   "source": [
    "## Default floating point numbers -- print out using the decimal module\n",
    "\n",
    "x = 0.6\n",
    "y = 0.5999999999  # 10 significant decimal digits\n",
    "z = x - y\n",
    "\n",
    "xex = dec.Decimal(\"0.6\")             # exact values ..\n",
    "yex = dec.Decimal(\"0.5999999999\")\n",
    "zex = xex - yex\n",
    "\n",
    "print(\"   x = {0}\\n   y = {1}\\n   x-y = {2}\\n\".format(dec.Decimal(x),dec.Decimal(y),dec.Decimal(z)))\n",
    "\n",
    "print(\"errors:\\n\")\n",
    "e = (dec.Decimal(x) - xex)/xex\n",
    "print(\"relative rounding error of x :   {:3.2g}\".format(e))\n",
    "em = (dec.Decimal(z) -zex)/zex\n",
    "print(\"relative rounding error of x-y:   {:3.2g}\\n\".format(em))"
   ]
  },
  {
   "cell_type": "markdown",
   "metadata": {},
   "source": [
    "## Real numbers in numpy\n",
    "\n",
    "The numerical package numpy has three major floating point number systems: float16, float32 and float64.\n",
    "They are useful for the development of resource critical applications using lower accuracy arithmetic whic\n",
    "is supported by some hardware including some graphics boards. In particular using these types is in principle\n",
    "a first way to save energy as the costliest operations are data transfers and using the types below on can\n",
    "thus cut costs by a factor of up to four.\n",
    "\n",
    "--------------------------------------------\n",
    "\n",
    "The significant (binary) digits of the three numpy types are\n",
    "\n",
    "* float16   has  11\n",
    "* float32   has  24\n",
    "* float64   has  53\n",
    "\n",
    "Note that only 10, 23 and 52 of these bits are stored as it is assumed that the first significant bit is\n",
    "always 1. The accuracy and timing is illustrated below. On my laptop the timings were the same, actually,\n",
    "the 64 bit version was the fastest! The reason for this might be that the actual arithmetic is still done\n",
    "in the hardware floating point unit (using 64 or even higher accuracy) and the result is then rounded.\n",
    "\n",
    "As a direct conversion from float16 and float32 to decimal is not supported we first convert these two types\n",
    "to float64 (which can be done without error). Also note that the difference is less than the error for float16\n",
    "and one gets then 100 percent error.\n",
    "\n",
    "**NB As we are computing with lower accuracy, we have changed the problem a bit compared to above!**\n",
    "\n",
    "----------------------------------------------------------"
   ]
  },
  {
   "cell_type": "code",
   "execution_count": 32,
   "metadata": {
    "collapsed": true
   },
   "outputs": [],
   "source": [
    "## numpy floating point numbers -- print out using the decimal module\n",
    "\n",
    "import decimal as dec\n",
    "import numpy as np\n",
    "\n",
    "# three numpy types\n",
    "\n",
    "x16 = np.float16(0.6)\n",
    "y16 = np.float16(0.59999) \n",
    "z16 = x16 - y16\n",
    "\n",
    "x32 = np.float32(0.6)\n",
    "y32 = np.float32(0.59999) \n",
    "z32 = x32 - y32\n",
    "\n",
    "x64 = np.float64(0.6)\n",
    "y64 = np.float64(0.59999) \n",
    "z64 = x64 - y64"
   ]
  },
  {
   "cell_type": "markdown",
   "metadata": {},
   "source": [
    "----------------------------------------------------"
   ]
  },
  {
   "cell_type": "code",
   "execution_count": 33,
   "metadata": {},
   "outputs": [
    {
     "name": "stdout",
     "output_type": "stream",
     "text": [
      "   x16 = 0.60009765625\n",
      "   x32 = 0.60000002384185791015625\n",
      "   x64 = 0.59999999999999997779553950749686919152736663818359375\n",
      "\n"
     ]
    }
   ],
   "source": [
    "# exact values\n",
    "xex = dec.Decimal(\"0.6\")             \n",
    "yex = dec.Decimal(\"0.59999\")\n",
    "zex = xex - yex\n",
    "\n",
    "print(\"   x16 = {0}\\n   x32 = {1}\\n   x64 = {2}\\n\".format(dec.Decimal(float(x16)),dec.Decimal(float(x32)),dec.Decimal(x64)))"
   ]
  },
  {
   "cell_type": "markdown",
   "metadata": {},
   "source": [
    "-----------------------------------------------------"
   ]
  },
  {
   "cell_type": "code",
   "execution_count": 34,
   "metadata": {},
   "outputs": [
    {
     "name": "stdout",
     "output_type": "stream",
     "text": [
      "relative rounding errors:\n",
      "\n",
      "  for x:     float16 :   0.00016,   float32 :   4.0e-8,   float64 :   -3.7e-17\n",
      "  for x-y:   float16 :    -1,       float32 :   0.0014,   float64 :   -4.6e-12\n",
      "\n"
     ]
    }
   ],
   "source": [
    "print(\"relative rounding errors:\\n\")\n",
    "e16 = (dec.Decimal(float(x16)) - xex)/xex\n",
    "e32 = (dec.Decimal(float(x32)) - xex)/xex\n",
    "e64 = (dec.Decimal(x64) - xex)/xex\n",
    "print(\"  for x:     float16 :   {:3.2g},   float32 :   {:3.2g},   float64 :   {:3.2g}\".format(e16,e32,e64))\n",
    "\n",
    "em16 = (dec.Decimal(float(z16)) -zex)/zex\n",
    "em32 = (dec.Decimal(float(z32)) -zex)/zex\n",
    "em64 = (dec.Decimal(float(z64)) -zex)/zex\n",
    "print(\"  for x-y:   float16 :   {:3.2g},       float32 :   {:3.2g},   float64 :   {:3.2g}\\n\".format(em16,em32,em64))"
   ]
  },
  {
   "cell_type": "markdown",
   "metadata": {},
   "source": [
    "------------------------------------------------------"
   ]
  },
  {
   "cell_type": "code",
   "execution_count": 35,
   "metadata": {},
   "outputs": [
    {
     "name": "stdout",
     "output_type": "stream",
     "text": [
      "timing  - not much difference at this level\n",
      "* float16\n",
      "87.7 ns ± 0.776 ns per loop (mean ± std. dev. of 7 runs, 10000000 loops each)\n",
      "* float32\n",
      "75.5 ns ± 0.608 ns per loop (mean ± std. dev. of 7 runs, 10000000 loops each)\n",
      "* float64\n",
      "76.7 ns ± 0.836 ns per loop (mean ± std. dev. of 7 runs, 10000000 loops each)\n"
     ]
    }
   ],
   "source": [
    "print(\"timing  - not much difference at this level\")\n",
    "print(\"* float16\")\n",
    "%timeit(x16-y16)\n",
    "print(\"* float32\")\n",
    "%timeit(x32-y32)\n",
    "print(\"* float64\")\n",
    "%timeit(x64-y64)"
   ]
  },
  {
   "cell_type": "markdown",
   "metadata": {},
   "source": [
    "## npmath multiple precision\n",
    "\n",
    "This module does provide floating point with choosable (binary) accuracy. We will choose 113 binary digits which is the standard for quadruple (128 bit) arithmetic.\n",
    "\n",
    "In order to compute the exact numbers we first convert the npmath number to a string (note that we need to use 113\n",
    "bit decimal precision to get the exact result). Then we convert this string to a Decimal. Note that multiple precision\n",
    "operations are substantially slower than the floating point ones.\n",
    "\n",
    "Looking at the printout it seems that only the first 30 or so decimal digits are accurate and the later ones are wrong.\n",
    "Thus without loosing much accuracy, one could set these later digits to zero. However, we should remember, that the\n",
    "numerical approximation is binary number with 113 digits and the number is accurate to all the binary digits. If one\n",
    "now changes any of the later decimal digits and then rounds again to the nearest binary number on typically gets a\n",
    "larger error.\n",
    "\n",
    "------------------------------------------------"
   ]
  },
  {
   "cell_type": "code",
   "execution_count": 36,
   "metadata": {
    "collapsed": true
   },
   "outputs": [],
   "source": [
    "import mpmath as mpm\n",
    "\n",
    "prec = 113\n",
    "mpm.mp.prec = prec # set precision to quadruple\n",
    "\n",
    "## Default floating point numbers -- print out using the decimal module\n",
    "\n",
    "x = mpm.mpf('0.6')\n",
    "y = mpm.mpf('0.5999999999')  # 10 significant decimal digits\n",
    "z = x - y\n",
    "\n",
    "xex = dec.Decimal(\"0.6\")             # exact values ..\n",
    "yex = dec.Decimal(\"0.5999999999\")\n",
    "zex = xex - yex\n",
    "\n",
    "xdec = dec.Decimal(mpm.nstr(x,prec))  # frist convert to string and then convert to Decimal\n",
    "ydec = dec.Decimal(mpm.nstr(y,prec))  \n",
    "zdec = dec.Decimal(mpm.nstr(z,prec))  "
   ]
  },
  {
   "cell_type": "markdown",
   "metadata": {},
   "source": [
    "-----------------------------------------------------"
   ]
  },
  {
   "cell_type": "code",
   "execution_count": 37,
   "metadata": {},
   "outputs": [
    {
     "name": "stdout",
     "output_type": "stream",
     "text": [
      " x = 0.59999999999999999999999999999999998074070055612764146944022057415072681461898351784611804760061204433441162109375\n",
      " y = 0.59999999990000000000000000000000000634054841180440448717730951631692259962136404283228330314159393310546875\n",
      " x-y = 9.999999999999999999999997440015214432323698226291105783380421499761947501383474445901811122894287109375E-11\n",
      "\n",
      "errors:\n",
      "\n",
      "relative rounding error of x :   -3.2e-35\n",
      "relative rounding error of x-y:   -2.6e-25\n",
      "\n"
     ]
    }
   ],
   "source": [
    "print(\" x = {0}\\n y = {1}\\n x-y = {2}\\n\".format(xdec, ydec, zdec))\n",
    "\n",
    "print(\"errors:\\n\")\n",
    "e = (xdec - xex)/xex\n",
    "print(\"relative rounding error of x :   {:3.2g}\".format(e))\n",
    "em = (zdec -zex)/zex\n",
    "print(\"relative rounding error of x-y:   {:3.2g}\\n\".format(em))"
   ]
  },
  {
   "cell_type": "markdown",
   "metadata": {},
   "source": [
    "----------------------------------------------"
   ]
  },
  {
   "cell_type": "code",
   "execution_count": 38,
   "metadata": {},
   "outputs": [
    {
     "name": "stdout",
     "output_type": "stream",
     "text": [
      "timing\n",
      "1.66 µs ± 9.08 ns per loop (mean ± std. dev. of 7 runs, 1000000 loops each)\n"
     ]
    }
   ],
   "source": [
    "print(\"timing\")\n",
    "%timeit(x-y)"
   ]
  },
  {
   "cell_type": "markdown",
   "metadata": {},
   "source": [
    "## Other options\n",
    "\n",
    "One can use other C data types and can also get access to the 80 or 128 bit accuracy of the hardware processor.\n",
    "Especially for running on GPUs one may also use the data types these processors use natively. For our purposes \n",
    "the above methods will be sufficient."
   ]
  }
 ],
 "metadata": {
  "kernelspec": {
   "display_name": "Python 3",
   "language": "python",
   "name": "python3"
  },
  "language_info": {
   "codemirror_mode": {
    "name": "ipython",
    "version": 3
   },
   "file_extension": ".py",
   "mimetype": "text/x-python",
   "name": "python",
   "nbconvert_exporter": "python",
   "pygments_lexer": "ipython3",
   "version": "3.6.4"
  }
 },
 "nbformat": 4,
 "nbformat_minor": 2
}
