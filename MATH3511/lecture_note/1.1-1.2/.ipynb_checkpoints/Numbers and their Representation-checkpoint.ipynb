{
 "cells": [
  {
   "cell_type": "markdown",
   "metadata": {
    "slideshow": {
     "slide_type": "slide"
    }
   },
   "source": [
    "# Chapter 1: Numbers and Expressions\n",
    "\n",
    "## Topics:\n",
    "\n",
    "* numbers like 2, 3.75, $\\pi$ and $\\sqrt{19}$\n",
    "* evaluation of expressions like\n",
    "    $$\\frac{-b \\pm \\sqrt{b^2-4ac}}{2a}$$\n",
    "    \n",
    "* representation and approximation of numbers and expressions\n",
    "* computational errors, can they be avoided or at least controlled?"
   ]
  },
  {
   "cell_type": "markdown",
   "metadata": {
    "slideshow": {
     "slide_type": "slide"
    }
   },
   "source": [
    "# 1.1 Numbers\n",
    "\n",
    "## Numbers for Computations\n",
    "\n",
    "<!-- the following just defines some latex macros -->\n",
    "$\\renewcommand{\\Z}{\\mathbb{Z}}\n",
    " \\renewcommand{\\Q}{\\mathbb{Q}}\n",
    " \\renewcommand{\\R}{\\mathbb{R}}\n",
    " \\renewcommand{\\C}{\\mathbb{C}}\n",
    " \\renewcommand{\\F}{\\mathbb{F}}$\n",
    "\n",
    "* integers, rational, real and complex numbers \n",
    "\n",
    "    $$\\Z \\subset \\Q \\subset \\R \\subset \\C$$\n",
    "\n",
    "* evaluate expressions\n",
    "* for solution of equations \n",
    "     * linear systems of equations $\\Q, \\R, \\C$\n",
    "     * polynomial equations $\\C$\n",
    "* for continuous functions:  $\\R$ and $\\C$"
   ]
  },
  {
   "cell_type": "markdown",
   "metadata": {
    "slideshow": {
     "slide_type": "slide"
    }
   },
   "source": [
    "## Definition: Ring\n",
    "\n",
    "* A ring $R$ is a set with two binary operations $+$ and $*$ with the following properties\n",
    "\n",
    "* $(R,+)$ is an abelian group which satisfies, for all $a,b,c\\in R$:\n",
    "    * $a+(b+c) = (a+b)+c$,   *associative law*\n",
    "    * $a+b = b+a$,  *commutative law*\n",
    "    * there exists $0\\in R$ such that $a+0 = a$\n",
    "    * there exists $-a$ such that $a+(-a) = 0$\n",
    "* $(R,*)$ is a monoid where for all $a,b,c\\in R$:\n",
    "    * $a*(b*c) = (a*b)*c$\n",
    "    * there exists $1\\in \\R$ such that $1*a = a$\n",
    "* distributive law\n",
    "    $$(a+b)*c = a*c + b*c, \\quad a*(b+c) = a*b + a*c$$"
   ]
  },
  {
   "cell_type": "markdown",
   "metadata": {
    "slideshow": {
     "slide_type": "slide"
    }
   },
   "source": [
    "## Rings in Computation\n",
    "\n",
    "* all the number sets considered are rings including $\\Z, \\Q, \\R$ and $\\C$\n",
    "* the sets of functions considered are rings including\n",
    "    * continuous functions\n",
    "    * polynomials\n",
    "* set of square $n$ by $n$ matrices with elements from a ring is a ring\n",
    "* the arithmetic laws lead to efficient expression evaluation\n",
    "* the distributive law is the basis for fast algorithms like fast matrix multiplication,\n",
    "    the FFT but also for machine learning and dynamic programming\n",
    "    * note that the number of multiplications is 2 in $a*b+a*c$ but 1 in $a*(b+c)$"
   ]
  },
  {
   "cell_type": "markdown",
   "metadata": {
    "slideshow": {
     "slide_type": "slide"
    }
   },
   "source": [
    "## $\\Q$ and $\\R$\n",
    "\n",
    "* $\\Q$ is a countable subset of $\\R$\n",
    "* $\\R$ is used for theory but (subsets of) $\\Q$ used for actual computations\n",
    "* $\\Q$ is dense in $\\R$, i.e. $\\forall x\\in \\R, \\epsilon>0,\\, \\exists u \\in \\Q:$\n",
    "    $$|x - u| \\leq \\epsilon$$"
   ]
  },
  {
   "cell_type": "markdown",
   "metadata": {
    "slideshow": {
     "slide_type": "slide"
    }
   },
   "source": [
    "## Decimal and binary fractions\n",
    "\n",
    "* for computations we consider subsets of $\\Q$ for a fixed positive $B\\in \\Z$\n",
    "\n",
    "    $$\\Q_B = \\{ p\\, / B^k \\mid p, k \\in \\Z,  k\\geq 0\\}$$\n",
    "    \n",
    "* here we only consider $B=10$ or $B=2$: \n",
    "    * decimal fractions $\\Q_{10}$ used for manual computations\n",
    "    * binary fractions $\\Q_2$ implemented in computer hardware\n",
    "* we use the decimal point, e.g.,\n",
    "    $$44.78 = \\frac{4478}{10^2}$$"
   ]
  },
  {
   "cell_type": "markdown",
   "metadata": {
    "slideshow": {
     "slide_type": "slide"
    }
   },
   "source": [
    "## Fractions\n",
    "\n",
    "$$\\Z = \\Q_1 \\subset \\Q_2 \\subset \\Q_{10} \\subset \\Q$$\n",
    "\n",
    "* $\\Q_2$ (and $\\Q_{10}$) is a dense subset of $\\Q$ and thus of $\\R$. In particular, each real\n",
    "    number can be written as an infinite decimal or binary fraction.\n",
    "* The sets of fractions $\\Q_B$ are all rings and contain the integers\n",
    "\n",
    "**Proposition**   $\\Q_2 \\subset \\Q_{10}$\n",
    "\n",
    "*Proof.* \n",
    "\n",
    "*  $x\\in \\Q_2$, thus $$x=\\frac{p}{2^k}$$ for some integers $p$ and $k\\geq 0$. \n",
    "* consequently $$x = \\frac{5^k p}{10^k} \\in \\Q_{10}$$\n",
    "    \n",
    "    "
   ]
  },
  {
   "cell_type": "markdown",
   "metadata": {
    "slideshow": {
     "slide_type": "slide"
    }
   },
   "source": [
    "# 1.2 Representation of Numbers\n",
    "\n",
    "## Simple representation of Integers\n",
    "\n",
    "* small integers\n",
    "    * counts:  $|, ||, |||, ||||,\\ldots$, each number is the cardinality of a set\n",
    "    * digits: $0,1,2,\\ldots, 9$, each number has a symbol\n",
    "    * roman numbers: $I, II, III, IV, \\ldots, XXXII,\\ldots$\n",
    " \n",
    "* numbers need to be represented in order to do arithmetics\n",
    "* all computers (including us) are finite \n",
    "\n",
    "----------------------------------------------------------------------\n"
   ]
  },
  {
   "cell_type": "code",
   "execution_count": 1,
   "metadata": {
    "scrolled": true,
    "slideshow": {
     "slide_type": "slide"
    }
   },
   "outputs": [
    {
     "name": "stdout",
     "output_type": "stream",
     "text": [
      "OUTPUT:\n",
      "sum x + y = ||||||\n",
      "sum in decimal number system x+y = 6\n",
      "conversion of 13:  |||||||||||||\n"
     ]
    }
   ],
   "source": [
    "# implementing your own numbers in Python using strings -- the Flintstone's way\n",
    "\n",
    "x = '||||'\n",
    "y = '||'\n",
    "\n",
    "z = x + y   # concatenation is addition\n",
    "\n",
    "print(\"OUTPUT:\")\n",
    "\n",
    "print('sum x + y = {}'.format(z))\n",
    "\n",
    "n = len(z)  # conversion to ordinary integers\n",
    "print('sum in decimal number system x+y = {}'.format(n))\n",
    "\n",
    "u = 13*'|'  # conversion to our system\n",
    "print('conversion of 13:  {}'.format(u))"
   ]
  },
  {
   "cell_type": "markdown",
   "metadata": {
    "slideshow": {
     "slide_type": "slide"
    }
   },
   "source": [
    "\n",
    "\n",
    "## Representation of Integers\n",
    "\n",
    "* computer and human number representations are similar, and of the form\n",
    "    $$n = \\pm \\sum_{k=0}^t n_k\\, B^k$$\n",
    "    \n",
    "    $B$: *basis* (humans: $B=10$, computers: $B=2$)"
   ]
  },
  {
   "cell_type": "markdown",
   "metadata": {
    "slideshow": {
     "slide_type": "slide"
    }
   },
   "source": [
    "## The Polynomials which represent integers\n",
    "\n",
    "* polynomial of degree $n$ $$p(x) = c_0 + c_1 x + \\cdots + c_n x^n$$\n",
    "* set $P$ of all polynomials is an infinite dimensional linear (vector) space with basis $1, x, x^2,\\ldots$\n",
    "* is also a ring with multiplication defined by $$p*q\\, (x) = p(x) q(x)$$\n",
    "    * a ring which is also a vector space is called an *algebra*\n",
    "    \n",
    "* for representing the positive integer $n=n_0 + n_1 B + \\cdots n_t B^t$ choose the polynomial\n",
    "    $$p(x) = n_0 + n_1 x +\\cdots + n_t x^t$$\n",
    "    and one has \n",
    "    $$n = p(B)$$\n",
    "    \n",
    "* example $n=739$ and $B=10$:  \n",
    "    $$p(x) = 9 + 3x + 7x^2, \\quad \\text{thus} \\quad p(10) = 739$$"
   ]
  },
  {
   "cell_type": "markdown",
   "metadata": {
    "slideshow": {
     "slide_type": "slide"
    }
   },
   "source": [
    "## Representation of Rationals\n",
    "\n",
    "* rationals $x\\in\\Q$ are representated as pairs of integers $(p,q)$ and written as \n",
    "    $$x = \\frac{p}{q}$$\n",
    "    \n",
    "* uniqueness is achieved by choosing the $\\operatorname{gcd}(p,q) = 1$ (use Euclid's algorithm)\n",
    "\n",
    "* as rational numbers are ratios of integers, and each integer is represented by a polynomial\n",
    "    and a basis $B$, each rational number $x\\in\\Q$ is represented by a a rational function\n",
    "    $$r(x) = \\frac{p(x)}{q(x)}$$\n",
    "    and \n",
    "    $$x = r(B)$$\n",
    "    \n",
    "---------------------------------------------------------------------------------------"
   ]
  },
  {
   "cell_type": "code",
   "execution_count": 2,
   "metadata": {
    "slideshow": {
     "slide_type": "slide"
    }
   },
   "outputs": [
    {
     "name": "stdout",
     "output_type": "stream",
     "text": [
      "OUTPUT:\n",
      "-8/5\n",
      "3/7\n",
      "12341/10000\n"
     ]
    }
   ],
   "source": [
    "# Rational numbers in Python\n",
    "\n",
    "from fractions import Fraction\n",
    "\n",
    "x = Fraction(16, -10)\n",
    "\n",
    "print(\"OUTPUT:\")\n",
    "\n",
    "print(x)\n",
    "\n",
    "y = Fraction('3/7')\n",
    "print(y)\n",
    "\n",
    "z = Fraction('1.2341')\n",
    "print(z)"
   ]
  },
  {
   "cell_type": "markdown",
   "metadata": {
    "slideshow": {
     "slide_type": "slide"
    }
   },
   "source": [
    "## Representation of decimal and binary (and other) fractions\n",
    "\n",
    "### standard integer format\n",
    "\n",
    "* any $q\\in Q_B$ is of the form $$q=\\frac{n}{B^k}$$ for some integers $n$ and $k$\n",
    "* example -- approximation of $1/3$: $$\\frac{333}{1000}$$\n",
    "* uses the rational function\n",
    "    $$r(x) = \\frac{n_0 + n_1x + \\cdots n_t x^t}{x^k}$$\n",
    "\n",
    "--------------------------------------------------\n",
    "\n",
    "### scientific format\n",
    "\n",
    "* any $q\\in Q_B$ is of the form $$q=(n_t + n_{t-1} B^{-1}+ \\cdots + n_0 B^{-t})B^e$$\n",
    "\n",
    "* example -- approximation of $1/3$: $$0.333$$\n",
    "* uses the rational function $$f(x0) = (n_t + n_{-1} x^{-1} + \\cdots + n_0 x^{-t})\\, x^e$$\n",
    "    \n",
    "    where $e = t-k$ "
   ]
  },
  {
   "cell_type": "markdown",
   "metadata": {
    "slideshow": {
     "slide_type": "slide"
    }
   },
   "source": [
    "## Representation of Real Numbers\n",
    "\n",
    "* real numbers $x\\in\\R$ are represented as (potentially infinite) power series in the basis $$x = \\pm \\sum_{j=-\\infty}^t n_j B^j$$\n",
    "    \n",
    "    again, the basis $B=10$ is used in human computation and $B=2$ is used by computers\n",
    "* the digits $n_j \\in \\{0,\\ldots,B-1\\}$\n",
    "* real numbers need to be approximated"
   ]
  },
  {
   "cell_type": "markdown",
   "metadata": {
    "collapsed": true,
    "slideshow": {
     "slide_type": "slide"
    }
   },
   "source": [
    "## Representation of Complex Numbers\n",
    "\n",
    "* complex numbers $z\\in \\C$ are represented as pairs of reals\n",
    "    $$z = x + iy$$\n",
    "    \n",
    "* addition like vectors\n",
    "* complex multiplication\n",
    "* conjugate complex\n",
    "* imaginary unit $i$\n",
    "\n",
    "-----------------------------------------------------------------"
   ]
  },
  {
   "cell_type": "code",
   "execution_count": 3,
   "metadata": {
    "slideshow": {
     "slide_type": "slide"
    }
   },
   "outputs": [
    {
     "name": "stdout",
     "output_type": "stream",
     "text": [
      "OUTPUT:\n",
      "Re(z) = 4, Im(z) = 5\n",
      "I**2 = (-1+0j)\n"
     ]
    }
   ],
   "source": [
    "## Complex numbers in Python\n",
    "\n",
    "z = 4.0 + 5.0j\n",
    "\n",
    "print(\"OUTPUT:\")\n",
    "\n",
    "print(\"Re(z) = {zr:g}, Im(z) = {zi:g}\"\n",
    "      .format(zr=z.real,zi=z.imag))\n",
    "\n",
    "I = 1j    # sqrt(-1)\n",
    "\n",
    "print(\"I**2 = {}\".format(I**2))\n"
   ]
  },
  {
   "cell_type": "markdown",
   "metadata": {
    "slideshow": {
     "slide_type": "slide"
    }
   },
   "source": [
    "## Floating Point Numbers -- approximations of real numbers\n",
    "\n",
    "The set of floating point numbers with $t$ digits to base $B$ is\n",
    "$$\\F_B(t) = \\{x=\\pm\\sum_{j=1}^t c_j B^{-j+e} \\mid e\\in \\Z, c_j \\in \\Z_B, c_1\\neq 0\\} \\cup \\{0\\}$$\n",
    "where $\\Z_B = \\{0,\\ldots,B-1\\}$.\n",
    "\n",
    "$$\\F_B(t) \\subset \\Q_B \\subset \\Q \\subset \\R$$\n",
    "\n",
    "* $\\F_B(t)$ is *not*\n",
    "    * a ring\n",
    "    * dense in $\\Q$\n",
    "    \n",
    "* motivation: subset of $\\F_B(t)$ with $e = e_\\text{min}, \\ldots, e_\\text{max}$ is computationally feasible\n",
    "* challenge: floating point arithmetic has to be (re-)defined\n",
    "\n",
    "-----------------------------------------------------------------"
   ]
  },
  {
   "cell_type": "code",
   "execution_count": 4,
   "metadata": {
    "slideshow": {
     "slide_type": "slide"
    }
   },
   "outputs": [
    {
     "name": "stdout",
     "output_type": "stream",
     "text": [
      "OUTPUT:\n",
      "computer approximation \n",
      "x= 0.6999999999999999555910790149937383830547332763671875\n"
     ]
    }
   ],
   "source": [
    "## Floating point numbers in Python\n",
    "\n",
    "x = 0.7\n",
    "print(\"OUTPUT:\")\n",
    "print(\"computer approximation \\nx= {0:2.53g}\".format(x))"
   ]
  },
  {
   "cell_type": "markdown",
   "metadata": {
    "slideshow": {
     "slide_type": "slide"
    }
   },
   "source": [
    "## The IEEE standard 754 floating point numbers\n",
    "\n",
    "* $B=2$ and $t=53$, each number is stored in 64 bit\n",
    "* special numbers are: 0, $\\pm\\infty$, some non-normalised numbers, NaNs\n",
    "* the exponents $e=-1022,\\ldots, 1023$\n",
    "* the standard also specifies details about the arithmetic"
   ]
  },
  {
   "cell_type": "markdown",
   "metadata": {
    "slideshow": {
     "slide_type": "slide"
    }
   },
   "source": [
    "## Representation of floating point numbers\n",
    "\n",
    "* representation of any floating point number $$x = \\pm 0.d_1d_2\\ldots d_t\\, \\cdot B^e$$ \n",
    "    $B$: *base*, $d_j\\in\\{0,\\ldots,B-1\\}$: *digits*, $e$: *exponent*, *number of digits* $t$\n",
    "\n",
    "* written as a sum $$x = s B^e \\sum_{j=1}^t d_j B^{-j}$$ $s= +1, -1$ sign\n",
    "* normalised $d_1 \\neq 0$\n",
    "* $\\mathbb{Fl}(B,t)$ denotes floating point numbers with $t$ digits in base $B$\n",
    "  (here we allow any $e\\in\\mathbb{Z}$, in practice it is a finite range, see notes)\n",
    "\n",
    "## IEEE 754 standard on representation\n",
    "\n",
    "* most commonly used system today: IEEE double precision\n",
    "\n",
    "\n",
    "| number system | base B | number of digits t | exponent range |\n",
    "| :---          | ---:   |   ---:             | :---:          |\n",
    "| IEEE double precision | 2 | 53 | [-1022, 1023] |\n",
    "| IEEE single precision | 2 | 24 | [-126, 127]   |\n",
    "\n",
    "\n",
    "* Note: there are many other formats, both decimal and binary\n",
    "\n",
    "\n",
    "## Effect of finite exponent\n",
    "\n",
    "There is a smallest (srictly positive) floating point number\n",
    "\n",
    "* normalised: $x_{\\min}=B^{e_{\\min}-1}$\n",
    "* denormalised: $B^{e_{\\min}-t}$\n",
    "\n",
    "\n",
    "There is a largest (positive) floating point number\n",
    "* $x_{\\max}=B^{e_{\\max}}-B^{e_{\\max}-t}$\n",
    "\n",
    "Errors occur when computations exceed these limits\n",
    "\n",
    "* *underflow* occurs for $0<x<x_{\\min}/2$ \n",
    "* *overflow* occurs when numbers exceed $x_{\\max}$\n",
    "We ignore these types of errors in the remainder by allowing $e\\in\\mathbb{Z}$\n",
    "\n"
   ]
  },
  {
   "cell_type": "markdown",
   "metadata": {
    "slideshow": {
     "slide_type": "slide"
    }
   },
   "source": [
    "## Questions\n",
    "\n",
    "Why do we need numbers? Where do they occur in your experience? Which numbers are most important? What is a number???"
   ]
  }
 ],
 "metadata": {
  "celltoolbar": "Slideshow",
  "kernelspec": {
   "display_name": "Python 3",
   "language": "python",
   "name": "python3"
  },
  "language_info": {
   "codemirror_mode": {
    "name": "ipython",
    "version": 3
   },
   "file_extension": ".py",
   "mimetype": "text/x-python",
   "name": "python",
   "nbconvert_exporter": "python",
   "pygments_lexer": "ipython3",
   "version": "3.6.4"
  }
 },
 "nbformat": 4,
 "nbformat_minor": 2
}
