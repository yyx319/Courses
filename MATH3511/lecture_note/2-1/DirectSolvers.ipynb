{
 "cells": [
  {
   "cell_type": "markdown",
   "metadata": {
    "slideshow": {
     "slide_type": "-"
    }
   },
   "source": [
    "# 2.1 Direct Solvers"
   ]
  },
  {
   "cell_type": "code",
   "execution_count": 1,
   "metadata": {},
   "outputs": [],
   "source": [
    "import numpy as np\n",
    "import scipy.linalg as la"
   ]
  },
  {
   "cell_type": "markdown",
   "metadata": {
    "slideshow": {
     "slide_type": "-"
    }
   },
   "source": [
    "## Linear systems of equations $Ax = b$\n",
    "\n",
    "$$\\renewcommand{\\R}{\\mathbb{R}}$$\n",
    "\n",
    "$$\\begin{aligned}\n",
    "    A = \\left[\\begin{array}{ccccc}\n",
    "    a_{1,1} & a_{1,2} & \\cdots & a_{1,n}\\\\\n",
    "    a_{2,1} & a_{2,2} & \\cdots & a_{2,n}\\\\\n",
    "    \\vdots  & \\vdots  & \\vdots & \\vdots\\\\\n",
    "    a_{n,1} & a_{n,2} & \\cdots & a_{n,n}\n",
    "    \\end{array}\\right],\n",
    "    \\quad x = \\left[\\begin{array}{cccc}\n",
    "    x_1\\\\\n",
    "    x_2\\\\\n",
    "    \\vdots\\\\\n",
    "    x_n\n",
    "    \\end{array}\\right],\n",
    "    \\quad b = \\left[\\begin{array}{ccccc}\n",
    "    b_1\\\\\n",
    "    b_2\\\\\n",
    "    \\vdots\\\\\n",
    "    b_n\n",
    "    \\end{array}\\right]\\end{aligned}$$\n",
    "\n",
    "* known $A\\in \\R^{n,n}$ and $b\\in\\R^n$\n",
    "* $A$ *invertible*, i.e., inverse $A^{-1}\\in\\R^{n,n}$ exists\n",
    "* unknown $x\\in \\R^n$\n",
    "\n",
    "-------------------------------------------------------------------\n",
    "\n",
    "$$\\begin{aligned}\n",
    "    a_{1,1} x_1 + a_{1,2} x_2 + \\cdots + a_{1,n} x_n & = b_1\\\\\n",
    "    a_{2,1} x_1 + a_{2,2} x_2 + \\cdots + a_{2,n} x_n & = b_2\\\\\n",
    "    \\vdots \\qquad\\qquad \\quad &\\\\\n",
    "    a_{n,1} x_1 + a_{n,2} x_2 + \\cdots + a_{n,n} x_n & = b_n\\end{aligned}$$"
   ]
  },
  {
   "cell_type": "markdown",
   "metadata": {
    "slideshow": {
     "slide_type": "-"
    }
   },
   "source": [
    "## Questions\n",
    "\n",
    "* Find examples of invertible matrices\n",
    "* Find examples of not-invertible (singular) matrices\n",
    "* Discuss invertibility and solution of $Ax=0$\n",
    "* What is geometric interpretation of determinant $\\det(A)$ and application to systems of equations\n",
    "* Discuss systems $Ax=b$ with non-square matrix $A$\n",
    "\n",
    "**Think about the questions. Write down answers. Discuss with colleagues. Assess your answers. Find your own questions.**"
   ]
  },
  {
   "cell_type": "markdown",
   "metadata": {},
   "source": [
    "## Applications\n",
    "\n",
    "-   Linear systems appear in many applications:\n",
    "\n",
    "    -   Regression by least squares method in statistics \n",
    "\n",
    "    -   Linear programming in optimization \n",
    "\n",
    "    -   Numerical solutions of ordinary differential equations \n",
    "\n",
    "    -   Numerical solutions of partial differential equations \n",
    "\n",
    "    -   Solving nonlinear equations by linearization \n",
    "\n",
    "    -   $\\cdots$\n",
    "\n",
    "    \n",
    "\n",
    "-   The size of $A x =b$ is usually huge in applications such that it is not possible to solve \"by hand\"\n",
    "\n",
    "    \n",
    "\n",
    "-   Need to develop algorithms to let computer do the job.\n"
   ]
  },
  {
   "cell_type": "markdown",
   "metadata": {
    "slideshow": {
     "slide_type": "-"
    }
   },
   "source": [
    "## Algorithms\n",
    "\n",
    "-   The algorithms for solving linear systems fall into two categories:\n",
    "\n",
    "    -   Direct methods\n",
    "\n",
    "    -   Iterative methods\n",
    "\n",
    "- Direct methods produce (exact) solution using a finite number of arithmetic operations\n",
    "- Most common method: Gaussian elimination\n",
    "- Basic idea: Reduce system $Ax=b$ to equivalent $Ux=y$ where $U$ is upper triangular\n",
    "- We will see: Gaussian elimination leads to matrix factorisation $A=LU$ where $L$ is lower triangular\n",
    "\n",
    "**Question:** Write down examples of upper and lower triangular matrices.\n",
    "\n",
    "-------------------------------------------------------------------------------\n",
    "\n",
    "- If we know $A=LU$, we can solve two systems to get solution of $Ax=b$\n",
    "    $$Ly = b, \\quad \\text{and} \\quad Ux = y$$\n",
    "    \n",
    "- Gaussian elimination can break down and LU factorisation may not exist, use factorisation $$A = PLU$$ \n",
    "    with permutation matrix $P$\n",
    "\n",
    "- Alternative: QR factorisation $A=QR$, with upper triangular $R$ and orthogonal $Q$\n",
    "    \n",
    "**Questions:**\n",
    "\n",
    "* Show that $Ax=b$ if $Ly=b$ and $Ux=y$ and $A=LU$\n",
    "* How would you solve $Qy=b$?\n",
    "\n",
    "----------------------------------------------------------------------------------"
   ]
  },
  {
   "cell_type": "code",
   "execution_count": 2,
   "metadata": {
    "slideshow": {
     "slide_type": "slide"
    }
   },
   "outputs": [
    {
     "name": "stdout",
     "output_type": "stream",
     "text": [
      "A =  [[2 3]\n",
      " [5 9]] \n",
      "\n",
      "b =  [12 33] \n",
      "\n",
      "x =  [3. 2.] \n",
      "\n"
     ]
    },
    {
     "data": {
      "text/plain": [
       "True"
      ]
     },
     "execution_count": 2,
     "metadata": {},
     "output_type": "execute_result"
    }
   ],
   "source": [
    "# Solving linear systems in Python\n",
    "\n",
    "A = np.array([[2,3],[5,9]])\n",
    "print(\"A = \", A, \"\\n\")\n",
    "\n",
    "b = np.array([12,33])\n",
    "print(\"b = \", b, \"\\n\")\n",
    "\n",
    "x = la.solve(A,b)\n",
    "print(\"x = \", x, \"\\n\")\n",
    "\n",
    "np.allclose(np.dot(A,x), b)"
   ]
  },
  {
   "cell_type": "markdown",
   "metadata": {
    "slideshow": {
     "slide_type": "-"
    }
   },
   "source": [
    "## Question:\n",
    "\n",
    "*Check the documentation of numpy.linalg.solve. Can you find out what method is used? The following code determines the LU factorisation with partial pivoting. Try this out. Can you find examples where no LU factorisation exists but where the code below till gives a solution?*\n",
    "\n",
    "-------------------------------------------------------------------------------"
   ]
  },
  {
   "cell_type": "code",
   "execution_count": 3,
   "metadata": {
    "slideshow": {
     "slide_type": "-"
    }
   },
   "outputs": [
    {
     "data": {
      "text/plain": [
       "True"
      ]
     },
     "execution_count": 3,
     "metadata": {},
     "output_type": "execute_result"
    }
   ],
   "source": [
    "# Solving linear systems of equations in Python\n",
    "# good for solving system with same A and different b\n",
    "\n",
    "import numpy as np\n",
    "import scipy.linalg as la\n",
    "\n",
    "A = np.array([[2,3],[5,9]])\n",
    "b = np.array([12,33])\n",
    "\n",
    "lu, p = la.lu_factor(A)\n",
    "x = la.lu_solve((lu,p), b)\n",
    "\n",
    "np.allclose(np.dot(A,x), b)"
   ]
  },
  {
   "cell_type": "markdown",
   "metadata": {
    "slideshow": {
     "slide_type": "-"
    }
   },
   "source": [
    "## Elimination by Elementary Operations\n",
    "\n",
    "-   We will use combinations of three types of elementary row operations:\n",
    "    \n",
    "    -   adding a multiple of one row to another row\n",
    "\n",
    "    -   swapping two rows\n",
    "\n",
    "    -   multiplying a row by a non-zero number\n",
    "\n",
    "\n",
    "Convert $a=[a_1, a_2, a_3, a_4]^T$ with $a_2\\ne 0$ into $[a_1, a_2, 0, 0]^T$ by\n",
    "\n",
    "-   multiplying the second row by $-\\frac{a_3}{a_2}$ and adding to the third row;\n",
    "\n",
    "-   multiplying the second row by $-\\frac{a_4}{a_2}$ and adding to the fourth row.\n",
    "\n",
    "$$\\left[\\begin{array}{cccc}\n",
    "1 & 0 & 0 & 0\\\\\n",
    "0 & 1 & 0 & 0\\\\\n",
    "0 & {-\\frac{a_3}{a_2}} & 1 & 0\\\\\n",
    "0 & {-\\frac{a_4}{a_2}} & 0 & 1\n",
    "\\end{array}\\right]\n",
    "\\left[\\begin{array}{cccc}\n",
    "a_1\\\\\n",
    "a_2\\\\\n",
    "a_3\\\\\n",
    "a_4\n",
    "\\end{array}\\right]=\\left[\\begin{array}{cccc}\n",
    "a_1\\\\\n",
    "a_2\\\\\n",
    "0\\\\\n",
    "0\n",
    "\\end{array}\\right]$$\n",
    "\n",
    "**Question:** What are the matrices of the other two elementary operations (row swapping and scaling)?"
   ]
  },
  {
   "cell_type": "markdown",
   "metadata": {
    "slideshow": {
     "slide_type": "-"
    }
   },
   "source": [
    "## Elementary Matrices (Multipliers)\n",
    "\n",
    "* vector $a = [a_1, a_2, \\cdots, a_n]^T$ with $a_k\\ne 0$ \n",
    "* action of elementary matrix $$E_k a=\\left[\\begin{array}{cccccc}\n",
    "1&\\cdots&0&0&\\cdots&0\\\\\n",
    "\\vdots&\\ddots&\\vdots&\\vdots&\\ddots&\\vdots\\\\\n",
    "0&\\cdots&1&0&\\cdots&0\\\\\n",
    "0&\\cdots&{-m_{k+1}}&1&\\cdots&0\\\\\n",
    "\\vdots&&\\vdots&\\vdots&\\ddots&\\vdots\\\\\n",
    "0&\\cdots&{-m_n}&0&\\cdots&1\n",
    "\\end{array}\\right]\\left[\n",
    "\\begin{array}{c}a_1\\\\\\vdots\\\\a_k\\\\a_{k+1}\\\\\\vdots\\\\a_n\\end{array}\\right]\n",
    "=\\left[\\begin{array}{c}\n",
    "a_1\\\\\\vdots\\\\a_k\\\\0\\\\\\vdots\\\\0\\end{array}\\right]$$\n",
    "* $E_k$ is designed to nullify all of the elements below $a_k$ in $a$, and $m_j = \\frac{a_j}{a_k}$"
   ]
  },
  {
   "cell_type": "markdown",
   "metadata": {
    "slideshow": {
     "slide_type": "-"
    }
   },
   "source": [
    "## Properties of Elementary Matrices\n",
    "\n",
    "Let $e_k$ denote the column vector with $1$ on spot $k$ and $0$ elsewhere.\n",
    "\n",
    "\n",
    "\n",
    "1.  $E_k$ is lower triangular with unit main diagonal.\n",
    "\n",
    "    \n",
    "\n",
    "2.  $E_k=I-m_k e_k^T$, where $m_k=[0\\ \\cdots\\ 0\\ m_{k+1}\\ \\cdots\\ m_n]^T$.\n",
    "\n",
    "    \n",
    "\n",
    "3.  $E_k^{-1}=I + m_ke_k^T$  ($E_k^{-1}$ will be denoted by $L_k$).\n",
    "\n",
    "    \n",
    "4.  If $k < j$ then $E_k E_j=I-m_ke_k^T-m_je_j^T$.\n",
    "\n",
    "    \n",
    "\n",
    "5.  $E_1E_2\\cdots E_{n-1}=I-\\sum_{k=1}^{n-1}m_ke_k^T\\qquad$ – lower triangular matrix.\n",
    "\n",
    "\n",
    "\n",
    "The first two items are obvious. For the third item, use $e_k^T m_k=0$ and $$\\begin{aligned}\n",
    "\\left(I-m_k e_k^T\\right) \\left(I+ m_k e_k^T\\right)\n",
    "&= I -\\left(m_k e_k^T\\right)\\left( m_k e_k^T\\right)\\\\\n",
    "&= I -m_k \\left(e_k^T m_k\\right) e_k^T = I.\\end{aligned}$$ The last two items can be checked by using $e_k^T m_j=0$ for $k< j$.\n"
   ]
  },
  {
   "cell_type": "markdown",
   "metadata": {
    "slideshow": {
     "slide_type": "-"
    }
   },
   "source": [
    "## Elementary Matrices  -- examples\n",
    "\n",
    "Given $a = [ 2 \\ \\ \\ 4 \\ -\\!2]^T$, we have $$\\begin{aligned}\n",
    "E_1 a &= \\left[\\begin{array}{rrr}\n",
    "1&0&0\\\\\n",
    "-2&1&0\\\\\n",
    "1&0&1\n",
    "\\end{array}\\right] \\left[\\begin{array}{r}2\\\\4\\\\-2\\end{array}\\right]\n",
    "=\\left[\\begin{array}{r}2\\\\0\\\\0\\end{array}\\right], \\\\\n",
    "E_2 a &= \\left[\\begin{array}{rrr}\n",
    "1&0&0\\\\\n",
    "0&1&0\\\\\n",
    "0&\\frac{1}{2}&1\n",
    "\\end{array}\\right]\\left[\\begin{array}{r}2\\\\4\\\\-2\\end{array}\\right]\n",
    "=\\left[\\begin{array}{r}2\\\\4\\\\0\\end{array}\\right], \\\\\n",
    "L_1 &=E_1^{-1}=\\left[\\begin{array}{rrr}\n",
    "1&0&0\\\\\n",
    "2&1&0\\\\\n",
    "-1&0&1\n",
    "\\end{array}\\right],\\\\\n",
    "L_2 &=E_2^{-1}=\\left[\\begin{array}{rrr}\n",
    "1&0&0\\\\\n",
    "0&1&0\\\\\n",
    "0&-\\frac{1}{2}&1\n",
    "\\end{array}\\right] .\\end{aligned}$$"
   ]
  },
  {
   "cell_type": "markdown",
   "metadata": {
    "slideshow": {
     "slide_type": "-"
    }
   },
   "source": [
    "## LU Factorisation using Elementary Matrices\n",
    "\n",
    "### Algorithm for matrix $A =(a_{i,j})$. \n",
    "1. Gaussian elimination first column of $A$ to make elements below $a_{1,1}$ zero\n",
    "2. Gaussian elimination on second column to make elements below $a_{2,2}$ zero\n",
    "3. continue this procedure until last column\n",
    "\n",
    "This leads to $E_{n-1}\\cdots E_2E_1 A=U$ and\n",
    "\n",
    "$$\\begin{aligned}\n",
    "A & = & E_1^{-1}E_2^{-1}\\cdots E_{n-1}^{-1}U\\\\\n",
    "  & = &L_1L_2\\cdots L_{n-1}U\\\\\n",
    "  & = &LU.\\end{aligned}$$ \n",
    "\n",
    "--------------------------------------\n",
    "\n",
    "$L$ can be obtained easily once $E_1, \\cdots, E_{n-1}$ are available. Indeed $$\\begin{aligned}\n",
    "& E_k = \\left[\\begin{array}{cccccc}\n",
    "1&\\cdots&0&0&\\cdots&0\\\\\n",
    "\\vdots&\\ddots&\\vdots&\\vdots&\\ddots&\\vdots\\\\\n",
    "0&\\cdots&1&0&\\cdots&0\\\\\n",
    "0&\\cdots&-l_{k+1, k}&1&\\cdots&0\\\\\n",
    "\\vdots&&\\vdots&\\vdots&\\ddots&\\vdots\\\\\n",
    "0&\\cdots&-l_{n,k}&0&\\cdots&1\n",
    "\\end{array}\\right]\\\\\n",
    "& \\Longrightarrow L_k = E_k^{-1} =\\left[\\begin{array}{cccccc}\n",
    "1&\\cdots&0&0&\\cdots&0\\\\\n",
    "\\vdots&\\ddots&\\vdots&\\vdots&\\ddots&\\vdots\\\\\n",
    "0&\\cdots&1&0&\\cdots&0\\\\\n",
    "0&\\cdots&l_{k+1,k}&1&\\cdots&0\\\\\n",
    "\\vdots&&\\vdots&\\vdots&\\ddots&\\vdots\\\\\n",
    "0&\\cdots&l_{n,k}&0&\\cdots&1\n",
    "\\end{array}\\right]\\end{aligned}$$\n",
    "\n",
    "---------------------------------------------------------"
   ]
  },
  {
   "cell_type": "markdown",
   "metadata": {
    "slideshow": {
     "slide_type": "-"
    }
   },
   "source": [
    "$$\\begin{aligned}\n",
    "\\Longrightarrow L = L_1 L_2 \\cdots L_{n-1} = \\left[\\begin{array}{cccccc}\n",
    "1&   &  &   &   \\\\\n",
    "l_{2,1} & 1 &    & &\\\\\n",
    "\\vdots & l_{3,2} & \\ddots &\\\\\n",
    "\\vdots       & \\vdots      &    \\ddots    &   1 &  \\\\\n",
    "l_{n,1} & l_{n,2} & \\cdots & l_{n,n-1} & 1\n",
    "\\end{array}\\right]\\end{aligned}$$\n",
    "\n",
    "Hence $L$ is a lower triangular matrix with unit main diagonal."
   ]
  },
  {
   "cell_type": "markdown",
   "metadata": {
    "slideshow": {
     "slide_type": "-"
    }
   },
   "source": [
    "## LU factorisation -- example\n",
    "\n",
    "Consider the matrix $$A = \\left[\\begin{array}{rrr}2&4&-2\\\\4&9&-3\\\\-2&-3&7\\end{array}\\right].$$\n",
    "\n",
    "We have $$\\begin{aligned}\n",
    "E_1 A &=\\left[\\begin{array}{rrr}\n",
    "1&0&0\\\\\n",
    "{-2} & 1 & 0\\\\\n",
    "{1} &  0 & 1\n",
    "\\end{array} \\right] \\left[\\begin{array}{rrr}2&4&-2\\\\4&9&-3\\\\-2&-3&7\\end{array}\n",
    "\\right]=\\left[\\begin{array}{rrr}2&4&-2\\\\0&1&1\\\\0&1&5\\end{array}\n",
    "\\right].\\end{aligned}$$\n",
    "\n",
    "$$\\begin{aligned}\n",
    "E_2 E_1 A&=\\left[\\begin{array}{rrr}\n",
    "1 & 0 & 0\\\\\n",
    "0 & 1 & 0\\\\\n",
    "0 &{-1} & 1\n",
    "\\end{array} \\right]\\left[\\begin{array}{rrr}2&4&-2\\\\0&1&1\\\\0&1&5\\end{array}\n",
    "\\right]=\\left[\\begin{array}{rrr}2&4&-2\\\\0&1&1\\\\0&0&4\\end{array}\n",
    "\\right] = U.\\end{aligned}$$\n",
    "\n",
    "-------------------------------------------------------\n",
    "\n",
    "Therefore, we obtain the LU Factorisation $A = L U$, where $$L=L_1 L_2 = E_1^{-1} E_2^{-1} =\n",
    "\\left[\\begin{array}{rrr}1&0&0\\\\2&1&0\\\\-1&0&1\\end{array}\\right]\n",
    "\\left[\\begin{array}{rrr}1&0&0\\\\0&1&0\\\\0&1&1\\end{array}\\right]\n",
    "=\\left[\\begin{array}{rrr}\n",
    "1 & 0 & 0\\\\\n",
    "{2} & 1 & 0\\\\\n",
    "{-1} & {1} & 1\\end{array}\\right].$$"
   ]
  },
  {
   "cell_type": "markdown",
   "metadata": {
    "slideshow": {
     "slide_type": "-"
    }
   },
   "source": [
    "## Algorithm (LU factorisation -- pseudo code version)\n",
    "\n",
    "    L = I\n",
    "    for k=1:n-1\n",
    "      for i=k+1:n\n",
    "        L(i,k) = A(i,k)/A(k,k)\n",
    "        A(i,k) = 0.0\n",
    "        for j=k+1:n\n",
    "           A(i,j)=A(i,j)-L(i,k)*A(k,j)\n",
    "\n",
    "    U = A\n",
    "    \n",
    "----------------------------------------------------------------------"
   ]
  },
  {
   "cell_type": "code",
   "execution_count": 3,
   "metadata": {
    "slideshow": {
     "slide_type": "slide"
    }
   },
   "outputs": [],
   "source": [
    "## Algorithm (LU factorisation -- Python version)\n",
    "## deals with exact breakdown and non-square A\n",
    "\n",
    "def LU(A):\n",
    "    (n,m) = A.shape\n",
    "    s = min(n,m)\n",
    "    L = np.eye(n)\n",
    "    U = A.copy()\n",
    "    \n",
    "    for k in range(s-1):\n",
    "        if (U[k,k]!=0):\n",
    "            L[k+1:,k] = U[k+1:,k]/U[k,k]  # multipliers\n",
    "        elif (np.sum(abs(U[k+1:,k])) != 0): # zero pivot\n",
    "            raise RuntimeError('LU breakdown')\n",
    "        U[k+1:,k+1:] -= np.outer(L[k+1:,k],U[k,k+1:])\n",
    "        U[k+1:,k] = 0\n",
    "    \n",
    "    return L, U"
   ]
  },
  {
   "cell_type": "markdown",
   "metadata": {},
   "source": [
    "--------------------------------------------------------------------"
   ]
  },
  {
   "cell_type": "code",
   "execution_count": 4,
   "metadata": {
    "slideshow": {
     "slide_type": "slide"
    }
   },
   "outputs": [
    {
     "name": "stdout",
     "output_type": "stream",
     "text": [
      "[[3. 4. 6.]\n",
      " [3. 5. 2.]\n",
      " [3. 1. 4.]]\n",
      "[[ 1.  0.  0.]\n",
      " [ 1.  1.  0.]\n",
      " [ 1. -3.  1.]]\n",
      "[[  3.   4.   6.]\n",
      " [  0.   1.  -4.]\n",
      " [  0.   0. -14.]]\n"
     ]
    }
   ],
   "source": [
    "A = np.array(((3.0, 4.0, 6), (3.0, 5.0, 2), (3,1,4)))\n",
    "#A = np.array(((0.0, 1.0), (1.0, 0.0)))  # implement partial pivoting ...\n",
    "#A = np.array(((0.0, 0.0), (0.0, 0.0)))  # no elimination required for Aik = 0\n",
    "#A = np.ones((3,2))\n",
    "\n",
    "print(A)\n",
    "L, U = LU(A.copy())\n",
    "print(L)\n",
    "print(U)"
   ]
  },
  {
   "cell_type": "markdown",
   "metadata": {
    "slideshow": {
     "slide_type": "-"
    }
   },
   "source": [
    "## Existence and Uniqueness\n",
    "\n",
    "* $\\left[\\begin{array}{ccc} 0 & 1\\\\ 1 & 0 \\end{array}\\right]$ does not have an LU factorisation\n",
    "\n",
    "* Let $A^r$ be $r \\times r$ submatrix with first $r$ rows and columns of $A$. \n",
    "* The $r$-th **principle minor** of $A$ is the determinant $\\det(A^r)$.\n",
    "\n",
    "* **existence of $LU$ factorisation**: if first $n-1$ principle subminors of $A$ do not vanish then the LU\n",
    "    factorisation $A=LU$ exists and is unique\n",
    "\n",
    "* Every symmetric positive definite matrix has LU factorisation.\n",
    "\n",
    "* Proof: By induction or by constructing the elimination process and observing that the process may be continued as long as the pivots are non-zero. The pivots will be non-zero since the product of the first $j$ pivots is equal to $\\det(A^j) \\ne 0$."
   ]
  },
  {
   "cell_type": "markdown",
   "metadata": {
    "slideshow": {
     "slide_type": "-"
    }
   },
   "source": [
    "## QR decomposition\n",
    "\n",
    "- The QR decomposition also uses an elimination process and (in this case orthogonal) elmentary matrices. The most commonly used matrices are reflections or Householder matrices of the form $H = I - 2 u u^T$ where $u$ have length one. \n",
    "\n",
    "- Rotation (Givens or Jacobi) matrices are also used and even the Gram-Schmidt process can be implemented numerically."
   ]
  },
  {
   "cell_type": "markdown",
   "metadata": {
    "slideshow": {
     "slide_type": "-"
    }
   },
   "source": [
    "## Solution using the LU factorisation\n",
    "\n",
    "* Let $A=LU$ with \n",
    "$$L = \\left[\\begin{array}{cccccc}\n",
    "l_{1,1} &   &  &     \\\\\n",
    "l_{2,1} & l_{2,2} &     &\\\\\n",
    "\\vdots       & \\vdots      &    \\ddots      &\\\\\n",
    "l_{n,1} & l_{n,2} & \\cdots  & l_{n,n}\n",
    "\\end{array}\\right], \\quad\n",
    "U = \\left[ \\begin{array}{cccccc}\n",
    "u_{1,1} & u_{1,2} & \\cdots & u_{1,n} \\\\\n",
    "        & u_{2,2} & \\cdots & u_{2,n} \\\\\n",
    "        &         & \\ddots &  \\vdots \\\\\n",
    "        &         &        & u_{n,n}\n",
    "\\end{array}\\right].$$ \n",
    "\n",
    "* Solving $Ax=b$ in 2 steps:\n",
    "\n",
    "    1.  Solve the lower triangular system $Ly =b$ for $y$ by forward substitution.\n",
    "\n",
    "    2.  Solve the upper triangular system $U x = y$ for $x$ by back substitution."
   ]
  },
  {
   "cell_type": "markdown",
   "metadata": {
    "slideshow": {
     "slide_type": "-"
    }
   },
   "source": [
    "## Forward Substitution\n",
    "\n",
    "The lower triangular system $L y =b$ takes the form $$\\begin{aligned}\n",
    "\\begin{array}{ccccccc}\n",
    "l_{1,1}y_1 & &           &         &          & =&  b_1    \\\\\n",
    "l_{2,1}y_1 &+&l_{2,2}y_2    &         &          & =&  b_2    \\\\\n",
    "\\vdots     & &\\vdots     & \\ddots  &          & =&  \\vdots \\\\\n",
    "l_{n,1}y_1 &+&l_{n,2}y_2 &+ \\ldots +&l_{n,n}y_n&    =& b_n\n",
    "\\end{array}\\end{aligned}$$ By the first equation we can obtain $$y_1 = \\frac{b_1}{l_{1,1}}.$$ Inductively, the solution is given by $$y_i = {{b_i - \\sum_{k=1}^{i-1} l_{i,k} y_k } \\over l_{i,i}}, \\quad\n",
    "i = 1, 2, \\ldots , n.$$"
   ]
  },
  {
   "cell_type": "markdown",
   "metadata": {
    "slideshow": {
     "slide_type": "-"
    }
   },
   "source": [
    "## Backward Substitution\n",
    "\n",
    "The upper triangular system $Ux = y$ takes the form $$\\begin{array}{ccccccc}\n",
    "u_{1,1}x_1 &+&u_{1,2}x_2  &+ \\ldots +&u_{1,n}x_n  &=  &y_1 \\\\\n",
    "           & &u_{2,2}x_2  &+ \\ldots +&u_{2,n}x_n  &=  &y_2 \\\\\n",
    "           & &            & \\ddots   & \\vdots   &\\vdots &\\vdots \\\\\n",
    "           & &            &          &  u_{n,n}x_n&=   &y_n\n",
    "\\end{array}$$ By the last equation we obtain $$x_n = { y_n \\over u_{n,n}}.$$ Inductively, the solution $x$ is given by $$x_i = {{y_i - \\sum_{k=i+1}^n u_{i,k} x_k } \\over u_{i,i}}, \\quad\n",
    " i = n, n-1,..., 1.$$"
   ]
  },
  {
   "cell_type": "markdown",
   "metadata": {
    "slideshow": {
     "slide_type": "-"
    }
   },
   "source": [
    "## Solving $Ly = b$ while computing $LU=A$\n",
    "\n",
    "-   forward substitution can be done simultaneously as LU factorisation:\n",
    "    + factorise the augmented matrix $[A\\ \\ b]$\n",
    "    $$\\begin{aligned} E_{n-1}\\dots E_1 [A \\ \\ b] &= \n",
    "    [E_{n-1} \\dots E_1 A \\ \\ E_{n-1}\\dots E_1 b] \\\\\n",
    "    &= [U \\ \\ L^{-1} b] \\\\ &= [U \\ \\ y].\\end{aligned}$$"
   ]
  },
  {
   "cell_type": "markdown",
   "metadata": {
    "slideshow": {
     "slide_type": "-"
    }
   },
   "source": [
    "## Example \n",
    "\n",
    "Consider the linear system $A x =b$ where $$A = \\left[\\begin{array}{rrrr}\n",
    "1  &  3  & 1 \\\\\n",
    "1  & -2  & -1\\\\\n",
    "2  & 1  & 2\n",
    "\\end{array}\\right], \\quad\n",
    "b = \\left[ \\begin{array}{rrrr}\n",
    "10\\\\ -6 \\\\ 10\\\\\n",
    "\\end{array}\\right].$$ We work on the augmented matrix $[A \\ \\ b]$. Then $$\\begin{aligned}\n",
    "E_1 [A \\ \\ b]\\! &= \\!\\!\\left[\\begin{array}{rrrr}\n",
    "1 & 0 & 0\\\\\n",
    "-1 & 1 & 0 \\\\\n",
    "-2 & 0 & 1\n",
    "\\end{array}\\right] \\left[\\begin{array}{rrrr}\n",
    "1  &  3  & 1 & 10\\\\\n",
    "1  & -2  & -1 & -6\\\\\n",
    "2  & 1  & 2  &  10\n",
    "\\end{array}\\right]\n",
    "\\!\\!=\\!\\! \\left[\\begin{array}{rrrr}\n",
    "1  &  3  & 1 & 10\\\\\n",
    "0  & -5  & -2 & -16\\\\\n",
    "0  & -5  &  0 & -10\n",
    "\\end{array}\\right],\\end{aligned}$$\n",
    "\n",
    "--------------------------------------------------\n",
    "\n",
    "$$\\begin{aligned}\n",
    "E_2 E_1 [A \\ \\ b] & = \\left[\\begin{array}{rrrr}\n",
    "1 & 0 & 0\\\\\n",
    "0 & 1 & 0 \\\\\n",
    "0 & -1 & 1\n",
    "\\end{array}\\right] \\left[\\begin{array}{rrrr}\n",
    "1  &  3  & 1 & 10\\\\\n",
    "0  & -5  & -2 & -16\\\\\n",
    "0  & -5  & 0  &  -10\n",
    "\\end{array}\\right]\\\\\n",
    "&= \\left[\\begin{array}{rrrr}\n",
    "1  &  3  & 1 & 10\\\\\n",
    "0  & -5  & -2 & -16\\\\\n",
    "0  & 0  &  2 & 6\n",
    "\\end{array}\\right].\\end{aligned}$$\n",
    "\n",
    "By back substitution we obtain the solution \n",
    "\n",
    "$$\\begin{bmatrix} x_1\\\\x_2\\\\x_3 \\end{bmatrix} = \\begin{bmatrix} 1\\\\2\\\\3 \\end{bmatrix}.$$\n",
    "\n",
    "\n",
    "## Algorithm (Solve linear system by LU factorisation)\n",
    "\n",
    "\n",
    "    M = [A  b]\n",
    "    for k=1:n-1\n",
    "      for i=k+1:n\n",
    "         q = M(i,k)/M(k,k)\n",
    "         for j = k:n+1\n",
    "            M(i,j) = M(i, j) - q*M(k,j)\n",
    "         end\n",
    "      end\n",
    "    end\n",
    "    x(n) = M(n,n+1)/M(n,n)\n",
    "    for i = n-1:-1:1\n",
    "       z = 0\n",
    "       for j = i+1:n\n",
    "          z = z + M(i,j)*x(j)\n",
    "       end\n",
    "       x(i) = (M(i,n+1)-z)/M(i,i)\n",
    "    end\n",
    "\n",
    "\n",
    "\n",
    "## Flops - Gaussian Elimination\n",
    "\n",
    "The most expensive part of the algorithm on LU factorisation involves the row operations which can be written as three nested for loops\n",
    "\n",
    "    L = I\n",
    "    for k=1:n-1\n",
    "      for i=k+1:n\n",
    "        L(i,k) = A(i,k)/A(k,k)\n",
    "        A(i,k) = 0.0\n",
    "        for j=k+1:n\n",
    "           A(i,j)=A(i,j)-L(i,k)*A(k,j)\n",
    "\n",
    "    U = A"
   ]
  }
 ],
 "metadata": {
  "celltoolbar": "Slideshow",
  "kernelspec": {
   "display_name": "Python 3",
   "language": "python",
   "name": "python3"
  },
  "language_info": {
   "codemirror_mode": {
    "name": "ipython",
    "version": 3
   },
   "file_extension": ".py",
   "mimetype": "text/x-python",
   "name": "python",
   "nbconvert_exporter": "python",
   "pygments_lexer": "ipython3",
   "version": "3.6.4"
  }
 },
 "nbformat": 4,
 "nbformat_minor": 2
}
