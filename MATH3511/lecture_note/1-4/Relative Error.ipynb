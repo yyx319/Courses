{
 "cells": [
  {
   "cell_type": "markdown",
   "metadata": {},
   "source": [
    "\n",
    "## 1.4 relative error\n",
    "$$\\renewcommand{\\R}{\\mathbb{R}}$$\n",
    "\n",
    "In computations we often cannot determine the exact value of some real value $x\\in \\R$. Instead, some value $\\tilde{x}\\in\\R$ is computed which \n",
    "hopefully is close to $x$ in some sense. This closeness or accuracy of $\\tilde{x}$ we describe with statements like *$\\tilde{x}$ is accurate to\n",
    "three (decimal) digits*. This concept of accuracy is modelled by the\n",
    "concept of *relative error*.\n",
    "\n",
    "**Definition:** An approximation $\\tilde{x}$ of a real number $x$ has a relative error $\\delta$ if\n",
    "$$\\tilde{x} = (1+\\delta)x.$$\n",
    "\n",
    "The value of $\\delta$ is thus\n",
    "$$\\delta = \\frac{\\tilde{x}-x}{x}$$\n",
    "in the case where $x\\neq 0$. Note that $\\delta$ is well defined for any\n",
    "number $\\tilde{x}$.\n",
    "\n",
    "----------------------------------------------------\n",
    "\n",
    "For example, consider the approximation of 3.14 for $\\pi$.\n",
    "\n"
   ]
  },
  {
   "cell_type": "code",
   "execution_count": 1,
   "metadata": {},
   "outputs": [
    {
     "name": "stdout",
     "output_type": "stream",
     "text": [
      "relative error of 3.14: 0.0005069573828972128\n"
     ]
    }
   ],
   "source": [
    "from math import pi\n",
    "delta = (pi - 3.14)/pi\n",
    "print(\"relative error of 3.14: {}\".format(delta))"
   ]
  },
  {
   "cell_type": "markdown",
   "metadata": {},
   "source": [
    "In practice, we will not know the (exact) value $x$. Thus the value of\n",
    "$x$ is uncertain. In error analysis we aim to determine bounds for relative\n",
    "error $\\delta$ of $\\tilde{x}$ based on the properties of the computations\n",
    "performed.\n",
    "\n",
    "-------------------------------------\n",
    "\n",
    "For example, we know that the floating point arithmetic used in Python has\n",
    "a 53 bit mantissa (t=53) and a base $B=2$. From this one can see that the relative error occurring in optimal rounding satisfies\n",
    "$$|\\delta| \\leq \\epsilon = \\frac{1}{2B^{t-1}}$$\n",
    "which in our case is"
   ]
  },
  {
   "cell_type": "code",
   "execution_count": 2,
   "metadata": {},
   "outputs": [
    {
     "name": "stdout",
     "output_type": "stream",
     "text": [
      "bound of relative error 1.1102230246251565e-16\n"
     ]
    }
   ],
   "source": [
    "B = 2.0\n",
    "t = 53\n",
    "epsilon = 0.5/B**(t-1)\n",
    "print(\"bound of relative error {}\".format(epsilon))"
   ]
  },
  {
   "cell_type": "markdown",
   "metadata": {},
   "source": [
    "-------------------------------\n",
    "\n",
    "We now check how well a number we input is rounded in Python. We consider $x=3.45$ and use decimal arithmetic. With this we get the exact value of the difference $\\tilde{x}-x$."
   ]
  },
  {
   "cell_type": "code",
   "execution_count": 3,
   "metadata": {},
   "outputs": [
    {
     "name": "stdout",
     "output_type": "stream",
     "text": [
      "relative error delta = 5.148860404058696999066117881E-17\n"
     ]
    }
   ],
   "source": [
    "from decimal import Decimal\n",
    "x = Decimal(\"3.45\")\n",
    "xtilde = 3.45\n",
    "delta = (Decimal(xtilde) - x)/x\n",
    "print(\"relative error delta = {}\".format(delta))"
   ]
  },
  {
   "cell_type": "markdown",
   "metadata": {},
   "source": [
    "As this is less than the bound, we may also conclude that the rounding is optimal in this case.\n",
    "\n",
    "-------------------------------\n",
    "\n",
    "Given a relative error, one can now determine the number of (significant) digits of $\\tilde{x}$ are accurate by using the 10 based logarithm. For our example of $\\pi$ we get"
   ]
  },
  {
   "cell_type": "code",
   "execution_count": 4,
   "metadata": {},
   "outputs": [
    {
     "name": "stdout",
     "output_type": "stream",
     "text": [
      "accurate digits of 3.14: 3\n"
     ]
    }
   ],
   "source": [
    "from math import pi, log\n",
    "delta = (pi - 3.14)/pi\n",
    "digits = round(-log(abs(delta))/log(10))\n",
    "print(\"accurate digits of 3.14: {}\".format(digits))"
   ]
  },
  {
   "cell_type": "markdown",
   "metadata": {},
   "source": [
    "-------------------------------------\n",
    "\n",
    "For the rounding error bound we get the number of accurate digits we expect in that case to be"
   ]
  },
  {
   "cell_type": "code",
   "execution_count": 5,
   "metadata": {},
   "outputs": [
    {
     "name": "stdout",
     "output_type": "stream",
     "text": [
      "accurate digits after rounding: 16\n"
     ]
    }
   ],
   "source": [
    "B = 2.0\n",
    "t = 53\n",
    "epsilon = 0.5/B**(t-1)\n",
    "digits = round(-log(abs(epsilon))/log(10))\n",
    "print(\"accurate digits after rounding: {}\".format(digits))"
   ]
  },
  {
   "cell_type": "code",
   "execution_count": null,
   "metadata": {
    "collapsed": true
   },
   "outputs": [],
   "source": []
  }
 ],
 "metadata": {
  "kernelspec": {
   "display_name": "Python 3",
   "language": "python",
   "name": "python3"
  },
  "language_info": {
   "codemirror_mode": {
    "name": "ipython",
    "version": 3
   },
   "file_extension": ".py",
   "mimetype": "text/x-python",
   "name": "python",
   "nbconvert_exporter": "python",
   "pygments_lexer": "ipython3",
   "version": "3.6.4"
  }
 },
 "nbformat": 4,
 "nbformat_minor": 2
}
