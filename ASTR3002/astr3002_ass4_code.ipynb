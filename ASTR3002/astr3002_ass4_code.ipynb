{
 "cells": [
  {
   "cell_type": "code",
   "execution_count": 10,
   "metadata": {},
   "outputs": [],
   "source": [
    "import numpy as np; from matplotlib import pyplot as plt\n",
    "import astropy.constants as c; import astropy.units as u"
   ]
  },
  {
   "cell_type": "code",
   "execution_count": 91,
   "metadata": {},
   "outputs": [
    {
     "name": "stdout",
     "output_type": "stream",
     "text": [
      "['Galaxy ID (AGC)', ' 2M++ Modelled peculiar velocities (km/s)', 'Tully-Fischer Peculiar Velocity (km/s)']\n"
     ]
    }
   ],
   "source": [
    "with open('pv.csv', 'r') as f:\n",
    "    d = f.read()  # Read in the data\n",
    "    d = d.split('\\n')  # Split at returns\n",
    "    d = d[:-1]  # Remove last element (since it's blanck)\n",
    "    d = [i.split(',') for i in d]  # Split each line at commas\n",
    "    print(d[0])\n",
    "    d = d[1:]  # Remove the header"
   ]
  },
  {
   "cell_type": "code",
   "execution_count": 92,
   "metadata": {},
   "outputs": [
    {
     "data": {
      "text/plain": [
       "[['323', '339', '283.565900032187'],\n",
       " ['379', '377', '320.740333891239'],\n",
       " ['100381', '393', '297.105778360345'],\n",
       " ['400387', '-425', '10.1355031483283'],\n",
       " ['20819', '-506', '-24.4571135358872'],\n",
       " ['21001', '-344', '41.2015493793465'],\n",
       " ['947', '86', '182.479516791583'],\n",
       " ['1118', '301', '250.100341924082'],\n",
       " ['21327', '-453', '-46.2371942470554'],\n",
       " ['1261', '495', '412.312398426053'],\n",
       " ['1451', '1261', '674.346447193125'],\n",
       " ['1486', '902', '505.217911562119'],\n",
       " ['1706', '1074', '603.220615693104'],\n",
       " ['420055', '-451', '-5.47507517016356'],\n",
       " ['1828', '1203', '710.126533765811'],\n",
       " ['1888', '-232', '44.4208248153345'],\n",
       " ['1913', '-718', '-136.404236663195'],\n",
       " ['2138', '341', '311.73712657813'],\n",
       " ['22008', '-197', '44.2464242178567'],\n",
       " ['2197', '925', '558.872957797778'],\n",
       " ['22132', '-93', '128.470814163846'],\n",
       " ['2497', '741', '442.32425683935'],\n",
       " ['23129', '-406', '4.28061518837262'],\n",
       " ['2936', '572', '381.826151986069'],\n",
       " ['23207', '-406', '-56.7751350094832'],\n",
       " ['23538', '-274', '78.8193661471232'],\n",
       " ['3103', '540', '421.410156111198'],\n",
       " ['3162', '405', '366.570339504582'],\n",
       " ['450003', '-151', '56.022110348672'],\n",
       " ['24169', '-316', '49.0627081524835'],\n",
       " ['24209', '-165', '89.4694302540493'],\n",
       " ['3291', '244', '218.797321170679'],\n",
       " ['450056', '-295', '13.8844671763663'],\n",
       " ['24302', '-348', '-22.8270124271457'],\n",
       " ['24382', '-171', '71.9755203203495'],\n",
       " ['24561', '-251', '6.02282567924794'],\n",
       " ['3717', '-20', '166.458723567596'],\n",
       " ['4574', '-293', '22.8274192159206'],\n",
       " ['490006', '221', '251.020513700976'],\n",
       " ['4759', '-385', '-29.0396038464989'],\n",
       " ['4809', '-306', '47.2767309315304'],\n",
       " ['4825', '-334', '28.7433324754372'],\n",
       " ['26385', '748', '494.494207291362'],\n",
       " ['5030', '-549', '-98.7793006498496'],\n",
       " ['490097', '-507', '-43.930572430238'],\n",
       " ['26530', '492', '394.633791651589'],\n",
       " ['26610', '-631', '-89.2514421979158'],\n",
       " ['26694', '-881', '-186.073548779106'],\n",
       " ['5328', '-377', '-2.75836256515367'],\n",
       " ['5625', '-318', '1.31212432610482'],\n",
       " ['6267', '-534', '-75.19411581897'],\n",
       " ['6318', '-659', '-104.155739948531'],\n",
       " ['510059', '102', '229.907187391272'],\n",
       " ['6651', '-711', '-147.316816803269'],\n",
       " ['28152', '938', '542.671694594656'],\n",
       " ['28198', '638', '453.168921715486'],\n",
       " ['7031', '-39', '100.981341940917'],\n",
       " ['7319', '-196', '88.9221809919109'],\n",
       " ['7334', '-196', '100.500160736911'],\n",
       " ['7644', '53', '176.207392083961'],\n",
       " ['7714', '805', '480.699848060486'],\n",
       " ['520107', '29', '156.852585711354'],\n",
       " ['520117', '86', '205.851361041521'],\n",
       " ['8041', '757', '445.241785495136'],\n",
       " ['520403', '177', '259.913415871174'],\n",
       " ['520412', '-294', '74.6826764346588'],\n",
       " ['530033', '235', '255.861097036205'],\n",
       " ['530038', '241', '272.216602712918'],\n",
       " ['8255', '-206', '38.5568349152932'],\n",
       " ['8365', '-484', '-37.1073553656597'],\n",
       " ['530104', '402', '368.79944610091'],\n",
       " ['530277', '182', '193.59801985978'],\n",
       " ['530342', '308', '304.13713040699'],\n",
       " ['30156', '1025', '567.804812501774'],\n",
       " ['8804', '-350', '10.8689119368519'],\n",
       " ['8808', '276', '288.136352438654'],\n",
       " ['8937', '-679', '-125.362265667409'],\n",
       " ['9394', '-576', '-110.35515499074'],\n",
       " ['540133', '23', '190.20506421332'],\n",
       " ['30906', '13', '159.819175089'],\n",
       " ['30954', '-9', '128.3091314775'],\n",
       " ['31212', '-8', '128.503596574898'],\n",
       " ['10133', '-515', '-106.671366484023'],\n",
       " ['10350', '-356', '30.8823513170605'],\n",
       " ['560012', '-472', '-81.3218612729222'],\n",
       " ['31623', '-698', '-134.440014263875'],\n",
       " ['11307', '-290', '77.4791286305526'],\n",
       " ['32316', '-74', '125.527673743564'],\n",
       " ['33741', '-396', '-7.80655514936052'],\n",
       " ['33763', '200', '244.97586410841'],\n",
       " ['11867', '-335', '52.8445033868302'],\n",
       " ['35285', '-430', '-14.5298947883985'],\n",
       " ['620180', '-524', '-91.6833139816304'],\n",
       " ['620200', '-398', '-37.9257484306399'],\n",
       " ['35810', '-574', '-56.6877472015317'],\n",
       " ['35952', '-566', '-84.2504677534475'],\n",
       " ['36012', '-453', '-18.6032718704657'],\n",
       " ['330449', '435', '322.274214730325'],\n",
       " ['630217', '-51', '109.734633274667'],\n",
       " ['36211', '-639', '-128.11367635591']]"
      ]
     },
     "execution_count": 92,
     "metadata": {},
     "output_type": "execute_result"
    }
   ],
   "source": [
    "d"
   ]
  },
  {
   "cell_type": "code",
   "execution_count": 93,
   "metadata": {},
   "outputs": [
    {
     "data": {
      "text/plain": [
       "Text(0, 0.5, 'PV$_{\\\\mathrm{TF} }$')"
      ]
     },
     "execution_count": 93,
     "metadata": {},
     "output_type": "execute_result"
    },
    {
     "data": {
      "image/png": "[encoded data removed]",
      "text/plain": [
       "<Figure size 432x288 with 1 Axes>"
      ]
     },
     "metadata": {
      "needs_background": "light"
     },
     "output_type": "display_data"
    }
   ],
   "source": [
    "#2.1\n",
    "\n",
    "d = np.array(d,dtype = 'float')\n",
    "PV_D  = d[:,1]\n",
    "PV_TF = d[:,2]\n",
    "\n",
    "e = 0.1*PV_TF\n",
    "plt.errorbar(PV_D, PV_TF, yerr=e ,fmt = 'o', ms=4)\n",
    "plt.xlabel(r'PV$_{\\mathrm{D} }$'); plt.ylabel(r'PV$_{\\mathrm{TF} }$')\n",
    "#plt.save"
   ]
  },
  {
   "cell_type": "code",
   "execution_count": 98,
   "metadata": {},
   "outputs": [
    {
     "name": "stdout",
     "output_type": "stream",
     "text": [
      "[  0.41838179 162.64420022]\n",
      "[[ 3.41864197e-05 -2.24783390e-02]\n",
      " [-2.24783390e-02  2.16306014e+01]]\n"
     ]
    },
    {
     "data": {
      "image/png": "[encoded data removed]",
      "text/plain": [
       "<Figure size 432x288 with 1 Axes>"
      ]
     },
     "metadata": {
      "needs_background": "light"
     },
     "output_type": "display_data"
    }
   ],
   "source": [
    "from scipy.optimize import curve_fit\n",
    "\n",
    "def PVTF(vd, beta, ext):\n",
    "    return beta * vd + ext\n",
    "\n",
    "popt, pcov = curve_fit(PVTF, PV_D, PV_TF, sigma = 1/e, absolute_sigma = False) #0.1*PV_TF\n",
    "print(popt)\n",
    "print(pcov)\n",
    "plt.errorbar(PV_D, PV_TF, yerr=e ,fmt = 'o', ms=4)\n",
    "plt.plot(PV_D, PVTF(PV_D, *popt), 'r-',\n",
    "         label=r'fit: $\\beta$=%5.2f, PV$_{ext}$=%5.2f' % tuple(popt))\n",
    "plt.xlabel(r'PV$_{\\mathrm{D} }$'); plt.ylabel(r'PV$_{\\mathrm{TF} }$')\n",
    "plt.legend()\n",
    "plt.savefig('pro2.pdf')"
   ]
  },
  {
   "cell_type": "code",
   "execution_count": 70,
   "metadata": {},
   "outputs": [
    {
     "data": {
      "text/plain": [
       "0.0105086"
      ]
     },
     "execution_count": 70,
     "metadata": {},
     "output_type": "execute_result"
    }
   ],
   "source": [
    "import numpy as np\n",
    "from matplotlib import pyplot as plt\n",
    "\n",
    "with open('tutorial_4.csv', 'r') as f:\n",
    "    d = f.read()  # Read in the data\n",
    "    d = d.split('\\n')  # Split at returns\n",
    "    d = d[:-1]  # Remove last element (since it's blanck)\n",
    "    d = [i.split(',') for i in d]  # Split each line at commas\n",
    "    d = d[1:]  # Remove the header\n",
    "\n",
    "\n",
    "cz = np.array([float(i[4]) for i in d])\n",
    "\n",
    "z = cz/3e5\n",
    "\n",
    "np.average(z)\n"
   ]
  },
  {
   "cell_type": "code",
   "execution_count": 78,
   "metadata": {},
   "outputs": [
    {
     "data": {
      "text/plain": [
       "array([0.01524333, 0.01627667, 0.01619333, 0.00345333, 0.00479667,\n",
       "       0.01119667, 0.00720667, 0.01071667, 0.01639667, 0.01576   ,\n",
       "       0.01549333, 0.01599667, 0.01512333, 0.00555   , 0.01517   ,\n",
       "       0.00421333, 0.00109   , 0.01631333, 0.01455333, 0.01629   ,\n",
       "       0.01562667, 0.00974333, 0.00444667, 0.01233667, 0.01663667,\n",
       "       0.01482667, 0.01152   , 0.01534333, 0.01434333, 0.01512   ,\n",
       "       0.01655667, 0.01447667, 0.01074   , 0.01412   , 0.01476333,\n",
       "       0.00412333, 0.01398   , 0.00737333, 0.00735   , 0.00447333,\n",
       "       0.01099333, 0.00498333, 0.00400667, 0.00822   , 0.01000667,\n",
       "       0.00861   , 0.01493   , 0.01631333, 0.00721   , 0.01156333,\n",
       "       0.00546333, 0.00850333, 0.00746333, 0.00577333, 0.01088667,\n",
       "       0.00688   , 0.01287   , 0.00861   , 0.01353667, 0.0152    ,\n",
       "       0.00483   , 0.00960667, 0.01563333, 0.00551   , 0.01307   ,\n",
       "       0.01659333, 0.00667   , 0.00688667, 0.01222667, 0.00488667,\n",
       "       0.00851667, 0.01511667, 0.00870667, 0.00549   , 0.00897667,\n",
       "       0.01649   , 0.01021667, 0.00672333, 0.01044333, 0.01397333,\n",
       "       0.01338333, 0.01533667, 0.00678   , 0.00551333, 0.00539   ,\n",
       "       0.01651667, 0.01001667, 0.00263667, 0.00827667, 0.00910667,\n",
       "       0.01504333, 0.00234333, 0.00743667, 0.00833667, 0.00549   ,\n",
       "       0.00424333, 0.00482   , 0.01646   , 0.01600333, 0.01020333])"
      ]
     },
     "execution_count": 78,
     "metadata": {},
     "output_type": "execute_result"
    }
   ],
   "source": [
    "z"
   ]
  },
  {
   "cell_type": "code",
   "execution_count": 88,
   "metadata": {},
   "outputs": [
    {
     "data": {
      "text/plain": [
       "0.0294"
      ]
     },
     "execution_count": 88,
     "metadata": {},
     "output_type": "execute_result"
    }
   ],
   "source": [
    "np.sqrt(0.42**2*0.07**2)"
   ]
  },
  {
   "cell_type": "code",
   "execution_count": 89,
   "metadata": {},
   "outputs": [
    {
     "name": "stderr",
     "output_type": "stream",
     "text": [
      "C:\\Users\\YYX\\Anaconda3\\lib\\site-packages\\ipykernel_launcher.py:1: RuntimeWarning: invalid value encountered in true_divide\n",
      "  \"\"\"Entry point for launching an IPython kernel.\n"
     ]
    },
    {
     "data": {
      "image/png": "[encoded data removed]",
      "text/plain": [
       "<Figure size 432x288 with 1 Axes>"
      ]
     },
     "metadata": {
      "needs_background": "light"
     },
     "output_type": "display_data"
    }
   ],
   "source": [
    "f = lambda e: (1-e)**5*(1+73*e**2/24+37*e**4/96)/(1-e**2)**(7/2)\n",
    "e = np.linspace(0,1,100)\n",
    "plt.plot(e,f(e))\n",
    "max(f(e))\n",
    "plt.xlabel(r'e'); plt.ylabel(r'f(e)')\n",
    "plt.savefig('pro5.pdf')"
   ]
  },
  {
   "cell_type": "code",
   "execution_count": 72,
   "metadata": {},
   "outputs": [
    {
     "data": {
      "text/latex": [
       "$1.4513498 \\times 10^{52} \\; \\mathrm{W}$"
      ],
      "text/plain": [
       "<Quantity 1.4513498e+52 W>"
      ]
     },
     "execution_count": 72,
     "metadata": {},
     "output_type": "execute_result"
    }
   ],
   "source": [
    "(2*c.c**5/5/c.G).to(u.W)"
   ]
  },
  {
   "cell_type": "code",
   "execution_count": null,
   "metadata": {},
   "outputs": [],
   "source": []
  }
 ],
 "metadata": {
  "kernelspec": {
   "display_name": "Python 3",
   "language": "python",
   "name": "python3"
  },
  "language_info": {
   "codemirror_mode": {
    "name": "ipython",
    "version": 3
   },
   "file_extension": ".py",
   "mimetype": "text/x-python",
   "name": "python",
   "nbconvert_exporter": "python",
   "pygments_lexer": "ipython3",
   "version": "3.7.3"
  }
 },
 "nbformat": 4,
 "nbformat_minor": 2
}
