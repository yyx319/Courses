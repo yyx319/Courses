{
 "cells": [
  {
   "cell_type": "markdown",
   "metadata": {},
   "source": [
    "### Problem 1\n",
    "**a)**\n",
    "We firstly work out the probability distribution of the orbital phase angle $\\theta$(0-$2\\pi$):\n",
    "$$P(\\theta) = \\frac{1}{2 \\pi}$$\n",
    "and the inclination angle(the angle between the line of sight and the normal to the circular orbit)i(0-$\\pi/2$):\n",
    "\n",
    "The surface area of the unit sphere from inclination angle i to i+di is that\n",
    "$dA = 2\\pi \\sin i di$\n",
    "The probability distribution of i is the ratio of dA to half of the total surface area of unit sphere:\n",
    "$P(i) = dA/2\\pi = \\sin i$\n",
    "\n",
    "For potential of $\\Phi = V^2 \\ln(r)$\n",
    "In epicyclic circle the gravtitational force is balanced with centrifugal force \n",
    "$a = -\\frac{d\\Phi}{d r}= -\\frac{V^2}{r} = a_{c} = -\\Omega^2 r = \\frac{v^2}{r}$, \n",
    "\n",
    "therefore we get circular velocity $v=V$\n",
    "\n",
    "\n",
    "From fig 1 in confuguration figure below we know that the velocity along line of sight(LOS) for arbitary circular orbit is \n",
    "$v_{LOS} = V\\sin i \\sin \\theta$\n",
    "\n",
    "We now calculate the probability distribution of LOS velocity using von-neumann's numerical method:\n",
    "\n",
    "The generation of inclination angle is as follows:\n",
    "\n",
    "We generate two random numbers i from 0 to $\\pi$/2 and P from 0 to 1. We take the function P(i) as the form of probability distribution of the inclination angle $P(i) = \\sin i$. If P<P(i), keep it. We run this for a large number of times and get a sample of i, then distribution of sample of i has the form of P(i).\n",
    "\n",
    "We then generate $\\theta$ from 0 to 2$\\pi$ in uniform distribution. Assuming V = 200 km/s, we can calculate a sample of LOS velocity and plot the probability distribution for that. \n",
    "\n",
    "The implementation of code is shown below and we could see that the probability distribution of LOS velocity is uniform from -V to V."
   ]
  },
  {
   "cell_type": "code",
   "execution_count": 4,
   "metadata": {},
   "outputs": [
    {
     "data": {
      "text/html": [
       "\n",
       "        <iframe\n",
       "            width=\"700\"\n",
       "            height=\"400\"\n",
       "            src=\"configuration.pdf\"\n",
       "            frameborder=\"0\"\n",
       "            allowfullscreen\n",
       "        ></iframe>\n",
       "        "
      ],
      "text/plain": [
       "<IPython.lib.display.IFrame at 0x208e5078f98>"
      ]
     },
     "execution_count": 4,
     "metadata": {},
     "output_type": "execute_result"
    }
   ],
   "source": [
    "from IPython.display import IFrame, display\n",
    "#filepath = \"http://wikipedia.org\" # works with websites too!\n",
    "filepath = 'configuration.pdf'\n",
    "IFrame(filepath, width=700, height=400)"
   ]
  },
  {
   "cell_type": "code",
   "execution_count": 1,
   "metadata": {},
   "outputs": [],
   "source": [
    "import numpy as np\n",
    "import matplotlib.pyplot as plt\n",
    "import math\n",
    "import random"
   ]
  },
  {
   "cell_type": "code",
   "execution_count": 2,
   "metadata": {},
   "outputs": [],
   "source": [
    "N = 100000\n",
    "n = 0\n",
    "i_a = []\n",
    "theta_a = []\n",
    "while n<N:\n",
    "    i = random.random()*np.pi/2\n",
    "    P = random.random()\n",
    "    if P<np.sin(i):\n",
    "        i_a.append(i)\n",
    "        theta_a.append(random.random()*2*np.pi)\n",
    "        n += 1\n",
    "i_a = np.array(i_a)\n",
    "theta_a = np.array(theta_a)\n",
    "\n",
    "v = 200\n",
    "v_los = v*np.sin(i_a)*np.sin(theta_a)        "
   ]
  },
  {
   "cell_type": "code",
   "execution_count": 7,
   "metadata": {},
   "outputs": [
    {
     "data": {
      "image/png": "[encoded data removed]",
      "text/plain": [
       "<Figure size 432x288 with 1 Axes>"
      ]
     },
     "metadata": {
      "needs_background": "light"
     },
     "output_type": "display_data"
    },
    {
     "data": {
      "image/png": "[encoded data removed]",
      "text/plain": [
       "<Figure size 432x288 with 1 Axes>"
      ]
     },
     "metadata": {
      "needs_background": "light"
     },
     "output_type": "display_data"
    }
   ],
   "source": [
    "plt.figure(1)\n",
    "plt.hist(i_a, 100, histtype='step', density=1,label = 'inclination angle')\n",
    "plt.hist(theta_a, 100, histtype='step', density=1,label = 'orbital phase angle')\n",
    "plt.xlabel('angle [rad]');plt.ylabel('PDF');plt.legend()\n",
    "\n",
    "plt.figure(2)\n",
    "plt.hist(v_los, 100, histtype='step', density=1)\n",
    "plt.xlabel('LOS velocity [km/s]');plt.ylabel('PDF')\n",
    "plt.show()"
   ]
  },
  {
   "cell_type": "markdown",
   "metadata": {},
   "source": [
    "**b)** \n",
    "\n",
    "i) If we observe a sample of stars in galaxy with anisotropic velocity dispersion of this kind. The spectrum of induvidual star's redshift will be redshifted according to its LOS velocity. As LOS velocity distribute uniformly, the sum of these stars' spectrum (integrated spectrum) will give emission or absorption lines which peak constantly over a frequency range redshifted from the line's rest frame frequency due to LOS velocity from -V to +V. This properties of spectrum will give a test for this kind of anisotropy.   \n",
    "\n",
    "\n",
    "ii) If the orbits in Q1a were all radial rather than circular, radial velocity will not be constant over time. For each value of velocity v, its LOS component, according to fig 2 above, is $v\\cos i$ and has uniform distribution over -v to v based on the figure below.\n",
    "\n",
    "The velocity distribution will be the sum of single velocity distribution, which will give non-uniform distribution which is peaked at the center since all single distribution covers the center and more single distributions contribute to values of PDF at low velocity."
   ]
  },
  {
   "cell_type": "code",
   "execution_count": 12,
   "metadata": {},
   "outputs": [
    {
     "name": "stderr",
     "output_type": "stream",
     "text": [
      "No handles with labels found to put in legend.\n"
     ]
    },
    {
     "data": {
      "image/png": "[encoded data removed]",
      "text/plain": [
       "<Figure size 432x288 with 1 Axes>"
      ]
     },
     "metadata": {
      "needs_background": "light"
     },
     "output_type": "display_data"
    }
   ],
   "source": [
    "N = 100000\n",
    "n = 0\n",
    "i_a2 = []\n",
    "while n<N:\n",
    "    i = random.random()*np.pi\n",
    "    P = random.random()\n",
    "    if P<np.sin(i):\n",
    "        i_a2.append(i)\n",
    "        n += 1\n",
    "i_a2 = np.array(i_a2)\n",
    "\n",
    "plt.hist(np.cos(i_a2), 100, histtype='step', density=1)\n",
    "plt.xlabel('cos i');plt.ylabel('PDF');plt.legend()\n",
    "plt.show()"
   ]
  },
  {
   "cell_type": "code",
   "execution_count": 14,
   "metadata": {},
   "outputs": [
    {
     "name": "stderr",
     "output_type": "stream",
     "text": [
      "No handles with labels found to put in legend.\n"
     ]
    },
    {
     "data": {
      "image/png": "[encoded data removed]",
      "text/plain": [
       "<Figure size 432x288 with 1 Axes>"
      ]
     },
     "metadata": {
      "needs_background": "light"
     },
     "output_type": "display_data"
    }
   ],
   "source": [
    "# an example plot showing the superposition effect.\n",
    "v_los_ra = [];\n",
    "v_los_ra.append(np.cos(i_a2))\n",
    "v_los_ra.append(2*np.cos(i_a2))\n",
    "v_los_ra.append(5*np.cos(i_a2))\n",
    "v_los_ra = np.ravel(v_los_ra)\n",
    "plt.hist(v_los_ra, 100, histtype='step', density=1)\n",
    "plt.xlabel('v_los');plt.ylabel('PDF');plt.legend()\n",
    "plt.show()"
   ]
  },
  {
   "cell_type": "markdown",
   "metadata": {},
   "source": [
    "### Problem 2\n",
    "Spherical Jeans equation reads:\n",
    "\n",
    "$$\n",
    "\\frac{d}{d r}\\left(\\rho \\sigma_{r r}^{2}\\right)+\\frac{\\rho}{r}\\left[2 \\sigma_{r r}^{2}-\\left(\\sigma_{\\theta \\theta}^{2}+\\sigma_{\\phi \\phi}^{2}+\\overline{v_{\\phi}}^{2}\\right)\\right]=-\\rho \\frac{d \\Phi}{d r}\n",
    "$$\n",
    "where $\\Phi \\text { is the total potential }$, $\\rho$ represent the volume dnesity distribution of the stars.\n",
    "\n",
    "The mean rotation of the star is negligible says that $v_{\\phi} = 0$\n",
    "\n",
    "Also, isotropic velocity dispersion means:$$\\sigma_{r r}^2 = \\sigma_{\\theta \\theta}^2= \\sigma_{\\theta \\theta}^2 = \\sigma^{2}\n",
    "$$\n",
    "and isothermal velocity distribution means: $$\n",
    "d \\sigma^{2} / d r=0\n",
    "$$\n",
    "\n",
    "Hence we make the simplifications:\n",
    "\n",
    "$$\n",
    "\\frac{d}{d r}\\left(\\rho \\sigma_{r r}^{2}\\right) = \\sigma^2\\frac{d\\rho}{dr}\n",
    "$$\n",
    "\n",
    "$$\n",
    "2 \\sigma_{r r}^{2}-\\left(\\sigma_{\\theta \\theta}^{2}+\\sigma_{\\phi \\phi}^{2}+\\overline{v_{\\phi}}^{2}\\right) = 0\n",
    "$$"
   ]
  },
  {
   "cell_type": "markdown",
   "metadata": {},
   "source": [
    "Above simplifications modify the spherical Jeans equation to be:\n",
    "$$\n",
    "\\sigma^2 \\frac{d\\rho}{dr} = -\\rho \\frac{d\\Phi}{dr}$$\n",
    "\n",
    "Since the gravitational field of the stars is negligible. The total gravitational potential is from uniform density distribution of dark matter halo. Therefore $-d\\Phi/dr$ is the r component of the gravitational force exerted by the dark matter halo inside radius r:\n",
    "$$-\\frac{d\\Phi}{dr} = \\frac{F_{g,r}}{m} = -\\frac{G M(<r)}{r^2} = -\\frac{G}{r^2}\\frac{4}{3}\\pi r^3 \\rho_0 = -\\frac{4 \\pi G \\rho_0 r}{3}$$\n",
    "\n",
    "Plug above equation into the simplified Jeans equations we get:\n",
    "$$\n",
    "\\sigma^2 \\frac{d\\rho}{dr} = -\\rho \\frac{4 \\pi G \\rho_0 r}{3}\n",
    "$$\n",
    "\n",
    "$$\\frac{d\\rho}{\\rho} = -\\frac{4 \\pi G \\rho_0}{3 \\sigma^2}r dr $$\n",
    "\n",
    "By integral:\n",
    "$$\\ln\\rho = -\\frac{2 \\pi G \\rho_0}{3 \\sigma^2}r^2 + \\ln\\rho_c$$\n",
    "\n",
    "$$\\rho = \\rho_c \\exp(-\\frac{2 \\pi G \\rho_0}{3 \\sigma} r^2) = \\rho_c \\exp(-\\frac{r^2}{a^2}) $$\n",
    "where $a = \\sqrt{\\frac{3 \\sigma^2}{2\\pi G \\rho_0}}$ is the scale length of the galaxy and $\\rho_c$ is the density at the center.\n",
    "\n",
    "The surface density is the integral of the volume density along line of sight. As $r^2 = R^2 + z^2$, R is the radial distance and z is the coordinate along LOS, we know that: \n",
    "$$\\Sigma(R) = \\int_{-\\infty}^{+\\infty} \\rho_c \\exp(-\\frac{R^2+z^2}{a^2}) dz\n",
    "= \\rho_c \\exp(-\\frac{R^2}{a^2}) \\int_{-\\infty}^{+\\infty} \\exp(-\\frac{z^2}{a^2})dz\n",
    "= a\\rho_c \\exp(-\\frac{R^2}{a^2}) \\int_{-\\infty}^{+\\infty} \\exp(-x^2)dx = a\\rho_c \\sqrt{\\pi} \\exp(-\\frac{R^2}{a^2})$$\n",
    "\n",
    ", where I use change of variables $x = z/a$ in integration. \n",
    "\n",
    "\n",
    "comments:\n",
    "\n",
    "The density distributions of the stars obeys Gaussian law, and it is expected for spherical dwarf galaxy according to this paper by Freeman https://iopscience.iop.org/article/10.3847/0004-637X/817/2/84"
   ]
  }
 ],
 "metadata": {
  "kernelspec": {
   "display_name": "Python 3",
   "language": "python",
   "name": "python3"
  },
  "language_info": {
   "codemirror_mode": {
    "name": "ipython",
    "version": 3
   },
   "file_extension": ".py",
   "mimetype": "text/x-python",
   "name": "python",
   "nbconvert_exporter": "python",
   "pygments_lexer": "ipython3",
   "version": "3.7.3"
  }
 },
 "nbformat": 4,
 "nbformat_minor": 2
}
